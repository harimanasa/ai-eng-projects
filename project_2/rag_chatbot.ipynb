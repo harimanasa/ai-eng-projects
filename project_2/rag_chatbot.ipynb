{
 "cells": [
  {
   "cell_type": "markdown",
   "id": "colab-badge",
   "metadata": {},
   "source": [
    "[![Open In Colab](https://colab.research.google.com/assets/colab-badge.svg)](https://colab.research.google.com/github/harimanasa/ai-eng-projects/blob/main/project_2/rag_chatbot.ipynb)\n"
   ]
  },
  {
   "cell_type": "markdown",
   "id": "568f5f07",
   "metadata": {},
   "source": [
    "# Project 2: Customer-Support Chatbot for an E-Commerce Store"
   ]
  },
  {
   "cell_type": "markdown",
   "id": "2cfe2a04",
   "metadata": {},
   "source": [
    "Welcome! In this project, you'll build a **chatbot** that answers customer service questions about Everstorm Outfitters, an imaginary e-commerce store.\n",
    "\n",
    "Run each cell in order. Feel free to modify them as you go to better understand each tool and search the web or look online for documentation."
   ]
  },
  {
   "cell_type": "markdown",
   "id": "f49e17b2",
   "metadata": {},
   "source": [
    "## Learning Objectives  \n",
    "* **Ingest & chunk** unstructured docs  \n",
    "* **Embed** chunks and **index** with *FAISS*  \n",
    "* **Retrieve** context and **craft prompts**  \n",
    "* **Run** an open-weight LLM locally with *Ollama*  \n",
    "* **Build** a Retrieval-Augmented Generation (RAG) chain\n",
    "* **Package** the chat loop in a minimal **Streamlit** web UI"
   ]
  },
  {
   "cell_type": "markdown",
   "id": "2a46b9cc",
   "metadata": {},
   "source": [
    "## Roadmap  \n",
    "We will build a RAG-based chatbot in **six** steps:\n",
    "\n",
    "1. **Environment setup**\n",
    "2. **Data preparation**  \n",
    "   a. Load source documents  \n",
    "   b. Chunk the text  \n",
    "3. **Build a retriever**  \n",
    "   a. Generate embeddings  \n",
    "   b. Build a FAISS vector index  \n",
    "4. **Build a generation engine**. Load the *Gemma3-1B* model through Ollama and run a sanity check.  \n",
    "5. **Build a RAG**. Connect the system prompt, retriever, and LLM together. \n",
    "6. **(Optional) Streamlit UI**. Wrap everything in a simple web app so users can chat with the bot.\n"
   ]
  },
  {
   "cell_type": "markdown",
   "id": "3a01819c",
   "metadata": {},
   "source": [
    "## 1 - Environment setup\n",
    "\n",
    "### Running on Google Colab\n",
    "\n",
    "If you're running this notebook on Google Colab, the environment setup is simpler. Run the code cell below (the Colab setup cell) to install required packages.\n",
    "\n",
    "**Note for Colab users:** \n",
    "- The setup cell will automatically clone this repository and install all dependencies.\n",
    "- For the LLM, you may need to use an API-based model (like OpenAI GPT) instead of Ollama, as Ollama requires local installation. See the LLM setup section for alternatives.\n",
    "\n",
    "### Running Locally\n",
    "\n",
    "If you're running this notebook locally, we use conda to manage our project dependencies and ensure everyone has a consistent setup. Conda is an open-source package and environment manager that makes it easy to install libraries and switch between isolated environments. To learn more about conda, you can read: https://docs.conda.io/en/latest/\n",
    "\n",
    "Create and activate a clean *conda* environment and install the required packages. If you don't have conda installed, visit https://www.anaconda.com/docs/getting-started/miniconda/main.\n",
    "\n",
    "\n",
    "Open your terminal, navigate to the project folder where this notebook is located, and run the following commands.\n",
    "\n",
    "```bash\n",
    "conda env create -f environment.yml && conda activate rag-chatbot\n",
    "\n",
    "# (Optional but recommended) Register this environment as a Jupyter kernel\n",
    "python -m ipykernel install --user --name=rag-chatbot --display-name \"rag-chatbot\"\n",
    "```\n",
    "Once this is done, you can select \"rag-chatbot\" from the Kernel \u2192 Change Kernel menu in Jupyter or VS Code.\n",
    "\n",
    "\n",
    "> Behind the scenes:\n",
    "> * Conda reads `environment.yml`, solves all pinned dependencies, and builds an isolated environment named `rag-chatbot`.\n",
    "> * When it reaches the file's \"pip:\" section, Conda automatically invokes pip to install any remaining Python-only packages so the whole stack be available for the project.\n",
    "> * Registering the kernel makes your new environment visible to Jupyter, so the notebook runs inside the same environment you just created."
   ]
  },
  {
   "cell_type": "code",
   "execution_count": null,
   "id": "colab-setup",
   "metadata": {},
   "outputs": [],
   "source": [
    "# Run this cell if you're on Google Colab\n",
    "import sys\n",
    "\n",
    "IN_COLAB = 'google.colab' in sys.modules\n",
    "\n",
    "if IN_COLAB:\n",
    "    print(\"\ud83d\udd27 Setting up Google Colab environment...\")\n",
    "    \n",
    "    # Install required packages\n",
    "    !pip install -q langchain==0.3.25 langchain-community==0.3.24 sentence-transformers==4.1.0 streamlit==1.45.1 openai==1.79.0 faiss-cpu==1.11.0 unstructured==0.17.2\n",
    "    \n",
    "    # Clone the repository to get data files\n",
    "    import os\n",
    "    if not os.path.exists('ai-eng-projects'):\n",
    "        !git clone https://github.com/harimanasa/ai-eng-projects.git\n",
    "        print(\"\u2705 Repository cloned!\")\n",
    "    \n",
    "    # Change to the project directory\n",
    "    %cd ai-eng-projects/project_2\n",
    "    print(\"\u2705 Colab setup complete!\")\n",
    "else:\n",
    "    print(\"\u2139\ufe0f  Running in local environment. Make sure you've set up the conda environment as described above.\")\n"
   ]
  },
  {
   "cell_type": "markdown",
   "id": "32a29e43",
   "metadata": {},
   "source": [
    "Let's import required libraries and print a message if we're not **missing packages**."
   ]
  },
  {
   "cell_type": "code",
   "execution_count": null,
   "id": "65b49fcb",
   "metadata": {},
   "outputs": [],
   "source": [
    "# Import standard libraries for file handling and text processing\n",
    "import os, pathlib, textwrap, glob\n",
    "\n",
    "# Load documents from various sources (URLs, text files, PDFs)\n",
    "from langchain_community.document_loaders import UnstructuredURLLoader, TextLoader, PyPDFLoader\n",
    "\n",
    "# Split long texts into smaller, manageable chunks for embedding\n",
    "from langchain.text_splitter import RecursiveCharacterTextSplitter\n",
    "\n",
    "# Vector store to store and retrieve embeddings efficiently using FAISS\n",
    "from langchain.vectorstores import FAISS\n",
    "\n",
    "# Generate text embeddings using OpenAI or Hugging Face models\n",
    "from langchain.embeddings import OpenAIEmbeddings, HuggingFaceEmbeddings, SentenceTransformerEmbeddings\n",
    "\n",
    "# Use local LLMs (e.g., via Ollama) for response generation\n",
    "from langchain.llms import Ollama\n",
    "\n",
    "# Build a retrieval chain that combines a retriever, a prompt, and an LLM\n",
    "from langchain.chains import ConversationalRetrievalChain\n",
    "\n",
    "# Create prompts for the RAG system\n",
    "from langchain.prompts import PromptTemplate\n",
    "\n",
    "print(\"\u2705 Libraries imported! You're good to go!\")"
   ]
  },
  {
   "cell_type": "markdown",
   "id": "1aaacfdc",
   "metadata": {},
   "source": [
    "## 2 - Data preparation\n",
    "The goal of this step is to turn all reference documents into small chunks of text that a retriever can index and search. These documents typically come from:\n",
    "* PDF files: local documents such as policies, user manuals, or guides.\n",
    "* Web pages (HTML): online documentation, blog posts, or help articles.\n",
    "\n",
    "In this step, we perform two actions:\n",
    "* **Ingesting**: load every PDF and collect the raw text in a list named `raw_docs`.\n",
    "* **Chunking**: split each document into small, overlapping chunks so later steps can match a user query to the most relevant passage."
   ]
  },
  {
   "cell_type": "markdown",
   "id": "87150689",
   "metadata": {},
   "source": [
    "### 2.1 - Ingest source documents"
   ]
  },
  {
   "cell_type": "markdown",
   "id": "078b461a",
   "metadata": {},
   "source": [
    "We can use different libraries to load and process PDFs. A quick web search will show several options, each with its own strengths. In this case, we\u2019ll use PyPDFLoader from LangChain, which makes it easy to extract text from PDF files for downstream processing. To learn more about how to use it, refer to: https://python.langchain.com/docs/integrations/document_loaders/pypdfloader/\n",
    "\n",
    "Use **PyPDFLoader** to load every PDF whose filename matches `data/Everstorm_*.pdf` and collect all pages in a list called `raw_docs`. The content of these PDFs is synthetically generated for educational purposes."
   ]
  },
  {
   "cell_type": "code",
   "execution_count": null,
   "id": "9ff055a6",
   "metadata": {},
   "outputs": [],
   "source": [
    "pdf_paths = glob.glob(\"data/Everstorm_*.pdf\")\n",
    "raw_docs = []\n",
    "\n",
    "# Load all pages from each matching PDF into raw_docs\n",
    "for p in pdf_paths:\n",
    "    loader = PyPDFLoader(p)\n",
    "    raw_docs.extend(loader.load())\n",
    "\n",
    "print(f\"Loaded {len(raw_docs)} PDF pages from {len(pdf_paths)} files.\")"
   ]
  },
  {
   "cell_type": "markdown",
   "id": "c69f135e",
   "metadata": {},
   "source": [
    "### (Optional) 2.1 - Load web pages\n",
    "You can also pull content straight from the web. Various libraries support reading and parsing web pages directly into text, which is useful for building custom knowledge bases. One example is **UnstructuredURLLoader** from LangChain, which can extract readable content from raw HTML pages and return them in a structured format. To learn more, see: https://python.langchain.com/api_reference/community/document_loaders/langchain_community.document_loaders.url.UnstructuredURLLoader.html\n",
    "\n",
    "To practice, load each HTML page below and store the results in a list called `raw_docs`. We\u2019ve included a few sample URLs, but you can replace them with any links you prefer.\n",
    "\n",
    "For robustness, add an offline fallback in case a URL fails. In real projects, we typically cache fetched pages to disk, handle rate limits, and track fetch timestamps so content can be refreshed periodically without relying on live network calls during development. For this project, we don\u2019t have offline HTML copies available, but you can still practice by loading any PDFs from the data/ folder using PyPDFLoader and appending them to raw_docs."
   ]
  },
  {
   "cell_type": "code",
   "execution_count": null,
   "id": "65abec32",
   "metadata": {},
   "outputs": [],
   "source": [
    "URLS = [\n",
    "    # --- BigCommerce \u2013 shipping & refunds ---\n",
    "    \"https://developer.bigcommerce.com/docs/store-operations/shipping\",\n",
    "    \"https://developer.bigcommerce.com/docs/store-operations/orders/refunds\"\n",
    "]\n",
    "\n",
    "try:\n",
    "    url_loader = UnstructuredURLLoader(urls=URLS)\n",
    "    web_docs = url_loader.load()\n",
    "    raw_docs.extend(web_docs)\n",
    "    print(f\"Fetched {len(web_docs)} documents from the web. Total docs now: {len(raw_docs)}\")\n",
    "except Exception as e:\n",
    "    print(\"\u26a0\ufe0f  Web fetch failed, using offline copies:\", e)\n",
    "    # As a fallback, just reload PDFs so the pipeline still works\n",
    "    raw_docs = []\n",
    "    for p in pdf_paths:\n",
    "        loader = PyPDFLoader(p)\n",
    "        raw_docs.extend(loader.load())\n",
    "    print(f\"Loaded {len(raw_docs)} offline documents.\")"
   ]
  },
  {
   "cell_type": "markdown",
   "id": "c0ac4490",
   "metadata": {},
   "source": [
    "### 2.2 - Chunk the text"
   ]
  },
  {
   "cell_type": "markdown",
   "id": "9c242e44",
   "metadata": {},
   "source": [
    "Long documents won\u2019t work well directly with most LLMs. They can easily exceed the model\u2019s context window, making it impossible for the model to read or reason over the full text at once. Even if they fit, processing long inputs can be inefficient and lead to weaker retrieval results.\n",
    "\n",
    "To handle this, we split large documents into smaller, overlapping chunks. Several libraries can help with text splitting, each designed to preserve structure or balance chunk size. A popular choice is `RecursiveCharacterTextSplitter` from LangChain, which splits text intelligently while keeping paragraph or sentence boundaries intact. To familiarize youself with the library, visit: https://python.langchain.com/api_reference/text_splitters/character/langchain_text_splitters.character.RecursiveCharacterTextSplitter.html\n",
    "\n",
    "In this project, we\u2019ll split each document into chunks of roughly 300 tokens with a 30-token overlap using `RecursiveCharacterTextSplitter`. (Approximate this as ~1200 characters with ~120-char overlap.)"
   ]
  },
  {
   "cell_type": "code",
   "execution_count": null,
   "id": "450d48a0",
   "metadata": {},
   "outputs": [],
   "source": [
    "chunks = []\n",
    "text_splitter = RecursiveCharacterTextSplitter(chunk_size=1200, chunk_overlap=120)\n",
    "chunks = text_splitter.split_documents(raw_docs)\n",
    "print(f\"\u2705 {len(chunks)} chunks ready for embedding\")"
   ]
  },
  {
   "cell_type": "markdown",
   "id": "d89e6213",
   "metadata": {},
   "source": [
    "## 3 -Build a retriever\n",
    "\n",
    "A *retriever* lets the RAG pipeline efficiently look up small, relevant pieces of context at query-time. This step has two parts:\n",
    "1. **Load a model to generate embeddings**: convert each text chunk from the reference documents into a fixed-length vector that captures its semantic meaning.  \n",
    "2. **Build vector database**: store these embeddings in a vector database.\n"
   ]
  },
  {
   "cell_type": "markdown",
   "id": "c90db2d2",
   "metadata": {},
   "source": [
    "### 3.1 - Load a model to generate embeddings"
   ]
  },
  {
   "cell_type": "markdown",
   "id": "da722b3b",
   "metadata": {},
   "source": [
    "The goal of this step is to convert each document chunk into a numerical vector (an embedding) that captures its semantic meaning. These embeddings allow our retriever to find and compare similar pieces of text efficiently.\n",
    "\n",
    "There are models trained specifically for this purpose, called embedding models. One popular example is OpenAI\u2019s `text-embedding-3-small`, which produces high-quality embeddings that work well for retrieval and semantic search.\n",
    "\n",
    "If you prefer running everything locally, you can use smaller open-source models such as `gte-small` (77 M parameters). These local models load quickly, don\u2019t require internet access, and are ideal for experimentation or environments without API access. However, they\u2019re typically less powerful than hosted models.\n",
    "\n",
    "Alternatively, you can connect to an API service to access stronger models like OpenAI\u2019s. These require setting an API key (for example, OPENAI_API_KEY) in your environment. OpenAI allows you to create a free account and sometimes offers limited trial credits for new users, but ongoing access requires a billing setup. \n",
    "\n",
    "In this exercise, we\u2019ll stick to the smaller gte-small model for simplicity and reproducibility. We'll use our imported `SentenceTransformerEmbeddings` library to load the model and use it to embed queries. To learn more about lagnchain's embedding support, visit: https://python.langchain.com/docs/integrations/text_embedding/"
   ]
  },
  {
   "cell_type": "code",
   "execution_count": null,
   "id": "4a222122",
   "metadata": {},
   "outputs": [],
   "source": [
    "embedding_vector = []\n",
    "\n",
    "# Embed the sentence \"Hello world!\" and store it in embedding_vector.\n",
    "embedder = SentenceTransformerEmbeddings(model_name=\"sentence-transformers/gte-small\")\n",
    "embedding_vector = embedder.embed_query(\"Hello world!\")\n",
    "print(len(embedding_vector))"
   ]
  },
  {
   "cell_type": "markdown",
   "id": "cebdae3d",
   "metadata": {},
   "source": [
    "### 3.2 - Build a vector database\n",
    "\n",
    "Once we have embeddings, we need a way to store and search them efficiently. A simple list wouldn\u2019t scale well, especially when we have thousands of chunks and need to quickly find the most relevant ones.\n",
    "\n",
    "To solve this, we use **FAISS**, an open-source similarity search library developed by Meta. FAISS is optimized for fast nearest-neighbor search in high-dimensional spaces, making it ideal for tasks like semantic retrieval and recommendation. It\u2019s strongly encouraged to visit their quickstart guide to understand how FAISS works and how to use it effectively: https://github.com/facebookresearch/faiss/wiki/getting-started\n",
    "\n",
    "In this step, we\u2019ll feed all our document embeddings into FAISS, which builds an in-memory vector index. This index allows us to efficiently query for the *k* most similar chunks to any given question.\n",
    "\n",
    "During inference, we\u2019ll use this index to retrieve the top-k relevant chunks and pass them to the LLM as context, enabling it to answer questions grounded in our documents.\n",
    "\n"
   ]
  },
  {
   "cell_type": "code",
   "execution_count": null,
   "id": "611eda64",
   "metadata": {},
   "outputs": [],
   "source": [
    "# 1) Build the FAISS index from chunks\n",
    "embedding_fn = SentenceTransformerEmbeddings(model_name=\"sentence-transformers/gte-small\")\n",
    "vectordb = FAISS.from_documents(chunks, embedding_fn)\n",
    "\n",
    "# 2) Create a retriever (k=8)\n",
    "retriever = vectordb.as_retriever(search_kwargs={\"k\": 8})\n",
    "\n",
    "# 3) Save the vector store locally\n",
    "vectordb.save_local(\"faiss_index\")\n",
    "\n",
    "# 4) Confirmation\n",
    "print(\"\u2705 Vector store with\", vectordb.index.ntotal, \"embeddings\")"
   ]
  },
  {
   "cell_type": "markdown",
   "id": "c456f820",
   "metadata": {},
   "source": [
    "## 4 - Build the generation engine\n",
    "At the core of any RAG system lies an **LLM**. The retriever finds relevant information, and the LLM uses that information to generate coherent, context-aware responses.\n",
    "\n",
    "### \ud83c\udf10 Note for Google Colab Users\n",
    "\n",
    "**Ollama requires local installation and cannot run directly on Google Colab.** If you're using Colab, you have a few alternatives:\n",
    "\n",
    "1. **Use OpenAI API** (recommended for Colab): Replace `Ollama` with `ChatOpenAI` from `langchain.chat_models`\n",
    "   ```python\n",
    "   from langchain.chat_models import ChatOpenAI\n",
    "   import os\n",
    "   os.environ['OPENAI_API_KEY'] = 'your-api-key-here'\n",
    "   llm = ChatOpenAI(model='gpt-3.5-turbo', temperature=0.1)\n",
    "   ```\n",
    "\n",
    "2. **Use Hugging Face models**: You can use `HuggingFaceHub` for API access to various models\n",
    "\n",
    "For local users, continue with the Ollama setup below.\n",
    "\n",
    "\n",
    "In this project, we\u2019ll use **Gemma 3* (1B), a small but capable open-weight model, and run it entirely on your local machine using Ollama. This means you won\u2019t need API keys or internet access to generate responses once the model is downloaded.\n",
    "\n",
    "**What is Ollama?**\n",
    "\n",
    "Ollama is a lightweight runtime for managing and serving open-weight LLMs locally. It provides:\n",
    "* A simple REST API running at localhost:11434, so your code can interact with the model via standard HTTP calls.\n",
    "* A model registry and command-line tool** to pull, run, and manage models easily.\n",
    "* Support for a wide variety of models (e.g., Gemma, Llama, Mistral, Phi, etc.), making it ideal for experimentation.\n",
    "\n",
    "To learn more about Ollama, visit: https://github.com/ollama/ollama. You can browse all supported models and their sizes here: https://ollama.com/library\n",
    "\n",
    "\n",
    "### 4.1 - Install `ollama` and serve `gemma3`\n",
    "\n",
    "Follow these steps to set up Ollama and start the model server:\n",
    "\n",
    "**1 - Install**\n",
    "```bash\n",
    "# macOS (Homebrew)\n",
    "brew install ollama\n",
    "# Linux\n",
    "curl -fsSL https://ollama.com/install.sh | sh\n",
    "```\n",
    "\n",
    "If you\u2019re on Windows, install using the official installer from https://ollama.com/download.\n",
    "\n",
    "**2 - Start the Ollama server (keep this terminal open)**\n",
    "```bash\n",
    "ollama serve\n",
    "```\n",
    "This command launches a local server at http://localhost:11434, which will stay running in the background.\n",
    "\n",
    "\n",
    "**3 - Pull the Gemma mode (or the model of your choice) in a new terminal**\n",
    "```bash\n",
    "ollama pull gemma3:1b\n",
    "```\n",
    "\n",
    "This downloads the 1B version of Gemma 3, a compact model suitable for running on most modern laptops. Once downloaded, Ollama will automatically handle model loading and caching.\n",
    "\n",
    "\n",
    "After this setup, your system is ready to generate responses locally using the Gemma model through the Ollama API.\n"
   ]
  },
  {
   "cell_type": "markdown",
   "id": "bba7e203",
   "metadata": {},
   "source": [
    "### 4.2 - Test an LLM with a random prompt (Sanity check)\n"
   ]
  },
  {
   "cell_type": "code",
   "execution_count": null,
   "id": "b1d34a32",
   "metadata": {},
   "outputs": [],
   "source": [
    "# Initialize the local LLM and run a quick test\n",
    "llm = Ollama(model=\"gemma3:1b\", temperature=0.1)\n",
    "print(llm.invoke(\"In one sentence, explain what a RAG chatbot does.\"))"
   ]
  },
  {
   "cell_type": "markdown",
   "id": "6556263d",
   "metadata": {},
   "source": [
    "## Build a RAG"
   ]
  },
  {
   "cell_type": "markdown",
   "id": "3dbfec15",
   "metadata": {},
   "source": [
    "### 5.1 - Define a system prompt"
   ]
  },
  {
   "cell_type": "markdown",
   "id": "66b5c84b",
   "metadata": {},
   "source": [
    "At this stage, we need to tell the model how to behave when generating answers. The **system prompt** acts as the model\u2019s rulebook. It should clearly instruct the model to answer only using the retrieved context and to admit when it doesn\u2019t know the answer. This helps prevent hallucination and keeps the responses grounded in the provided documents.\n",
    "\n",
    "In general, a good RAG prompt emphasizes three things: stay within context, stay factual, and stay concise. This is important because RAG works by grounding the LLM in retrieved text. If the prompt is vague, the model may invent details. A precise system prompt reduces hallucinations and keeps answers aligned with your corpus."
   ]
  },
  {
   "cell_type": "code",
   "execution_count": null,
   "id": "dcecb2b6",
   "metadata": {},
   "outputs": [],
   "source": [
    "SYSTEM_TEMPLATE = \"\"\"\n",
    "You are a **Customer Support Chatbot**. Use only the information in CONTEXT to answer.\n",
    "If the answer is not in CONTEXT, respond with \u201cI'm not sure from the docs.\u201d\n",
    "\n",
    "Rules:\n",
    "1) Use ONLY the provided <context> to answer.\n",
    "2) If the answer is not in the context, say: \"I don't know based on the retrieved documents.\"\n",
    "3) Be concise and accurate. Prefer quoting key phrases from the context.\n",
    "4) When possible, cite sources as [source: {source}] using the metadata.\n",
    "\n",
    "CONTEXT:\n",
    "{context}\n",
    "\n",
    "USER:\n",
    "{question}\n",
    "\"\"\""
   ]
  },
  {
   "cell_type": "markdown",
   "id": "de27cc9a",
   "metadata": {},
   "source": [
    "### 5.2 Create a RAG chain\n",
    "Now that we have a retriever, a prompt, and a language model, we can connect them into a single RAG pipeline. The retriever finds the most relevant chunks from our vector index, the prompt injects those chunks into the system message, and the LLM uses that context to produce the final answer. (retriever \u2192 prompt \u2192 model)\n",
    "\n",
    "This connection is handled through LangChain\u2019s `ConversationalRetrievalChain`, which combines retrieval and generation. To familiarize yourself with the library, visit: https://python.langchain.com/api_reference/langchain/chains/langchain.chains.conversational_retrieval.base.ConversationalRetrievalChain.html"
   ]
  },
  {
   "cell_type": "code",
   "execution_count": null,
   "id": "0b138b3d",
   "metadata": {},
   "outputs": [],
   "source": [
    "# Build the Conversational Retrieval Chain with our custom prompt\n",
    "prompt = PromptTemplate(template=SYSTEM_TEMPLATE, input_variables=[\"context\", \"question\"])\n",
    "llm = Ollama(model=\"gemma3:1b\", temperature=0.1)\n",
    "chain = ConversationalRetrievalChain.from_llm(\n",
    "    llm=llm,\n",
    "    retriever=retriever,\n",
    "    combine_docs_chain_kwargs={\"prompt\": prompt}\n",
    ")\n",
    "print(\"\u2705 RAG chain ready!\")"
   ]
  },
  {
   "cell_type": "markdown",
   "id": "64a6c7fc",
   "metadata": {},
   "source": [
    "When you ask a question, the retriever pulls the top few relevant text chunks, the model reads them through the system prompt, and then it generates an answer based on that context.\n",
    "\n",
    "This structure makes the system transparent and easy to debug. You can inspect what text was retrieved, tune parameters like k, and experiment with different prompts to see how they affect the output quality.\n"
   ]
  },
  {
   "cell_type": "markdown",
   "id": "6c1eb44d",
   "metadata": {},
   "source": [
    "### 5.3 - Validate the RAG chain"
   ]
  },
  {
   "cell_type": "markdown",
   "id": "e5ee50de",
   "metadata": {},
   "source": [
    "We run a few questions to make sure everything behaves as expecte. Experiment by adding you own questions."
   ]
  },
  {
   "cell_type": "code",
   "execution_count": null,
   "id": "8f6d7a7d",
   "metadata": {},
   "outputs": [],
   "source": [
    "test_questions = [\n",
    "    \"If I'm not happy with my purchase, what is your refund policy and how do I start a return?\",\n",
    "    \"How long will delivery take for a standard order, and where can I track my package once it ships?\",\n",
    "    \"What's the quickest way to contact your support team, and what are your operating hours?\",\n",
    "]\n",
    "\n",
    "chat_history = []\n",
    "for q in test_questions:\n",
    "    result = chain.invoke({\"question\": q, \"chat_history\": chat_history})\n",
    "    answer = result.get(\"answer\", result)\n",
    "    print(\"\\nQ:\", q)\n",
    "    print(\"A:\", answer)\n",
    "    chat_history.append((q, answer))"
   ]
  },
  {
   "cell_type": "markdown",
   "id": "86f8c6b4",
   "metadata": {},
   "source": [
    "### 6 - Build the Streamlit UI (optional)"
   ]
  },
  {
   "cell_type": "markdown",
   "id": "eecc640b",
   "metadata": {},
   "source": [
    "The goal here is to create a tiny demo so you can interact with your RAG system. The focus is not on UI design. We will build a very small interface only to demonstrate the end-to-end flow.\n",
    "\n",
    "There are many ways to make a UI. Some frameworks are powerful but take longer to set up, while others are simple and good for quick experiments. Streamlit is a common choice for fast prototyping because it lets you make a usable interface with only a few lines of Python. If you want to learn the basics, see the Streamlit Quickstart: https://docs.streamlit.io/deploy/streamlit-community-cloud/get-started/quickstart\n",
    "\n",
    "This step is optional. If it is not useful for your work, you can skip it. We will also complete this part together during the live session.\n",
    "\n",
    "In this cell, we write a minimal **`app.py`** that starts a simple chat UI and calls your RAG chain."
   ]
  },
  {
   "cell_type": "code",
   "execution_count": null,
   "id": "c182fb86",
   "metadata": {},
   "outputs": [],
   "source": [
    "app_code = r'''import streamlit as st\n",
    "from langchain.vectorstores import FAISS\n",
    "from langchain.embeddings import SentenceTransformerEmbeddings\n",
    "from langchain.llms import Ollama\n",
    "from langchain.prompts import PromptTemplate\n",
    "from langchain.chains import ConversationalRetrievalChain\n",
    "\n",
    "SYSTEM_TEMPLATE = \"\"\"\n",
    "You are a **Customer Support Chatbot**. Use only the information in CONTEXT to answer.\n",
    "If the answer is not in CONTEXT, respond with \u201cI'm not sure from the docs.\u201d\n",
    "\n",
    "Rules:\n",
    "1) Use ONLY the provided <context> to answer.\n",
    "2) If the answer is not in the context, say: \"I don't know based on the retrieved documents.\"\n",
    "3) Be concise and accurate. Prefer quoting key phrases from the context.\n",
    "4) When possible, cite sources as [source: {source}] using the metadata.\n",
    "\n",
    "CONTEXT:\n",
    "{context}\n",
    "\n",
    "USER:\n",
    "{question}\n",
    "\"\"\"\n",
    "\n",
    "st.set_page_config(page_title=\"Everstorm Support Chatbot\", page_icon=\"\ud83d\udecd\ufe0f\")\n",
    "st.title(\"\ud83d\udecd\ufe0f Everstorm Outfitters \u2014 Support Chatbot\")\n",
    "\n",
    "@st.cache_resource(show_spinner=False)\n",
    "def load_chain():\n",
    "    embedder = SentenceTransformerEmbeddings(model_name=\"sentence-transformers/gte-small\")\n",
    "    vectordb = FAISS.load_local(\"faiss_index\", embedder, allow_dangerous_deserialization=True)\n",
    "    retriever = vectordb.as_retriever(search_kwargs={\"k\": 8})\n",
    "    llm = Ollama(model=\"gemma3:1b\", temperature=0.1)\n",
    "    prompt = PromptTemplate(template=SYSTEM_TEMPLATE, input_variables=[\"context\", \"question\"])\n",
    "    chain = ConversationalRetrievalChain.from_llm(\n",
    "        llm=llm,\n",
    "        retriever=retriever,\n",
    "        combine_docs_chain_kwargs={\"prompt\": prompt}\n",
    "    )\n",
    "    return chain\n",
    "\n",
    "chain = load_chain()\n",
    "\n",
    "if \"chat_history\" not in st.session_state:\n",
    "    st.session_state.chat_history = []\n",
    "\n",
    "user_q = st.chat_input(\"Ask about refunds, shipping, or contacting support\u2026\")\n",
    "\n",
    "for q, a in st.session_state.chat_history:\n",
    "    with st.chat_message(\"user\"): st.write(q)\n",
    "    with st.chat_message(\"assistant\"): st.write(a)\n",
    "\n",
    "if user_q:\n",
    "    with st.chat_message(\"user\"): st.write(user_q)\n",
    "    result = chain.invoke({\"question\": user_q, \"chat_history\": st.session_state.chat_history})\n",
    "    answer = result.get(\"answer\", \"(No answer)\")\n",
    "    st.session_state.chat_history.append((user_q, answer))\n",
    "    with st.chat_message(\"assistant\"): st.write(answer)\n",
    "'''\n",
    "\n",
    "with open(\"app.py\", \"w\", encoding=\"utf-8\") as f:\n",
    "    f.write(app_code)\n",
    "print(\"\u2705 Wrote app.py. Run: streamlit run app.py\")"
   ]
  },
  {
   "cell_type": "markdown",
   "id": "04dc8ad3",
   "metadata": {},
   "source": [
    "Run `streamlit run app.py` from your terminal."
   ]
  },
  {
   "cell_type": "markdown",
   "id": "2a7328a5",
   "metadata": {},
   "source": [
    "## \ud83c\udf89 Congratulations!\n",
    "\n",
    "You\u2019ve just built, tested, and demoed a fully working **customer-support chatbot**.  \n",
    "In one project you:\n",
    "\n",
    "* **Prepared policy docs**: loaded and chunked them for fast retrieval.  \n",
    "* **Built a vector store**: created a FAISS index with text embeddings.  \n",
    "* **Plugged in an LLM**: wrapped Gemma3 with LangChain and a prompt-aware RAG chain.  \n",
    "* **Validated end-to-end**: answered refund, shipping, and contact questions with confidence.  \n",
    "\n",
    "Swap in new documents, tweak the prompt, and your store\u2019s customers get instant, accurate answers.\n",
    "\n",
    "\ud83d\udc4f **Great job!** Take a moment to celebrate. The skills you used here power most RAG-based chatbots you see everywhere.\n"
   ]
  },
  {
   "cell_type": "markdown",
   "id": "929eabbd",
   "metadata": {},
   "source": []
  }
 ],
 "metadata": {
  "kernelspec": {
   "display_name": "rag-chatbot",
   "language": "python",
   "name": "python3"
  },
  "language_info": {
   "codemirror_mode": {
    "name": "ipython",
    "version": 3
   },
   "file_extension": ".py",
   "mimetype": "text/x-python",
   "name": "python",
   "nbconvert_exporter": "python",
   "pygments_lexer": "ipython3",
   "version": "3.11.12"
  }
 },
 "nbformat": 4,
 "nbformat_minor": 5
}