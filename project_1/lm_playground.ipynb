{
  "cells": [
    {
      "cell_type": "markdown",
      "metadata": {
        "id": "view-in-github",
        "colab_type": "text"
      },
      "source": [
        "<a href=\"https://colab.research.google.com/github/harimanasa/ai-eng-projects/blob/main/project_1/lm_playground.ipynb\" target=\"_parent\"><img src=\"https://colab.research.google.com/assets/colab-badge.svg\" alt=\"Open In Colab\"/></a>"
      ]
    },
    {
      "cell_type": "markdown",
      "id": "fe523821",
      "metadata": {
        "id": "fe523821"
      },
      "source": [
        "\n",
        "# Project 1: Build an LLM Playground\n",
        "\n",
        "Welcome! In this project, you’ll learn foundations of large language models (LLMs). We’ll keep the code minimal and the explanations high‑level so that anyone who can run a Python cell can follow along.  \n",
        "\n",
        "We'll be using Google Colab for this project. Colab is a free, browser-based platform that lets you run Python code and machine learning models without installing anything on your local computer. Click the button below to open this notebook directly in Google Colab and get started!\n"
      ]
    },
    {
      "cell_type": "markdown",
      "id": "fdb8584e",
      "metadata": {
        "id": "fdb8584e"
      },
      "source": [
        "[![Open In Colab](https://colab.research.google.com/assets/colab-badge.svg)](https://colab.research.google.com/github/bytebyteai/ai-eng-projects/blob/main/project_1/lm_playground.ipynb)"
      ]
    },
    {
      "cell_type": "markdown",
      "id": "08e82492",
      "metadata": {
        "id": "08e82492"
      },
      "source": [
        "---\n",
        "## Learning Objectives  \n",
        "* **Tokenization** and how raw text is tokenized into a sequene of discrete tokens\n",
        "* Inspect **GPT2** and **Transformer architecture**\n",
        "* Loading pre-trained LLMs using **Hugging Face**\n",
        "* **Decoding strategies** to generate text from LLMs\n",
        "* Completion versus **intrusction fine-tuned** LLMs\n",
        "\n",
        "\n",
        "Let's get started!"
      ]
    },
    {
      "cell_type": "code",
      "execution_count": 1,
      "id": "1235110e",
      "metadata": {
        "colab": {
          "base_uri": "https://localhost:8080/"
        },
        "id": "1235110e",
        "outputId": "be9d9f16-02fa-49ff-d126-ae8945b9e490"
      },
      "outputs": [
        {
          "output_type": "stream",
          "name": "stdout",
          "text": [
            "torch 2.8.0+cu126 | transformers 4.57.0\n"
          ]
        }
      ],
      "source": [
        "import torch, transformers, tiktoken\n",
        "print(\"torch\", torch.__version__, \"| transformers\", transformers.__version__)"
      ]
    },
    {
      "cell_type": "markdown",
      "id": "d4c1eb0b",
      "metadata": {
        "id": "d4c1eb0b"
      },
      "source": [
        "# 1 - Tokenization\n",
        "\n",
        "A neural network can’t digest raw text. They need **numbers**. Tokenization is the process of converting text into IDs. In this section, you'll learn how tokenization is implemented in practice.\n",
        "\n",
        "Tokenization methods generally fall into three categories:\n",
        "1. Word-level\n",
        "2. Character-level\n",
        "3. Subword-level"
      ]
    },
    {
      "cell_type": "markdown",
      "id": "1d234dc0",
      "metadata": {
        "id": "1d234dc0"
      },
      "source": [
        "### 1.1 - Word‑level tokenization\n",
        "\n",
        "Split text on whitespace and store each **word** as a token."
      ]
    },
    {
      "cell_type": "code",
      "execution_count": 25,
      "id": "d784a288",
      "metadata": {
        "colab": {
          "base_uri": "https://localhost:8080/"
        },
        "id": "d784a288",
        "outputId": "b6c09718-7c33-45ca-e9d5-84c5e6106f24"
      },
      "outputs": [
        {
          "output_type": "stream",
          "name": "stdout",
          "text": [
            "{0: '[PAD]', 1: '[UNK]', 2: 'tokenization', 3: 'converts', 4: 'dog', 5: 'jumps', 6: 'fox', 7: 'next', 8: 'large', 9: 'predict', 10: 'models', 11: 'to', 12: 'lazy', 13: 'over', 14: 'text', 15: 'language', 16: 'the', 17: 'token', 18: 'quick', 19: 'brown', 20: 'numbers'}\n",
            "Vocabulary size: 21 words\n",
            "First 15 vocab entries: ['[PAD]', '[UNK]', 'tokenization', 'converts', 'dog', 'jumps', 'fox', 'next', 'large', 'predict', 'models', 'to', 'lazy', 'over', 'text']\n",
            "encodingText =  [6, 5, 1]\n",
            "decodingText =  fox jumps [UNK]\n",
            "\n",
            "Input text : The brown unicorn jumps\n",
            "Token IDs  : [16, 19, 1, 5]\n",
            "Decoded    : the brown [UNK] jumps\n"
          ]
        }
      ],
      "source": [
        "# 1. Tiny corpus\n",
        "corpus = [\n",
        "    \"The quick brown fox jumps over the lazy dog\",\n",
        "    \"Tokenization converts text to numbers\",\n",
        "    \"Large language models predict the next token\"\n",
        "]\n",
        "\n",
        "# 2. Build the vocabulary\n",
        "PAD, UNK = \"[PAD]\", \"[UNK]\"\n",
        "\n",
        "\n",
        "# Manasa\n",
        "words = set()\n",
        "# for doc in corpus:\n",
        "#   print(doc)\n",
        "#   local_words = doc.lower().split()\n",
        "#   # print(local_words)\n",
        "#   for w in local_words:\n",
        "#     words.add(w)\n",
        "\n",
        "# print(words)\n",
        "\n",
        "\n",
        "for doc in corpus:\n",
        "  words.update(doc.lower().split())\n",
        "# print(words)\n",
        "\n",
        "\n",
        "vocab = [PAD, UNK] + list(words)\n",
        "# print(vocab)\n",
        "word2id = {}\n",
        "id2word = {}\n",
        "\n",
        "for i,w in enumerate(vocab):\n",
        "  # print(i,w)\n",
        "  # print(\"i = \", i)\n",
        "  # print(\"w = \", w)\n",
        "  word2id[w] = i\n",
        "  id2word[i] = w\n",
        "\n",
        "print(id2word)\n",
        "\n",
        "\"\"\"\n",
        "YOUR CODE HERE\n",
        "\"\"\"\n",
        "\n",
        "print(f\"Vocabulary size: {len(vocab)} words\")\n",
        "print(\"First 15 vocab entries:\", vocab[:15])\n",
        "\n",
        "# 3. Encode / decode\n",
        "def encode(text):\n",
        "    ids = []\n",
        "    # for word in text.lower().split():\n",
        "    #   if word in word2id:\n",
        "    #     ids.append(word2id.get(word, word2id[UNK])) # Handle out-of-vocabulary words\n",
        "    #   else:\n",
        "    #     ids.append(word2id[UNK])\n",
        "    # print(\"encoding here\")\n",
        "    return [word2id.get(w, word2id[UNK]) for w in text.lower().split()]\n",
        "\n",
        "    return ids # Corrected indentation\n",
        "    pass\n",
        "\n",
        "encodingText = encode(\"fox jumps somewhere\")\n",
        "print(\"encodingText = \", encodingText)\n",
        "\n",
        "def decode(ids):\n",
        "    \"\"\"\n",
        "    YOUR CODE HERE\n",
        "    \"\"\"\n",
        "    text = \"\"\n",
        "    words = []\n",
        "    for id in ids:\n",
        "      words.append(id2word[id])\n",
        "    return \" \".join(words) # Added implementation\n",
        "    return \" \".join(id2word[i] for i in ids if i != word2id[PAD]) # Corrected indentation PAD here is like extra ignorable values. Could be a space. Something like that.\n",
        "\n",
        "\n",
        "print(\"decodingText = \", decode(encodingText))\n",
        "\n",
        "# 4. Demo\n",
        "sample = \"The brown unicorn jumps\"\n",
        "ids = encode(sample)\n",
        "recovered = decode(ids)\n",
        "\n",
        "print(\"\\nInput text :\", sample)\n",
        "print(\"Token IDs  :\", ids)\n",
        "print(\"Decoded    :\", recovered)"
      ]
    },
    {
      "cell_type": "markdown",
      "id": "0edab2c2",
      "metadata": {
        "id": "0edab2c2"
      },
      "source": [
        "Word-level tokenization has two major limitations:\n",
        "1. Large vocabulary size\n",
        "2. Out-of-vocabulary (OOV) issue\n",
        "   \n",
        "    We saw it says UNK for those values"
      ]
    },
    {
      "cell_type": "markdown",
      "id": "a379bac7",
      "metadata": {
        "id": "a379bac7"
      },
      "source": [
        "### 1.2 - Character‑level tokenization\n",
        "\n",
        "Every single character (including spaces and emojis) gets its own ID. This guarantees zero out‑of‑vocabulary issues but very long sequences."
      ]
    },
    {
      "cell_type": "code",
      "execution_count": null,
      "id": "4ac29144",
      "metadata": {
        "id": "4ac29144"
      },
      "outputs": [],
      "source": [
        "# 1. Build a fixed vocabulary # a–z + A–Z + padding + unkwown\n",
        "import string\n",
        "\n",
        "vocab = []\n",
        "char2id = {}\n",
        "id2char = {}\n",
        "\"\"\"\n",
        "YOUR CODE HERE\n",
        "\"\"\"\n",
        "print(f\"Vocabulary size: {len(vocab)} (52 letters + 2 specials)\")\n",
        "\n",
        "# 2. Encode / decode\n",
        "def encode(text):\n",
        "    \"\"\"\n",
        "    YOUR CODE HERE\n",
        "    \"\"\"\n",
        "\n",
        "def decode(ids):\n",
        "    \"\"\"\n",
        "    YOUR CODE HERE\n",
        "    \"\"\"\n",
        "\n",
        "# 3. Demo\n",
        "sample = \"Hello\"\n",
        "ids = encode(sample)\n",
        "recovered = decode(ids)\n",
        "\n",
        "print(\"\\nInput text :\", sample)\n",
        "print(\"Token IDs  :\", ids)\n",
        "print(\"Decoded    :\", recovered)\n"
      ]
    },
    {
      "cell_type": "markdown",
      "id": "391275bd",
      "metadata": {
        "id": "391275bd"
      },
      "source": [
        "### 1.3 - Subword‑level tokenization\n",
        "\n",
        "Sub-word methods such as `Byte-Pair Encoding (BPE)`, `WordPiece`, and `SentencePiece` **learn** the most common character and gorup them into new tokens. For example, the word `unbelievable` might turn into three tokens: `[\"un\", \"believ\", \"able\"]`. This approach strikes a balance between word-level and character-level methods and fix their limitations.\n",
        "\n",
        "For example, `BPE` algorithm forms the vocabulary using the following steps:\n",
        "1. **Start with bytes** → every character is its own token.  \n",
        "2. **Count all adjacent pairs** in a huge corpus.  \n",
        "3. **Merge the most frequent pair** into a new token.  \n",
        "   *Repeat steps 2-3* until you hit the target vocab size (e.g., 50 k).\n",
        "\n",
        "Let's see `BPE` in practice."
      ]
    },
    {
      "cell_type": "code",
      "execution_count": 26,
      "id": "4675e67a",
      "metadata": {
        "colab": {
          "base_uri": "https://localhost:8080/",
          "height": 391,
          "referenced_widgets": [
            "9a99210546164a1598da58f1896916c3",
            "9b996ab9398a459394352c68557565f7",
            "f9e52e43a485486da33430ccbd332604",
            "c3213231acfc4d34a221cb29b6fa22c6",
            "4dd829a279a04e6894ce1186c317d983",
            "fb33ab8b58f14b2abc90bfc48463d289",
            "243cef4049414fbeb310837c90f5da2c",
            "8788252793ac4cfa9803f5a45237004d",
            "ea8140da1a3c471e9801a9e548a6d86b",
            "5b97bed691084cadaeb39c3f1c22dcda",
            "b9e6b02ad46e49b6a4dc291a31d7da0b",
            "cfe9221477ef4cb6a04f320cc3e0e9bd",
            "85f9914fa120403fb0cf4176fcf4ac4f",
            "d1022c407d81486bbac97824c583e9e3",
            "bb7d8e6514a34c48bbb7b404eef1bb9b",
            "2ecf6d9cbc9e42ecbea0c13c1365830d",
            "e8c9242ea3cf4a31912c8ba08eaeb379",
            "d81a3ac55b774990908165ca09d5b281",
            "ee58b621717d4a7b854596a9d6fbf387",
            "90a5869d2a9f4ab8827400208b815f90",
            "e15df1c5c1b944639036781853b4913d",
            "a297967078914c09a46ef828335a6cd2",
            "38062086192c40f0910734cd95bddffa",
            "08a0a59e968a46d9a84aeb48eb3cc35e",
            "0e040fb744014a9a9ebb8f72a0166458",
            "519b24a47bad4b0c9d4187cd87708d8f",
            "02e55b6cbfbb4724a07571db49be18f8",
            "c9d552e48fe34815af6db4708b4026f7",
            "1b420d2c155d40ab8c4c427b1b9ca9e1",
            "cf647452293a4096be85e9bfaa91c04c",
            "949b6f8300d5484f8daf021d4d225bea",
            "205776bc129f4b7888ed3c7169300ec2",
            "3ee49d92d67543c2ae6badeb406ba472",
            "1416356df5d54e7db2a7a865f795c9b8",
            "cd9f556e5e314c22834f77d1f5d033c7",
            "9a3cda90ee1f41138e0f40e60563a20d",
            "7aa3d15355df48d79281be697c70e97a",
            "b71ae7836d27494eb496027052f280f0",
            "c62781f7bcc64d0cb4b23e5835c615d5",
            "f0d2cbcd27ef490c81ac4f9684a0cad9",
            "0a4a0aedbb45451489b6e320517c07c4",
            "c547fe1e59b0428bb4007c10cbbc35c1",
            "088bd126c16c4b07850eb2c44eee04a3",
            "a71932add665481eb4d8edca95f56876",
            "118f0ac37ebd4a40abc6c8a560f07085",
            "a226289940694759a905aa8c6ebf6245",
            "ae6094d361894210baa538ab5c67b71d",
            "d58fc48ba5ee4bc3be58c2eb04a64970",
            "8bc9e44c224e4a67ae14996464b58e1b",
            "bfd7a4b126c44e5583799a6841ad4f1c",
            "0ef5e27d76e84ce79dbe2297fe73d551",
            "2f6dd04612584d81884a41cc5593787a",
            "a78ffd6c54004a3fa1af4e7764b0de93",
            "c6c46f1df5dc4db690f6d8625d9c6b6e",
            "55110e23913c4ac692c0a2f2d2735a7c"
          ]
        },
        "id": "4675e67a",
        "outputId": "094a5ea8-7fee-44a7-bca5-fb41abcc84c4"
      },
      "outputs": [
        {
          "output_type": "stream",
          "name": "stderr",
          "text": [
            "/usr/local/lib/python3.12/dist-packages/huggingface_hub/utils/_auth.py:94: UserWarning: \n",
            "The secret `HF_TOKEN` does not exist in your Colab secrets.\n",
            "To authenticate with the Hugging Face Hub, create a token in your settings tab (https://huggingface.co/settings/tokens), set it as secret in your Google Colab and restart your session.\n",
            "You will be able to reuse this secret in all of your notebooks.\n",
            "Please note that authentication is recommended but still optional to access public models or datasets.\n",
            "  warnings.warn(\n"
          ]
        },
        {
          "output_type": "display_data",
          "data": {
            "text/plain": [
              "tokenizer_config.json:   0%|          | 0.00/26.0 [00:00<?, ?B/s]"
            ],
            "application/vnd.jupyter.widget-view+json": {
              "version_major": 2,
              "version_minor": 0,
              "model_id": "9a99210546164a1598da58f1896916c3"
            }
          },
          "metadata": {}
        },
        {
          "output_type": "display_data",
          "data": {
            "text/plain": [
              "config.json:   0%|          | 0.00/665 [00:00<?, ?B/s]"
            ],
            "application/vnd.jupyter.widget-view+json": {
              "version_major": 2,
              "version_minor": 0,
              "model_id": "cfe9221477ef4cb6a04f320cc3e0e9bd"
            }
          },
          "metadata": {}
        },
        {
          "output_type": "display_data",
          "data": {
            "text/plain": [
              "vocab.json:   0%|          | 0.00/1.04M [00:00<?, ?B/s]"
            ],
            "application/vnd.jupyter.widget-view+json": {
              "version_major": 2,
              "version_minor": 0,
              "model_id": "38062086192c40f0910734cd95bddffa"
            }
          },
          "metadata": {}
        },
        {
          "output_type": "display_data",
          "data": {
            "text/plain": [
              "merges.txt:   0%|          | 0.00/456k [00:00<?, ?B/s]"
            ],
            "application/vnd.jupyter.widget-view+json": {
              "version_major": 2,
              "version_minor": 0,
              "model_id": "1416356df5d54e7db2a7a865f795c9b8"
            }
          },
          "metadata": {}
        },
        {
          "output_type": "display_data",
          "data": {
            "text/plain": [
              "tokenizer.json:   0%|          | 0.00/1.36M [00:00<?, ?B/s]"
            ],
            "application/vnd.jupyter.widget-view+json": {
              "version_major": 2,
              "version_minor": 0,
              "model_id": "118f0ac37ebd4a40abc6c8a560f07085"
            }
          },
          "metadata": {}
        },
        {
          "output_type": "stream",
          "name": "stdout",
          "text": [
            "Vocabulary size: 50257 tokens\n",
            "\n",
            "Input text : Unbelievable tokenization powers! 🚀\n",
            "Token IDs  : [3118, 6667, 11203, 540, 11241, 1634, 5635, 0, 12520, 248, 222]\n",
            "Tokens     : ['Un', 'bel', 'iev', 'able', 'Ġtoken', 'ization', 'Ġpowers', '!', 'ĠðŁ', 'ļ', 'Ģ']\n",
            "Decoded    : Unbelievable tokenization powers! 🚀\n"
          ]
        }
      ],
      "source": [
        "# 1. Load a pretrained BPE tokenizer (GPT-2 uses BPE).\n",
        "# Refer to  https://huggingface.co/docs/transformers/en/fast_tokenizers\n",
        "\n",
        "from transformers import AutoTokenizer\n",
        "\n",
        "bpe_tok = AutoTokenizer.from_pretrained(\"gpt2\")\n",
        "print(f\"Vocabulary size: {bpe_tok.vocab_size} tokens\")\n",
        "\n",
        "\n",
        "# 2. Encode / decode\n",
        "def encode(text):\n",
        "    return bpe_tok.encode(text)\n",
        "\n",
        "def decode(ids):\n",
        "    return bpe_tok.decode(ids)\n",
        "\n",
        "# 3. Demo\n",
        "sample = \"Unbelievable tokenization powers! 🚀\"\n",
        "ids = encode(sample)\n",
        "recovered = decode(ids)\n",
        "\n",
        "print(\"\\nInput text :\", sample)\n",
        "print(\"Token IDs  :\", ids)\n",
        "print(\"Tokens     :\", bpe_tok.convert_ids_to_tokens(ids))\n",
        "print(\"Decoded    :\", recovered)\n"
      ]
    },
    {
      "cell_type": "markdown",
      "id": "badaa5a8",
      "metadata": {
        "id": "badaa5a8"
      },
      "source": [
        "### 1.4 - TikToken\n",
        "\n",
        "`tiktoken` is a production-ready library which offers high‑speed tokenization used by OpenAI models.  \n",
        "Let's compare the older **gpt2** encoding with the newer **cl100k_base** used in GPT‑4."
      ]
    },
    {
      "cell_type": "code",
      "execution_count": null,
      "id": "7704c470",
      "metadata": {
        "id": "7704c470"
      },
      "outputs": [],
      "source": [
        "# Use gpt2 and cl100k_base to encode and decode the following text\n",
        "# Refer to https://github.com/openai/tiktoken\n",
        "import tiktoken\n",
        "\n",
        "sentence = \"The 🌟 star-player scored 40 points!\"\n",
        "\n",
        "\"\"\"\n",
        "YOUR CODE HERE\n",
        "\"\"\"\n",
        "\n"
      ]
    },
    {
      "cell_type": "markdown",
      "id": "5e8c1023",
      "metadata": {
        "id": "5e8c1023"
      },
      "source": [
        "Experiment: try new sentences, emojis, code snippets, or other languages. If you are interested, try implementing the BPE algorithm yourself.\n",
        "\n",
        "### 1.5 - Key Takeaways\n",
        "\n",
        "* **Word‑level**: simple but brittle (OOV problems).  \n",
        "* **Character‑level**: robust but produces long sequences.  \n",
        "* **BPE / Byte‑Level BPE**: middle ground used by most LLMs.  \n",
        "* **tiktoken**: shows how production models tokenize with pre‑trained sub‑word vocabularies."
      ]
    },
    {
      "cell_type": "markdown",
      "id": "c2a758ba",
      "metadata": {
        "id": "c2a758ba"
      },
      "source": [
        "# 2. What is a Language Model?\n",
        "\n",
        "At its core, a **language model (LM)** is just a *very large* mathematical function built from many neural-network layers.  \n",
        "Given a sequence of tokens `[t₁, t₂, …, tₙ]`, it learns to output a probability for the next token `tₙ₊₁`.\n",
        "\n",
        "\n",
        "Each layer applies a simple operation (matrix multiplication, attention, etc.). Stacking hundreds of these layers lets the model capture patterns and statistical relations from text. The final output is a vector of scores that says, “how likely is each possible token to come next?”\n",
        "\n",
        "> Think of the whole network as **one gigantic equation** whose parameters were tuned during training to minimize prediction error.\n"
      ]
    },
    {
      "cell_type": "markdown",
      "id": "8f0c7399",
      "metadata": {
        "id": "8f0c7399"
      },
      "source": [
        "\n",
        "### 2.1 - A Single `Linear` Layer\n",
        "\n",
        "Before we explore Transformer, let’s start tiny:\n",
        "\n",
        "* A **Linear layer** performs `y = Wx + b`  \n",
        "  * `x` – input vector  \n",
        "  * `W` – weight matrix (learned)  \n",
        "  * `b` – bias vector (learned)\n",
        "\n",
        "Although this looks basic, chaining thousands of such linear transforms (with nonlinearities in between) gives neural nets their expressive power.\n"
      ]
    },
    {
      "cell_type": "code",
      "execution_count": null,
      "id": "e425948a",
      "metadata": {
        "id": "e425948a"
      },
      "outputs": [],
      "source": [
        "import torch.nn as nn\n",
        "class Linear(nn.Module):\n",
        "    def __init__(self, in_features, out_features):\n",
        "        super(Linear, self).__init__()\n",
        "        \"\"\"\n",
        "        YOUR CODE HERE\n",
        "        \"\"\"\n",
        "\n",
        "    def forward(self, x):\n",
        "        \"\"\"\n",
        "        YOUR CODE HERE\n",
        "        \"\"\""
      ]
    },
    {
      "cell_type": "code",
      "execution_count": null,
      "id": "13e5e225",
      "metadata": {
        "id": "13e5e225"
      },
      "outputs": [],
      "source": [
        "import torch.nn as nn, torch\n",
        "\n",
        "lin = nn.Linear(3, 2)\n",
        "x = torch.tensor([1.0, -1.0, 0.5])\n",
        "print(\"Input :\", x)\n",
        "print(\"Weights:\", lin.weight)\n",
        "print(\"Bias   :\", lin.bias)\n",
        "print(\"Output :\", lin(x))\n"
      ]
    },
    {
      "cell_type": "markdown",
      "id": "a04f56bf",
      "metadata": {
        "id": "a04f56bf"
      },
      "source": [
        "### 2.2 - A `Transformer` Layer\n",
        "\n",
        "Most LLMs are a **stack of identical Transformer blocks**. Each block fuses two main components:\n",
        "\n",
        "| Step | What it does | Where it lives in code |\n",
        "|------|--------------|------------------------|\n",
        "| **Multi-Head Self-Attention** | Every token looks at every other token and decides *what matters*. | `block.attn` |\n",
        "| **Feed-Forward Network (MLP)** | Re-mixes information token-by-token. | `block.mlp` |\n",
        "\n",
        "Below, we load the smallest public GPT-2 (124 M parameters), grab its *first* block, and inspect the pieces.\n"
      ]
    },
    {
      "cell_type": "code",
      "execution_count": null,
      "id": "47c87f6e",
      "metadata": {
        "id": "47c87f6e"
      },
      "outputs": [],
      "source": [
        "import torch\n",
        "from transformers import GPT2LMHeadModel\n",
        "\n",
        "# Load the 124 M-parameter GPT-2 and inspect its layers (12 layers)\n",
        "\"\"\"\n",
        "YOUR CODE HERE\n",
        "\"\"\""
      ]
    },
    {
      "cell_type": "code",
      "execution_count": null,
      "id": "92df06df",
      "metadata": {
        "id": "92df06df"
      },
      "outputs": [],
      "source": [
        "# Run a tiny forward pass through the first block\n",
        "seq_len = 8\n",
        "dummy_tokens = torch.randint(0, gpt2.config.vocab_size, (1, seq_len))\n",
        "with torch.no_grad():\n",
        "    # Embed tokens + positions the same way GPT-2 does\n",
        "    # Forward through one layer\n",
        "    \"\"\"\n",
        "    YOUR CODE HERE\n",
        "    \"\"\"\n",
        "\n",
        "print(\"\\nOutput shape :\", out.shape) # (batch, seq_len, hidden_size)"
      ]
    },
    {
      "cell_type": "markdown",
      "id": "8493ecc8",
      "metadata": {
        "id": "8493ecc8"
      },
      "source": [
        "### 2.3 - Inside GPT-2\n",
        "\n",
        "GPT-2 is just many of those modules arranged in a repeating *block*. Let's print the modules inside the Transformer."
      ]
    },
    {
      "cell_type": "code",
      "execution_count": null,
      "id": "a78ddee1",
      "metadata": {
        "id": "a78ddee1"
      },
      "outputs": [],
      "source": [
        "# Print the name and modules inside gpt2\n",
        "\"\"\"\n",
        "YOUR CODE HERE\n",
        "\"\"\""
      ]
    },
    {
      "cell_type": "markdown",
      "id": "ed029847",
      "metadata": {
        "id": "ed029847"
      },
      "source": [
        "As you can see, the Transformer holds various modules, arranged from a list of blocks (`h`). The following table summarizes these modules:\n",
        "\n",
        "| Step | What it does | Why it matters |\n",
        "|------|--------------|----------------|\n",
        "| **Token → Embedding** | Converts IDs to vectors | Gives the model a numeric “handle” on words |\n",
        "| **Positional Encoding** | Adds “where am I?” info | Order matters in language |\n",
        "| **Multi-Head Self-Attention** | Each token asks “which other tokens should I look at?” | Lets the model relate words across a sentence |\n",
        "| **Feed-Forward Network** | Two stacked Linear layers with a non-linearity | Mixes information and adds depth |\n",
        "| **LayerNorm & Residual** | Stabilize training and help gradients flow | Keeps very deep networks trainable |\n"
      ]
    },
    {
      "cell_type": "markdown",
      "id": "0a6a7495",
      "metadata": {
        "id": "0a6a7495"
      },
      "source": [
        "### 2.4 LLM's output\n",
        "\n",
        "Passing a token sequence through an **LLM** yields a tensor of **logits** with shape  \n",
        "`(batch_size, seq_len, vocab_size)`.  \n",
        "Applying `softmax` on the last dimension turns those logits into probabilities.\n",
        "\n",
        "The cell below feeds an 8-token dummy sequence, prints the logits shape, and shows the five most likely next tokens for the final position.\n"
      ]
    },
    {
      "cell_type": "code",
      "execution_count": null,
      "id": "f98b7b34",
      "metadata": {
        "id": "f98b7b34"
      },
      "outputs": [],
      "source": [
        "import torch, torch.nn.functional as F\n",
        "from transformers import GPT2LMHeadModel, GPT2TokenizerFast\n",
        "\n",
        "# Load gpt2 model and tokenizer\n",
        "\"\"\"\n",
        "YOUR CODE HERE\n",
        "\"\"\"\n",
        "\n",
        "# Tokenize input text\n",
        "text = \"Hello my name\"\n",
        "\"\"\"\n",
        "YOUR CODE HERE\n",
        "\"\"\"\n",
        "\n",
        "# Get logits by passing the ids to the gpt2 model.\n",
        "\"\"\"\n",
        "YOUR CODE HERE\n",
        "\"\"\"\n",
        "\n",
        "print(\"Logits shape :\", logits.shape)\n",
        "\n",
        "# Predict next token\n",
        "\"\"\"\n",
        "YOUR CODE HERE\n",
        "\"\"\"\n",
        "\n",
        "print(\"\\nTop-5 predictions for the next token:\")\n",
        "\"\"\"\n",
        "YOUR CODE HERE\n",
        "\"\"\"\n"
      ]
    },
    {
      "cell_type": "markdown",
      "id": "0eb05c9b",
      "metadata": {
        "id": "0eb05c9b"
      },
      "source": [
        "### 2.5 - Key Takeaway\n",
        "\n",
        "A language model is nothing mystical: it’s a *huge composition* of small, understandable layers trained to predict the next token in a sequence of tokens."
      ]
    },
    {
      "cell_type": "markdown",
      "id": "e0ccf391",
      "metadata": {
        "id": "e0ccf391"
      },
      "source": [
        "# 3 - Generation\n",
        "Once an LLM is trained to predict the probabilities, we can generate text from the model. This process is called decoding or sampling.\n",
        "\n",
        "At each step, the LLM outputs a **probability distribution** over the next token. It is the job of the decoding algorithm to pick the next token, and move on to the next token. There are different decoding algorithms and hyper-parameters to control the generaiton:\n",
        "* **Greedy** → pick the single highest‑probability token each step (safe but repetitive).  \n",
        "* **Top‑k / Nucleus (top‑p)** → sample from a subset of likely tokens (adds variety).\n",
        "* **beam** -> applies beam search to pick tokens\n",
        "* **Temperature** → a *creativity* knob. Higher values flatten the probability distribution."
      ]
    },
    {
      "cell_type": "markdown",
      "id": "ac0c5728",
      "metadata": {
        "id": "ac0c5728"
      },
      "source": [
        "### 3.1 - Greedy decoding"
      ]
    },
    {
      "cell_type": "code",
      "execution_count": null,
      "id": "2f2cb953",
      "metadata": {
        "id": "2f2cb953"
      },
      "outputs": [],
      "source": [
        "from transformers import AutoTokenizer, AutoModelForCausalLM\n",
        "MODELS = {\n",
        "    \"gpt2\": \"gpt2\",\n",
        "}\n",
        "tokenizers, models = {}, {}\n",
        "# Load models and tokenizers\n",
        "\"\"\"\n",
        "YOUR CODE HERE\n",
        "\"\"\"\n",
        "\n",
        "def generate(model_key, prompt, strategy=\"greedy\", max_new_tokens=100):\n",
        "    tok, mdl = tokenizers[model_key], models[model_key]\n",
        "    # Return the generations based on the provided strategy: greedy, top_k, top_p\n",
        "    \"\"\"\n",
        "    YOUR CODE HERE\n",
        "    \"\"\"\n"
      ]
    },
    {
      "cell_type": "code",
      "execution_count": null,
      "id": "dbe777ba",
      "metadata": {
        "id": "dbe777ba"
      },
      "outputs": [],
      "source": [
        "tests=[\"Once upon a time\",\"What is 2+2?\", \"Suggest a party theme.\"]\n",
        "for prompt in tests:\n",
        "    print(f\"\\n== GPT-2 | Greedy ==\")\n",
        "    print(generate(\"gpt2\", prompt, \"greedy\", 80))\n"
      ]
    },
    {
      "cell_type": "markdown",
      "id": "f51d44b2",
      "metadata": {
        "id": "f51d44b2"
      },
      "source": [
        "\n",
        "Naively picking the single best token every time has the following issues in practice:\n",
        "\n",
        "* **Loop**: “The cat is is is…”  \n",
        "* **Miss long-term payoff**: the highest-probability word *now* might paint you into a boring corner later."
      ]
    },
    {
      "cell_type": "markdown",
      "id": "91607661",
      "metadata": {
        "id": "91607661"
      },
      "source": [
        "### 3.2 - Top-k or top-p sampling"
      ]
    },
    {
      "cell_type": "code",
      "execution_count": null,
      "id": "0633d4a3",
      "metadata": {
        "id": "0633d4a3"
      },
      "outputs": [],
      "source": [
        "\n",
        "tests=[\"Once upon a time\",\"What is 2+2?\", \"Suggest a party theme.\"]\n",
        "for prompt in tests:\n",
        "    print(f\"\\n== GPT-2 | Top-p ==\")\n",
        "    print(generate(\"gpt2\", prompt, \"top-p\", 40))\n"
      ]
    },
    {
      "cell_type": "markdown",
      "id": "004b4039",
      "metadata": {
        "id": "004b4039"
      },
      "source": [
        "### 3.3 - Try It Yourself\n",
        "\n",
        "1. Scroll to the list called `tests`.\n",
        "2. Swap in your own prompts or tweak the decoding strategy.  \n",
        "3. Re‑run the cell and compare the vibes.\n",
        "\n",
        "> **Tip:** Try the same prompt with `greedy` vs. `top_p` (0.9) and see how the tone changes. Notice especially how small temperature tweaks can soften or sharpen the prose.\n",
        "\n",
        "* `strategy`: `\"greedy\"`, `\"beam\"`, `\"top_k\"`, `\"top_p\"`  \n",
        "* `temperature`: `0.2 – 2.0`  \n",
        "* `k` or `p` thresholds\n",
        "\n"
      ]
    },
    {
      "cell_type": "markdown",
      "id": "6b775b02",
      "metadata": {
        "id": "6b775b02"
      },
      "source": [
        "# 4 - Completion vs. Instruction-tuned LLMs\n",
        "\n",
        "We have seen that we can use GPT2 model to pass an input text and generate a new text. However, this model only continues the provided text. It is not engaging in a dialouge-like conversation and cannot be helpful by answering instructions. On the other hand, **instruction-tuned LLMs** like `Qwen-Chat` go through an extra training stage called **post-training** after the base “completion” model is finished. Because of post-training step, an instruction-tuned LLM will:\n",
        "\n",
        "* **Read the entire prompt as a request,** not just as text to mimic.  \n",
        "* **Stay in dialogue mode**. Answer questions, follow steps, ask clarifying queries.  \n",
        "* **Refuse or safe-complete** when instructions are unsafe or disallowed.  \n",
        "* **Adopt a consistent persona** (e.g., “Assistant”) rather than drifting into story continuation.\n"
      ]
    },
    {
      "cell_type": "markdown",
      "id": "1706dc08",
      "metadata": {
        "id": "1706dc08"
      },
      "source": [
        "### 4.1 - Qwen1.5-8B vs. GPT2\n",
        "\n",
        "In the code below we’ll feed the same prompt to:\n",
        "\n",
        "* **GPT-2 (completion-only)** – it will simply keep writing in the same style.  \n",
        "* **Qwen-Chat (instruction-tuned)** – it will obey the instruction and respond directly.\n",
        "\n",
        "Comparing the two outputs makes the difference easy to see."
      ]
    },
    {
      "cell_type": "code",
      "execution_count": null,
      "id": "57b73e7a",
      "metadata": {
        "id": "57b73e7a"
      },
      "outputs": [],
      "source": [
        "from transformers import AutoTokenizer, AutoModelForCausalLM\n",
        "MODELS = {\n",
        "    \"gpt2\": \"gpt2\",\n",
        "    \"qwen\": \"Qwen/Qwen1.5-1.8B-Chat\"\n",
        "}\n",
        "tokenizers, models = {}, {}\n",
        "# Load models and tokenizers\n",
        "\"\"\"\n",
        "YOUR CODE HERE\n",
        "\"\"\"\n"
      ]
    },
    {
      "cell_type": "markdown",
      "id": "ef49ab1b",
      "metadata": {
        "id": "ef49ab1b"
      },
      "source": [
        "\n",
        "We downloaded two tiny checkpoints: `GPT‑2` (124 M parameters) and `Qwen‑1.5‑Chat` (1.8 B). If the cell took a while, that was mostly network time. Models are stored locally after the first run.\n",
        "\n",
        "Let's now generate text and compare two models.\n"
      ]
    },
    {
      "cell_type": "code",
      "execution_count": null,
      "id": "0c78a508",
      "metadata": {
        "id": "0c78a508"
      },
      "outputs": [],
      "source": [
        "\n",
        "tests=[(\"Once upon a time\",\"greedy\"),(\"What is 2+2?\",\"top_k\"),(\"Suggest a party theme.\",\"top_p\")]\n",
        "for prompt,strategy in tests:\n",
        "    for key in [\"gpt2\",\"qwen\"]:\n",
        "        print(f\"\\n== {key.upper()} | {strategy} ==\")\n",
        "        print(generate(key,prompt,strategy,80))\n"
      ]
    },
    {
      "cell_type": "markdown",
      "id": "8e1c3da1",
      "metadata": {
        "id": "8e1c3da1"
      },
      "source": [
        "# 5. (Optional) A Small LLM Playground"
      ]
    },
    {
      "cell_type": "markdown",
      "id": "313ba974",
      "metadata": {
        "id": "313ba974"
      },
      "source": [
        "### 5.1 ‑ Interactive Playground\n",
        "\n",
        "Enter a prompt, pick a model and decoding strategy, adjust the temperature, and press **Generate** to watch the model respond.\n"
      ]
    },
    {
      "cell_type": "code",
      "execution_count": null,
      "id": "1a67a884",
      "metadata": {
        "id": "1a67a884"
      },
      "outputs": [],
      "source": [
        "import ipywidgets as widgets\n",
        "from IPython.display import display, Markdown\n",
        "\n",
        "# Make sure models and tokenizers are loaded\n",
        "try:\n",
        "    tokenizers\n",
        "    models\n",
        "except NameError:\n",
        "    raise RuntimeError(\"Please run the earlier setup cells that load the models before using the playground.\")\n",
        "\n",
        "def generate_playground(model_key, prompt, strategy=\"greedy\", temperature=1.0, max_new_tokens=100):\n",
        "    # Generation code\n",
        "    \"\"\"\n",
        "    YOUR CODE HERE\n",
        "    \"\"\"\n",
        "\n",
        "# Your code to build boxes, dropdowns, and other elements in the UI using widgets and creating the UI using widgets.vbox and display.\n",
        "# Refer to https://ipywidgets.readthedocs.io/en/stable/\n",
        "\"\"\"\n",
        "YOUR CODE HERE\n",
        "\"\"\"\n"
      ]
    },
    {
      "cell_type": "markdown",
      "id": "cfbccead",
      "metadata": {
        "id": "cfbccead"
      },
      "source": [
        "\n",
        "## 🎉 Congratulations!\n",
        "\n",
        "You’ve just learned, explored, and inspected a real **LLM**. In one project you:\n",
        "* Learned how **tokenization** works in practice\n",
        "* Used `tiktoken` library to load and experiment with most advanced tokenizers.\n",
        "* Explored LLM architecture and inspected GPT2 blocks and layers\n",
        "* Learned decoding strategies and used `top-p` to generate text from GPT2\n",
        "* Loaded a powerful chat model, `Qwen1.5-8B` and generated text\n",
        "* Built an LLM playground\n",
        "\n",
        "\n",
        "👏 **Great job!** Take a moment to celebrate. You now have a working mental model of how LLMs work. The skills you used here power most LLMs you see everywhere.\n"
      ]
    },
    {
      "cell_type": "markdown",
      "id": "30824bd6",
      "metadata": {
        "id": "30824bd6"
      },
      "source": []
    }
  ],
  "metadata": {
    "accelerator": "GPU",
    "colab": {
      "gpuType": "T4",
      "provenance": [],
      "include_colab_link": true
    },
    "kernelspec": {
      "display_name": "llm_playground",
      "language": "python",
      "name": "python3"
    },
    "language_info": {
      "codemirror_mode": {
        "name": "ipython",
        "version": 3
      },
      "file_extension": ".py",
      "mimetype": "text/x-python",
      "name": "python",
      "nbconvert_exporter": "python",
      "pygments_lexer": "ipython3",
      "version": "3.11.12"
    },
    "widgets": {
      "application/vnd.jupyter.widget-state+json": {
        "9a99210546164a1598da58f1896916c3": {
          "model_module": "@jupyter-widgets/controls",
          "model_name": "HBoxModel",
          "model_module_version": "1.5.0",
          "state": {
            "_dom_classes": [],
            "_model_module": "@jupyter-widgets/controls",
            "_model_module_version": "1.5.0",
            "_model_name": "HBoxModel",
            "_view_count": null,
            "_view_module": "@jupyter-widgets/controls",
            "_view_module_version": "1.5.0",
            "_view_name": "HBoxView",
            "box_style": "",
            "children": [
              "IPY_MODEL_9b996ab9398a459394352c68557565f7",
              "IPY_MODEL_f9e52e43a485486da33430ccbd332604",
              "IPY_MODEL_c3213231acfc4d34a221cb29b6fa22c6"
            ],
            "layout": "IPY_MODEL_4dd829a279a04e6894ce1186c317d983"
          }
        },
        "9b996ab9398a459394352c68557565f7": {
          "model_module": "@jupyter-widgets/controls",
          "model_name": "HTMLModel",
          "model_module_version": "1.5.0",
          "state": {
            "_dom_classes": [],
            "_model_module": "@jupyter-widgets/controls",
            "_model_module_version": "1.5.0",
            "_model_name": "HTMLModel",
            "_view_count": null,
            "_view_module": "@jupyter-widgets/controls",
            "_view_module_version": "1.5.0",
            "_view_name": "HTMLView",
            "description": "",
            "description_tooltip": null,
            "layout": "IPY_MODEL_fb33ab8b58f14b2abc90bfc48463d289",
            "placeholder": "​",
            "style": "IPY_MODEL_243cef4049414fbeb310837c90f5da2c",
            "value": "tokenizer_config.json: 100%"
          }
        },
        "f9e52e43a485486da33430ccbd332604": {
          "model_module": "@jupyter-widgets/controls",
          "model_name": "FloatProgressModel",
          "model_module_version": "1.5.0",
          "state": {
            "_dom_classes": [],
            "_model_module": "@jupyter-widgets/controls",
            "_model_module_version": "1.5.0",
            "_model_name": "FloatProgressModel",
            "_view_count": null,
            "_view_module": "@jupyter-widgets/controls",
            "_view_module_version": "1.5.0",
            "_view_name": "ProgressView",
            "bar_style": "success",
            "description": "",
            "description_tooltip": null,
            "layout": "IPY_MODEL_8788252793ac4cfa9803f5a45237004d",
            "max": 26,
            "min": 0,
            "orientation": "horizontal",
            "style": "IPY_MODEL_ea8140da1a3c471e9801a9e548a6d86b",
            "value": 26
          }
        },
        "c3213231acfc4d34a221cb29b6fa22c6": {
          "model_module": "@jupyter-widgets/controls",
          "model_name": "HTMLModel",
          "model_module_version": "1.5.0",
          "state": {
            "_dom_classes": [],
            "_model_module": "@jupyter-widgets/controls",
            "_model_module_version": "1.5.0",
            "_model_name": "HTMLModel",
            "_view_count": null,
            "_view_module": "@jupyter-widgets/controls",
            "_view_module_version": "1.5.0",
            "_view_name": "HTMLView",
            "description": "",
            "description_tooltip": null,
            "layout": "IPY_MODEL_5b97bed691084cadaeb39c3f1c22dcda",
            "placeholder": "​",
            "style": "IPY_MODEL_b9e6b02ad46e49b6a4dc291a31d7da0b",
            "value": " 26.0/26.0 [00:00&lt;00:00, 2.30kB/s]"
          }
        },
        "4dd829a279a04e6894ce1186c317d983": {
          "model_module": "@jupyter-widgets/base",
          "model_name": "LayoutModel",
          "model_module_version": "1.2.0",
          "state": {
            "_model_module": "@jupyter-widgets/base",
            "_model_module_version": "1.2.0",
            "_model_name": "LayoutModel",
            "_view_count": null,
            "_view_module": "@jupyter-widgets/base",
            "_view_module_version": "1.2.0",
            "_view_name": "LayoutView",
            "align_content": null,
            "align_items": null,
            "align_self": null,
            "border": null,
            "bottom": null,
            "display": null,
            "flex": null,
            "flex_flow": null,
            "grid_area": null,
            "grid_auto_columns": null,
            "grid_auto_flow": null,
            "grid_auto_rows": null,
            "grid_column": null,
            "grid_gap": null,
            "grid_row": null,
            "grid_template_areas": null,
            "grid_template_columns": null,
            "grid_template_rows": null,
            "height": null,
            "justify_content": null,
            "justify_items": null,
            "left": null,
            "margin": null,
            "max_height": null,
            "max_width": null,
            "min_height": null,
            "min_width": null,
            "object_fit": null,
            "object_position": null,
            "order": null,
            "overflow": null,
            "overflow_x": null,
            "overflow_y": null,
            "padding": null,
            "right": null,
            "top": null,
            "visibility": null,
            "width": null
          }
        },
        "fb33ab8b58f14b2abc90bfc48463d289": {
          "model_module": "@jupyter-widgets/base",
          "model_name": "LayoutModel",
          "model_module_version": "1.2.0",
          "state": {
            "_model_module": "@jupyter-widgets/base",
            "_model_module_version": "1.2.0",
            "_model_name": "LayoutModel",
            "_view_count": null,
            "_view_module": "@jupyter-widgets/base",
            "_view_module_version": "1.2.0",
            "_view_name": "LayoutView",
            "align_content": null,
            "align_items": null,
            "align_self": null,
            "border": null,
            "bottom": null,
            "display": null,
            "flex": null,
            "flex_flow": null,
            "grid_area": null,
            "grid_auto_columns": null,
            "grid_auto_flow": null,
            "grid_auto_rows": null,
            "grid_column": null,
            "grid_gap": null,
            "grid_row": null,
            "grid_template_areas": null,
            "grid_template_columns": null,
            "grid_template_rows": null,
            "height": null,
            "justify_content": null,
            "justify_items": null,
            "left": null,
            "margin": null,
            "max_height": null,
            "max_width": null,
            "min_height": null,
            "min_width": null,
            "object_fit": null,
            "object_position": null,
            "order": null,
            "overflow": null,
            "overflow_x": null,
            "overflow_y": null,
            "padding": null,
            "right": null,
            "top": null,
            "visibility": null,
            "width": null
          }
        },
        "243cef4049414fbeb310837c90f5da2c": {
          "model_module": "@jupyter-widgets/controls",
          "model_name": "DescriptionStyleModel",
          "model_module_version": "1.5.0",
          "state": {
            "_model_module": "@jupyter-widgets/controls",
            "_model_module_version": "1.5.0",
            "_model_name": "DescriptionStyleModel",
            "_view_count": null,
            "_view_module": "@jupyter-widgets/base",
            "_view_module_version": "1.2.0",
            "_view_name": "StyleView",
            "description_width": ""
          }
        },
        "8788252793ac4cfa9803f5a45237004d": {
          "model_module": "@jupyter-widgets/base",
          "model_name": "LayoutModel",
          "model_module_version": "1.2.0",
          "state": {
            "_model_module": "@jupyter-widgets/base",
            "_model_module_version": "1.2.0",
            "_model_name": "LayoutModel",
            "_view_count": null,
            "_view_module": "@jupyter-widgets/base",
            "_view_module_version": "1.2.0",
            "_view_name": "LayoutView",
            "align_content": null,
            "align_items": null,
            "align_self": null,
            "border": null,
            "bottom": null,
            "display": null,
            "flex": null,
            "flex_flow": null,
            "grid_area": null,
            "grid_auto_columns": null,
            "grid_auto_flow": null,
            "grid_auto_rows": null,
            "grid_column": null,
            "grid_gap": null,
            "grid_row": null,
            "grid_template_areas": null,
            "grid_template_columns": null,
            "grid_template_rows": null,
            "height": null,
            "justify_content": null,
            "justify_items": null,
            "left": null,
            "margin": null,
            "max_height": null,
            "max_width": null,
            "min_height": null,
            "min_width": null,
            "object_fit": null,
            "object_position": null,
            "order": null,
            "overflow": null,
            "overflow_x": null,
            "overflow_y": null,
            "padding": null,
            "right": null,
            "top": null,
            "visibility": null,
            "width": null
          }
        },
        "ea8140da1a3c471e9801a9e548a6d86b": {
          "model_module": "@jupyter-widgets/controls",
          "model_name": "ProgressStyleModel",
          "model_module_version": "1.5.0",
          "state": {
            "_model_module": "@jupyter-widgets/controls",
            "_model_module_version": "1.5.0",
            "_model_name": "ProgressStyleModel",
            "_view_count": null,
            "_view_module": "@jupyter-widgets/base",
            "_view_module_version": "1.2.0",
            "_view_name": "StyleView",
            "bar_color": null,
            "description_width": ""
          }
        },
        "5b97bed691084cadaeb39c3f1c22dcda": {
          "model_module": "@jupyter-widgets/base",
          "model_name": "LayoutModel",
          "model_module_version": "1.2.0",
          "state": {
            "_model_module": "@jupyter-widgets/base",
            "_model_module_version": "1.2.0",
            "_model_name": "LayoutModel",
            "_view_count": null,
            "_view_module": "@jupyter-widgets/base",
            "_view_module_version": "1.2.0",
            "_view_name": "LayoutView",
            "align_content": null,
            "align_items": null,
            "align_self": null,
            "border": null,
            "bottom": null,
            "display": null,
            "flex": null,
            "flex_flow": null,
            "grid_area": null,
            "grid_auto_columns": null,
            "grid_auto_flow": null,
            "grid_auto_rows": null,
            "grid_column": null,
            "grid_gap": null,
            "grid_row": null,
            "grid_template_areas": null,
            "grid_template_columns": null,
            "grid_template_rows": null,
            "height": null,
            "justify_content": null,
            "justify_items": null,
            "left": null,
            "margin": null,
            "max_height": null,
            "max_width": null,
            "min_height": null,
            "min_width": null,
            "object_fit": null,
            "object_position": null,
            "order": null,
            "overflow": null,
            "overflow_x": null,
            "overflow_y": null,
            "padding": null,
            "right": null,
            "top": null,
            "visibility": null,
            "width": null
          }
        },
        "b9e6b02ad46e49b6a4dc291a31d7da0b": {
          "model_module": "@jupyter-widgets/controls",
          "model_name": "DescriptionStyleModel",
          "model_module_version": "1.5.0",
          "state": {
            "_model_module": "@jupyter-widgets/controls",
            "_model_module_version": "1.5.0",
            "_model_name": "DescriptionStyleModel",
            "_view_count": null,
            "_view_module": "@jupyter-widgets/base",
            "_view_module_version": "1.2.0",
            "_view_name": "StyleView",
            "description_width": ""
          }
        },
        "cfe9221477ef4cb6a04f320cc3e0e9bd": {
          "model_module": "@jupyter-widgets/controls",
          "model_name": "HBoxModel",
          "model_module_version": "1.5.0",
          "state": {
            "_dom_classes": [],
            "_model_module": "@jupyter-widgets/controls",
            "_model_module_version": "1.5.0",
            "_model_name": "HBoxModel",
            "_view_count": null,
            "_view_module": "@jupyter-widgets/controls",
            "_view_module_version": "1.5.0",
            "_view_name": "HBoxView",
            "box_style": "",
            "children": [
              "IPY_MODEL_85f9914fa120403fb0cf4176fcf4ac4f",
              "IPY_MODEL_d1022c407d81486bbac97824c583e9e3",
              "IPY_MODEL_bb7d8e6514a34c48bbb7b404eef1bb9b"
            ],
            "layout": "IPY_MODEL_2ecf6d9cbc9e42ecbea0c13c1365830d"
          }
        },
        "85f9914fa120403fb0cf4176fcf4ac4f": {
          "model_module": "@jupyter-widgets/controls",
          "model_name": "HTMLModel",
          "model_module_version": "1.5.0",
          "state": {
            "_dom_classes": [],
            "_model_module": "@jupyter-widgets/controls",
            "_model_module_version": "1.5.0",
            "_model_name": "HTMLModel",
            "_view_count": null,
            "_view_module": "@jupyter-widgets/controls",
            "_view_module_version": "1.5.0",
            "_view_name": "HTMLView",
            "description": "",
            "description_tooltip": null,
            "layout": "IPY_MODEL_e8c9242ea3cf4a31912c8ba08eaeb379",
            "placeholder": "​",
            "style": "IPY_MODEL_d81a3ac55b774990908165ca09d5b281",
            "value": "config.json: 100%"
          }
        },
        "d1022c407d81486bbac97824c583e9e3": {
          "model_module": "@jupyter-widgets/controls",
          "model_name": "FloatProgressModel",
          "model_module_version": "1.5.0",
          "state": {
            "_dom_classes": [],
            "_model_module": "@jupyter-widgets/controls",
            "_model_module_version": "1.5.0",
            "_model_name": "FloatProgressModel",
            "_view_count": null,
            "_view_module": "@jupyter-widgets/controls",
            "_view_module_version": "1.5.0",
            "_view_name": "ProgressView",
            "bar_style": "success",
            "description": "",
            "description_tooltip": null,
            "layout": "IPY_MODEL_ee58b621717d4a7b854596a9d6fbf387",
            "max": 665,
            "min": 0,
            "orientation": "horizontal",
            "style": "IPY_MODEL_90a5869d2a9f4ab8827400208b815f90",
            "value": 665
          }
        },
        "bb7d8e6514a34c48bbb7b404eef1bb9b": {
          "model_module": "@jupyter-widgets/controls",
          "model_name": "HTMLModel",
          "model_module_version": "1.5.0",
          "state": {
            "_dom_classes": [],
            "_model_module": "@jupyter-widgets/controls",
            "_model_module_version": "1.5.0",
            "_model_name": "HTMLModel",
            "_view_count": null,
            "_view_module": "@jupyter-widgets/controls",
            "_view_module_version": "1.5.0",
            "_view_name": "HTMLView",
            "description": "",
            "description_tooltip": null,
            "layout": "IPY_MODEL_e15df1c5c1b944639036781853b4913d",
            "placeholder": "​",
            "style": "IPY_MODEL_a297967078914c09a46ef828335a6cd2",
            "value": " 665/665 [00:00&lt;00:00, 42.8kB/s]"
          }
        },
        "2ecf6d9cbc9e42ecbea0c13c1365830d": {
          "model_module": "@jupyter-widgets/base",
          "model_name": "LayoutModel",
          "model_module_version": "1.2.0",
          "state": {
            "_model_module": "@jupyter-widgets/base",
            "_model_module_version": "1.2.0",
            "_model_name": "LayoutModel",
            "_view_count": null,
            "_view_module": "@jupyter-widgets/base",
            "_view_module_version": "1.2.0",
            "_view_name": "LayoutView",
            "align_content": null,
            "align_items": null,
            "align_self": null,
            "border": null,
            "bottom": null,
            "display": null,
            "flex": null,
            "flex_flow": null,
            "grid_area": null,
            "grid_auto_columns": null,
            "grid_auto_flow": null,
            "grid_auto_rows": null,
            "grid_column": null,
            "grid_gap": null,
            "grid_row": null,
            "grid_template_areas": null,
            "grid_template_columns": null,
            "grid_template_rows": null,
            "height": null,
            "justify_content": null,
            "justify_items": null,
            "left": null,
            "margin": null,
            "max_height": null,
            "max_width": null,
            "min_height": null,
            "min_width": null,
            "object_fit": null,
            "object_position": null,
            "order": null,
            "overflow": null,
            "overflow_x": null,
            "overflow_y": null,
            "padding": null,
            "right": null,
            "top": null,
            "visibility": null,
            "width": null
          }
        },
        "e8c9242ea3cf4a31912c8ba08eaeb379": {
          "model_module": "@jupyter-widgets/base",
          "model_name": "LayoutModel",
          "model_module_version": "1.2.0",
          "state": {
            "_model_module": "@jupyter-widgets/base",
            "_model_module_version": "1.2.0",
            "_model_name": "LayoutModel",
            "_view_count": null,
            "_view_module": "@jupyter-widgets/base",
            "_view_module_version": "1.2.0",
            "_view_name": "LayoutView",
            "align_content": null,
            "align_items": null,
            "align_self": null,
            "border": null,
            "bottom": null,
            "display": null,
            "flex": null,
            "flex_flow": null,
            "grid_area": null,
            "grid_auto_columns": null,
            "grid_auto_flow": null,
            "grid_auto_rows": null,
            "grid_column": null,
            "grid_gap": null,
            "grid_row": null,
            "grid_template_areas": null,
            "grid_template_columns": null,
            "grid_template_rows": null,
            "height": null,
            "justify_content": null,
            "justify_items": null,
            "left": null,
            "margin": null,
            "max_height": null,
            "max_width": null,
            "min_height": null,
            "min_width": null,
            "object_fit": null,
            "object_position": null,
            "order": null,
            "overflow": null,
            "overflow_x": null,
            "overflow_y": null,
            "padding": null,
            "right": null,
            "top": null,
            "visibility": null,
            "width": null
          }
        },
        "d81a3ac55b774990908165ca09d5b281": {
          "model_module": "@jupyter-widgets/controls",
          "model_name": "DescriptionStyleModel",
          "model_module_version": "1.5.0",
          "state": {
            "_model_module": "@jupyter-widgets/controls",
            "_model_module_version": "1.5.0",
            "_model_name": "DescriptionStyleModel",
            "_view_count": null,
            "_view_module": "@jupyter-widgets/base",
            "_view_module_version": "1.2.0",
            "_view_name": "StyleView",
            "description_width": ""
          }
        },
        "ee58b621717d4a7b854596a9d6fbf387": {
          "model_module": "@jupyter-widgets/base",
          "model_name": "LayoutModel",
          "model_module_version": "1.2.0",
          "state": {
            "_model_module": "@jupyter-widgets/base",
            "_model_module_version": "1.2.0",
            "_model_name": "LayoutModel",
            "_view_count": null,
            "_view_module": "@jupyter-widgets/base",
            "_view_module_version": "1.2.0",
            "_view_name": "LayoutView",
            "align_content": null,
            "align_items": null,
            "align_self": null,
            "border": null,
            "bottom": null,
            "display": null,
            "flex": null,
            "flex_flow": null,
            "grid_area": null,
            "grid_auto_columns": null,
            "grid_auto_flow": null,
            "grid_auto_rows": null,
            "grid_column": null,
            "grid_gap": null,
            "grid_row": null,
            "grid_template_areas": null,
            "grid_template_columns": null,
            "grid_template_rows": null,
            "height": null,
            "justify_content": null,
            "justify_items": null,
            "left": null,
            "margin": null,
            "max_height": null,
            "max_width": null,
            "min_height": null,
            "min_width": null,
            "object_fit": null,
            "object_position": null,
            "order": null,
            "overflow": null,
            "overflow_x": null,
            "overflow_y": null,
            "padding": null,
            "right": null,
            "top": null,
            "visibility": null,
            "width": null
          }
        },
        "90a5869d2a9f4ab8827400208b815f90": {
          "model_module": "@jupyter-widgets/controls",
          "model_name": "ProgressStyleModel",
          "model_module_version": "1.5.0",
          "state": {
            "_model_module": "@jupyter-widgets/controls",
            "_model_module_version": "1.5.0",
            "_model_name": "ProgressStyleModel",
            "_view_count": null,
            "_view_module": "@jupyter-widgets/base",
            "_view_module_version": "1.2.0",
            "_view_name": "StyleView",
            "bar_color": null,
            "description_width": ""
          }
        },
        "e15df1c5c1b944639036781853b4913d": {
          "model_module": "@jupyter-widgets/base",
          "model_name": "LayoutModel",
          "model_module_version": "1.2.0",
          "state": {
            "_model_module": "@jupyter-widgets/base",
            "_model_module_version": "1.2.0",
            "_model_name": "LayoutModel",
            "_view_count": null,
            "_view_module": "@jupyter-widgets/base",
            "_view_module_version": "1.2.0",
            "_view_name": "LayoutView",
            "align_content": null,
            "align_items": null,
            "align_self": null,
            "border": null,
            "bottom": null,
            "display": null,
            "flex": null,
            "flex_flow": null,
            "grid_area": null,
            "grid_auto_columns": null,
            "grid_auto_flow": null,
            "grid_auto_rows": null,
            "grid_column": null,
            "grid_gap": null,
            "grid_row": null,
            "grid_template_areas": null,
            "grid_template_columns": null,
            "grid_template_rows": null,
            "height": null,
            "justify_content": null,
            "justify_items": null,
            "left": null,
            "margin": null,
            "max_height": null,
            "max_width": null,
            "min_height": null,
            "min_width": null,
            "object_fit": null,
            "object_position": null,
            "order": null,
            "overflow": null,
            "overflow_x": null,
            "overflow_y": null,
            "padding": null,
            "right": null,
            "top": null,
            "visibility": null,
            "width": null
          }
        },
        "a297967078914c09a46ef828335a6cd2": {
          "model_module": "@jupyter-widgets/controls",
          "model_name": "DescriptionStyleModel",
          "model_module_version": "1.5.0",
          "state": {
            "_model_module": "@jupyter-widgets/controls",
            "_model_module_version": "1.5.0",
            "_model_name": "DescriptionStyleModel",
            "_view_count": null,
            "_view_module": "@jupyter-widgets/base",
            "_view_module_version": "1.2.0",
            "_view_name": "StyleView",
            "description_width": ""
          }
        },
        "38062086192c40f0910734cd95bddffa": {
          "model_module": "@jupyter-widgets/controls",
          "model_name": "HBoxModel",
          "model_module_version": "1.5.0",
          "state": {
            "_dom_classes": [],
            "_model_module": "@jupyter-widgets/controls",
            "_model_module_version": "1.5.0",
            "_model_name": "HBoxModel",
            "_view_count": null,
            "_view_module": "@jupyter-widgets/controls",
            "_view_module_version": "1.5.0",
            "_view_name": "HBoxView",
            "box_style": "",
            "children": [
              "IPY_MODEL_08a0a59e968a46d9a84aeb48eb3cc35e",
              "IPY_MODEL_0e040fb744014a9a9ebb8f72a0166458",
              "IPY_MODEL_519b24a47bad4b0c9d4187cd87708d8f"
            ],
            "layout": "IPY_MODEL_02e55b6cbfbb4724a07571db49be18f8"
          }
        },
        "08a0a59e968a46d9a84aeb48eb3cc35e": {
          "model_module": "@jupyter-widgets/controls",
          "model_name": "HTMLModel",
          "model_module_version": "1.5.0",
          "state": {
            "_dom_classes": [],
            "_model_module": "@jupyter-widgets/controls",
            "_model_module_version": "1.5.0",
            "_model_name": "HTMLModel",
            "_view_count": null,
            "_view_module": "@jupyter-widgets/controls",
            "_view_module_version": "1.5.0",
            "_view_name": "HTMLView",
            "description": "",
            "description_tooltip": null,
            "layout": "IPY_MODEL_c9d552e48fe34815af6db4708b4026f7",
            "placeholder": "​",
            "style": "IPY_MODEL_1b420d2c155d40ab8c4c427b1b9ca9e1",
            "value": "vocab.json: 100%"
          }
        },
        "0e040fb744014a9a9ebb8f72a0166458": {
          "model_module": "@jupyter-widgets/controls",
          "model_name": "FloatProgressModel",
          "model_module_version": "1.5.0",
          "state": {
            "_dom_classes": [],
            "_model_module": "@jupyter-widgets/controls",
            "_model_module_version": "1.5.0",
            "_model_name": "FloatProgressModel",
            "_view_count": null,
            "_view_module": "@jupyter-widgets/controls",
            "_view_module_version": "1.5.0",
            "_view_name": "ProgressView",
            "bar_style": "success",
            "description": "",
            "description_tooltip": null,
            "layout": "IPY_MODEL_cf647452293a4096be85e9bfaa91c04c",
            "max": 1042301,
            "min": 0,
            "orientation": "horizontal",
            "style": "IPY_MODEL_949b6f8300d5484f8daf021d4d225bea",
            "value": 1042301
          }
        },
        "519b24a47bad4b0c9d4187cd87708d8f": {
          "model_module": "@jupyter-widgets/controls",
          "model_name": "HTMLModel",
          "model_module_version": "1.5.0",
          "state": {
            "_dom_classes": [],
            "_model_module": "@jupyter-widgets/controls",
            "_model_module_version": "1.5.0",
            "_model_name": "HTMLModel",
            "_view_count": null,
            "_view_module": "@jupyter-widgets/controls",
            "_view_module_version": "1.5.0",
            "_view_name": "HTMLView",
            "description": "",
            "description_tooltip": null,
            "layout": "IPY_MODEL_205776bc129f4b7888ed3c7169300ec2",
            "placeholder": "​",
            "style": "IPY_MODEL_3ee49d92d67543c2ae6badeb406ba472",
            "value": " 1.04M/1.04M [00:00&lt;00:00, 23.4MB/s]"
          }
        },
        "02e55b6cbfbb4724a07571db49be18f8": {
          "model_module": "@jupyter-widgets/base",
          "model_name": "LayoutModel",
          "model_module_version": "1.2.0",
          "state": {
            "_model_module": "@jupyter-widgets/base",
            "_model_module_version": "1.2.0",
            "_model_name": "LayoutModel",
            "_view_count": null,
            "_view_module": "@jupyter-widgets/base",
            "_view_module_version": "1.2.0",
            "_view_name": "LayoutView",
            "align_content": null,
            "align_items": null,
            "align_self": null,
            "border": null,
            "bottom": null,
            "display": null,
            "flex": null,
            "flex_flow": null,
            "grid_area": null,
            "grid_auto_columns": null,
            "grid_auto_flow": null,
            "grid_auto_rows": null,
            "grid_column": null,
            "grid_gap": null,
            "grid_row": null,
            "grid_template_areas": null,
            "grid_template_columns": null,
            "grid_template_rows": null,
            "height": null,
            "justify_content": null,
            "justify_items": null,
            "left": null,
            "margin": null,
            "max_height": null,
            "max_width": null,
            "min_height": null,
            "min_width": null,
            "object_fit": null,
            "object_position": null,
            "order": null,
            "overflow": null,
            "overflow_x": null,
            "overflow_y": null,
            "padding": null,
            "right": null,
            "top": null,
            "visibility": null,
            "width": null
          }
        },
        "c9d552e48fe34815af6db4708b4026f7": {
          "model_module": "@jupyter-widgets/base",
          "model_name": "LayoutModel",
          "model_module_version": "1.2.0",
          "state": {
            "_model_module": "@jupyter-widgets/base",
            "_model_module_version": "1.2.0",
            "_model_name": "LayoutModel",
            "_view_count": null,
            "_view_module": "@jupyter-widgets/base",
            "_view_module_version": "1.2.0",
            "_view_name": "LayoutView",
            "align_content": null,
            "align_items": null,
            "align_self": null,
            "border": null,
            "bottom": null,
            "display": null,
            "flex": null,
            "flex_flow": null,
            "grid_area": null,
            "grid_auto_columns": null,
            "grid_auto_flow": null,
            "grid_auto_rows": null,
            "grid_column": null,
            "grid_gap": null,
            "grid_row": null,
            "grid_template_areas": null,
            "grid_template_columns": null,
            "grid_template_rows": null,
            "height": null,
            "justify_content": null,
            "justify_items": null,
            "left": null,
            "margin": null,
            "max_height": null,
            "max_width": null,
            "min_height": null,
            "min_width": null,
            "object_fit": null,
            "object_position": null,
            "order": null,
            "overflow": null,
            "overflow_x": null,
            "overflow_y": null,
            "padding": null,
            "right": null,
            "top": null,
            "visibility": null,
            "width": null
          }
        },
        "1b420d2c155d40ab8c4c427b1b9ca9e1": {
          "model_module": "@jupyter-widgets/controls",
          "model_name": "DescriptionStyleModel",
          "model_module_version": "1.5.0",
          "state": {
            "_model_module": "@jupyter-widgets/controls",
            "_model_module_version": "1.5.0",
            "_model_name": "DescriptionStyleModel",
            "_view_count": null,
            "_view_module": "@jupyter-widgets/base",
            "_view_module_version": "1.2.0",
            "_view_name": "StyleView",
            "description_width": ""
          }
        },
        "cf647452293a4096be85e9bfaa91c04c": {
          "model_module": "@jupyter-widgets/base",
          "model_name": "LayoutModel",
          "model_module_version": "1.2.0",
          "state": {
            "_model_module": "@jupyter-widgets/base",
            "_model_module_version": "1.2.0",
            "_model_name": "LayoutModel",
            "_view_count": null,
            "_view_module": "@jupyter-widgets/base",
            "_view_module_version": "1.2.0",
            "_view_name": "LayoutView",
            "align_content": null,
            "align_items": null,
            "align_self": null,
            "border": null,
            "bottom": null,
            "display": null,
            "flex": null,
            "flex_flow": null,
            "grid_area": null,
            "grid_auto_columns": null,
            "grid_auto_flow": null,
            "grid_auto_rows": null,
            "grid_column": null,
            "grid_gap": null,
            "grid_row": null,
            "grid_template_areas": null,
            "grid_template_columns": null,
            "grid_template_rows": null,
            "height": null,
            "justify_content": null,
            "justify_items": null,
            "left": null,
            "margin": null,
            "max_height": null,
            "max_width": null,
            "min_height": null,
            "min_width": null,
            "object_fit": null,
            "object_position": null,
            "order": null,
            "overflow": null,
            "overflow_x": null,
            "overflow_y": null,
            "padding": null,
            "right": null,
            "top": null,
            "visibility": null,
            "width": null
          }
        },
        "949b6f8300d5484f8daf021d4d225bea": {
          "model_module": "@jupyter-widgets/controls",
          "model_name": "ProgressStyleModel",
          "model_module_version": "1.5.0",
          "state": {
            "_model_module": "@jupyter-widgets/controls",
            "_model_module_version": "1.5.0",
            "_model_name": "ProgressStyleModel",
            "_view_count": null,
            "_view_module": "@jupyter-widgets/base",
            "_view_module_version": "1.2.0",
            "_view_name": "StyleView",
            "bar_color": null,
            "description_width": ""
          }
        },
        "205776bc129f4b7888ed3c7169300ec2": {
          "model_module": "@jupyter-widgets/base",
          "model_name": "LayoutModel",
          "model_module_version": "1.2.0",
          "state": {
            "_model_module": "@jupyter-widgets/base",
            "_model_module_version": "1.2.0",
            "_model_name": "LayoutModel",
            "_view_count": null,
            "_view_module": "@jupyter-widgets/base",
            "_view_module_version": "1.2.0",
            "_view_name": "LayoutView",
            "align_content": null,
            "align_items": null,
            "align_self": null,
            "border": null,
            "bottom": null,
            "display": null,
            "flex": null,
            "flex_flow": null,
            "grid_area": null,
            "grid_auto_columns": null,
            "grid_auto_flow": null,
            "grid_auto_rows": null,
            "grid_column": null,
            "grid_gap": null,
            "grid_row": null,
            "grid_template_areas": null,
            "grid_template_columns": null,
            "grid_template_rows": null,
            "height": null,
            "justify_content": null,
            "justify_items": null,
            "left": null,
            "margin": null,
            "max_height": null,
            "max_width": null,
            "min_height": null,
            "min_width": null,
            "object_fit": null,
            "object_position": null,
            "order": null,
            "overflow": null,
            "overflow_x": null,
            "overflow_y": null,
            "padding": null,
            "right": null,
            "top": null,
            "visibility": null,
            "width": null
          }
        },
        "3ee49d92d67543c2ae6badeb406ba472": {
          "model_module": "@jupyter-widgets/controls",
          "model_name": "DescriptionStyleModel",
          "model_module_version": "1.5.0",
          "state": {
            "_model_module": "@jupyter-widgets/controls",
            "_model_module_version": "1.5.0",
            "_model_name": "DescriptionStyleModel",
            "_view_count": null,
            "_view_module": "@jupyter-widgets/base",
            "_view_module_version": "1.2.0",
            "_view_name": "StyleView",
            "description_width": ""
          }
        },
        "1416356df5d54e7db2a7a865f795c9b8": {
          "model_module": "@jupyter-widgets/controls",
          "model_name": "HBoxModel",
          "model_module_version": "1.5.0",
          "state": {
            "_dom_classes": [],
            "_model_module": "@jupyter-widgets/controls",
            "_model_module_version": "1.5.0",
            "_model_name": "HBoxModel",
            "_view_count": null,
            "_view_module": "@jupyter-widgets/controls",
            "_view_module_version": "1.5.0",
            "_view_name": "HBoxView",
            "box_style": "",
            "children": [
              "IPY_MODEL_cd9f556e5e314c22834f77d1f5d033c7",
              "IPY_MODEL_9a3cda90ee1f41138e0f40e60563a20d",
              "IPY_MODEL_7aa3d15355df48d79281be697c70e97a"
            ],
            "layout": "IPY_MODEL_b71ae7836d27494eb496027052f280f0"
          }
        },
        "cd9f556e5e314c22834f77d1f5d033c7": {
          "model_module": "@jupyter-widgets/controls",
          "model_name": "HTMLModel",
          "model_module_version": "1.5.0",
          "state": {
            "_dom_classes": [],
            "_model_module": "@jupyter-widgets/controls",
            "_model_module_version": "1.5.0",
            "_model_name": "HTMLModel",
            "_view_count": null,
            "_view_module": "@jupyter-widgets/controls",
            "_view_module_version": "1.5.0",
            "_view_name": "HTMLView",
            "description": "",
            "description_tooltip": null,
            "layout": "IPY_MODEL_c62781f7bcc64d0cb4b23e5835c615d5",
            "placeholder": "​",
            "style": "IPY_MODEL_f0d2cbcd27ef490c81ac4f9684a0cad9",
            "value": "merges.txt: 100%"
          }
        },
        "9a3cda90ee1f41138e0f40e60563a20d": {
          "model_module": "@jupyter-widgets/controls",
          "model_name": "FloatProgressModel",
          "model_module_version": "1.5.0",
          "state": {
            "_dom_classes": [],
            "_model_module": "@jupyter-widgets/controls",
            "_model_module_version": "1.5.0",
            "_model_name": "FloatProgressModel",
            "_view_count": null,
            "_view_module": "@jupyter-widgets/controls",
            "_view_module_version": "1.5.0",
            "_view_name": "ProgressView",
            "bar_style": "success",
            "description": "",
            "description_tooltip": null,
            "layout": "IPY_MODEL_0a4a0aedbb45451489b6e320517c07c4",
            "max": 456318,
            "min": 0,
            "orientation": "horizontal",
            "style": "IPY_MODEL_c547fe1e59b0428bb4007c10cbbc35c1",
            "value": 456318
          }
        },
        "7aa3d15355df48d79281be697c70e97a": {
          "model_module": "@jupyter-widgets/controls",
          "model_name": "HTMLModel",
          "model_module_version": "1.5.0",
          "state": {
            "_dom_classes": [],
            "_model_module": "@jupyter-widgets/controls",
            "_model_module_version": "1.5.0",
            "_model_name": "HTMLModel",
            "_view_count": null,
            "_view_module": "@jupyter-widgets/controls",
            "_view_module_version": "1.5.0",
            "_view_name": "HTMLView",
            "description": "",
            "description_tooltip": null,
            "layout": "IPY_MODEL_088bd126c16c4b07850eb2c44eee04a3",
            "placeholder": "​",
            "style": "IPY_MODEL_a71932add665481eb4d8edca95f56876",
            "value": " 456k/456k [00:00&lt;00:00, 38.5MB/s]"
          }
        },
        "b71ae7836d27494eb496027052f280f0": {
          "model_module": "@jupyter-widgets/base",
          "model_name": "LayoutModel",
          "model_module_version": "1.2.0",
          "state": {
            "_model_module": "@jupyter-widgets/base",
            "_model_module_version": "1.2.0",
            "_model_name": "LayoutModel",
            "_view_count": null,
            "_view_module": "@jupyter-widgets/base",
            "_view_module_version": "1.2.0",
            "_view_name": "LayoutView",
            "align_content": null,
            "align_items": null,
            "align_self": null,
            "border": null,
            "bottom": null,
            "display": null,
            "flex": null,
            "flex_flow": null,
            "grid_area": null,
            "grid_auto_columns": null,
            "grid_auto_flow": null,
            "grid_auto_rows": null,
            "grid_column": null,
            "grid_gap": null,
            "grid_row": null,
            "grid_template_areas": null,
            "grid_template_columns": null,
            "grid_template_rows": null,
            "height": null,
            "justify_content": null,
            "justify_items": null,
            "left": null,
            "margin": null,
            "max_height": null,
            "max_width": null,
            "min_height": null,
            "min_width": null,
            "object_fit": null,
            "object_position": null,
            "order": null,
            "overflow": null,
            "overflow_x": null,
            "overflow_y": null,
            "padding": null,
            "right": null,
            "top": null,
            "visibility": null,
            "width": null
          }
        },
        "c62781f7bcc64d0cb4b23e5835c615d5": {
          "model_module": "@jupyter-widgets/base",
          "model_name": "LayoutModel",
          "model_module_version": "1.2.0",
          "state": {
            "_model_module": "@jupyter-widgets/base",
            "_model_module_version": "1.2.0",
            "_model_name": "LayoutModel",
            "_view_count": null,
            "_view_module": "@jupyter-widgets/base",
            "_view_module_version": "1.2.0",
            "_view_name": "LayoutView",
            "align_content": null,
            "align_items": null,
            "align_self": null,
            "border": null,
            "bottom": null,
            "display": null,
            "flex": null,
            "flex_flow": null,
            "grid_area": null,
            "grid_auto_columns": null,
            "grid_auto_flow": null,
            "grid_auto_rows": null,
            "grid_column": null,
            "grid_gap": null,
            "grid_row": null,
            "grid_template_areas": null,
            "grid_template_columns": null,
            "grid_template_rows": null,
            "height": null,
            "justify_content": null,
            "justify_items": null,
            "left": null,
            "margin": null,
            "max_height": null,
            "max_width": null,
            "min_height": null,
            "min_width": null,
            "object_fit": null,
            "object_position": null,
            "order": null,
            "overflow": null,
            "overflow_x": null,
            "overflow_y": null,
            "padding": null,
            "right": null,
            "top": null,
            "visibility": null,
            "width": null
          }
        },
        "f0d2cbcd27ef490c81ac4f9684a0cad9": {
          "model_module": "@jupyter-widgets/controls",
          "model_name": "DescriptionStyleModel",
          "model_module_version": "1.5.0",
          "state": {
            "_model_module": "@jupyter-widgets/controls",
            "_model_module_version": "1.5.0",
            "_model_name": "DescriptionStyleModel",
            "_view_count": null,
            "_view_module": "@jupyter-widgets/base",
            "_view_module_version": "1.2.0",
            "_view_name": "StyleView",
            "description_width": ""
          }
        },
        "0a4a0aedbb45451489b6e320517c07c4": {
          "model_module": "@jupyter-widgets/base",
          "model_name": "LayoutModel",
          "model_module_version": "1.2.0",
          "state": {
            "_model_module": "@jupyter-widgets/base",
            "_model_module_version": "1.2.0",
            "_model_name": "LayoutModel",
            "_view_count": null,
            "_view_module": "@jupyter-widgets/base",
            "_view_module_version": "1.2.0",
            "_view_name": "LayoutView",
            "align_content": null,
            "align_items": null,
            "align_self": null,
            "border": null,
            "bottom": null,
            "display": null,
            "flex": null,
            "flex_flow": null,
            "grid_area": null,
            "grid_auto_columns": null,
            "grid_auto_flow": null,
            "grid_auto_rows": null,
            "grid_column": null,
            "grid_gap": null,
            "grid_row": null,
            "grid_template_areas": null,
            "grid_template_columns": null,
            "grid_template_rows": null,
            "height": null,
            "justify_content": null,
            "justify_items": null,
            "left": null,
            "margin": null,
            "max_height": null,
            "max_width": null,
            "min_height": null,
            "min_width": null,
            "object_fit": null,
            "object_position": null,
            "order": null,
            "overflow": null,
            "overflow_x": null,
            "overflow_y": null,
            "padding": null,
            "right": null,
            "top": null,
            "visibility": null,
            "width": null
          }
        },
        "c547fe1e59b0428bb4007c10cbbc35c1": {
          "model_module": "@jupyter-widgets/controls",
          "model_name": "ProgressStyleModel",
          "model_module_version": "1.5.0",
          "state": {
            "_model_module": "@jupyter-widgets/controls",
            "_model_module_version": "1.5.0",
            "_model_name": "ProgressStyleModel",
            "_view_count": null,
            "_view_module": "@jupyter-widgets/base",
            "_view_module_version": "1.2.0",
            "_view_name": "StyleView",
            "bar_color": null,
            "description_width": ""
          }
        },
        "088bd126c16c4b07850eb2c44eee04a3": {
          "model_module": "@jupyter-widgets/base",
          "model_name": "LayoutModel",
          "model_module_version": "1.2.0",
          "state": {
            "_model_module": "@jupyter-widgets/base",
            "_model_module_version": "1.2.0",
            "_model_name": "LayoutModel",
            "_view_count": null,
            "_view_module": "@jupyter-widgets/base",
            "_view_module_version": "1.2.0",
            "_view_name": "LayoutView",
            "align_content": null,
            "align_items": null,
            "align_self": null,
            "border": null,
            "bottom": null,
            "display": null,
            "flex": null,
            "flex_flow": null,
            "grid_area": null,
            "grid_auto_columns": null,
            "grid_auto_flow": null,
            "grid_auto_rows": null,
            "grid_column": null,
            "grid_gap": null,
            "grid_row": null,
            "grid_template_areas": null,
            "grid_template_columns": null,
            "grid_template_rows": null,
            "height": null,
            "justify_content": null,
            "justify_items": null,
            "left": null,
            "margin": null,
            "max_height": null,
            "max_width": null,
            "min_height": null,
            "min_width": null,
            "object_fit": null,
            "object_position": null,
            "order": null,
            "overflow": null,
            "overflow_x": null,
            "overflow_y": null,
            "padding": null,
            "right": null,
            "top": null,
            "visibility": null,
            "width": null
          }
        },
        "a71932add665481eb4d8edca95f56876": {
          "model_module": "@jupyter-widgets/controls",
          "model_name": "DescriptionStyleModel",
          "model_module_version": "1.5.0",
          "state": {
            "_model_module": "@jupyter-widgets/controls",
            "_model_module_version": "1.5.0",
            "_model_name": "DescriptionStyleModel",
            "_view_count": null,
            "_view_module": "@jupyter-widgets/base",
            "_view_module_version": "1.2.0",
            "_view_name": "StyleView",
            "description_width": ""
          }
        },
        "118f0ac37ebd4a40abc6c8a560f07085": {
          "model_module": "@jupyter-widgets/controls",
          "model_name": "HBoxModel",
          "model_module_version": "1.5.0",
          "state": {
            "_dom_classes": [],
            "_model_module": "@jupyter-widgets/controls",
            "_model_module_version": "1.5.0",
            "_model_name": "HBoxModel",
            "_view_count": null,
            "_view_module": "@jupyter-widgets/controls",
            "_view_module_version": "1.5.0",
            "_view_name": "HBoxView",
            "box_style": "",
            "children": [
              "IPY_MODEL_a226289940694759a905aa8c6ebf6245",
              "IPY_MODEL_ae6094d361894210baa538ab5c67b71d",
              "IPY_MODEL_d58fc48ba5ee4bc3be58c2eb04a64970"
            ],
            "layout": "IPY_MODEL_8bc9e44c224e4a67ae14996464b58e1b"
          }
        },
        "a226289940694759a905aa8c6ebf6245": {
          "model_module": "@jupyter-widgets/controls",
          "model_name": "HTMLModel",
          "model_module_version": "1.5.0",
          "state": {
            "_dom_classes": [],
            "_model_module": "@jupyter-widgets/controls",
            "_model_module_version": "1.5.0",
            "_model_name": "HTMLModel",
            "_view_count": null,
            "_view_module": "@jupyter-widgets/controls",
            "_view_module_version": "1.5.0",
            "_view_name": "HTMLView",
            "description": "",
            "description_tooltip": null,
            "layout": "IPY_MODEL_bfd7a4b126c44e5583799a6841ad4f1c",
            "placeholder": "​",
            "style": "IPY_MODEL_0ef5e27d76e84ce79dbe2297fe73d551",
            "value": "tokenizer.json: 100%"
          }
        },
        "ae6094d361894210baa538ab5c67b71d": {
          "model_module": "@jupyter-widgets/controls",
          "model_name": "FloatProgressModel",
          "model_module_version": "1.5.0",
          "state": {
            "_dom_classes": [],
            "_model_module": "@jupyter-widgets/controls",
            "_model_module_version": "1.5.0",
            "_model_name": "FloatProgressModel",
            "_view_count": null,
            "_view_module": "@jupyter-widgets/controls",
            "_view_module_version": "1.5.0",
            "_view_name": "ProgressView",
            "bar_style": "success",
            "description": "",
            "description_tooltip": null,
            "layout": "IPY_MODEL_2f6dd04612584d81884a41cc5593787a",
            "max": 1355256,
            "min": 0,
            "orientation": "horizontal",
            "style": "IPY_MODEL_a78ffd6c54004a3fa1af4e7764b0de93",
            "value": 1355256
          }
        },
        "d58fc48ba5ee4bc3be58c2eb04a64970": {
          "model_module": "@jupyter-widgets/controls",
          "model_name": "HTMLModel",
          "model_module_version": "1.5.0",
          "state": {
            "_dom_classes": [],
            "_model_module": "@jupyter-widgets/controls",
            "_model_module_version": "1.5.0",
            "_model_name": "HTMLModel",
            "_view_count": null,
            "_view_module": "@jupyter-widgets/controls",
            "_view_module_version": "1.5.0",
            "_view_name": "HTMLView",
            "description": "",
            "description_tooltip": null,
            "layout": "IPY_MODEL_c6c46f1df5dc4db690f6d8625d9c6b6e",
            "placeholder": "​",
            "style": "IPY_MODEL_55110e23913c4ac692c0a2f2d2735a7c",
            "value": " 1.36M/1.36M [00:00&lt;00:00, 5.77MB/s]"
          }
        },
        "8bc9e44c224e4a67ae14996464b58e1b": {
          "model_module": "@jupyter-widgets/base",
          "model_name": "LayoutModel",
          "model_module_version": "1.2.0",
          "state": {
            "_model_module": "@jupyter-widgets/base",
            "_model_module_version": "1.2.0",
            "_model_name": "LayoutModel",
            "_view_count": null,
            "_view_module": "@jupyter-widgets/base",
            "_view_module_version": "1.2.0",
            "_view_name": "LayoutView",
            "align_content": null,
            "align_items": null,
            "align_self": null,
            "border": null,
            "bottom": null,
            "display": null,
            "flex": null,
            "flex_flow": null,
            "grid_area": null,
            "grid_auto_columns": null,
            "grid_auto_flow": null,
            "grid_auto_rows": null,
            "grid_column": null,
            "grid_gap": null,
            "grid_row": null,
            "grid_template_areas": null,
            "grid_template_columns": null,
            "grid_template_rows": null,
            "height": null,
            "justify_content": null,
            "justify_items": null,
            "left": null,
            "margin": null,
            "max_height": null,
            "max_width": null,
            "min_height": null,
            "min_width": null,
            "object_fit": null,
            "object_position": null,
            "order": null,
            "overflow": null,
            "overflow_x": null,
            "overflow_y": null,
            "padding": null,
            "right": null,
            "top": null,
            "visibility": null,
            "width": null
          }
        },
        "bfd7a4b126c44e5583799a6841ad4f1c": {
          "model_module": "@jupyter-widgets/base",
          "model_name": "LayoutModel",
          "model_module_version": "1.2.0",
          "state": {
            "_model_module": "@jupyter-widgets/base",
            "_model_module_version": "1.2.0",
            "_model_name": "LayoutModel",
            "_view_count": null,
            "_view_module": "@jupyter-widgets/base",
            "_view_module_version": "1.2.0",
            "_view_name": "LayoutView",
            "align_content": null,
            "align_items": null,
            "align_self": null,
            "border": null,
            "bottom": null,
            "display": null,
            "flex": null,
            "flex_flow": null,
            "grid_area": null,
            "grid_auto_columns": null,
            "grid_auto_flow": null,
            "grid_auto_rows": null,
            "grid_column": null,
            "grid_gap": null,
            "grid_row": null,
            "grid_template_areas": null,
            "grid_template_columns": null,
            "grid_template_rows": null,
            "height": null,
            "justify_content": null,
            "justify_items": null,
            "left": null,
            "margin": null,
            "max_height": null,
            "max_width": null,
            "min_height": null,
            "min_width": null,
            "object_fit": null,
            "object_position": null,
            "order": null,
            "overflow": null,
            "overflow_x": null,
            "overflow_y": null,
            "padding": null,
            "right": null,
            "top": null,
            "visibility": null,
            "width": null
          }
        },
        "0ef5e27d76e84ce79dbe2297fe73d551": {
          "model_module": "@jupyter-widgets/controls",
          "model_name": "DescriptionStyleModel",
          "model_module_version": "1.5.0",
          "state": {
            "_model_module": "@jupyter-widgets/controls",
            "_model_module_version": "1.5.0",
            "_model_name": "DescriptionStyleModel",
            "_view_count": null,
            "_view_module": "@jupyter-widgets/base",
            "_view_module_version": "1.2.0",
            "_view_name": "StyleView",
            "description_width": ""
          }
        },
        "2f6dd04612584d81884a41cc5593787a": {
          "model_module": "@jupyter-widgets/base",
          "model_name": "LayoutModel",
          "model_module_version": "1.2.0",
          "state": {
            "_model_module": "@jupyter-widgets/base",
            "_model_module_version": "1.2.0",
            "_model_name": "LayoutModel",
            "_view_count": null,
            "_view_module": "@jupyter-widgets/base",
            "_view_module_version": "1.2.0",
            "_view_name": "LayoutView",
            "align_content": null,
            "align_items": null,
            "align_self": null,
            "border": null,
            "bottom": null,
            "display": null,
            "flex": null,
            "flex_flow": null,
            "grid_area": null,
            "grid_auto_columns": null,
            "grid_auto_flow": null,
            "grid_auto_rows": null,
            "grid_column": null,
            "grid_gap": null,
            "grid_row": null,
            "grid_template_areas": null,
            "grid_template_columns": null,
            "grid_template_rows": null,
            "height": null,
            "justify_content": null,
            "justify_items": null,
            "left": null,
            "margin": null,
            "max_height": null,
            "max_width": null,
            "min_height": null,
            "min_width": null,
            "object_fit": null,
            "object_position": null,
            "order": null,
            "overflow": null,
            "overflow_x": null,
            "overflow_y": null,
            "padding": null,
            "right": null,
            "top": null,
            "visibility": null,
            "width": null
          }
        },
        "a78ffd6c54004a3fa1af4e7764b0de93": {
          "model_module": "@jupyter-widgets/controls",
          "model_name": "ProgressStyleModel",
          "model_module_version": "1.5.0",
          "state": {
            "_model_module": "@jupyter-widgets/controls",
            "_model_module_version": "1.5.0",
            "_model_name": "ProgressStyleModel",
            "_view_count": null,
            "_view_module": "@jupyter-widgets/base",
            "_view_module_version": "1.2.0",
            "_view_name": "StyleView",
            "bar_color": null,
            "description_width": ""
          }
        },
        "c6c46f1df5dc4db690f6d8625d9c6b6e": {
          "model_module": "@jupyter-widgets/base",
          "model_name": "LayoutModel",
          "model_module_version": "1.2.0",
          "state": {
            "_model_module": "@jupyter-widgets/base",
            "_model_module_version": "1.2.0",
            "_model_name": "LayoutModel",
            "_view_count": null,
            "_view_module": "@jupyter-widgets/base",
            "_view_module_version": "1.2.0",
            "_view_name": "LayoutView",
            "align_content": null,
            "align_items": null,
            "align_self": null,
            "border": null,
            "bottom": null,
            "display": null,
            "flex": null,
            "flex_flow": null,
            "grid_area": null,
            "grid_auto_columns": null,
            "grid_auto_flow": null,
            "grid_auto_rows": null,
            "grid_column": null,
            "grid_gap": null,
            "grid_row": null,
            "grid_template_areas": null,
            "grid_template_columns": null,
            "grid_template_rows": null,
            "height": null,
            "justify_content": null,
            "justify_items": null,
            "left": null,
            "margin": null,
            "max_height": null,
            "max_width": null,
            "min_height": null,
            "min_width": null,
            "object_fit": null,
            "object_position": null,
            "order": null,
            "overflow": null,
            "overflow_x": null,
            "overflow_y": null,
            "padding": null,
            "right": null,
            "top": null,
            "visibility": null,
            "width": null
          }
        },
        "55110e23913c4ac692c0a2f2d2735a7c": {
          "model_module": "@jupyter-widgets/controls",
          "model_name": "DescriptionStyleModel",
          "model_module_version": "1.5.0",
          "state": {
            "_model_module": "@jupyter-widgets/controls",
            "_model_module_version": "1.5.0",
            "_model_name": "DescriptionStyleModel",
            "_view_count": null,
            "_view_module": "@jupyter-widgets/base",
            "_view_module_version": "1.2.0",
            "_view_name": "StyleView",
            "description_width": ""
          }
        }
      }
    }
  },
  "nbformat": 4,
  "nbformat_minor": 5
}