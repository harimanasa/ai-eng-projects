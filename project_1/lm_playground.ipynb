{
  "cells": [
    {
      "cell_type": "markdown",
      "id": "fe523821",
      "metadata": {
        "id": "fe523821"
      },
      "source": [
        "\n",
        "# Project 1: Build an LLM Playground\n",
        "\n",
        "Welcome! In this project, you’ll learn foundations of large language models (LLMs). We’ll keep the code minimal and the explanations high‑level so that anyone who can run a Python cell can follow along.  \n",
        "\n",
        "We'll be using Google Colab for this project. Colab is a free, browser-based platform that lets you run Python code and machine learning models without installing anything on your local computer. Click the button below to open this notebook directly in Google Colab and get started!\n"
      ]
    },
    {
      "cell_type": "markdown",
      "id": "fdb8584e",
      "metadata": {
        "id": "fdb8584e"
      },
      "source": [
        "[![Open In Colab](https://colab.research.google.com/assets/colab-badge.svg)](https://colab.research.google.com/github/bytebyteai/ai-eng-projects/blob/main/project_1/lm_playground.ipynb)"
      ]
    },
    {
      "cell_type": "markdown",
      "id": "08e82492",
      "metadata": {
        "id": "08e82492"
      },
      "source": [
        "---\n",
        "## Learning Objectives  \n",
        "* **Tokenization** and how raw text is tokenized into a sequene of discrete tokens\n",
        "* Inspect **GPT2** and **Transformer architecture**\n",
        "* Loading pre-trained LLMs using **Hugging Face**\n",
        "* **Decoding strategies** to generate text from LLMs\n",
        "* Completion versus **intrusction fine-tuned** LLMs\n",
        "\n",
        "\n",
        "Let's get started!"
      ]
    },
    {
      "cell_type": "code",
      "execution_count": 1,
      "id": "1235110e",
      "metadata": {
        "colab": {
          "base_uri": "https://localhost:8080/"
        },
        "id": "1235110e",
        "outputId": "be9d9f16-02fa-49ff-d126-ae8945b9e490"
      },
      "outputs": [
        {
          "output_type": "stream",
          "name": "stdout",
          "text": [
            "torch 2.8.0+cu126 | transformers 4.57.0\n"
          ]
        }
      ],
      "source": [
        "import torch, transformers, tiktoken\n",
        "print(\"torch\", torch.__version__, \"| transformers\", transformers.__version__)"
      ]
    },
    {
      "cell_type": "markdown",
      "id": "d4c1eb0b",
      "metadata": {
        "id": "d4c1eb0b"
      },
      "source": [
        "# 1 - Tokenization\n",
        "\n",
        "A neural network can’t digest raw text. They need **numbers**. Tokenization is the process of converting text into IDs. In this section, you'll learn how tokenization is implemented in practice.\n",
        "\n",
        "Tokenization methods generally fall into three categories:\n",
        "1. Word-level\n",
        "2. Character-level\n",
        "3. Subword-level"
      ]
    },
    {
      "cell_type": "markdown",
      "id": "1d234dc0",
      "metadata": {
        "id": "1d234dc0"
      },
      "source": [
        "### 1.1 - Word‑level tokenization\n",
        "\n",
        "Split text on whitespace and store each **word** as a token."
      ]
    },
    {
      "cell_type": "code",
      "execution_count": 25,
      "id": "d784a288",
      "metadata": {
        "colab": {
          "base_uri": "https://localhost:8080/"
        },
        "id": "d784a288",
        "outputId": "b6c09718-7c33-45ca-e9d5-84c5e6106f24"
      },
      "outputs": [
        {
          "output_type": "stream",
          "name": "stdout",
          "text": [
            "{0: '[PAD]', 1: '[UNK]', 2: 'tokenization', 3: 'converts', 4: 'dog', 5: 'jumps', 6: 'fox', 7: 'next', 8: 'large', 9: 'predict', 10: 'models', 11: 'to', 12: 'lazy', 13: 'over', 14: 'text', 15: 'language', 16: 'the', 17: 'token', 18: 'quick', 19: 'brown', 20: 'numbers'}\n",
            "Vocabulary size: 21 words\n",
            "First 15 vocab entries: ['[PAD]', '[UNK]', 'tokenization', 'converts', 'dog', 'jumps', 'fox', 'next', 'large', 'predict', 'models', 'to', 'lazy', 'over', 'text']\n",
            "encodingText =  [6, 5, 1]\n",
            "decodingText =  fox jumps [UNK]\n",
            "\n",
            "Input text : The brown unicorn jumps\n",
            "Token IDs  : [16, 19, 1, 5]\n",
            "Decoded    : the brown [UNK] jumps\n"
          ]
        }
      ],
      "source": [
        "# 1. Tiny corpus\n",
        "corpus = [\n",
        "    \"The quick brown fox jumps over the lazy dog\",\n",
        "    \"Tokenization converts text to numbers\",\n",
        "    \"Large language models predict the next token\"\n",
        "]\n",
        "\n",
        "# 2. Build the vocabulary\n",
        "PAD, UNK = \"[PAD]\", \"[UNK]\"\n",
        "\n",
        "\n",
        "# Manasa\n",
        "words = set()\n",
        "# for doc in corpus:\n",
        "#   print(doc)\n",
        "#   local_words = doc.lower().split()\n",
        "#   # print(local_words)\n",
        "#   for w in local_words:\n",
        "#     words.add(w)\n",
        "\n",
        "# print(words)\n",
        "\n",
        "\n",
        "for doc in corpus:\n",
        "  words.update(doc.lower().split())\n",
        "# print(words)\n",
        "\n",
        "\n",
        "vocab = [PAD, UNK] + list(words)\n",
        "# print(vocab)\n",
        "word2id = {}\n",
        "id2word = {}\n",
        "\n",
        "for i,w in enumerate(vocab):\n",
        "  # print(i,w)\n",
        "  # print(\"i = \", i)\n",
        "  # print(\"w = \", w)\n",
        "  word2id[w] = i\n",
        "  id2word[i] = w\n",
        "\n",
        "print(id2word)\n",
        "\n",
        "\"\"\"\n",
        "YOUR CODE HERE\n",
        "\"\"\"\n",
        "\n",
        "print(f\"Vocabulary size: {len(vocab)} words\")\n",
        "print(\"First 15 vocab entries:\", vocab[:15])\n",
        "\n",
        "# 3. Encode / decode\n",
        "def encode(text):\n",
        "    ids = []\n",
        "    # for word in text.lower().split():\n",
        "    #   if word in word2id:\n",
        "    #     ids.append(word2id.get(word, word2id[UNK])) # Handle out-of-vocabulary words\n",
        "    #   else:\n",
        "    #     ids.append(word2id[UNK])\n",
        "    # print(\"encoding here\")\n",
        "    return [word2id.get(w, word2id[UNK]) for w in text.lower().split()]\n",
        "\n",
        "    return ids # Corrected indentation\n",
        "    pass\n",
        "\n",
        "encodingText = encode(\"fox jumps somewhere\")\n",
        "print(\"encodingText = \", encodingText)\n",
        "\n",
        "def decode(ids):\n",
        "    \"\"\"\n",
        "    YOUR CODE HERE\n",
        "    \"\"\"\n",
        "    text = \"\"\n",
        "    words = []\n",
        "    for id in ids:\n",
        "      words.append(id2word[id])\n",
        "    return \" \".join(words) # Added implementation\n",
        "    return \" \".join(id2word[i] for i in ids if i != word2id[PAD]) # Corrected indentation PAD here is like extra ignorable values. Could be a space. Something like that.\n",
        "\n",
        "\n",
        "print(\"decodingText = \", decode(encodingText))\n",
        "\n",
        "# 4. Demo\n",
        "sample = \"The brown unicorn jumps\"\n",
        "ids = encode(sample)\n",
        "recovered = decode(ids)\n",
        "\n",
        "print(\"\\nInput text :\", sample)\n",
        "print(\"Token IDs  :\", ids)\n",
        "print(\"Decoded    :\", recovered)"
      ]
    },
    {
      "cell_type": "markdown",
      "id": "0edab2c2",
      "metadata": {
        "id": "0edab2c2"
      },
      "source": [
        "Word-level tokenization has two major limitations:\n",
        "1. Large vocabulary size\n",
        "2. Out-of-vocabulary (OOV) issue\n",
        "   \n",
        "    We saw it says UNK for those values"
      ]
    },
    {
      "cell_type": "markdown",
      "id": "a379bac7",
      "metadata": {
        "id": "a379bac7"
      },
      "source": [
        "### 1.2 - Character‑level tokenization\n",
        "\n",
        "Every single character (including spaces and emojis) gets its own ID. This guarantees zero out‑of‑vocabulary issues but very long sequences."
      ]
    },
    {
      "cell_type": "code",
      "execution_count": null,
      "id": "4ac29144",
      "metadata": {
        "id": "4ac29144"
      },
      "outputs": [],
      "source": [
        "# 1. Build a fixed vocabulary # a–z + A–Z + padding + unkwown\n",
        "import string\n",
        "\n",
        "vocab = []\n",
        "char2id = {}\n",
        "id2char = {}\n",
        "\"\"\"\n",
        "YOUR CODE HERE\n",
        "\"\"\"\n",
        "print(f\"Vocabulary size: {len(vocab)} (52 letters + 2 specials)\")\n",
        "\n",
        "# 2. Encode / decode\n",
        "def encode(text):\n",
        "    \"\"\"\n",
        "    YOUR CODE HERE\n",
        "    \"\"\"\n",
        "\n",
        "def decode(ids):\n",
        "    \"\"\"\n",
        "    YOUR CODE HERE\n",
        "    \"\"\"\n",
        "\n",
        "# 3. Demo\n",
        "sample = \"Hello\"\n",
        "ids = encode(sample)\n",
        "recovered = decode(ids)\n",
        "\n",
        "print(\"\\nInput text :\", sample)\n",
        "print(\"Token IDs  :\", ids)\n",
        "print(\"Decoded    :\", recovered)\n"
      ]
    },
    {
      "cell_type": "markdown",
      "id": "391275bd",
      "metadata": {
        "id": "391275bd"
      },
      "source": [
        "### 1.3 - Subword‑level tokenization\n",
        "\n",
        "Sub-word methods such as `Byte-Pair Encoding (BPE)`, `WordPiece`, and `SentencePiece` **learn** the most common character and gorup them into new tokens. For example, the word `unbelievable` might turn into three tokens: `[\"un\", \"believ\", \"able\"]`. This approach strikes a balance between word-level and character-level methods and fix their limitations.\n",
        "\n",
        "For example, `BPE` algorithm forms the vocabulary using the following steps:\n",
        "1. **Start with bytes** → every character is its own token.  \n",
        "2. **Count all adjacent pairs** in a huge corpus.  \n",
        "3. **Merge the most frequent pair** into a new token.  \n",
        "   *Repeat steps 2-3* until you hit the target vocab size (e.g., 50 k).\n",
        "\n",
        "Let's see `BPE` in practice."
      ]
    },
    {
      "cell_type": "code",
      "execution_count": 26,
      "id": "4675e67a",
      "metadata": {
        "colab": {
          "base_uri": "https://localhost:8080/",
          "height": 391,
          "referenced_widgets": [
            "9a99210546164a1598da58f1896916c3",
            "9b996ab9398a459394352c68557565f7",
            "f9e52e43a485486da33430ccbd332604",
            "c3213231acfc4d34a221cb29b6fa22c6",
            "4dd829a279a04e6894ce1186c317d983",
            "fb33ab8b58f14b2abc90bfc48463d289",
            "243cef4049414fbeb310837c90f5da2c",
            "8788252793ac4cfa9803f5a45237004d",
            "ea8140da1a3c471e9801a9e548a6d86b",
            "5b97bed691084cadaeb39c3f1c22dcda",
            "b9e6b02ad46e49b6a4dc291a31d7da0b",
            "cfe9221477ef4cb6a04f320cc3e0e9bd",
            "85f9914fa120403fb0cf4176fcf4ac4f",
            "d1022c407d81486bbac97824c583e9e3",
            "bb7d8e6514a34c48bbb7b404eef1bb9b",
            "2ecf6d9cbc9e42ecbea0c13c1365830d",
            "e8c9242ea3cf4a31912c8ba08eaeb379",
            "d81a3ac55b774990908165ca09d5b281",
            "ee58b621717d4a7b854596a9d6fbf387",
            "90a5869d2a9f4ab8827400208b815f90",
            "e15df1c5c1b944639036781853b4913d",
            "a297967078914c09a46ef828335a6cd2",
            "38062086192c40f0910734cd95bddffa",
            "08a0a59e968a46d9a84aeb48eb3cc35e",
            "0e040fb744014a9a9ebb8f72a0166458",
            "519b24a47bad4b0c9d4187cd87708d8f",
            "02e55b6cbfbb4724a07571db49be18f8",
            "c9d552e48fe34815af6db4708b4026f7",
            "1b420d2c155d40ab8c4c427b1b9ca9e1",
            "cf647452293a4096be85e9bfaa91c04c",
            "949b6f8300d5484f8daf021d4d225bea",
            "205776bc129f4b7888ed3c7169300ec2",
            "3ee49d92d67543c2ae6badeb406ba472",
            "1416356df5d54e7db2a7a865f795c9b8",
            "cd9f556e5e314c22834f77d1f5d033c7",
            "9a3cda90ee1f41138e0f40e60563a20d",
            "7aa3d15355df48d79281be697c70e97a",
            "b71ae7836d27494eb496027052f280f0",
            "c62781f7bcc64d0cb4b23e5835c615d5",
            "f0d2cbcd27ef490c81ac4f9684a0cad9",
            "0a4a0aedbb45451489b6e320517c07c4",
            "c547fe1e59b0428bb4007c10cbbc35c1",
            "088bd126c16c4b07850eb2c44eee04a3",
            "a71932add665481eb4d8edca95f56876",
            "118f0ac37ebd4a40abc6c8a560f07085",
            "a226289940694759a905aa8c6ebf6245",
            "ae6094d361894210baa538ab5c67b71d",
            "d58fc48ba5ee4bc3be58c2eb04a64970",
            "8bc9e44c224e4a67ae14996464b58e1b",
            "bfd7a4b126c44e5583799a6841ad4f1c",
            "0ef5e27d76e84ce79dbe2297fe73d551",
            "2f6dd04612584d81884a41cc5593787a",
            "a78ffd6c54004a3fa1af4e7764b0de93",
            "c6c46f1df5dc4db690f6d8625d9c6b6e",
            "55110e23913c4ac692c0a2f2d2735a7c"
          ]
        },
        "id": "4675e67a",
        "outputId": "094a5ea8-7fee-44a7-bca5-fb41abcc84c4"
      },
      "outputs": [
        {
          "output_type": "stream",
          "name": "stderr",
          "text": [
            "/usr/local/lib/python3.12/dist-packages/huggingface_hub/utils/_auth.py:94: UserWarning: \n",
            "The secret `HF_TOKEN` does not exist in your Colab secrets.\n",
            "To authenticate with the Hugging Face Hub, create a token in your settings tab (https://huggingface.co/settings/tokens), set it as secret in your Google Colab and restart your session.\n",
            "You will be able to reuse this secret in all of your notebooks.\n",
            "Please note that authentication is recommended but still optional to access public models or datasets.\n",
            "  warnings.warn(\n"
          ]
        },
        {
          "output_type": "display_data",
          "data": {
            "text/plain": [
              "tokenizer_config.json:   0%|          | 0.00/26.0 [00:00<?, ?B/s]"
            ],
            "application/vnd.jupyter.widget-view+json": {
              "version_major": 2,
              "version_minor": 0,
              "model_id": "9a99210546164a1598da58f1896916c3"
            }
          },
          "metadata": {}
        },
        {
          "output_type": "display_data",
          "data": {
            "text/plain": [
              "config.json:   0%|          | 0.00/665 [00:00<?, ?B/s]"
            ],
            "application/vnd.jupyter.widget-view+json": {
              "version_major": 2,
              "version_minor": 0,
              "model_id": "cfe9221477ef4cb6a04f320cc3e0e9bd"
            }
          },
          "metadata": {}
        },
        {
          "output_type": "display_data",
          "data": {
            "text/plain": [
              "vocab.json:   0%|          | 0.00/1.04M [00:00<?, ?B/s]"
            ],
            "application/vnd.jupyter.widget-view+json": {
              "version_major": 2,
              "version_minor": 0,
              "model_id": "38062086192c40f0910734cd95bddffa"
            }
          },
          "metadata": {}
        },
        {
          "output_type": "display_data",
          "data": {
            "text/plain": [
              "merges.txt:   0%|          | 0.00/456k [00:00<?, ?B/s]"
            ],
            "application/vnd.jupyter.widget-view+json": {
              "version_major": 2,
              "version_minor": 0,
              "model_id": "1416356df5d54e7db2a7a865f795c9b8"
            }
          },
          "metadata": {}
        },
        {
          "output_type": "display_data",
          "data": {
            "text/plain": [
              "tokenizer.json:   0%|          | 0.00/1.36M [00:00<?, ?B/s]"
            ],
            "application/vnd.jupyter.widget-view+json": {
              "version_major": 2,
              "version_minor": 0,
              "model_id": "118f0ac37ebd4a40abc6c8a560f07085"
            }
          },
          "metadata": {}
        },
        {
          "output_type": "stream",
          "name": "stdout",
          "text": [
            "Vocabulary size: 50257 tokens\n",
            "\n",
            "Input text : Unbelievable tokenization powers! 🚀\n",
            "Token IDs  : [3118, 6667, 11203, 540, 11241, 1634, 5635, 0, 12520, 248, 222]\n",
            "Tokens     : ['Un', 'bel', 'iev', 'able', 'Ġtoken', 'ization', 'Ġpowers', '!', 'ĠðŁ', 'ļ', 'Ģ']\n",
            "Decoded    : Unbelievable tokenization powers! 🚀\n"
          ]
        }
      ],
      "source": [
        "# 1. Load a pretrained BPE tokenizer (GPT-2 uses BPE).\n",
        "# Refer to  https://huggingface.co/docs/transformers/en/fast_tokenizers\n",
        "\n",
        "from transformers import AutoTokenizer\n",
        "\n",
        "bpe_tok = AutoTokenizer.from_pretrained(\"gpt2\")\n",
        "print(f\"Vocabulary size: {bpe_tok.vocab_size} tokens\")\n",
        "\n",
        "\n",
        "# 2. Encode / decode\n",
        "def encode(text):\n",
        "    return bpe_tok.encode(text)\n",
        "\n",
        "def decode(ids):\n",
        "    return bpe_tok.decode(ids)\n",
        "\n",
        "# 3. Demo\n",
        "sample = \"Unbelievable tokenization powers! 🚀\"\n",
        "ids = encode(sample)\n",
        "recovered = decode(ids)\n",
        "\n",
        "print(\"\\nInput text :\", sample)\n",
        "print(\"Token IDs  :\", ids)\n",
        "print(\"Tokens     :\", bpe_tok.convert_ids_to_tokens(ids))\n",
        "print(\"Decoded    :\", recovered)\n"
      ]
    },
    {
      "cell_type": "markdown",
      "id": "badaa5a8",
      "metadata": {
        "id": "badaa5a8"
      },
      "source": [
        "### 1.4 - TikToken\n",
        "\n",
        "`tiktoken` is a production-ready library which offers high‑speed tokenization used by OpenAI models.  \n",
        "Let's compare the older **gpt2** encoding with the newer **cl100k_base** used in GPT‑4."
      ]
    },
    {
      "cell_type": "code",
      "execution_count": 28,
      "id": "7704c470",
      "metadata": {
        "colab": {
          "base_uri": "https://localhost:8080/",
          "height": 214
        },
        "id": "7704c470",
        "outputId": "73818375-2d05-45b5-90d6-461abef17a20"
      },
      "outputs": [
        {
          "output_type": "stream",
          "name": "stdout",
          "text": [
            "gpt2: [464, 12520, 234, 253, 3491, 12, 7829, 7781, 2319, 2173, 0]\n",
            "Vocabulary size:  50257\n",
            "[464, 12520, 234, 253, 3491, 12, 7829, 7781, 2319, 2173, 0]\n",
            "Decoded    : The 🌟 star-player scored 40 points!\n",
            "\n",
            "cl100k_base: [791, 11410, 234, 253, 6917, 43467, 16957, 220, 1272, 3585, 0]\n",
            "Vocabulary size:  100277\n",
            "[791, 11410, 234, 253, 6917, 43467, 16957, 220, 1272, 3585, 0]\n",
            "Decoded    : The 🌟 star-player scored 40 points!\n",
            "\n"
          ]
        },
        {
          "output_type": "execute_result",
          "data": {
            "text/plain": [
              "'\\nYOUR CODE HERE\\n'"
            ],
            "application/vnd.google.colaboratory.intrinsic+json": {
              "type": "string"
            }
          },
          "metadata": {},
          "execution_count": 28
        }
      ],
      "source": [
        "# Use gpt2 and cl100k_base to encode and decode the following text\n",
        "# Refer to https://github.com/openai/tiktoken\n",
        "import tiktoken\n",
        "\n",
        "sentence = \"The 🌟 star-player scored 40 points!\"\n",
        "\n",
        "encoders = {\n",
        "    \"gpt2\": tiktoken.get_encoding(\"gpt2\"),\n",
        "    \"cl100k_base\": tiktoken.get_encoding(\"cl100k_base\"),\n",
        "}\n",
        "\n",
        "for name, encoder in encoders.items():\n",
        "    print(f\"{name}: {encoder.encode(sentence)}\")\n",
        "    print(\"Vocabulary size: \", encoder.n_vocab)\n",
        "\n",
        "    ids = encoder.encode(sentence)\n",
        "    print(ids)\n",
        "    print(\"Decoded    :\", encoder.decode(ids))\n",
        "    print()\n",
        "\n",
        "\"\"\"\n",
        "YOUR CODE HERE\n",
        "\"\"\"\n",
        "\n"
      ]
    },
    {
      "cell_type": "markdown",
      "id": "5e8c1023",
      "metadata": {
        "id": "5e8c1023"
      },
      "source": [
        "Experiment: try new sentences, emojis, code snippets, or other languages. If you are interested, try implementing the BPE algorithm yourself.\n",
        "\n",
        "### 1.5 - Key Takeaways\n",
        "\n",
        "* **Word‑level**: simple but brittle (OOV problems).  \n",
        "* **Character‑level**: robust but produces long sequences.  \n",
        "* **BPE / Byte‑Level BPE**: middle ground used by most LLMs.  \n",
        "* **tiktoken**: shows how production models tokenize with pre‑trained sub‑word vocabularies."
      ]
    },
    {
      "cell_type": "markdown",
      "id": "c2a758ba",
      "metadata": {
        "id": "c2a758ba"
      },
      "source": [
        "# 2. What is a Language Model?\n",
        "\n",
        "At its core, a **language model (LM)** is just a *very large* mathematical function built from many neural-network layers.  \n",
        "Given a sequence of tokens `[t₁, t₂, …, tₙ]`, it learns to output a probability for the next token `tₙ₊₁`.\n",
        "\n",
        "\n",
        "Each layer applies a simple operation (matrix multiplication, attention, etc.). Stacking hundreds of these layers lets the model capture patterns and statistical relations from text. The final output is a vector of scores that says, “how likely is each possible token to come next?”\n",
        "\n",
        "> Think of the whole network as **one gigantic equation** whose parameters were tuned during training to minimize prediction error.\n"
      ]
    },
    {
      "cell_type": "markdown",
      "source": [
        "\n",
        "\n",
        "> Add blockquote\n",
        "\n"
      ],
      "metadata": {
        "id": "opmD6uHxQ5cx"
      },
      "id": "opmD6uHxQ5cx"
    },
    {
      "cell_type": "markdown",
      "id": "8f0c7399",
      "metadata": {
        "id": "8f0c7399"
      },
      "source": [
        "\n",
        "### 2.1 - A Single `Linear` Layer\n",
        "\n",
        "Before we explore Transformer, let’s start tiny:\n",
        "\n",
        "* A **Linear layer** performs `y = Wx + b`  \n",
        "  * `x` – input vector  \n",
        "  * `W` – weight matrix (learned)  \n",
        "  * `b` – bias vector (learned)\n",
        "\n",
        "Although this looks basic, chaining thousands of such linear transforms (with nonlinearities in between) gives neural nets their expressive power.\n",
        "\n",
        "Example: ![image.png](data:image/png;base64,iVBORw0KGgoAAAANSUhEUgAABAcAAAJ/CAYAAAAEZbrUAAABVWlDQ1BJQ0MgUHJvZmlsZQAAGJVtkDtLQnEYxn+mUdh1EFoKHEIQ7IIpNBUmFUGDWHYDh+PxFng5HI2ItqaWhiCamguapAbXiPoCFQV9g6AtcCk5vUcrtfrDw/vj4eH/vjzQhqJpGRuQzRX18PyMc219w9nxgp0+HPRgVdSCFgiFFiXC92x9lUcs5rwfMf+63Itkz6d3p+bOhi6ipQP/33zLs8cTBVXmh8ilanoRLMPCoe2iZrIIhy5HCe+bnKrzicmxOpdqmeVwUPhGuF9NK3HhB2FPrMlPNXE2s6V+3WBe353IRZbMe0SDrDCLFx+T0sv/OV8tFySPxg46m6RIU8RJQByNDAnhBXKojOIR9jIu8pv9/u6t4UXvYOxQVh01vPwAXHfK6kLDc79CbxJuXZqiKz9tWiq2QnLCW+euMrQfG8bbKnS4ofpkGO9lw6iegvUZriqf4eRgQTzPQJ4AAABWZVhJZk1NACoAAAAIAAGHaQAEAAAAAQAAABoAAAAAAAOShgAHAAAAEgAAAESgAgAEAAAAAQAABAegAwAEAAAAAQAAAn8AAAAAQVNDSUkAAABTY3JlZW5zaG906/4jqQAAAddpVFh0WE1MOmNvbS5hZG9iZS54bXAAAAAAADx4OnhtcG1ldGEgeG1sbnM6eD0iYWRvYmU6bnM6bWV0YS8iIHg6eG1wdGs9IlhNUCBDb3JlIDYuMC4wIj4KICAgPHJkZjpSREYgeG1sbnM6cmRmPSJodHRwOi8vd3d3LnczLm9yZy8xOTk5LzAyLzIyLXJkZi1zeW50YXgtbnMjIj4KICAgICAgPHJkZjpEZXNjcmlwdGlvbiByZGY6YWJvdXQ9IiIKICAgICAgICAgICAgeG1sbnM6ZXhpZj0iaHR0cDovL25zLmFkb2JlLmNvbS9leGlmLzEuMC8iPgogICAgICAgICA8ZXhpZjpQaXhlbFlEaW1lbnNpb24+NjM5PC9leGlmOlBpeGVsWURpbWVuc2lvbj4KICAgICAgICAgPGV4aWY6UGl4ZWxYRGltZW5zaW9uPjEwMzE8L2V4aWY6UGl4ZWxYRGltZW5zaW9uPgogICAgICAgICA8ZXhpZjpVc2VyQ29tbWVudD5TY3JlZW5zaG90PC9leGlmOlVzZXJDb21tZW50PgogICAgICA8L3JkZjpEZXNjcmlwdGlvbj4KICAgPC9yZGY6UkRGPgo8L3g6eG1wbWV0YT4KP2+rSgAAQABJREFUeAHs3fl7HsdxJ/AhAN7UTUmWLFmgbPmSY0uOz5yOnTve3exusv/e7rP7wz55nj1yPYlz2kkcJ042hx1ZhyXZ1GFJlqiL9wVy69PzFtB4BYAAAVKEUE0OZqaP6qpvd1d31fTMu+tyhKFCIVAIFAKFQCFQCBQChUAhUAgUAoVAIVAI7FgEZnas5CV4IVAIFAKFQCFQCBQChUAhUAgUAoVAIVAINATKOVAdoRAoBAqBQqAQKAQKgUKgECgECoFCoBDY4QiUc2CHd4ASvxAoBAqBQqAQKAQKgUKgECgECoFCoBAo50D1gUKgECgECoFCoBAoBAqBQqAQKAQKgUJghyNQzoEd3gFK/EKgECgECoFCoBAoBAqBQqAQKAQKgUKgnAPVBwqBQqAQKAQKgUKgECgECoFCoBAoBAqBHY5AOQd2eAco8QuBQqAQKAQKgUKgECgECoFCoBAoBAqBcg5UHygECoFCoBAoBAqBQqAQKAQKgUKgECgEdjgC5RzY4R2gxC8ECoFCoBAoBAqBQqAQKAQKgUKgECgEyjlQfaAQKAQKgUKgECgECoFCoBAoBAqBQqAQ2OEIlHNgh3eAEr8QKAQKgUKgECgECoFCoBAoBAqBQqAQKOdA9YFCoBAoBAqBQqAQKAQKgUKgECgECoFCYIcjUM6BHd4BSvxCoBAoBAqBQqAQKAQKgUKgECgECoFCoJwD1QcKgUKgECgECoFCoBAoBAqBQqAQKAQKgR2OQDkHdngHKPELgUKgECgECoFCoBAoBAqBQqAQKAQKgXIOVB8oBAqBQqAQKAQKgUKgECgECoFCoBAoBHY4AuUc2OEdoMQvBAqBQqAQKAQKgUKgECgECoFCoBAoBMo5UH2gECgECoFCoBAoBAqBQqAQKAQKgUKgENjhCJRzYId3gBK/ECgECoFCoBAoBAqBQqAQKAQKgUKgECjnQPWBQqAQKAQKgUKgECgECoFCoBAoBAqBQmCHI1DOgR3eAUr8QqAQKAQKgUKgECgECoFCoBAoBAqBQqCcA9UHCoFCoBAoBAqBQqAQKAQKgUKgECgECoEdjkA5B3Z4ByjxC4FCoBAoBAqBQqAQKAQKgUKgECgECoFyDlQfKAQKgUKgECgECoFCoBAoBAqBQqAQKAR2OALlHNjhHaDELwQKgUKgECgECoFCoBAoBAqBQqAQKATKOVB9oBAoBAqBQqAQKAQKgUKgECgECoFCoBDY4QiUc2CHd4ASvxAoBAqBQqAQKAQKgUKgECgECoFCoBAo50D1gUKgECgECoFCoBAoBAqBQqAQKAQKgUJghyNQzoEd3gFK/EKgECgECoFCoBAoBAqBQqAQKAQKgUKgnAPVBwqBQqAQKAQKgUKgECgECoFCoBAoBAqBHY7A3A6Xv8QvBAqBQqAQKAS2FQKXL19ek99du3atmX6l8msW3kTilfjaBOkqWggUAoVAIVAIFAJbgEA5B7YAxCJRCBQChUAhUAhcDwTSsM+zOnujO+P7uORLmiPTMm+mb/SMTk9j+r6nN52WPPR56roQKAQKgUKgECgE3l0Eyjnw7uJftRcChUAhUAgUAu9AgNF98eLFZnzPzs4OMzMzi0b9dOY00Bnc6zG6M3+ek956ymZeZ+WThrJ53edZ6Xqj9axEo+IKgUKgECgECoFCYOsRKOfA1mNaFAuBQqAQKAQKgQ0hkC8K5AsBDG3OgUuXLsXWgPg/E4a/f3EdSeN5UkMa5cru2rX6p4TSgM/8yxjMipdFrn2zSGetspGG78VAgAqFQCFQCBQChUAhcEMisCsm91yT3JAMFlOFQCFQCBQChcB7FYF49r74j4wM6Zn4J5ie/WvXu+J1gM7I7tNaBuXC8I79BXF7NQb4WFPWN9Lcur/ojtz1Umwd/aJUCBQChUAhUAgUAptHoJwDm8ewKBQChUAhUAgUAmsisOSFX7pSgNF8Kf6lybxw+dKwcGkhYi4PczNzzeB3vbAw2UUQDoM0/e0mmImdAvnKAacCOvJfRCN2HVyOzHYM5FZ+DoQxpCNhdCUo59/Ikb+bD6ihiRY5cd6cGp5JcHzEMRuvS8zNzK5R2cjVGhkqqRAoBAqBQqAQKAS2CIF6rWCLgCwyhUAhUAgUAoXASgiMxnGa3XIsmd5cA8xmZrS/zRHQYi4P5y5fGC5cuDCcOnVyeOON14cTJ04M58+dG2ITQXutoJnedguEga3waPbvGjgYmnMgzpcnjgE+gWb+x8VY23LnwOhWGDmTvhUh+VEzR8XM3Nywd+/e4eDBA8PBAweHvXviet/+4dD+gytW1/hdMaUiC4FCoBAoBAqBQuBaIFDOgWuBatEsBAqBQqAQKAQCAYZ2GtujEyBh4QYYnQFyMNn9uxRP0xcWYi/BwsJw/MLJ4djbrw8vvfij4dlnnxleefnl4eTxE+MuAEZ+e/oe3yQIQspdtlMA+biO2NFbwCswYaAZ63HfckWe0XiXcZI18i1E5kn2MeEq/yZt30C4HNsXLl68EI6B/cPh2+8Y7rv33uG+++4fbr35luHwbYeHuyJuz+49w1w4D+wksBsCD/n1hNo7cJWNUMUKgUKgECgECoENIlCvFWwQsMpeCBQChUAhUAishQDDNg3spWsm+VKsK68T+CfsHfYMpy+fG15969jw3PPPDz98/ujwyqsvD8feODa8ffzt9sT9pptuGhz79x8YDhzYP+zZu2RQNyL+BGGvF1yO7QUcBiLsNMjt/Iz2VmM4EppDYWLFO8WCYLiUVn3cX13gtFAyXhmIX1ngdlD3xYsLw5kzZ4ZTJ0+38+WLl8LRcbK9UnD34buHTz/yyDD/gQeGO28/PBzafWA4u3B+mA0ngVcOOAfGbylcHUdVqhAoBAqBQqAQKATWh0A5B9aHU+UqBAqBQqAQKATWhcBokjc7PUzkdAmMV57pS7dT4EI8p29b5yPi7MVzw2Pff2J4/Oknh+dffH7YNTczHDoUW+/3723fDeAIOHTopnAKHAijO7bn79vTnAOz8bQ9XwnAnG8LzMST+pGH+BuvFow3Y4zrdhUGu3+ja2LkR0rer0vQFTM1N0OkhFMijHuBc+DSwuXh/Pnzw9mz54bTp07HcWo4HY6CC2fODxwFl8J5cGfsIHjgvg8MD81/aLjzjjuHffHaQX5kkcOjQiFQCBQChUAhUAhcWwTKOXBt8S3qhUAhUAgUAjsMAcY3I3s0x9MpkOelFFv4F+L1gZMnTw5Pvfjs8M/f+ZfhhZdeHC5eXhg+MP/A8OCD88Phw4eHmT1z8R2Bhfi2QDxFj2334/v7M+3JvO8NoNy+QxB1jjsAlgz0xoVH+fF/3BSAq+X8SWsEGqXIOmZs+Tb85/KSET+SGXcScBA0Di6FoyAcAadPnxkunr84XDh7fjj19onh2aefHc6dOTvcdPDQcOT++eHTH39keN9ddw0H4psE8bJBc6JsmJcqUAgUAoVAIVAIFAIbQqCcAxuCqzIXAoVAIVAIFAKrI8AEXjL/x10C4xP6fCY/vl7g9wj2Xd4zHDv1xvCdH3xv+MM/+qPh/MKF4b4H7h8++elPDXfdc/dw68Gbh5nZmeHUwpnhbDx1v3DRLxYstBry1weSk0thdNvPv9w0j30JbSfBmKsZ6+FFGP81f0EWjzPOw3DfjGOgUUNg4hYIkuP3Asb7mV2M/KgldhF4zeDCufPD7tgFcSC+RbBwYWH4/pPfH56O49jLrw4//bkvDp/51KeHB8NRsG/XnibHyOHStwhadfWnECgECoFCoBAoBLYMgfog4ZZBWYQKgUKgECgECoF3ItBeHRjN4jC/R0N5Np6Gv3Tix8Pjzzw1fPeJfxvm9u4ePvHxTwwfeuih4XA8MT+zcG546+yJcCH4WcKL7ecNFZ2ZZfD7yF+Y+O0IYzteHWjfF3C/WL164hWDycf9xlojSp7mIFjM2C6aw8D2gwhLNNrtVfwZ6/YtRLK3n1iMG3U0x8lMnGejlr0z7QOIZ+NXGcJvMNx75L5hX3xL4cUfPN9erzh98tTw1sfeGj764Ifjmwt7Gp0QfvF1g6tgrIoUAoVAIVAIFAKFwBoIlHNgDXAqqRAoBAqBQqAQ2AwCjGMmsdcCFuKp/5yn5/EqwLnL58Mx8OTw2BPfG958663hIx/58PDBD31wuOPOO+In/+IXBeI9/AsL4RRo3wzwRP9Scwq0p/KLlj5DPtwHE4O/fVCwWfb+jJ/w8wsGQhr8dhIsj2nJLT3zjDGb+TtSSnrjRxchMfJxeYYzQ2xwH7xfGuwgmB32HNwzHL7ncPxywe72k42vv/Xm8MwPnhkO33pbfIPgcDgF9o1STZwg07snNsNxlS0ECoFCoBAoBAqBIV7lq1AIFAKFQCFQCBQC1wQB2/xjF337jsCF2AEwMxPOgthSf+z068NTT39/ePW114bb7rh9ePjhh4dDt9zUDOYzZ083R4IdAeOT/nAJxA4AxnDbG5BWd8dxM72b0yAS+/SJIb2YNWig2Sz1SaTsbefAsoKLJa7yAtXxewiNoVZl1BLVtxcrOAjUGjJ6UaK9/hBpc/t3D3e//+7hYrxy8PzTR4cfv/bq8OKPXhwOHTg47I/XD+biNQvOkHIMXGWzVLFCoBAoBAqBQmANBJZeT1wjUyUVAoVAIVAIFAKFwMYRGA1v5XbFBwRnhothFL9x6q3hiSeeGN6KHQN333338Oijjw533BE7BuLp+fkLF9pTcwawwJhuV3HOML5OsER5MV6eMP7tTOCEYED3h7T284WRLWk4rxTXp2/+OhwCwdtC7H7wEcbRORA8xOsFvl9IRmmxTyLyLQyzu2eGe+67J5wmt8W3Fs4Oj38vdle8+eawEN9cIENzmqTQdS4ECoFCoBAoBAqBLUOgnANbBmURKgQKgUKgECgElhBgqzPhw54d9uyaGw7u2mcLwfDW8beG5557Ln6a8NDwgQ98YLj33ntHA9lW+zDWx08OesJup8AYmpMg6LSt+BMDu72/rw4Gs8pU5FpclOUYGNPGc5+ubB5xGfn9G/nd0nPjSQ1Je6xp0SERLDcHgQx+iSFO5y9eaN8eOHznnQ2j5158cXjllVeGE/GrDgRtv9qAboVCoBAoBAqBQqAQ2FIEyjmwpXAWsUKgECgECoGdjkCz0xdBYGrHroF4LWB3fG/g/Ln40ODxt4cTJ060nylsP1U4Nxu/ROCbBGEah9E7G/ejIa8og380rBcN6oheNOBbZfIs7RIYr1u1razy/ZGOhmVnNNWzlUfHJ4Ybz8553fiKP8G7epNHDhDXt952y3D4zsOxm+L88PKPfzy8/sYb8SsHFyO7zBUKgUKgECgECoFCYKsRKOfAViNa9AqBQqAQKAR2PAJpvjKIBV/sF06dOjWcOH68Gbh3xpPxA4cODmfDYcAA9pE+rwTsnts9GsAM/ijT/iahRmViaE8s7pY0qZDdvJrtLJ8n89NBvB0Gi9Z5WumbPTeexp0CbV9Ce1XC9wJGDsjVXnto9SRXYxwnwIGDB+KXG+4cbr755uHY68fa9xnOBVZCvuqQpepcCBQChUAhUAgUAptHoD5IuHkMi0IhUAgUAoVAIdAQmNi97Sl5QiKOayDeqB9Onzk9nIrt8TPhBNi7f9+wb9/+tq3+zMUweuPFfO/h+4WC8b36JY9Ae1o+MbYb3WZoZw2Rz/+IWyqRaeN5NP7jWp6wzqfzNdKTnzJcXvJq74Ji2w7QlW+VNFYXHQTtLuptDoPI31wJjceIC4z2798/3HvffcOxV14d3ggHwblzZ0KEm5pTYZHyCsJk1KTKxax1UQgUAoVAIVAIFAKrI1DOgdWxqZRCoBAoBAqBQmBTCDBO00A9ff7M8Obbbw7Hj58Y9uzZEx8o9PpAPs0fczWj1h9HRLXLCYHJaZGflVwBdgb0+Vw3mt25EegztQh/VoxcTN3wRUcuRcpafBMhOfOji7viwwO7wjnQrv1tTO8a5uIViwMHDzZnid0VF+KDjQJHiJ0HFQqBQqAQKAQKgUJg6xAo58DWYVmUCoFCoBAoBAqBlREIY/ZMPPU+dfpU++7A3r17J84BvyDQvt8ftvn4RL89PQ+7Nx0Dzkum9Ei+2c6dcdwcBZEpH/63h/ZjpkXnwMqMLcVOsi9FbMnVaMBP0x5jR7maUyAYdt4Vuydi80STw26CuXjF4uabDjWszp8/P5w+a+eAnQZJYUuYLCKFQCFQCBQChUAhEAiUc6C6QSFQCBQChUAhcA0RaGZsGLQXzp0fLp6/0AxfzoG5uXEK5hwYvwXQ3AJLv1bQ2b+M/UUDexIfJBeD9OYYmORjYEvOLJMii/mnL1reK2WaLrTWPYYWnRfvJJxODE//R2fAxDmgnO8yio9j9+654bbbbm3nc+fPDSdPnWzOAa9lLAq3Fh+VVggUAoVAIVAIFALrRqCcA+uGqjIWAoVAIVAIFAJXhwDj25Nv2+I9+d63O14rmJld9gScsR8Pztur+oxjD8ebcR8JykTUjR+aUwCbmF2b4SZjE3DMP8ocLoGZuAo6jrl49WL/gf3hHNg9XLq0MJw9ezYwmRRamzyiFQqBQqAQKAQKgUJgAwiUc2ADYFXWQqAQKAQKgULgahHgGDgfT78XFhaaseubA213PMM/wk6zdXP3wIhnSB9g+DcTP/vYzvEXRvv3H2ivF1y4cHE4ffp0eEym8ALcopNhpFZ/C4FCoBAoBAqBQmDjCNRPGW4csypRCBQChUAhUAisE4HRavXk/2IYt+fj1YKF+Jk+rxTMhDHMzs136Bcfur+D8vWwfLeojmUW/8Zocgg0B8HESQCGmdhFsGfP7sBrtu0c8FOG4y85pI9gUsdO86y8o49URCFQCBQChUAhsHkEaufA5jEsCoVAIVAIFAKFwIoIjLbyaMAuxM6BC/FqwcWFi4u/VNAeebdM42b5JXN6/ArB+Eh8KZb9vBS6+IxcjPLRPgb0UoH2ucNdPn4YYTFfXC8z6JPQJs7o9fSXM31VhGdnZ4aZOATOFA4CXyXYefstGgT1pxAoBAqBQqAQuCYIlHPgmsBaRAuBQqAQKAR2OgJM1zTxYcH8b4btpfG8K4zc8fcJfGsgrWkl8tq5v0ZFmMQv2f0RNcmXcc0pMDoIFstIa9niT+YbE7f+b3MQZCUT3hZryfjFiMlF5MtfbpgY/pwbnAB2EPjHKbAQ3x6YI8JqZKbJ1n0hUAgUAoVAIVAIrAuBcg6sC6bKVAgUAoVAIVAIrA+BtFmZxKPxP8ZcCqfAJU+9WegRJX08Jn8Z1M2ojhyLzoLRCJajhXbRKEzuF1MmGTKb+GZOT+JHTrLuZZmv1U2TZZp4ojMdn3IspYsZNz7AY8J/c4JEnqVs04TqvhAoBAqBQqAQKASuEoFyDlwlcFWsECgECoFCoBBYDQG2a5q77SpubOhPs94v8Y0/YBh/bfVvzoAxfelvEJk4C1o9jWD8mdjGuVmgq2hSaxjSzXiOvONFPGUfa/ZrCNMB2Um26aTN3zf++0qbEM1tsZz4yN8oO8SW/qXA4VppzpXYRjApOtIqT8FyJOuuECgECoFCoBC4WgTKOXC1yFW5QqAQKAQKgUJgvQiEfTw7Gxvk49jlPDczXLx0cdi1sGtYiK3yXivwjwMhnQjN9OUBiMMeAP9bSIPfTVwr5//ofmhRXdaWsHjfiozFXF6fwEGwGEKIJk/ELZNnV5PbX18TWIj88VsOIVbE+EDhxJnSvtfg1wyUDdxGIhNCSS9eQ1i8XKy3LgqBQqAQKAQKgULgSgiUc+BKCFV6IVAIFAKFQCGwZQiE2Rrvz3v6bbeAgznM3k8HQYtn7UtvdrVvB6xt7kplSLcdCHEzKbZoJLf7lifS1ia1ZZKuRGj8zgJGgolFPsg6iVupUMQ150hku9QcApP7xfJThQi7WtpU1rotBAqBQqAQKAQKgSUEyjmwhEVdFQKFQCFQCBQC1wcB79AzYL1SEB4A2/3TKdA+WtietnMejOy03QErcaZcbwyj29wEEyeAtC4kvS7qXbgMpidyLVXOARJ3wW86RNzAwrmlwWRMbOU5GpbCOwguJdVVIVAIFAKFQCFQCKwLgXIOrAumylQIFAKFQCFQCGwtApwBTPm2Q2Bi2zZTuDkGwg6OOMaxp+ZeNVg1LLOLORQiL7JR4MZwBvScJ7OdPIuMinM0VEJ2CY54p2CCyZgeUS1fR6PlE1+hECgECoFCoBAoBK4Wgfyqz9WWr3KFQCFQCBQChUAhUAhcIwTCNRLbBsbjGlVRZAuBQqAQKAQKgUKgIVDOgeoIhUAhUAgUAoVAIVAIFAKFQCFQCBQChcAOR6CcAzu8A5T4hUAhUAgUAoVAIVAIFAKFQCFQCBQChUA5B6oPFAKFQCFQCBQChUAhUAgUAoVAIVAIFAI7HIFyDuzwDlDiFwKFQCFQCBQChUAhUAgUAoVAIVAIFALlHKg+UAgUAoVAIVAIFALXB4H2qwP5qwTXp8qqpRAoBAqBQqAQKATWh0D9lOH6cKpchUAhUAgUAoXAewSB/icA3y2R2u8XRuXOFQqBQqAQKAQKgULgRkCgnAM3QisUD4VAIVAIFAKFwHVD4N10DqQzAA95fd0Er4oKgUKgECgECoFCYA0E6rWCNcCppEKgECgECoFCoBAoBAqBQqAQKAQKgUJgJyBQzoGd0MolYyFQCBQChUAhUAgUAoVAIVAIFAKFQCGwBgLlHFgDnEoqBAqBQqAQKAQKgUKgECgECoFCoBAoBHYCAuUc2AmtXDIWAoVAIVAIFAKFQCFQCBQChUAhUAgUAmsgUM6BNcCppEKgECgECoFCoBAoBAqBQqAQKAQKgUJgJyBQzoGd0MolYyFQCBQChUAh8B5CoP3OwS5/6xcP3kPNWqIUAoVAIVAIvMsI1E8ZvssNUNUXAoVAIVAI7FwEFn9UMC4ux79h12KMiJ0XmsHfid3b/g2jTJsk9OmZVOdCoBAoBAqBQqAQuCoEyjlwVbBVoUKgECgECoFCYHMIXL58OXwB4RJwBKnxHFcTg3eMndRxeQ0ruHcobI6lG6L0rnAQtH/OIbd/QsMjsBqdJmvgcUNIUUwUAoVAIVAIFALbD4FyDmy/NiuOC4FCoBAoBLYtAtwAY2D4DpODfc/4bXGRfDkixuul/FlupfPoHwgK28pRkLIx9F0vN/gbNBNhpWbuSdTqp+VkVs9XKYVAIVAIFAKFQCGwDIFyDiyDo24KgUKgECgECoFrh0AzcD39jjCzy2d/Zsan45cux/2u0UEQsc0YDuv4ygZx5Ah6oz3cSgU9ZvZaFvJaaTi7nqGXsOcaj3HE/8sTHAKi4dIy1m4kOZYxVjeFQCFQCBQChcC2RKCcA9uy2YrpQqAQKAQKge2OQDoH0uL1ur0t9XwHri+Fa6CZy2Htty31iwL3BjX7eck5MJbJjKsZz6vFZ7nrfSbPrnCT+Bv/CJ+hOQZgMuLCQTCGSZ7F+4yPcyRldEepy1CXhUAhUAhsDQJeBxOW6a2tIV1UCoF3BYH6tYJ3BfaqtBAoBAqBQmDnIsBknViwnvrHMWN9GQYwq7YZtHE9/ov7dp1otYwytyMdA85LJnHm3e5nSMTOCg6Tyb9lEjWR/alQCBQChUAhUAgUAluBQO0c2AoUi0YhUAgUAoVAIbBOBPgAhDx72p/b5Zup60/kmWRrZn8rsPhHypJR3D4zsK2+NbAoyDsuxk0DCdBUcoicT+mmUuq2ECgECoFCoBAoBLYAgdo5sAUgFolCoBAoBAqBQmA9CDDpO7N+3CzA6M34uOAsWMozTZXhnMd02nvjfnQNxN/wFPRvGLw3pCspCoFCoBAoBAqBGxeBcg7cuG1TnBUChUAhUAgUAqsg8B53EPANNMnHvyuC0CBYI33FQhVZCBQChUAhUAgUAqshUM6B1ZCp+EKgECgECoFCoBAoBAqBQqAQKAQKgUJghyBQzoEd0tAlZiFQCBQChcCNg0B+b2Cao9Xip/O9p+/buwRTOwLaqxf+dC9cdJfvaTxKuEKgECgECoFC4DohUM6B6wR0VVMIFAKFQCFQCECATdsf9s8vu5/AtMz2jZu2iz7S+vMk6yR26e6GvVomVL464Lwk1Xi9XIL2awVRVvFlJHpnwfIidVcIFAKFQCFQCBQCG0Sgfq1gg4BV9kKgECgECoFCYCsQ8OHB9sW9mfDTx28Zjkbv5K+fOFRJ/BnN5vg5v+VWcUtseZS05cATd3nGSKUj3DjPANrPNU6kHHkb/84E736uMX60sP0jAlnHw90YiOVnDZeJl4l1fs8i4BcqrvVvyK/0KxhbVWfSvhp6WTYb92poZNn+nHS3il5P+2quk58se6Pwlfxc6bzd+L2SPNKzTZyn5Zu+Xw+9yrN9ECjnwPZpq+K0ECgECoFC4D2HQJi6YfCOrxOMhjDzNxdmvbjLjWJ3aTj312OJ0YQOOj2Bd/F6dAxgYEkKv764dDcy5779KuMi44sXDadlroHpwiOJ+lsILEMgx9J2MWiS32VCbMHNtaK7WdZ6vlxvl3barNzbobz2yPapdtkOLbY1PJZzYGtwLCqFQCFQCBQChcCGEGgL4TDfx1fs28b5YSZ2EczumhnOnT07vPraq8Mbb7w+nDt3dvjgkQeHW265Zdg9NzcsLCw0Q1n5hYWLw8KlhWE2ys3tnht27949XIh7XgFmdTO0O65GJ0QXcY0v+/r7a9U2R0BXf1uIBtftjP+2MJ1kjNwjTl2BuBxdB+Pf5jgoh8FygN4Dd5s1SvQjAZ2xT433xtpaQd6tqls966WXfGaZ5HGzvCSdG+mcbZM8pYx9fMZlnhvpjM/k9Ubm82owS9lSPjTeazJeDS47oUw5B3ZCK5eMhUAhUAgUAjccAm3RZXHZOBsXmQyWmdnZ4ey5c8NTTz41PPb494aTJ08Mv/WbvzncfOimYXbPzHDxwoXmRFi4uDCcPXtmOHH8xDA7Nzscuumm4eZb9wyzsUG/vbLAKOIN6AxmUdczMNjb/oWod2RjZCCv3Y3Xo+F26fKl5tDwksHi4jQQkqfRah6CJQksVi9dujRGRKbmIFikuZSvrt47CGS/SEOFsywNmDZ+Ygxl2rTU8mV/Wck5kHSy/PT9NL217rNsn2c6Luvp86x2PV1WPuWn41ejuVr8avVdy/ie57zGX/Ioro/Hy/T9evnLcvIn/fWWXSlfT2+l9O0cRzbHajhJy3GzEg6rldsoJslHjlXl0U7e8LBVdW2Ut52Qv5wDO6GVS8ZCoBAoBAqBGwgBJvFoLXMNXIp/GS5evDhcOH9+OP7228MrP/7xcOzY68OBvXuHffv2xa6AubY4Wli41HYInI98b7zxxvD440+03QWH77xz+NCHPzzcefddsYCbHS7FQg5t7/NPLPAwua9vUN/oHghJL5F2YujPWOhBIf6BIpwCvj0web+iyfmOxWdn/KcU78iTCXV+zyCgjdNImA3HmWvjRDwj4fjx4+EkO9vkPXjw4HDo0KE2PhKAvo/In8ZNpvfn1QwONDKtp5dlV4rL/JlnpXPS7csr15fNtD4uaWVa3q92znwr0VitzLWM7/lI3vr6pPd5tLkj4/Pcl1ntOvuLMvpPtn9Pf7WyfXzPZ5bt4/q82/E6ceJsg9Nc7FKDVeKeMk3fZ/xmznB0ZNuow5g2tgX85Ni3O8586KhwbRAo58C1wbWorgOBVKqpZNdRpLIUAoXADYzAdhnTq/G5Wvy1gpxh3Ix2RnIsXFuIBZIdAedi5wAHwZlTp4fbbrp5NJz5EBjIkX82jP9dkffk8ZPDE7HD4OgPnxsOH75jOHv+wvBzdxwe5vbtiUVdPFGNMrvCEOcgCHN8UZQouhhmIl1I+RcTuouWvSuT7HZZ3nGJT4s91L36gIPZ2VhwzsbTfq9GRL0z8QrF7GzkCT4vL0SByYGXsbpx0djuRExgekdl2ygica65b32NBidH4sYx8IMf/GD4/ve/P7z88suxs+bkcPr06YGzTH/7+Mc/Pnzyk58cPvKRj4z9bx2dNdsi67gSZ5nPOQ9lktekdyU60+lZLunnfdLO/Jme56w30/tz5hHXX/e0+/zv1jXekifGofs0FvGUMmae9fKJBkNXaPpoHf1hJdor1btS3Eplt0McWdIh4DqPbAPtsVL/mW63LHe1Mhvfr7zyyvDkk0+2cW5co6lPGOucBO973/uGz372s8MHPvCBgUNQ6Pm42rqr3IhAOQeqJ7wrCPQK5l1hoCotBAqBa4ZATdLrhLYzdL0GMGNBxj6O1wZOnDgxnA7HwFwsbO+OHQH79u6Lp/5RINLj2Wczpmd2zQ77I/4WzoMwsk9G/jfefHM4H+X3xG6DIDdxCtikH8GT+Qjtb9BpBnfct18LiHM82F89ZH550B2pLMu/0jcFGu1gxB6G8+fODxeGMODCGWARejk8F+cXzrfvJpBpdzg85mbm4psLs0FXhTiMc9QXl64q7FAE0uCgW9I58Jd/+ZfDd77znWH//v0NFfEMCMbMvffeO3zwgx9shoR78WfOnGlOBPd79uxph2tH0t8IvGnA5hlvSY8Bs5Gg/j54enshxjGZPEFVhzFDVk9O0Z8u05efvsabI1/B6Mv211lO3EbryLIbOeNJXQzAU6dONb3nifCBAwda+2wU06QHt6SHPgMSTfJro/XIJi/cHX3oyyd2ee7zbbdrMqQcnNMM8XS4wW5vzCn6Xubp5ROX4yDjV8qXaaudtZ92O3r06PCtb31r+Jd/+Zc2ZsU73oz5Df4PPfTQcFO8Rnfbbbe1MSFOunA19a7Gz06NL+fATm35ayi3ATo9OFcbtNP5riFbRboQKASuEwI3+rheib/UUdcJosVqYk3VgoXo3O49scDxHYH4GOHLrwxnw5i55eabhw8+OH6McDaMA/l8X2AhFqwWaveEEfSVL31puO/97x+Ox6Lqtttuj28SxKsJYVgw4O0u2NWsfhb2pbYrQRxHhAWV1w9GA340vi3wWvmLYZhEXYJdCnNRp6f++N0Vjogo2vT8uB6LhZs63IwRrVxbRLf8Udfs7uHNk28Mb735VttFcPe9dzfDx2LvtdeONafA4eD9zjvuGG69+ba20NMmbbmH9ckxctnI158dhECOWX3CGDh27FjbOfDP//zPw0/8xE80ZwADUL777ruvfbyTgSg/o5rB8cILL7TDuGFUODgJGKOMbmd9NusC71p6wVhhPDGk1JXGE/rrCX090/mN37dj59Crr746vPTSS40+A+2uu+5qsjGM3K9l5OI968Bf7rCAn/j+UD95yN9jArtrFfCX+L711lvDs88+OzzxxBPtqfADDzww3BG6ALbaxqsi5E158JTyJY2MI5/t6HaWoKk93h/60SFo55tDr2Z7t8juj/La1W4UR++c0cbJD7rJT/KQ9x25bXdJdn3umWeeGbSL/gC77HtwI/tKfS/bJHHIe2e4OvTFdCSI1+fQc7jnGP9xvFJnvP7whz9sbaAufdF4QCOvOfyy36oz6912oN9gDF+7UX+DCVrsbD0CBrEwPRin77PmzO++v3a/Whlp2yH08myVLD1NGGwV3Xcbz83Ipex7BYfNtkOP47uJyY3Cx1p4WjwIcOqxwvtK/Ivr861FeyvSfITPgswugYUw7N8Ko+C7j/1bOx+JRTLD34JMwJtdAsnjgVg433///cPhMBouxC8X7IpF1L79+9qvHVyIJ/WXYyF16NDNQXt2OHPy1PBiLLhOx/mmWGy/7+67hzvCQJK2e25c7DFInn3iyXhV4cnh+eefb3XeHfkeDAfFhx/6cNA62HYlzEU9e/bsbQszC/jTp88M52IhfU6dIc+ecHQcDANmNnjZvXeulXnhzNnhu9/51+EHseD79Gc+Hc6Q3cMzP/jB8O1//MfhwrkLw6c+/vDw01/44vCFz36+OQVa24RTQBhP9h+M884Yu33/NtnIFX1yu4TkGb/vBt/qdzBW7ozdNHYHMNS8QvCrv/qrwyOPPNKgZEjKg0cGh/75+OOPD7/zO78zcCaIU96vf3AoeP3AFmVOBkZI1sNoSZldC30aoxHd7373u82I+sVf/MXhox/96KKRI/9GcEKbrsKD+rwy8Xu/93utDvoB3+Lvueee4ROf+MTw6KOPDkeOHGkySOvrYkBxMCQOtmn/wR/8QTP40EpjO41/eeW5/fbbh0996lPDV77ylYZtyt/TJtfVhpSRHGiSl875+te/PtgJ8tRTTzV9xvmBd8b4pz/96cYTHZTyqD95yrM49DmO/vVf/3X4P//n/wzPPfdcMyS1dxq1HA+f+cxnWn9RD7wzwE15O1Iee+yxtq2docoItRPFKyv6iT6HF/XlkXzkOWne6OfpNtEef/zHfzx8+9vfbm1jnOgvDnPBh+O7Nj/5kz/ZxpB+B7Pss2R1L2Qbu4bfa6+91ox9bfL66683o5+jQJ+Dp36XOzzQn5+fH37913+97RCQRx34+vu///t2jRf51aMfbTfc4XKjhnIO3Kgt8x7jK5VnDuAcxOIzZFze74Qz+afl7jHZCRhsVMaV8JnGcKM0t2P+q5U58bva8tNYbRWdabpbeb8Wj5kGl63GZlqGJW0XT+nCJsy6w2XRdgNYaF2MbwZ4ynk8foHA/e23j084cxHfbOOwUy7HYsj2/FZm8iTG4ml/GO97w2B6OZ78/PDZHww/CmfAg/MPDocOHBxef+3Y8Lff/OZw8u0Tw3y8q/m5z34mvmdwU9uxcCnqfev4621BbFH4TDxx84sJe2MB/KPnXxxe+OHRcC6cHB595NHh4L7Y2hxb/3eHk+K1+KnFH4aB7yndj2O3w+lYBFqseTL3oYc+NDwUC8n7wnmxxyIy6njt1deGx598yrsRbffDq7FIfDNkvXn/gbaI95OMAUzDZpfriVtAnBCt1M7b5Y+FsnlPOwnZz5yz/beLLDcCn3CDpafKdggwEBgOzow+AeaJu77IKPH+MoPR00hPoKV7ku6DntLEGz8MUEaQoN0yuEZL4GxA85/+6Z+aofK9732v8cRg/9CHPnTV7Zr6Rx0MVE/R/+Ef/mF48cUXm2GLL3znDgjOgy9/+cvNuQGDPuhb5HHGKwfGn//5nw8/+tGPWrZ8Co8ex8Do4DvdDD9PiBlzxjAawlb1V/w40FM3XecJNScLxwDDkdOF0U7n4c1TbDJ86UtfGj72sY+1+MbU5E/PG9p2DaADP+3LgYQOeurj9PR0GgYM3VtvvbXxo17b2W1l56yQz84BgRHrKTq64jkatDWMBPX253azTf7gXd925hh4+umnW9/mHCG/sUZO+NmJIR7GX/jCF4b5MOC1Y5ZHI/sdJxSctR+a2tc8AUdpMNXvGPgcU+6/+MUvtnbRZhw6HN+wdq8e/ZizQntyHGVd/djZJrDf0GyWc+CGbp4bl7leGSeXBq7B7RDkyXwm85xYU4lmuTpfGYHCbDlG/URQ2CzH5lrdwdwC2fhO/PPe2LZwMIln2o3ULtO8rMbjavFbhWlujZ+8+t+M4DR+PWm3I8BirD2pioXq4TvC6Lnr7maskOFS/EoB49gytJ3j4uLFhfaE8cUwFPbGU/ojYdzcFtvyFy4sNEPgW3//7eGVl3483MQ5EAbHN/7u28PZk2eGN2KxfUssyh64LxZfsQPgTNT7TCzgvvk3fzM8/cyzrY6HjjzY2vzZMP6fCiP+jjBAHv7ox+KbAPFENfT98VjkPRmL+v/3//7f8Ni/PRa/sjAuwBuv8QFC9cl7Wyy+b775pvaKw/mz54YX4hcYFr73RDx52z3cfMvNw2c++RPxXYXYnRALzbvfd7fJo2HDaYKW2xbiejsF/ckimNFhfnRvLrTQNV62a5geT9dTDhgyCBh0nqAfPny43feGfOooGMvPuGZ8MqoZORwA89HXXDM2xP/VX/1Vo8cAZzTSab3R49rY9MRTfobOP8aOF+UZ6QwoBhOj5WpC8g9b/DNS0fbhRUYQRwhDiUyMacayJ6iMaK9HkMWT7Ay9sYZnZWzRFs+RAD+Gmb4pqJfs6uEcUM+1auekS2ZOCLIyuhmmeLCFXdtqZ9jiWyCjNOccP9q3D/CHjTbXHvCxw4Rc8FGXV5nsIPFRO7QYp+pSP8NXX+AgFQ9zTif1cSJxrnA42G2SRnPK0/Ox3a5TBk6pdNTAjyEOA7jDlqHPyQYv/QiGveOT3PoYvecVAE4BWOc4097GrP6HBmcNmhxt6Nh5o/+51rbaIIMx2IfkOc99Wl1vDoHtOzttTu4qvUkEDMZUynlt4uQRpFCkGciUPwWQ7yqZ5ARlckDLm9dXYivrTBpXyn+90tfL/zQ/K5VbKW663Fbfb6QNNlv3WvJdiY8sm+fN8vJeLb9V4yTbw9l4NrEb48a1OAsA491EbqFgEZaL0ix7I2Kc/ONNX8oD79cyBGSBG8M+63Td7OBhT+hJi3WLz+89/tjw9onjw0fjqZaF2YF4qn7+Qny4LwzuMXhPczSUT0S+f40tsP8ShsStsctgXzzV/+DdsdV4z/7WFq/HQvilcA54XYHRcTacCeGFGF6JJ/j/+p3vtqdfFtDa1cL4H//pn4e7wtD5mZ/+6eHXYqu2hfnX/uRPwmHwTPti4e747sBsYOapq6dIX//Lr8di8Tttl8GXf+7nho9+5MPRT84Of/d3fxeL6afaNxPuvXc04ry+wFlwMdKff+Gl4eGPPRSvEHx2+PIv/EIsFm9vTorxg4xhSBMv6gHQeD0RvZ2gtkpogK6Sdh2i9XtBn4K3edGCm0Hp3jiZD8PU4jj1mHNf7jqwuVhF1ps8LyascJH89klZfqW0Pt9Gr5NulkuMMp5RZ13B0cLATSNXfuNbfmsPmDOw/+3f/q0Zjbbi/+Zv/ubwc9FX7TbwZP5//a//1Z4Ue1rsyTQ9lo5OtFKnMWL+7M/+bPjGN77RjG3rGTown2qqS35hI3iQKcupS5/xhNV4ZLD+tLH4a7/WntTqP4wzfDCoGLEMVTyncyAxSh7obTTJZPu2bfo+6IbfXKcpo25GtIPhOx2m6fbpmSYu6+3T81q+TFefe84L2OJF+/yX//Jf2vZ9ZRiqXg9gaJIX/7b3a/+sM+nBkB7jAHC49xrAz/zMz7Rt8AxNRupf//VfN4fm3/7t3zajl4FLBzL66TQ6D03lfumXfqm9csJh5LUHvCjHOWQbfO5WSfm22xmGDm0hcKzYcWF3hD6g7/3H//gf22ssnCr6/n//7/+99U07ZWAAv2wDtFzrt3bUfO1rX2tOLGU5BWBqt4tfGeBwEf9f/+t/bX1aX/ZqDgeR9tAfrC2S9jS20/HT/WE6f92vH4FyDqwfq8o5hQDFm4qAQjHJOnioKRpeRpOPwf2l2A72sz/7s03BIGPQCxvxTufAV25aKYirsDkEsi03R2VzpbVrtnNeV1tvDNPEb2Ol1s5t0WSh6kmVJznqMIYZiA6GzsMPPzz88i//8jAfhk96+2+EPjUtGZ4slBnhFqQWMYwMT0Ysciz4t6LPtXZg4LZn8M6j1SreO/leK2g/X8jIvxy/3R59/6233xxe/FF8NC14O3TTweH99907HL7zcHzRf9SlSIRtvThG6Nm9seD3bv+ZMJAuhBH66rHXhrcvnhzOLnj3P55UhzH/o2izfQf2DZ/4yAeHn//pn2mvG1gAnz57phk3tn7a1vnDWFCfCkPi1deONV0OIwt3hw8j3h9Gg7ZV76lod0+EfhivG9x+263D5z/7ueGr8X7ooZsOxaLw8fal6Vdjh8CPAuNXwxHBiPKTil5T2B3HhXCEfDL6zGfCULnnnnvbTgcYcZyM5jXMlgIoAyJulbiSY8Qzc7T0vFmelLHX5dz3HWPEPMhwZaB5OupJGQzzaZy+58mvfreR+bAXpvW1SURff5/nWlz39U7Tn05zPx03XSZ5d15PXusLzkn6Ca7w5hBIHKXTVxwz1iu+K/DVr351+NznPtccA9YmjE3OG0YlJ4L1y5EjR9qhnyffyueTUHqDUWhbNf1HN6pHSL6dU55pOVe6R19+ZzLpK2jjj7HsHXnODDx//vOfb7IaU/hl0M7Pjw6nnjYe9D0GGD2nj3EKMMBtp+95zXLyOK42pMwryS+ujycfI/Ro6B3GPt7+w3/4D+2dfmNCXoaiXQB2JyUudhXIn3jh1bX8dBVdRm4yMkS1O/2ub5iryGc8ajNtqQx6trFrV3OZ49//+3/fnAsMVX3BjhNG7Tfj1Sx9ht40vtFNuZOXq8XvepTr26Cvjzz6uPHECcUh9Su/8iutv9BZ2sK3AIwnTgL4mSM4pgR91wErc6zxxCbQHpwMaP3UT/3Uor6Tx7iDnTGrb+sTMEXjSkGeadz7+yuVr/TVESjnwOrYVMoaCFAuOZnJlk+8eGVNlBQxJUyZ8D665rXOgWtQm6woZgqJYs4FEkUrbz9Bqa9XaOrOezSTbvJC6UhXf+9N7/OtId6KSRYaJhGTmWv8OnIxgt9exhWJTCItYkzs+MQfpYiOgEe8y+OAFcWZC54JiS09qVNdzupTP8VP3pSVfHhw5kV3vZ6AFmVvErCIcW3iYYjBi/xkV2+GbKc8Jx4w09ec9QF8oAG/vnzS2c7nnGTJYKFjgWTMwD3HlraAX/bxlFdZhzCNrTh4ComvvK6d1SUdpugLJmz9wdMsY1Y8vI1djkH38vP6J+1W8Ab9k5joixZ5FkMWPPqlBXjiq285cmwSJ7FK7NYScVc88mbu9mEhsL3YnAPxZDksWunxvLF9EPB0YP9GjJM3wjh4f4yPW8LoPnDo4LIv9WvWhUtRIl4x2BVP4hnatwXfc3FW/vX4NYCTZ0+HkX862u30cCJ0TPzcwPDAPe8bPhkf0mLQHIxxYxyR/Vxg8Gqcnw/5X44Pb916y83Dgfh5xLPnzw1PxNMx7XxnPPH58IcfagtlOs/4eyn6g6dnu+dmYwfAx4af/7mfbR9FfOmlH7XvFTz3wovx6kL0mxdeCUPn6PDIiUdbH9sdrxLcsi8cMOGsOPLA/HDP3bF9OOq4tMu2e30zX51g7kdwkjC59VuP05i2fP6AOvMth33Mkmnj3TX/a6xaVDM64Ehf0YP0vkU4/Spdv8sjP5KnrDLZz3JcTd/38Zm2EcGU0afp/zQk6XxPwz3pE/BhDMhjzEs3Lox78VkvOsmPMsZX6g3zpntBPtfKkl893t9m9JE/aTgn7Vaw+0PnwRMNfdmRQZwAZ1vBGdp4ZSQysj0Zdy/ktmlGnyem2oQRKpABrxm0UZZnRDJmPR1lBOG1lz/LrPesvAO2DH64kY8jI5/O0rH6BT7SmUk+7WZMTgf06DZzBz2trDWRttOW5hMyisu1zGp4T9OevlcOTRi4zjbo80lzqFPg0KF36RHrRLIyPulfvOKfzPqH9qavtE32IzTkySCe05O86kCLc6Xtvgos5dWvGbPGpPUIxwk+8GwdynFiDlA/BwFcEhM4O8jpUJ/2Iiva8mXe5OlGPK/EI1m8zgYTfY9jxfv/Pr6oPQRtATs7BjzlN1Y4B2AGA3SzbbOvwQ/dHKPi5dEfjZ2/+Iu/aHVqYzta6ABjM7FMfN1nn7UekYfuSOwT/xsR7+3I0/pW99tRsuJ5yxHoBx8Fn8GgzYkglSZlTIEcCQ88ReveE5IMFIXFgm1aFkmZx6RlQmQ4UhKuKRN1ZMBHHuL6NEqe8eLAE08vpUOpKTOdv0Vc4U/KjTbF6aM+FkgWGBYUaPMskw/fJtppnqer4LWmMI+GxxyfJr5UiMrC1yREYVu8kCHl6OWdpruZe3UmbbJy8tiKaTK2EDJxag+yusePiTbLZN2JV947o2cBZYuZxYq2tX2TbA4TiAXPSu0NA5OBicjiwGQOf/zqNyYrZ/yZdNSfsuDNsRJPPX832jV+8yALmb3fmrty9DuLKZOjiZv8cMw+pAzcUv7EpZfTYlIf0xe1j/zGpfbWh9HUp/VHfVS7W5Dqq+rS9tpFH2HwKKtc6gJ1TfeNvv536xpPZNDf0slEBxmPFpXiye6sT8FXv6SblMuQsq3Ut8StFGhNzgHHpXiKfiEM3fZLBfG6wJ65ve3XBk7F0/yXw6i5Nc5eLTgWH/zbu3dP+1ChnwvkFDgXbRc9u/UBT+oPHBo/KnjuxMnheIyN06ej7NvHY8y8MbweHx983z2Hh0988uFmZBh7rx17rTkUtJtfRvCrAa8xiqI9b4+fE7z/vveHA+HgcOr4yeHgzYeGB6K/PRRbeY17+k45i7tjUea2W6L/xXcRDkbbP/X091s//fY//OPwavTZA/HzhW+/eTzG/g+HNyKvbyroo/sCR7+ycHP8ioJfSbhwdjRsLk92RYCPxofiiGRe9eeVEO7jIu9YeDFy6nYxPttyMWKLLowd48a4MF5thzbe6DKONv2NPvRkTV+Th15luOhzxljDK/qegM+e19QRfdxGWc++aizQM3aDMKqNfcaa9jam5dPmDDnpdND8/HzjM+ukd3rd28/zXjMhu2DBn8YsuY/EOsETfWOMbhGSr3bT/cl4YxFGzrnuyGyp79Rvzja+6UrGonkbrviUT1CvdkKHbMplgK06na1jtI9y9IM4bUh3Kotm8pfl13vOcurWN+hhbcCZ56wumGkL19qF/Hhxra9lkC7gKQ04fUx5Z0aZtQfDTjlzKGPQ+gXNnlbSTP7y3jlxyTj36lR/8iAu82l3GKEvjoz4gKH6vW8O3yyT5fr2JAMaWb/r7J/SOAfocuOG0WrOIlPSVA5e2hzW5kDl8KuMVzQcQsqgDvmsYTgzxJsX5BeSv3azzf6QBTbaRt84Gu3BaeQJPxy0Rx/gZn6EqXWDNVlvwMuLnvFG39kxAGe6w44LwTjS9+wq+EbsQNBG2sorHHQB2hn0p8RXG6iPHjFerRuzL2VfyXJ13hwCS9pkc3Sq9A5AIBVlr2SJLZ4iMIEZ9BSLbW+/EO+RUvYGtyMnHOV58imK3//9328LTcrAhE3ZUDwUBaXCc2sSTiWck4I6eyMk4bcQ8DEZP0ODn5//+Z9vnk80KZiUIfNv5GzhZNL+1re+1SYIixIKSpiPRZKfUfJkgswWOL0hQWYh67dYYez9SbzLm5M2fCheWFpswFE5CxrvR1okWEgljo3gFv3p21TdJlhy8upy4sDPAhdvJkX88Coz8KfbIWVM1tyTBU3vD1qYUO5oaXcTA4+x/qK9YaoMnrQZ3JXTrhwWJmeLChO8p00WsMp6QgA/fc1khC9YOU/zlLxthzOsOLss2i2wOUaMCXLBB37GijbJhS+5jBXyZ3+BC0wTD5MsZ4PFvkWPyRrW2t/4RU/76Mvq0Pe0tzHqWprJ2vu6niLo70l7O+CKf+PWojQXRvlFZQaboI+RlV5jDFk867dwzzDdt2C8WvDufLRCcw4whC9G3ovRLhdiYXYhznYUeJK/8Mabw2OvvNba67nnnh8Ohm60gBUuhYPg7NlzbRx+PNrjwQePtDROhRPRV/xaQC7GPN0fTp0dPvHFj7Unnp7+z4WjwRie2z0XvzTwRvuWwE3hYPBEn1wXw1HxyKOPDF/52V8YPnD4/cOJS6eH8xfPtzH7VvCl/zGgYEMnvBHOi3+ILb8/Pvba8EIs8h9/4qn2isNHH/rgsH9f/GpCLDjFO997f7yWEN9PiBEZv4xgO/jr7fWE1O/TuEEy0QzzbPz2wHSmDdz7nkH7fsEGymxFVn2EjMYW3OCv71kw0//p0Kbf9EU6kIPAwXCzYDY/ap/sX2j2fU+8o49bD+/0hDLK0tP0Pr7SSMIDnjkCvav9u7/7u+3aT4wxHIwjQXn8JS36hizi9BN56Qv1iacvOJn0J3qIQUe3SO/lTBlSvrxPOjB1LciTIXHQV10bt/igo9SvTPa7Pi858SmIT9r0KBr4TllTRvSSRs9D8rKec5ZXX+ofjjzrCRiTUz14ENQjL6xynhOXdDIP+bUrfa9d/RTcn/7pnzYdYW5Rln63zvh3/xBC5zMAAEAASURBVO7ftXZndKUcPb1WcfdnOi3nJGXxSmc54JTzEH71ZfJoc22vf1ljpCFKrsQdTWWzT6CXaVhJDNSp3ThD5DHGrAH7dRh+80A3yyc9Z3Qc6stAn1qz+hUD6yFzonnD2Ej601hk2XfrTIb18iQfjM3/+os5z/jP9W0vA7qCNlMusROnzR0w0cYw0nety6wlrV8ccNNG2sCa+bd/+7db/zO/oplt3beDNtC2+ENPX9FP8ZFhvfJm/jqvjkA5B1bH5l1J2ciAzkF6vQeE+gzq5NW9SdfApuAZcgasidcgN+GbHNyLF2dSsBA/Gl7KLE+ZO6RxHFAE8jL6lFUfRZTy5rV8FDbD3Yd6HLZFmVRNeAI6QvLcbq7wp1d6JlH0TQ4MKRMbmVN5mjgoVrxLw3NOdKohv7opYPxTcBaFMLAYwR9sMg/FadFEbuloXstAVjzgkxycK14RYTCKJyd58WEy16bymYw5RXLix2OPsWt5lWHcMkTFwSYNXIsW77LLBwOTkn6AJxh51/Bv4gvqFq14UdYTTLgk7haZ+iRPNV5NHnDO41pit9W04eMgK7zJyPjWrzmV9AnywQp2DAqLSbL62I/dMq77BVXiADOY6sPaV3sYK+ox+WpP53zKp99zPKQzwPjGG9rwlq5fWAzgVz3bIeAdjgK+YWkhru/YKkynwFS/IqM24JSy0LHg9IRX/3VO3QRD2KCFvtDaMiBZhkrcLBmoEkfD7Hx86Z8x/f4wBucfOjIcfezp4XvfeWJ47unn45WBMGgsXBvN8RcKDh7cF98GeDUWY1EuDG6vChwKXrUNHhiVjzzyqcbzZz73meED8w+0p/tzwZvXEO6KXwWwSNt3ILaPW0RHn7ozzo+Fcf9Xf/3N9ssDH/vwx4azF87FWDvRfnngxRdejLaG1b2xMLt1eDScen8fi70nnnh6eOLxZ4eZgPTu993VnEif/cxPtjH6N6HLX3jxR22HyaFYdMJbfzkRzgy7BvCaIeDrnAHjdYyGyfcZMld/XjIG+9jVr+Vf1hqrZ70GKaknjRM40GXGD+OMAcfp6Uhjztg2TvU1/VM+7ZpPzHoW1zP29McMmV+ca2cLezrAGX/6sbN748EuIU95jRM6Ifs5mkkvadHfDFkORXJy1BsjaJnfYGGOo5OUsX2ZjOpLej2/LbL7gxZe0VIm680sKY+xLA0PnKf6Ht7MdQJ9R6+SC0+wXm33QmKSfGkn8yAaMGEQ9W2cvFzpjD/jAF/kggu5sh7l6Xzpgni6iVPJNb2kbnT64F68ca7vuCcfPU53CeSGkY/9mXflR49ey/qUm6ad9ag/+XTGN1zMLdY3HBKJiTJoMxr1YzKQV3/GVzo+4OzQRtZK+h66xgoetWGG5Cuxk185eKKnj0rDm+vEF0301KvtMqQsyuAhZfmDP/iDthbRDvmBQ3OBPNcr4C3lVef0fc9Hn6+Pn75Gw6GNsj/Dus0NIWsGmMqnzbQrnDnN5Us9oM7EAz24cqr7joR1nQc8HgiaT+U13mGIjv6YdJKnrNtZ/eZiafpm9tGsr89b15tHoJwDm8fwXadgsKxXEWwVs+rr66SILRYoboGhZyDLY8AbwA4K1+KAgeIQPP1lxJswDHqGkHf/LIzyaR3a6iBrBtcmZkaT7UkWURZWJiOTtWs8UCr4yLLrxSvzq488jAPGMnkYod4DdCYXY/poODo4Rig7B8VIHqGn5d7kj090KUYTt8WLfCYvCyaHyY3xDQeT0rVQhMkb2iYFuFHeJk8ycLLgwSRqQjDpM/bJbFI/Ek+1LKZMBkmLjIJ79GAHH/L6erAFIwMfPtoaPY4XcqqT4sePRZudBg682VGCHxMSDDkN7EiwsLHrwASjryibC9y+n45c3dh/YeYgg35s8aZfWcBxwBkvXtmxsGHkm6gTJwsu/SiNB7Lnoinb1bjiqEEXRrC0WNTX5FUPR5h2Vge8LRj1P2d8CcZVjmf3Oc4T7zxLu9EC3nIhkryRzQEPGFoowUyfda2/6f8cgDCyQNVP9f089L2Ue3EsNHvUon2iu6LuMY9z6EWPs8NgXYjXBfZF/XYCfCV2bTx5x53D28fi96DPxY6BKD4T3w1Qzr/oIPFawhA8MCgWos/fNDz88YeH+08cbx8N1Fb3hgHvY4RH5ueH+RhXxu9M6C58HYox9pEPfyR+jvBSk+N98T2C2++4ve3gef2N+C3vGK+nzpwannzmaVUN50KPnggsXg+dcHfotoNR3wNH5odPPfpI+7bBnr37hxNvx66v998V4/ujbSzSjfDi1Lgr+un+6F9+avG+D9w/fDbe+375x68Mdxy+o73S0JAhln8qjNAcKONlu3/nH4lRaN0h8rf/13++TBazb7h3Tf856DxzJ91vzrIAN6azr6WxyBl4NPSoPiq/fqfP6YfT/TnrXO0MZzw4O4xlddM5aBn7xoOAF/qeHhboafq7N9JawuRPtiGaDsH8rT60nekeaa6l9XknZNY8KY/XnN9TliyEh5xLXcMZv/LlIS+sPVwwR5GZAyEN5+RPvpTDtfJC6gi80J/G3UbboRGKP/SqOsiD3zwyvT/rD5y6nAPKqJd8GZQV0LQW8Z0E4996SX+h39zjVX+yi9H8S+dz0hw5cmQZvaS72ll9MMELfWluMSfrM9Y55iNtpT3gZC5Xd78+c59zyzQ9NDiCjBNzVS9r35Ypszg08OOch3R0rG2MJbzAwjgSMp8zfqzBfNPhG7H13QMr9VoLfeUrX2lOeP0l+0IjcI3+4Edwzvr6OGkZr/84BOMqQ6bnfZ6TjnQHuXNuc51BGjzNidYc2lK76l/ySdd+Scc5HQTyoWnNn+3v3kG3WMfoj8YeWnhKvvKMNnkynYypQ3o+k986bw6Bcg5sDr9rWjoHSCrMtSrLAWRATodMEy/dADewUnFOl3FvsOVAn6Y3fY++Mga6xYRrk5AJDB0KPetylmZSo3gZxr5g+uX4oiyDkfIVZ+uip5cMfk/hGT2pwLN+MpjUORNsd6Rk5ufnW14KDB8pZ5bZyBmvaCTPFJuJRR3ejcIzg5TC8lTbdj2TrAWUeDyTJ/FRN3qUKuPC5GRR58msVwY88UUrjRH4mHx4Vy1W+gmxp7kRmVbLiy+HSRtf2kd7Wih4F9TWL5OyCZ5x+d/+239reFtMmGjJYSKYDrCTbiGjP6BhuzrPO2cQ+Swg/vAP/7B9j8AuAYtOMktLLNDVD37jN36jnU0kcJQH7vn7wxYb+i18tL2wnvHTMt4gf/DuEPQBbcEpZVK13d+vfmgPxgHHiJ9Vsk1U/zwaCz39KBd+iQNc0IA1h4o2NKlb6KDH4ZALOFj+j//xP9oCL8epSTj7SMKkbY2HZgBG+nr1RZa/kc8W0I4M8GMIWKTqy86wMY71QYsaxnA68Yxj42d60ZIYcgqENphgakHFMBgNGP3/3niq/+lPPRJjcdx2vyv6w1w8Ze8x1v9virq1owXuF77w+TYm6GC64lCMydtjUXaZHovabOXXZl5j8IsBXjG4N5wC2s93BmT6qZ/6Yiy4LjSH649ffW14LXT1npBFeYY1/g/dcnN8KDE+xhqGPdl3x8cFHwoH0qnTpxoOnBK33BrOwtD9ByPvT/3szwwf/cTDw5kwGg6HUXtb6LLbwhHx0ksvx68xxGIwXm8QmJDZ790HOk6bCMqP42gkEvfNEbMJkltYNGV11i76in4DU21KP9KZ5jXOWuM7F9L6ljzmGAdnAR0sHo2V5u+srxch45z1J/XR8XS5+VZfcs8Y8H0g+oau8BqYM6NUUF7fEMji3oFe7rijf1KPyEO3MczRp9tc45teW8nRjLY6Up/T76nj5Ref9crnWj0C2fRzdRgr5JKuPL4YJ8a0ecf4k6enhUby7jrrwjva6stxl/OgurN+ciU+yl8pGL/K0q90j+vkV/ta93Co6w/0lD4zvT5QBz5z/cBBIOAz+XfmrMezVzKtzWCk3tR/5Fa3eteSIdPyAQN9qaz6zC3mcm0AC/LIr1734vUH9QrqE9zn/Afn7PPZfklHXvTII8013MhCfgFN+bUz/JyNHWuSlFU6nvUL+fVd86Un3vi3TrP28zAL5urLkPSzbPZJvKQ8roXp+56GNPn6vEk70zK/8zQGcCI7PowrOqHnsy/bX6NNJuNe+aSRedDQRuY/fU+70TsO10LKmvyKU859tr9+aq60RpFGt/lZTnnYCvqK6wx5DU/8OZPZ2MOjMhW2HoF3rua3vo6ieBUIpJIy0FfyRkt3GJQGpGt5KfCVFIEBlvEGFYON4hSvvDRnB2VigjboDMQrBWUEvKSSwAvllCEnVud8UqwcQ9F7bvPz860u6Z6K5kKIoeqasU9pZV3o4t3iw2RkAmDkMIwsZGxTJ5MyFMrVBnWQhTI8GoaX4B13H2uxiEh8LOR4yx2wNfFQpBSgtkl8XVOuFiNkwzcD3NNZCxLBWb5sG3Vk27UM8afHIeM2c076Fht2YfD6axPv8vOSmzyzffFKuVPMJu+cDNWPL3xnIEfuGhDn96W9q3rkyJHWr+XXZhYoDFcLAdihq+3sqPBtA7xYGJiUnZNfE5N8MDIR6v8CuvrxVuPUiF/DP31fUY2+Dz9Yc47o4xbmiQFcLMKMKf1efgu8Xm7XcNGPpTP+TdQw55jLj45ZoFk0GTv6AWOD0avts5/3omsD8coZt+77evu8G73u+5DrvEc/j43S3Ex+Olh/Mp6Ne/wY3/QC7LURIwNvMGM4GSNNh04WTvGcdJRjMjxCklEWuPk5wzBkdweejOVdUd+th25ptOKLhaNNG1mUyYAHmBuXMzNz7bUApPEgXrrcDS+FIlGcPma3gbxeR/Aqg4x2Ltx2263N6clpdDx2IZwN3Zq0glC83rB7uCMwgMN+OiEwuS92OrzvgfvDCRFP2+bGOcDPMsam6CAaX/L22sK+2Abc0uMbGFEvp8D7QvfNmq+C/8YNhiY8khOvLSL+XlUYhZ8qGthMxVzvW3JlO4wyju2Cj7FtxvnCvX6Xxr8xZtxySBmndCWdSV/LZ1cR5xR9aoFNHxqfWR96gvt+DLlWLx1Dd9DnqUfl17c5bdWjr5mf6SC6V0h6rpf1vaCLV2V9l8Scpy8x3vBLHmMo9Qedb91BBvyjlby7Tvqpi9ByjV46RuTP4Foe8ymHPePXeDU+1U8fWj9IYwTCgKPewwkGjDqzLmlCrm9cS8dn7laDmXLO8msr9JUxXtBKOZRfKciLBpmsefBlZyR9n2sJfHPUMFphx2Fuy7Z5MAO5+5BYpOGsjR1pOKrXoRya2iXnGG2obzCiyZa00SSPQ5x7MuoX9B6erM3Eo+3sENRrXUY+/ds5dSj9Kr/+oY//3//7f5uO1S7mf/1De0uHRbYV2nBXFr/mOm0+Pz+/iA3ZYOew/rW2QddYUR49PFvD6RfqdiaXnzW0VrX+UWfikDirW5uZj/VleKUxK0/KDy/Y99j1NNSvvmwP+ZRNefHa161e9xnn3jjWbsaTNeZaa+DETdvqQ7DVd60BYZ27aPDoYZ1vB3i44AGF9Fy3Sk8+2Rj4Jge67u1M8RANRr/6q7/a1jLy/M7v/E57XQkm+PxyPHTTP8ghjlzyOWd/ddaXYZT4qLvC1iFwZctv6+oqShtEgKIywHV6CsEi3UDLQWBQpCKX14RncKeSyOrkEww2hhcjwoRDISsnv0EmGIzoUNAMdwuN9Kq2DFfxR/2UhLooLcqW8jXZ2SZOuRjs5MIHWU266mVIU1SUi5CKwDWa+HOGg0lfHQwbtMglLWUTl1gov1KQxyEoLz9lbTFG6cPX4ohS7BWuyRC/Jg0TkzKwFJImetqA7NrVBEx5u9cWDoqTcjaxkEcdyl1tSB4Sg5XoJCbyah+eXJMbw5zTo1+o4YWs2k5fhLsj60E/8XOGBaNJHpOMVzHIpo+p10FGCwqLEQsECyqHxa6+ka8S6Bfw6vmFnUkervjpscp8K8l8o8bhGW7wJJPFkf7s2iIqJ+NsTzhqC1gdDeeVcsaAkO0Ak8ynvDFj4qcHLNxNstrAwpkB4BDHGcExo22Mz+mgLuNSffiWB1+Ju/pTniybaXm/2nk6X3/fX69Wfq34xOVKeciXCzLXWc619hDgCSu6IfstncVJCEdtc3e0zT3vj6e7d90Z9jFMxpobPfdxO6Pd44Js0mfDWWBzAVO6pa+57pFDiAX4eLH8L7qTBCc8hDBjnqgnlpVtd4GImZnY6RWvDByIsebDhAuXRzkbU8EYQ95OAr9uMBO61S8uzOwJx8TlMEJHivE3FuluWh1x0WRZvtTgzJgNR8NSmSz8zphM2fA5SHGCnAtdRtfSyXZnLH3vYTnFbF+xrh3aebVzpmXepOa+p5HlM79zf0jX7sYRfanPGUepz8Y+MepKafI4lDP+jHvziXFOh3L6MXI5qOhL/bWnkXyKQ8MhGL9pHNCrdsFJo4PoC3OD3X2MI3MTHskhoNWHvKdXGF+cTfSIuY1ONweQJed28zTaDErjKXnraU5fqzvHpfKOXv+7Vp+1jLmDscg4of/IZa4ll6fCruFG55nvBLxZqxjX5jzfInHu65APD9oOfq4dZDOX2f2o39kpx1mIH0H9iVGL6P6gQ9drf3oEf2RQ3rzMyOLAVQ9j2W4y2KKJV/O3M5lhrwyHsHaEPZxzzYU3et9cQF79By1rGTLpWzAjC3zMB9oOBuoTUo48awdymnPkyXydiK08GtraoW67EOlTPCtPDrvivhFb+vXj7B9J17xvXWYs5FpBOfw5eyWHMQs7GMDE63TwdK2ts1+iIX/uQIQ7fuTHm/ZAg4ML7vpI9mfjQJyxqL+ok76xw8AYNAZ6HFzL7wwDeClrfBl3zupDX1n15tpQu8Ah15keMMFJW3MCwMH8Y+7RpvLCAh0h2yLbKuMyHs7yWq/5voj1n7rQsI7TFpzhMNb3ckygoz4YCuTGK9nUhT7MYYle38fUKZ3seIfNdEj+Mh7NXoaMr/PWIbB8xt46ukVpCxCgMCg/g9IAMlApT4PC4GXo2+bnTGFKpyRMKoIBlQPI2b2BR3GZKHhV1ZEKSjq67ikdkxGFY5CvJyjvENSXdbunQClgCoAyUy9FRnFTFkJfBg+5OMqFVE8v8+MvPZtkh5VyyuRioS+Hv/6+VbzCH/nwYJK3cNAOJlKTpzZIxZdF1ZWKUBn193jI5148eqkoTcBeizCpmAQYGZQz5Ur5WoipK9s061vPOXkgr7rxn4q3x4CcFiR4Ub/+pE04B+Db53VNTunKoelQVwZ1yacuk4EJlbwWlEeOLP1MjfRsI/WbgMiJDzTREJeLgZyE1SPdRGJhYzI1WVvwyJsBH0LPf6bdqGe84hs2xiIZtUm2B2PTdS8bDC2wtEfG9/KJd8DH6y7axPhD1yITfsbO0VgIOrQlJw4Dw64W/VH56ZCLe22RPDhP4933DWnaV/2O7DtZZpp/931cf5/XmZ73+My4vM6xkOdpWTJ/4i+fNsCrI8e0cvJId4a7fFleOjwtLp3hdn/ouE89+qnhc1/8fNAJx402ZkAHjdZDGe/hCdg1Y9yoYOy3aIUkcSw3vFr05A86y8NqeSNfJMkdpmmj2Mq2uLiKs90LM3McomGY6jOz0Z8aQ1Eo0ngr3I7DaqwXrRYW48dbMryTt0jr2I0iLcRMMbna2pN2OXXyxPBSzAmvvTb+/JWfjfQNhNX6AQ6yLfOcce6Vmz6Sa/3B0Qdlslxe57nnQT/JcSGePqTLUj9KzzGovPjUh+ZzhpJ0ZegN/VU+AT1pPW/T1+715TQw0rBiUJuXOCjVR4fLw0gWkk6eW2T3h7OBzkGbvqFn6DBzNr7oAO1Ep5nnrHN6Hd6RanX19ShHfzjwZu5wzjxkNn+YQ+fn55vhwli37iAHfhi+5icGKcPXvItHaxUGsVfWyH7kyJEmM97wmiF1oDlduQzaki5l3MqDrnWDkO3vOnl1DQ/32l598lun5atg6ThHM3nyAMe6j47WTtY/XrG0fmPAqUv9HgZxKmgHzgT0s4z1h2/awA4O8IGbtrG+5CQii3TzgTXQlQLsHUIvr3sy5oEH/cn8TSZ1qVv/tj7NdZE2ZMxrN2W1HePd/EXmdJLgn2zOMGDgahf9zRjhDLcGnY/+YH5L49aciI7+oQys1WEsaQ8y6Cdo6NP6qTbN8YA+GgxkeGpLryAoh988k18Ql2d58cSpoB2MOfLAWhviy7Z78pDN+FG/MUp+Dgxt4km+OV48OugZU/pFhmk+kofkh9EOO/Strb7+9a83frST9kA3+5Dxkn1anXaycBxou1/7tV9rziR51ZljHZ4ONgBc9TFzpTzqcCRePc95LS15VabCtUOgnAPXDttNUaZYDRwKyQClkCgfSsjgo7woBgPS4oA3nIKlrAQDJwdPDiY0KQ95KTmTXE6s0gxg8SZGg1Q9SWM9wsiLhmAiyckhy6oLfYtmwQKDXPIKyuOV3BSayT8n48yTsiRfeOwN50xHb3qxkPSlrRaUd6QcuTCioJVPxazevi70lMEzuZOO+L5e6eTLhQ2lalJURj7xzjzYjHT1eJqibadpyZdhmhdpFgVwk6ZOdelD+OzbVj8wCWl3ixx5TA4mHJMLOikvPvGY+PRyTvNigaRvmjC1uUWMycekgEby56xvyK/NpGd7kyPrcC1efvRMwiZyslk4mOj1pwx4zLIZt57zWriup/xm8+AZ7xwqngiSj1wm4lyAJv7qgpu2c57m3b0DTW3qSYK+RI/8+Z//ecPPhJ9l9YMvfelL7TsT8mr/1YJ2wKMxon/gTfupS8hzz4N2t+gil/5tUYRO5u/5d03OLC+P+zwyPe/7vFkmz9nfnMVNh+m4LJfxaAvuyero+2jyQJYcQxw7FvfPvfB8PEm/NDzw4Hzs44/xGHRCy4xP8ON6JozuNv536a/ShJ7H/roljjmaHExw1CYFe8dCV6y7HPHM/GnCxzqec8BOhXQIKHN5Qm8sz6kwOjZ6/hZpj4wvMoizPkiGYmZrnIdXot1P+kyff7PXF2M8vPXmW/HUbfxg57lz8TN6wdLZ86NTSl/IPuo8fa1980idnjz1fU1aHvLnddLs6SadjOvvlU39Ryc7cg6Tln1X3ca7RbY4C/AjR460p410rJ1tnO7mcCH5SN6z7rxPHtCxfjDfmO8c5gJ8CPSGOcE4VybDND3xxon4fOJuzYHvftxk+cyb987yCkm7r68lxB9jjW6ERWLn3AdzCT3G2OLgZ/z9z//5P5sBas4x987Pjz9DzND2xFYZ8YxP33Jx7Qkzh6l0a5LUC3hQvyPbDg/4OhoGtXUaXNcT0HSgYy7Dc88HOujSKwxHrzY66HJ10qkMunQOwJw+p8Otuxhk6FlTcgBoG3zDRb36EEeOORru6qKjlSWn/NpvrZDt1ecRl3jlOdOtp8hidyAj13Z1/S7Xoer02ptfutCv3aNBr9r18Ud/9EfNaDV/5e4KY8B6gJFtfQAvPGRbkdH3F3IXBLxTZ2sv7c4Qt1ZGS3sbZ+hxlpjzYDMf/UY9nAxevxQvj3WWNjFu9KUMiY2zOjOgDWfrGXMy2Yxt5fHMYfK1r32t0dUP9WfjFJ//+3//71ZOW2sbMlkbaedcZ2c9zrBLPvLavfHlXtuTiZx+nQE/nFHkMG+rR1v8p//0n9rDIzyqh1PAWNEm+ildgZY1B/qpu7QT3ryawOmlTv1P3tRdiU3Pn+v+vpeprq8NAmuP9GtTZ1FdBwIGk8krDWoKx+CnqEzYlKitQyZR7/+ZJEwo0gUDslcCBhYFYOAxMig+W936AeeaUqYEKCU7Bwzu9QY8KyestAhInnLixyv68qZxQgmZsPDAsLTAMbnJiz+HkLTaTfcn01NWk2bikOcu+6qXuRjBF6WfmFB8FBmeySuoQzvh25nnmxxJQ56sm+wmbJ5w+eFtUqZMswylfzQWFpw/2smEuJ6JWT0pv7P6nRlgaNpOR+nDVV1kwzt5eLl58PGDVwtA2JNXXkG89jUxmkxda5tp3tQLB3lMzPLDhIwmE3TgkLwyLvGoj0uzYJBXuklS0G/xIc4E7omP9wFNTCYV7w7q1/jNgJbjaoJ6rrbsZuqDC+xy4Q9LmOn/+UQFX9m35LOQgYl2VT7T8EEOh3YW0LGwgC+s4OqpBOzVoy/IC2t9fK2g/2s7/OJJeWWy/sQw63Yvr/GkPjxbTGX5LOfcy4gH947+Wr4sk/kzLu+zHDnzSDr4WSn0ZRL7lEuaa7TIZQw4w0E7GF/GlXExH4tHi96PxWL0k/GTgh/52EeGo6++uChHNMyk+jj3Rv1KTK0QdzkcDihAxZP/kVxciJgKbSt9qy4cLpEhNEPL13YsxOVlW/+jTPSW5shAS3ZxlxbpKStSylJYFGMpKq6W55HU6I+VtOtl2bfyZsKQNmLMWrwbJ2fDOaBtRrNzrFB7Zp9x1pbO2Qfkcp3nPj7j+vx93lZo6k+m99F9nOtpeplu3FhIMwAZE8YN+RhNucuLUZLjmixZNnl1znGZcZlHvzYfMzD0X3SlebJnrJqv6A762biga7IsWtMh05zxMs2P/HRI0unTlVltfGY9yhl/DvnhNh3EmcsYmNqejIxkupKus24yRh3mD3oPLfmUY0S7T33Zt426zJFHjhxpa7A0xmGjv5lL0TE/9rIp17eBe6GXWX2cFcqhwWCGFecEnq3dGInaP8ulbiUnPc+hjE4auNrWDgLtyZjDA97M+wxmawCGunKJJYwFMml3dDOtJUz+4GGtkDxmvmxbGFu3ep8fLwxkOlQ+smoX31SwXsK/toaH8uTFH/nQsFZSTrtqb3n1Wc5vOFrPkhF+HGDyoyXgQ/uRH84w9CSeoYwemY0/Oj6foJvDtMvRWKvR/9Y76lOXdsEbHmGWcvdnaeSgp/ACX+MOLWtEYznXYNoRPfnQloZnfCln/MPL2Ock0vek5Zoh22althOHD/ThASffIsKrfoKea/rgS/HggD6lB/AtKIdnsqOlnWCGP+Wku/7y5FsCf/Inf9LWhewYcujnnDWcYcYSGsrBMfly7oP76bg+va43j8Daq7/N0y8KG0TAoBCcKQrKivKxRYhnlTFk0BiMBhZvtkFlQOdg7KvMwZVxlIbJwQRJAVKgjDeTGWWFLuVIoYm3dYrSMTkkb0lr+oyeMgIeV1JE+JEnB7/6lcu80vHmHSsLoPSSUo7KZL6se5on9Cgj9VN0qWjk75WJa2Wny4tXHgY5ccjjWrz0VOqZV10WbZ6QU6QUHC928iwdDfkpVIqVQjRBwZ3CNwmoQz4TnQ/meAJAOfMWa4dMT1nw08snPutxVq86yWIxpO1zAsu2wo9+1tNURln05VPevYCOrX4mcPG5BTHrUlbd+HKgYcJKPrW9OpOevPq39jb56s8WaRYo0nICcq2sid5uGc4BE7X8FkocZPq/sBIuLWEDf/QjdeIT76sF8uoP2iZlWi1vxisjoC/kvWtxaBlvxqA0cpMpx6Y4B744rSzcPQ2Cs0nZ5Jwh63CvjHsLYId2h5mD/rCQEKcfe8KmTuMP3Z5OT5vM+IMXfrSXvFmXvH1Z6RYzZNTv06HR55M/j76u6TzZpzI+y/TnTMOnOvsySXulMxopT7atOEG8oN3xb8x72sPRYcFDXxqvxjQZjZHD8b2Bg4fiA3HHxu8CMMKzHUPa+BdhyugW1cKkvWValC1uonnGIH7M2P7uap6ASVp3mnYQjOLAOjLFn5En/SSOReN+pJxk8LwYlictRo8XkTidnkW7pFHy6YxTpDZ627XT3hhDe2Is3Rz65OKCr5AHaOqf5FnEM+6nr1eqNstJy+sst1L+9cb140UZY09fMr7pbc5Th/nfnMF40LesARz0pXFsXPcB3Wm9lHzL19crXl/XX+meI0eOtLo8PfS0j25giBm/gjEvf0+vJUz96fFRn0PI+ByTSadP7/NPkW1YMM5gknOIsYdPcxO65DAObZU255LNugJdxmgaVbCkczO4VuY//+f/3IweBpl5qc+DBp1p/aVe9NAXT1eba+Wnk60F+nZIWbM+5z5OXvXRl/jQ9rDWztreGsK1uMTIPWNW38l1BfnMB4xr6ZwAjFp6C0bwwZt82ltfUjfdRq+bY13DkBzZv9Q5zXOLWOMP+bJcZlMX2vjSf613PVAgF17Ibm7Cu/ZUHh28wB2+2pvhyskhDY/KfSkMWXKRV7w2np8ff80Kvb490NF2v/iLv9jWW+pRFtbaWN1wMCatzzgtjEv55MG7fqhvaXt1qaPvL3jog/pTHmNK/9SP9BvjDK/6lDWOoE2lZ33a67d/+7cbH3hVhoGOB2spOMhv/s6Q9bnv+XGd4zDHubzmf/xIV4c1q77X9wN9SBv91m/9VtMT2hPP2WbqIqs1sXLOsEMTbvLhU5uipV59k36x/iS3M/xzDete+VxvqKPC1iJQzoGtxfOqqBkMgs6ewUA1SH0EhuHJoLfV/GgYUpSmxSdv2y//8i8P86FEKIAcMEnD2UTRKwSDi6PBU2TX0pUzWVBq8qaRYXC6prh6JdfT76/lN4DRwL+jD+TrZZTX4ofypRTwgifGJwPF5EQ2Sp8SQZfSQCMVWU/fNR7kEZIH+XPCVKd7dVJUPT+tUPxRT+KGhnzawgRtcnCm0Exg6oOb7WsMXDxTlBQpxZ4BPYGSVJY88yGbgL54vCRvjG/buShmNPEkaCsTgLP60XHuQy+TcujrM/qSCRDPyqBBPosDXnOY6GviyGSy0z7qEOQ3cdvRwBCy6FDOZJATHdqJO8WtbuWTbzS1dba3e9jxxutjFgkmn5zQ8El+fKjTU264GA8mLl/v96QL3mRVvzMe9APtrW78rYRVj1ti7JzX2i3bRd4+Le/Vk/K7ViYxUFb9+JBGRrhIz9C3l2u04AYj8pNJmzNCsy/gA11GKceARZyFlQWDhayQfTjrybOy2b4mXu1vUWmcW1R4ugRjdVvkaA88Ccomv2QQjw88CsrIs1JQjuzqc2y3QEa4aQv6ElbZL+GvbeBl8WOx49qYggmsGKcwaFo+IFr2YcCIXys0RGOnwKWFZsI3OpfD2m+vJPhyYQvRNmsRibTeQRAzTvtPM6UzQD1LrcdhkMGYGPNnzOL5SpVGRlkyWzsvEV4ks+UXsJ7gPTMXW/aH5Ybzlte3SYKpr/Qvfcsin37sF8T0h/FI79Ll5hJjKkM/PsWR3xjN+SfjxK8UlFcH2vT70Vhv0F1oqJfBSt/Lh199eyNBvb1+6PUgOn2a+9X4VDds6D9nayNzNF6NO2PR2MNzGp7mZfyrA11H6rBpPmBgDNOJ8tHH5qReXnTEawu08QQnPNCrdIS2gaOj141ZPxkziOsDnBmijtVCjxf5OQG0nfrJJC55x4N1Iz2GV2UTC3zKh3986C9o6IPkSZ2dfS3LrcbXavFoJ88przqtT9RhDtN24vAzjXf2Y3kZoLDXLuTMNYO63TvWwq7nUX3Wa+bB1QLZ9Sn9iyEu4Icc8DQXWBuaI9DSfvrRakGdGdBVtzUN3Mme8jPIGc7aTT5yKWvN46v/8CS79qYrHDBUP157HhLzrLc/Z5p6lbP+wI96pdE102NAefnMedpQvfKqW7zrlDP7s7GSda1UP3nIYK3pwQdc0XVYD1vvwFvf0CZorUSvp13XG0dgY5p94/SrxDoQWE3RGuwMGsaxweqeUUQh8ZSa9Ex28kjrFWlWi3ZPn+LiSeUgYIAb8A6DixJAw2CWz6SQC/+eRtKePuMrD/w4+qAO9Ck3CyCTOgVgAqZ01OnJsHesPKmgEI8cOdLkQ4dCoDQoL/mdBbwJ6KtfPof6yeJMNnIzMCkUdE0wyWPKlzwmls6UGl4YACZLTyssHCg/zgJP9xnM4k3A2oQSR9NBLnypC89wtXDAE+zFy5d5xLtHHzbalxzSKUcLNmf9godcGr4F5YS8hwNeTKQmH+mZR73aVx51aBPOAdg6c1BoH55qdcNP+3idBQ0LDXTJjAdyUeAC3sWh5Vo9jFsYwd2EZRLkGEBPe2sTfZrM6KsTPQtA9X7zm99s2w4tnGFsmxoHmcWQvGRWLmXKsvoZDEyy8F4tKAsLtPQR1w7xZBGkZbz6UkbX6tWucOj7qPr1G/jmWIbJaiHrkA5bebW3tkBfXxTEWRTbZgxPC0OLFul4Vp++pJ1TRyiHT3ibZLWpSd3WTe1pMs5JGeYWB/o6OdF0ZN9CayeElNtYz11X+qSFIHy1j3aFn/7rHuYrBcZ8wy+G6+XoS220Rt+J/50hvrykNL9mcOHiuGA/e3ZcgN10UyzA9sbPOYXhmzw6x00QGPXBckrjXToI5GjZpzIFN604Ki1vS5/wuDrZKSrrvLVbQkVr8LtOSts2mzYz5tPxbAx6DYzOMO7oQ2OQzkuDdVrYbP/p+CuNVenK5jn1nf5LP3PU6+v0mUW9uducKN9qYT11rlS29d1JQvLkdnosSaPb8Qcz13SgtQHHJl1IN5oXzBHO+KfTU4+vVH8fJ6/DvEGePPo8KWeeM01b4on+xSt90OvfzLfSOWnleaU8fZx8fV5Y0eeO6SANNg58JcZ9eXECvWaucYgzj2fbZ/7Mm/fT9a11P92m8qKjb2VanpOO9JyHnM2NDvl6HvrrLLtVZ7R7+tmfzKn6o3YX9Df5VsJ4NV7kJ4uyiYM4/ZCcPV3X4q2lrDcEPLi23lRO30XHdYb+OuOmz3jIfjKdNn2PXuKPR/dXqkP+1QK86Jajscb1MVDfPbB+ynaHsb5pLadPir9SfavVVfFrI1DOgbXxeVdSDQ5KhseMMeUdHZO0Scb2aQpAvA8VUhCMAgYBpZIhlZKzI4M8vHzeKTJxWtR60kiRGHSCPCYzRiG6acAmjdXO+E4aqdz6vOrg7eTNZZRYADG88acOMtnCaKLHl21WDFqTEgVBYfiIScogLSdv9VAS6ocdRUkJUSAUHYPSbgl1UmJ2XJARfmsFZeHjqTv+LNx8HAbP4hlSFBie3XuSbbsbpW1xQE5fyIUN2bUVo5tzhoHmyYbXBjh/LCoscGyZV8a9hQ2MyIIGY9DrBhY/X/3qV1t6Kkf5XTuyzSnPVKDShczvWjvJKw9cLSrm5+eb44jTI41peHImwZ+Rj2cHz72y4siVuyc4r46EsW8xq73hhPff//3fb3m1ATx9xAZdTg7vA+qb2tSiRHvDIXeSwN7kYByYAH13g4EGOwfDOLfcwUp5WNmVQCb9SHsqT+YeB1gI4uBk7OFLWW3i/UO86S9kRFuwYOcgEU8e/Gob7Upu/ZiRbdGKpvcd4YYHIdup3cSfbDuY6p8w1AcY8saG/mwsCPqJ7f/uPXGxg0K99IM4TjYGhv6TThTl1SkPfuSDCZ5h6chFrXw5nluF8Sf567HLfrXWpJ/lt9OZ/PoZh4C+lw4Bba3/6rPGOePNkyLYGkPKwWQlPP4/e+/5XceR3e0WkYnIHMAEUEwiJXFEpbHG43eCx2n5g794rVn+E+8Hv198va7vvTMejz0jSqM4FCWKpERSzAEAE0BkvvupPhsotM5BPAcn/YpsdHd1hV1PdfepvbuCvY0zBLZzbjTd7Kktiual9RZAQW9poYfGdLh+45oZ7m7GsG+/9ba9U+hKni0pmmnZpETja/GdXyxh0jSzV9FcX8boC5Jm0S08EtqCCmVwpJR3JFzMPx+ufs+5L3DUO+8n9vxW8e7EGMv7g+eQa/5bz/uTdxvPKPeW31/+HHqanKfP5EqUPF4aDj/y5t3D+5f3Oe8X5ONdhvGL/HHc2zwHa8kzzWstx3BKy8cxMvKuY/wz57zLeKfhuAY/3pv8nvEe5XduPY5ylipj3h85CU+d8pvBBiP//U6Z5+OuR7ZicUiXfFZKn+vFwriMlAWelAeG/M7xnqM87kql4ddL7Uvl6+ml10uVBbncpeHdrxL7UrLAiueGeue+ow0CL34P1iIbYV2Zz993zr1Yeum9Tf7eduC9sZF7f7UMU5nS49XG93BwhDHl4fcVjt7+5d7jOSIM7yDeRQzt8PuVfDeSt8ug/SKB9b0xF+PrqAwE0puam52XMsoHCiQTtKCkoDAx6RoKCsoJP9w0/lHa+GFEQUH55MFJ00sfGtKmMYviRlgeQpQ/GrY0PnjB4XgxcQ0/9rxsVutKPaykTbo89HyNREnnq7GvtsDLD2UZJZsXK0YQNowT5I8Sg5LFLKeUifLy8qCB4A0mZOTlgUIDF5ed8M4UJYs4yOOy+j4tI+ngyBs+Q0NDMT8UBL5088WCOkEulFcacSh9KLjI5eVBZibOI39kJi0MFaRD/aI0umEBPihzxKFOqWsspLwYKQMy0/OB+kdJdhlTufPHpOnOj0krdZSftCkrL2PkRCYUegxQPtSARiL5wgJlE2WcHx/iEoYv+2w4/LjXYE0ZuIepX+bNQOGibvzrNezghlHFG1Lkg0L2u9/9LhokaGiRF2zhTnyeAe4jHFwx4HBvY4BBcXPOKHf8UOYV3Rgx+QMXGLEhGzPvooBTJ+THDy/yUWcYHSgjRgPk51mBGXNFUEf8cCEnDSvyR04a/jDj3izm0vvQ64hngfJw3163dwIGAow2OPY0SKiPn/3sZ/HLHowoN7JQF8ThGUd2nhPqFwcLykmelNVXRME4gPxwduWXclJ+ZEpljAkV/nDNZU796+XYy8UepjDh2abO4MHzTvkw9vA88l7yBos3wIjLthILC2JqeaJlW7pRL068Frnhafdla2YcRJavrN559l85+kqsz/hckzfKPmmtwRXN0uIv9hjIErOatwOr4zWkXTpoltbi9fz54pVGOaK+2Kgrnn+eM95f3GPcW7wTuXf895jnz+813iPUK9dx6d7vt2Kc0nvBjz1uPrz7+573L/caBgtk5j3mv8UeBn9PN59eKf98uPScOJ526l/smPcR70b29Gjg9wGjpjPmnYUxeMjejW4Q9XRWkg0ZSAfHbyLn7sd5Gt+Pue7H7Pk9QD7qc3g4W76XuDgPF0+K/FnpepEoS7xWEx95cS63x/Fz6hZu/H5zv9IW4Rz/SjnP22Vx+fL5cZ2w/kxxnq+XfJxynHu+aVqprHwc4vcdufid5R5YqytVluW4uww8C/wWcd/Bg99vngG/79Yqy1rCuwxriZMP62mwR0+gHQpDeHLv0YahXQ0L3kXOeDk2+Tx0vnoCMg6snlXFQ/LCw/EjhzJFgx3liIccxelnBQUApZqGP8YBlAAaESgovJx4ePwhI738g8NDxw8WjnC+RY81/vGXOdE45geZzcvhyXHufjzgKDt89UfZpJwoYSgr/oOOoshXUH5UUWi45o0VyoujYe5fWTwf9rwIeUHSmEE5JT7pEh+Fm0YYTGhw5dl4OsjqjQP4kIZ/9WdoAV/AYY9c5AdPlES+CvPjQHgc9YiCjbJPviiWKG6Ep/HHC4/y07uAa7wIaeRgSKDO4YDCS50hE2mgtMANuQjvZXC+XgauF3PF/L28lAVufIVGMUcBpgFLAxFZ3UhCjw7uR+474sIBBZq64Ws+/JET5rDAOIDxgIYw6aHU+g879+0vrAcLkwrSCyG9h7zeCItcsPB7gi9bcKMBS0MbGZ0N8QgPL1giIzLBa7kfStiwEYZ7C5mpH+qE8pEn12GDQYh8+JHiviJt5IEB190fGZCPDVlIO60DZCt2jj8b9wn14WXDyMDGc87GNdjxBY37hLTIh3uEiT2Rh+cAPljb4YIMyMuPKxvyY4QkP65Rz6TLM0r94FxO0ucYR71Q9zj803JEzxr547IXE4drNH5hxkZ9Ud8YY3jWuUa5YAsLGsk8v7zHaIy5Ix3nshyLGA5F2/4vF24xXcIthh0fnwj37V6cNAPGk6dPwsy0GZqYEoTHPasWj7qhvdXmhuIr8iIBnhMMTjxn3GO8F7m3+F3gncK9xHPOs4gRk9827jfuL+6R9L7yVNP7DT/CLec8nXw49/e4/nuCjLxDeA8iG+8zFA2uF5PH42907/Kkcvox+fox7ylk4n3GxwaeW64jHxvMcYTjPekyu3yejp+ne+KyeXpc45z3PWmXios/G795yEYvQjdQ0N6opvPyIx/Hfu57l83LBjPuQ4zclD3ftiS8h/W4G9kjR7H0XN5i14jjdbJcvWxErmJx88wIw7NK7xq48ZsIL28HFktjOb9iZV0uvLODAfcZH6kwmPEu4f5Lf6eWS6fa1yi3lx25aYPQ5oOp/w7TboEvZaqXclWb63rzX2zdrDcFxdswAR4If+GwR6lE6UEhoOHAjwyN/+GCBZpzfhDZo5DQYEV5RcFM0yomGC+Qcjjk9I00+QHhB5qvIDzI+PHDjEOm9EFGXmYBRpGmqz8NJa7TOMJwQI8BFE/K7i8LXhA0ylGaUVRRJPnxIp6HIS/CYHFEGeTlyDly0dChIUZ4VxSdRcosXybOCYdiwFq2WNIxztCwIx5WWhRl5EZmZMPxo0Ve/EjwlZ1zlC3kp5z4kxZfpulFAD9+TJCX65Thvffei40f0uSFSOMSpYVyEAY+XgbyRJ6UBX6rcaSBrJQVzpTjZ2aIQhYMIdxj5IVySRn48UGBJA5ykycKKHVCYwLu/FASn7S5bxnGQn0xjgxH45f7gPT8h8xlZ09crv3617+O9wc/evxQwA8Zuc+oU4wtKN48LyjCyAlreHEfIp/XOfHSPEqxIQz3CIwxbHBO/dIQhRFlhQXpcQ/DgnIiM/cDz6GXiXsP+ZCFeDynfo+k+ZMHG+njOMZRbh/Hzg8jvRYwssCP+4o1h5GNNGnQE4/8YT40NBTTQ27uNZ5HlBPkRQ7iw4Zywo7ryI9hjnJxTJ25LFEg++PnMKYecPi57NGjRv8gI5s/N9QL9xF1xHOIYYf3ESxQimBLXcKM+vZ4zsCLybm/79yv2D7mP28y2L98GsXC4+c6P/XPPAO9dm9iHJicnArTNtTAsjZVfnnlsFTa8q8cAeqaOuY54f767LPPovGU9zfvAp4x/z3gnPuH+4s4bH6vpveJ+yG1+/s9WawkhF/O+XVPCxnw47nmOeA3Z8jeI260IC/er7jl8l0uz7Vcy8vHucvq15CZ93Ux52HSa/i5v6eVXsePNNn7dd6T+OE8bhqHY7/Oc0q90mbwNPgdyvPydDyPfHobOfe082kgB87l4jgNi4z+m0kbhXcgjvBePj+PF8r0J88mTbYYH/yoE7bNcs7J5YGT+1HntHn4rcD5/bNR2Tx9z9PTc//8OeFoN3Ld4yzH1uPX2p7fWjYvhxtaKNNm1nmtcdlMeTbvydrMUtVhXv4gIzoNfRQjGvk0+FHG+LFxKyAvHh4cGqwoH4R3wwDxPS1/sPDDuX92tv6/+XRpLKCwoETyhRWZGatNjwAaGShsvDz5AUeB4tiVPRQTFBbKRDm47mFcXq65co5SxsuBxgo/XnDwcLysYUTX8iFr0PBSpNGFsQUFgI2whEG5Il3KkneeXnodmVGaiUuj7le/+tWCQg97lCjK6c7zRslHTmSjXNSZK4r0NuDHhMYiDCkX8ciLNMkLGVweZKW+Ccc18iM8/vk6cTnSvaeT+vmxX/P8Udxhxw+N14/XH+VwNshN2VAkmccBQwnyUz+UAXk5Jw73NPVNPSMvefGFBXb+8vcXP/UKN3pPwIf8OPe4hCNd6pZ7AyWe9CkHbIiPcQ3jAWHhTh7Oi3J7mZ0B5WBDNtKkhwQ/+ORN+vCgoU9PBxRr0vNGM2nwnFI+/9qGvNQ1ccgXHmxexmJ15jK5nJzzrHCfEBeDoN8DpE/jDSaERx5kZRuy+x8DHF/B4UQ5iM8xDj7UMX5wQ0bikRflhBfpujyk40q0KwcoDhgVKC9hYVeLzsuAbOkx7yqMbcyjgeP+pt75YgEHni/26b0TA27gD3XOhktlySfpqxqi8mfmXJRFhoPY6jLTNnu0rVqAfwv9/yN2QuJ8n535X4wRPlYgn6/LQ9RiRgZS/OFbMssppuuZxH2p0EsCrXhCsXyuwmJ5r5hADQRwzv5c8F7C0MdzynuPZ5d7i/ss/R1L7xGKwbmnxbkfe735nms4ruf9siul/7qMvEdwvK+Hh4fjevG8e5DVr3n+pVPb3Cul5MlzW6tUKUM/LpVXmjZh2Pwdnl7zY0/Pz8u9T+VM88r7u6xp/i47fl7n6fVmPXZ2ztPPnWHKrVyMPI98eqX8CcfvuDtkXS6sh6vVvcvu+1qVsxHlknGgxmqVh5nGAj/INFRxfPmj8Z0+9JyzrdZV+uFCgUSJQ1FAIWM8PQYDvpagDFEmlBGUZRR8Gt2u4CNbfkvLxQ8UDXcUUBophHXlMA1HAwd/0qXxhcJDowvFhi837FFEaZChFDnP9AVK2unLPz1HsaIcKGU48kNR8nw8Pa4Rj/qhDlEY3ZE2G3LRWKQ8pOEyeIPC03VZOEcphDEyeMMyzdPzWM8eeXHkD0NkY8Pfr3m6fu6ycY6xhQYlvQfceVw4OQu+YMMRZnS1hUOqtHva7L2c3P84znGwIA3iki5hkZm0vZELK+oc4xRhSYN8cM46niR/iMsGA8qOQk2apM85rMkb45BzYu95ck9jQMI4Rl6EpTs/BgxkRQYYcezsyN7L7KLkz70+uGeHhoYW8sOf/D085xyzcY9jJMM4wTnPj4dDXmRzBZjnCkakhUv5cExdYQSgxwxGP78OYxRsnivSJw2c5xNPavAP8lF+3lmUDbmRn+eaHhW8O/AjHGWlvpzNhosTNV0U9SwlFOAtlgeOJ5CNSf+yp9FO4nVTNJB51ia9emFLOlmPAfvGHNpbrP4xEWAcQJsuxLOgP3SF69ZUtGt2j6QhLJ79j8p4sbrjruA6m7ssFcs6JuRXMgNGJj2NUg+9NG5SusUAhaOYD/E4sD1oot/CnzRKkkEMvvQ8DVmtY39WeNb4/eOc95gbBdL3N9eWc/nrfn8uF2ct1zx93g+8a3jPITe/mfyOcZ08i90ja8lnLWE3UsY07mbKnJYvlcH5pdc349hlSBksJ0sabjPkq7c88jyrzSsvT8qz2rKlsui4vgjIOFBD9eU/zigW/CCnDf/0IfdwqV+xYqx0vVic1fjl0+UcWZGbhg97xtrz5RaFxZVAvsjR6KYXBI0PruUbR66cpXmk5SVtz89l5TobcT0s6bIRFiUAgwVKGn4olDT40zxKHZMH11yh4jjdSIdyuPP8CeMy+LVSe8K5I77HxQ/lxfcYXvhaC2OUUBRN8iYO20YVGPLFkY6nmTLlmpedY5zn6ay5juJFfL/OOZy87rjGfUA9eDjCep4uB+ccEw+HLJyTp8vo9Yi/H5MfCjp1zr1HQxyDEXl6Oinz6Gl/XBZPn3sUpZF88SMP4rk8xCOOl93TIR/Cu/KMHMRB6eSrPHJ6XMIVc+Tl5ffrXkY/Z08YD0da6Tn3CVsxh9GAsNw/+TDk444wPD/MX8A8G3xlJ46z5v6kbBirKF89OMrEPcL9h2EEAxD3CIoQZUnvs5RFOcpmtZUls4A4O8+MBJnazCVfFcBGIERVHmPA7NRseDH+IhoIOtus22WrGS1sacSX1otgS6HTBmq/PSE/EJU0Y94xvSxNlG8Xx26GGDNfXoJ4L4aYKB7mory2zwwHBU8uxOLwBzkWHceZIWHRr9hRtGEUZIxJEdEOFrgtREpTt9y4Z2OEhQA1ceDPGO9qnn0cfriUNX7F/GNA++PX/Nz3aRrut5E99z7PBu+EoaGhaMjn/ebvFvIrd54ryZvPL2WRv1YqrdWGI36xsMX8SuWV999I3Hxa6z3Py5A/z6e70vV8+GY7rzU+tSZPs90PjVjeRa2mEUtXZ2XiAU+3UuIThh9IfsRdyeE8VWJKxS2nf14OvjQgA19cUc64jnwoF/ij0KJEoDyhYHiDI5Wb8JyzEZ8w7P3YGwac5x1+riyTJ2mlfFBoOIcbSiPHxdLJp8u5y4EyxEZc8iK+y+rxkBF/j+P+K+3U5GHGAABAAElEQVSJh9Lm8XxPPPwxDvAlHEWXL9muhBLPuayUx3LXPQ3yded+fl5qn3LkGMbOxcuBv4dL956H+/m5153fD6TpSilh2Eib6/Chzp0J/tSx1xVKPul5vGLloD5xLocfu/zxYvKHfEmf6755HNLgGnXm9xrGBuRzOZKkih6SZupSuSgH56mfc3Iufj0NQ3qk6wYBrhEelw+HH2FRmuntQ08gGLFhvKS3CFyJh4JNbyecyxZPauBPMXm4j5Cf5whHOSkHW5572YtQyMe1ble0yYe3mr/ZqP156iZWj91PNr/AjN3TczM2IZMpb62t9v6xfzwXBp3/VpCl94T55FxW1znPLK4JQnruXK54X0Q5ll4n3BbT5olBqij22ZGnsTQvDB55A0EMYcHpPeGGAU+L/DNXOIge2bHnkF3HMrL0WSlErPoufy/5e5F7kvdAej1yrqLE5I9MLheyIp+fV1G0dWddbabrFlwRRUAERKCKBGQcqCL8Ulmv5geNMPmGBeeriVsq3/X4kx+NB768YRygCz3jsVGMcFxHaaExhEJCg5ywxHFZ03J4HL8WE0n+FPN3P0+TvFIWKGUYLJgUD8UaOflCSDyPm2RR8jBtJKVxPY10n14vmWCRC14Gv0Q52GBHjwvKwDFfPL2MxZQfj7+Wvcufxinml14vdkwcZ1UsfjE/T4drXh7f4+dl5djj+55rbqjxcHwVZk4HDFIosmxuWCBMMefppdeQoZQjfDGDgsfxOnv33XcjD5RnD0+axfIrlVfev1hc/NKycV4sHGml4fJp589Jw+cnYFgQcTFyUD6Y4jAgYCjAlcozXqzCn7w8fs5+LRzWK7qpvTEqf+M9beo0wwSy+4Sr9i/eZ6i8mQIeZeQ9Fv9ZPRKZeQZMg25vsd4r1mug1fbEm7N5CCxF60GQGQla2jBctod5O3dllOdx/iVfhZmoczreh3PzXJ+PdWeRo5QtW7I14qfNCMFKCCZmaLP6NgmsYrE9bAkz9m7H+PvixYTln9V9NHq1Z80JjHT0mnkx+SKG5/3bbu/bx9brac5+C1pbrZeZ3TedXZ1xH+j9UGAQGYGh4DCOzFvhKaf9iixshHdDhLOKwiJkDTvuN+SlPH7vRfkpDTA36Dwt368mOfJNw3PMe8plTa+tJr2NhknzKweTjcpTjvhpmUgvf16OPJSGCIiACJSLgIwD5SJZhXTyPzD5880SiUYEigKbjw9fS955ufPnq0mLOB7P9x4PpYWx8MiHEkP3Z1cmCZMP7/Hye28suT8Nl7Rh5en43sOtdk88bzB6HBr1OBrfKLq//OUvo7wou56P7z1OLey9HMiGcaiYc3aESRuBnKdlyp+TVnqdczdGeJ1g/EGRRSGHXWqQKpYeaazVlUrHZSNfxupipIAH9ZdyScu81ryLhU/lcbbFwq3HD6Mem/cOWE8azRonVfmyekmMMyiEcXM6mRKOJp79M8WfT+o8QvbZHWMBhoHONut9Rc+B+Lmd+78tTlQ4PV1YxcAUeJR00uja2mUrHPTavcdzhXLaEp7bkogM+3r69Fk4ZL0+em0VhK7OLhOFHgpz4f69B+GhXadHzqAZfLcNbIvPEYaBW7dvhRvXb4Q7NnQMAwO9wZirYd/gfhsuZisp2PAtVn64fv26vXO32lwOuy3v1vDVpa/DpA2L6Oq2eVv27QnHjh8LO7bbZKSdHfH5j+p+1O3tfVDAEf1AhGGgsOfYr2cGAgLjU9uGAaRMn1HOy+n8vbPeNNP4HPtvz3rTK0c85Cj3e7Iccq0ljZTrWuIprAiIgAhUi4CMA9Uir3w3jQBKms/sjnLGttYf7GLhU7/0eCMFI520McQ5GzJj5GA5P47ThpuH2Ui+5Y6LTLi8kur++fzcPw2f+hHez/Nx/Zzrzg5GKOMYJvBfT0+R1eTpead7v7/Y89WU5fCQgfswLUN6nMbXceMQyO5HU1wLeqvf39k9kqm0mbJb+GvKeVR8C+EXDQOWhF3wiQi7OuyrO70H7Es/hgN6C0zbl34m4Xxkq7LcvnvPvtxPhh4zhtLjyOd5aW/vsGehyybKvGuryXwWrl27Ft6zni3Mor91T7c9Ly/Do4cj4ZOPP42Tyj6zYTG//PkvbAWH18xA0BpGbALK8384Hz5i/gmbpHJmdiYct15Mb735I1tu9y/C8ZMnrEfBpK0CcS38f7/5jfXU2hn27t4TZfl/fv/7MDn6POzYuS386Nwbcc6UPns+Os04gO2jYOdYqPzsHKMAfQYAEsksXF88gK9dL3W5wHIxfG0eVet9UK18V1sLtS7fasuhcCIgAiJQLwRkHKiXmpKc6yZA48K7c9M49y/ZrsStO2GLWImGS5pmeuyKBX5+7PuNlKGccZGnWs5ZOB/q1/04rpTzPDz9NC/uOwwEOORyY0Varx6vnPtKp19OWRs9rfidu/BYLDwfKLNLXGYEzHz5a+fEMQ2Z3gKtL+1enrV3F0MIrAfBVlPw6T3AtVlb2nDKegJcvHAx/PnLC+HS5Svhzv0HYcrmJui3L/lHDh4yA8A7tmTl69ZL4JD1OGgND+8/DJcvXQ5Xr10P586+GXq6bFhIV0+YsKECoyOj4dLX34Qv/vxlHLowb0MPyPeuGRR++///Jnz8ycc2bGwuvHPq1ajU37YeBBcvfl1YreRYMF3eVlUZD1du3g73H42Er7+5asbMlnDIemwNv/O2GQx2x54DA9tsSVR7PgrFLNDIjCQMNcDFORfYsxmWaETgQgRFzIwYXj9wy1z6QVh5iIAIiIAIiIAIRAIyDuhGaHgCKEr+pZ3GuStz9aRAIWuq7Lrsvq+VSszLkz9fSc5i4Yv5FUsnDZceFwtbTr98Xpy7Eshxeu/lw5ZTDqVVmwTivWD3AS6r/+w42tH4g46bd2YUcN2WPaP+X1ovGOYRID3mG2i3eQXQlp88fWwK+Dfhgw8+CHfv34+rMPzlu+/FvEZM0f/+1s3w2adtYaDXVu3YvjNs6ekOUxOTcQ6DHuvNQi8ENiYFfDr2OFz55nL43lanmJ6cDideORp27dgZxp89D5cuXQq/+6/fm4FrLpy1lWfePPdmeGpLq/7mt/9pK4M8tx4Hj6LMA339YVv/ttBhCv79mw9tTFRbODZ8KPzspz8Np868asNTBmJPnri3uQfS4nNMj4EIJTuw60vHxJNJwYRQYOSkiCcnAiIgAiIgAiKwEQIyDmyEnuLWDQFXyti74lY3whcETctQb7JL3kwxpA69HsWkSQm4LmvKOP+KuSwIfzMjAbaFl9blnwkEvfdJu80zMGdDCe7dvhPO//GPsSs/cwO8e/ZcOPf2W3HOgc8+/zxctZ4E17/9LtweGg7Hj9ocHBZv0lY9Ya2DXabED3T3hA4zNtD74O7NW+ELG1JAz4JdNsfEmzZvx2770n//3t3wzaVvwrXvb4YDg/tCp81j0GEGhdnZJ7FXVq+l0d/TF48ZusCyfcR/cuOR7fvDqzbc4Cc/+Uk4ePhgnPtl1iZGnLdJECk+gwZKuciHy5SfQBGJvcOXiVMqLfmLgAiIgAiIgAisTEDGgZUZKUSdE3CDgO+9OHkjQT0obWkZ6kFeZ619RiAdcsD9pzrUnZEnwHACjAELDoOS/WPsPYYBNu6dNvvqztKm3139Nnz88Sfh6NBQ+MmPfxz+10//Kuyxcf7ffvddmLMeAnM2B8CkbWOm8D+2bY8ZBJ7avAKTNhlhl03cObC1O7Sa0eHxyFj41gwAH/zxg7DFhh6ctXkI3nv7ndBn8xZ8bT0QHth8A+39veGpTTj4x48+Cn/67LPwvQ0b2GurzzDnwLm3zsVeC6xU02np7t1rMvTfCMdOvRL+wuQaMvm2tGarHdD74KUZB7ascbhPJGE8bKHUaCBg0EXBbLCASwciIAIiIAIiIALrJyDjwPrZKWadE5BiVucVWIfipwYp3X91WIGbJrJ/Tc96F/jXde4flgPEUDA+/jxM2Nj+27dv2+f3+TBoqwYcPDBoX/Tbw1dfXbShBJ+Fr768GGZsWUKWNBw15X700aPQaUr/Tvuy32nDEp48fhzu2+SFczY/wXVbXeC/bdjA46fPw2unTkRjA6sPPHj4IFyzYQZPnz8Lb716Kq5MgJI+PjEeTh6bD6+a35nXzoRjJ47HXgETtoRh59bOONdGe5/1KBgYsK0/dHR1xGUQbWyEUWT2AHNWnkWXHi/6LjnCUGKGEyOgvgNLwOhEBERABERABMpDQMaB8nBUKjVMIFXIaljMVYsmpXLVqBRQBOqPgCm/qMkvrQsBw+7Z5u0YdXh2fjZMTk2GZ6aoT01P2pd3lirsDJ3Wi+CxKfqXL38TxkZtEsCvLoU7NoHgC5tg8OiRI3FpwajkX7fVCd57N+y0VQT6B/rCjVvfhw/OfxDaLf7de/fChStXosK+b//eMDw8HPbu2RuePsvyQunvsSUPh48Oh0FbCYSeC7hdOy0tGzqAbE+ePQnTtoLB1Mx0PJ+3ngIYBVhOkV4C9BbIVh8gphVswRUMA6nXwrXFg+yyDw1bhTFhMaqOREAEREAEREAEVkFAxoFVQFKQ+iWQNwygWOf96rd0krwWCazm/pKBpxZrrvoyRaMAHeZNC35pfzLjAIYB+9JuPeht0YIwYwr2k/FnpoRP2/KC28IhG8e/a/fOcO/+3TA6NhIn+7v/4JGtVNAbVyoYHh4Kn372eXjw6KH1ALgWHow8MOPAjnDg0IHwzbdXwp+/vmgJhzBuwwWmZmZCa19XwDiw3+YWGDClf4eF3bFze+jobA+3LY9n40/NSHAsDFovBRT8J0+eWLrXw1OTqccmOxywuQYwDjCEoK3NVlpobwstNkzhpfV2oAcDQwq4/+O72FLw+QNWpeobF3oOZJwsspwIFCGQvoP1ri0CSF4iIAIisAwBGQeWgaNL9U+gWMOgmF/9l1QlqBUCy91fy12rFfklx+YSSBXdOIggfh7nj10pKMKMsW/tsGUx7ct9r3XVnzMDweSUfcnvGQzHjx8Lb5x9LXz+2Re2hOE9U8bbw6kTJ8Lpk6fCyeMnwuDgYOgzJf+DD87HoQCsRPDq6Vctzuvh2cTzODdBp61aMD09ZcaFx3F1jf3794Wu7s7w+NnjsGfPrvC6LYN48+7t8O//93+E/+t//+/wyWefhiOHD4duM0DQI+H727fC/bHR8Oorr4Rf/fVf23KFO8OQ9Vj4zpZKpFcCBoE5JiGMQyJexpkCoEyPCFxkUChr9Cj5xwK5gRfLif2XEwEREAEREAERKB8BGQfKx1IpiYAIiIAIiMCqCSwoxQXF2D62x55NpkpHhZmv5PNb5m1VgBlTxLvDW+++FQ4cHrThApOht78vfp3fvX9P+F8//1k4+6OzYWrShhq0tYb+Phvnb0sK9pry3tXVFc6+9WY4PHwkzNlkgfv27bMv/z3h0JFD4W9tgsFp6y3AZIMXvvwyjNnqBtt3bLNhAn1mHOgKbWaQaG1rs7AHw0/+8n07bw/3H9yPRoQPPvnYejPYIos2tKHN8jywd3cYGjoSjQl7bf6DLVt+FJctPHDgQNhj1+Zs2IH1HbANo4fFKyj2zmDV0CxgIepaoihsExGghwqOZWQxSNG75bktu4n/jh07QrdNstlm97WcCIiACIjADwno7fhDJvIRAREQAREQgYoTiMMGklyiomznsQeBqcAo0BzPWZf87u6t4Sjj/a07/wsbAsCKAFttpYGtW7eG4Z6tttThEdTu7Mt67HJgMaPHy7Bzz86wy3oALCjVdqG3ozf2KKDL/wubv4ChCwwFYLnB3fv2hi5Lc9Z6KMzNzkdDxMlXT5rRYMAmQLwVbt66FecomDBjRH9/vy13uCvQ2+Dw4UPWU2G/GSV6rMdAWxy+0NPTE3ptm7PeA/M/mIAwkyiKmXDQoQiUgwCGAVb0+Oabb8Ldu3fjs/Lmm29G4wDpM/xAvbnKQVppiIAINBIBGQcaqTZVFhEQAREQgcYhgHHAFBiU5/bOjtBpvQAYWoDSkyk1ZkCway2m1Mc5CiwsCniMY5GyY7tux1tiF/6CwWHOuva32gQG9n980pZDvHHN5hO4EzpscsNjJ46FfQf3h07rOfDClP95+9pKb4QdNq8B8w8cO/lKeGrLIDIB4jObrBDjwC4zDvBFlh4EzC3AcobdFp8hEHy9RR78Fq0TjVNFKkn1CXB/pY4lY3k+uOeyiTovh1tm0Dp48GC8F7lGHJ6jdHlZ0pCxICWpYxEQgWYkIONAM9a6yiwCIiACIlCbBEzbjyq/6TvRLGCaPed8eZ+1f7iowNgchXSTRgFivyV21cdUwJaFoct/i22FhQPjFfxmTCnqtC/7rCDw4O5IuHjlUvje5is4fPBAODh8KPQO9Fqf7C02z0FrmJ2cQZCYfpvFabXeBKxOwIZzRWxmfibMTiMfxgn6IdggAstnxoYTRL/5TIHLzBnElBOB8hBwZT8zimVKP35szHlx6NChOJzm+PHjNk9Hz4JxLT5H5RFBqYiACIhAwxCQcaBhqlIFEQEREAERaBQCDDnAscNIwOR92QfSaDWIXz5Z7rCl3b6S2qoAKPBcjwYFj2iRM5UcDzsmvPkxp0GmGG0JI49Hw92H98P0y9mw/8C+sHP3LkuzNczMzcT5BOhBMDfHTAFmYrD4rZYXx/7VlckGyaRlYZpB5CzkijxmKMgyt7+mrBVsF5mf/opAmQi4os8+Pd5mq2ecPn063pP0csFYQG+WNEyZRFAyIiACItAQBGQcaIhqVCFEoLIEaOx7Y6qyOSl1EWheAqjUvqUUMgOB+ZhyjotfSC0kvQCy59IUdntGfYuBTAtHF0dPz/bZF9VZnmWLxzwG4zYs4MrVK2HEJmzrtWUID9mcAX0DNtGhXZ+1L/4t1huBOQm20BPAhiKw4kCm7Gd5YRjwIQ7kg8v2fkJ5smOTRnaBDJH+VoiA/0b5nmyYk4MNp9+xiEF/REAERGBZAjIOLItHF0VABCBAo8r3Mza7OY0vvr6wufMwfr7afdqQW20chROBRiXAkxZX6bOD7KnLPrZnCr6NlXZlm3HVhCWcKe/sCYNC724hrF1AiZ+dtWEI9vz22ISB07PT4dbdW+GzL76wCQmnwrAZBg4fOmyrG2yN6cThCjaEYIsNW/B0ZmfoQWD/LK9Wm7MAdb+1JZtTYOlkg8hEuKwE0SyQdW7I7BsILicCZSTA0Bo2HCsRMNyF+y/9fUmPy5i1khIBERCBhiIg40BDVacKIwLlJ0ADi4YWysXY2Fi4ePFinO2Z9dPZcEsUATSUEo7GmSsMJYLIWwREICHA07So1FgX/YLCzT5TvQls6rcFjJcKvQvwXQyahXSDHkrU5OSUPdMvw969e+LEhYdsvoG+vr6o9BOXZ96VLZR7zy0q+pZHmhepL33ss3dA/nlfGoZc5ERgfQT83uSe5jflzp074caNG/G+PXnyZNi5c2d8brxny+IztL78FEsEREAEmoWAjAPNUtMqpwisg4Ar/TSsaIxhHLhw4UJcSu3MmTPRSDAwMBAbZ8slnzbM0uPl4uiaCDQcAbRo1+jtmYr/TI9GlY5zDBSu8dxFJTyq5AVFnON4ndAxRuE8i5RdWzQIpOy4xnPXapMM8m/eehow9nr79u3h9TOvhaPDw7Yc4e7A+OxJW6EAGekJ4Mp8lkOaYnbseWZnyORu6RdbfPXcOxvtN0ogPh9+c1piGAY+//zzcPnyZVtO83A4cuTIRrNQfBEQARFoWgIyDjRt1avgIrA2AnyBYeOLIkuYPX36NCoSTPK0nJNSsBwdXWsmAtnX90zVRrfh2ciMAEahhAaOAo4ylDkiZfEyLwwGqVK+HE3LKUa3FQxs6EFnpy1PaMsPnjp1Ks4lwHCC7u6tYXp62hJhuIDNN2BLE2ZyIcRyaeevLcq0qMMt+nloklxTskSk4IuJelLaNxmB9HeF3yI2hsL09vbGYQWOIw3nftqLgAiIgAiUJiDjQGk2uiICTU8gKi9JQxxl4le/+lUYGRmJ65t3d3dHBcd7GDiwtEGW/8rjYbQXgeYjgDJvyq0r+wV9OT4jcTWAzSNCd+yOjk7b2qNB4KUNMUAs/FtsHoH4DJsH/9auwafl+KFRwK9i17DUV+38PdMal21cdTQFbDAC6e8LReN36dy5c+GNN94IBw8ejAYCL3I+rPtrLwIiIAIiUJyAjAPFuchXBEQgR4BJnuglwDrRe/bsiV9nOjs7oxJBj4Kpqak43IBoXV1dpnR0REXDk1EjzUlo3wwEohGgWEHjnACoxNns/9gErBO/LQSYqcmo0vGqKeaZWp1Tru1iZlso9DrIXSa1lR3DhFi9gNUHzCDQ0hbmCxMGkmkUKRPHkjKPH+TxA4+SWUbjwsLVrJ9ELF9idFy4vMLBS3ovmdztwSaci0snFoTMgBRir162FbLT5RohkH+W8r8lDI9hvgzC8ZuEgUtOBERABERgfQRkHFgfN8USgaYjwHACNpR+XxrKIdBYo2E2MTERbt++HVjRgMbagQMH4jhmDAtyIiACBQILSxIyweC86d6M0XdtPFNus7NFZZqYxdTeYn4rcY5xLIMFpYsv8QXjBHFdkuI5FlJfS8aeoMVxk8dKMha7jryszNDy0no2RBokXEg8yaNYXPnVLwH/ffEScB+kBgJ+k9jkREAEREAENk5ALfaNM1QKItAUBPINNC80DTWMBnytYdLC69evh4cPH8bJzuhBwBhQJj+TEwERKE5giz1D+TX+0gkK0YOxHbj+66msRT/3OOzz6WTd+9ebWppysWOEL+a/dj/kBlXZEly7CIpRBQL8xrx48SIan+mhxu8KPdjYy4mACIiACJSXgIwD5eWp1ESgoQmkX2vyBcVAQJfOtFsnjTo5ERCB9RFIDQQcpzr2QkeDdSQd003iRaXbzvP+SZCKHLZs6PWwocgVKY8SLR+B9LeDnmjffvttXEb35s2b4dVXXw2vv/56OHToUDRMe9jlfp/KJ5lSEgEREIHGJiDjQGPXr0onAhUn4D0K6DnAUmjvvPNO/MrDUALGgqrXQMWrQBk0CYFUHU4NBespfprWeuIrjgiUgwCK/XJKPdfpLXDv3r3w4MGDGHbv3r1x/hv/7VkufjlkVBoiIAIi0EwEZBxoptpWWUWgggRooNFrYP/+/UtySRtwNPRo4LEUIm737t2xe6jPScDEht5YpCeCnAiIgAiIQGMR8Hc8pVpOsSccG78FGARwGKHpMcCwAv9tiRf0RwREQAREoCwEZBwoC0YlIgIi4I089n4MFeYhcIfyf+3atXD16tW4JjXLTx05ciR+BSIM19mInxoHvDHJ3l2ah/tpLwIiIAIiULsEXOFf6f3NdQ/L3AIMI2CpQv8t8BKulI6H014EREAERGB1BGQcWB0nhRIBEViBgCvuqVKfRqERx1ef2dnZ2Hvgzp070QjgM02zAgJx2fINPj/3hqGfp+nrWAREQAREoLYJ8O4u9v72d3sqPeH4zUjDp8dpWB2LgAiIgAiUh4CMA+XhqFREQASMAA23tJHnx2mD7tixY3EpxMePH8c5CZiXAIOA9xgAZD4dh4t/mhb+5IHL+0dP/REBERABEag6geXe036NuQWeP38enjx5EnuTsRwuQ9XkREAEREAENo+AjAObx1o5iUDDElhOMc8r9Iwd3bFjR5ieno4KPfMN8HUIR9jJyckwPj4el61iXCmbNxC9Een5+XnDglXBREAERKCBCPDO9vc3xfJ3OMbh+/fvxyFn7E+fPh2GhoYW3v0NhEBFEQEREIGaJiDjQE1Xj4QTgfohkDb4XOpSfj6UwMOle74aXb9+PW4HDx4Mw8PDYd++fbF3AfMX0MvAjQlpPB2LQN0RWJxCo+5El8AisBYC/Ba4IcDj+TnX6DXAcoX//d//HSesxYA8ODjoQbUXAREQARHYJAIyDmwSaGUjAs1IIG38lSq/h2GP4k8jkfkIzp8/H1czePHiRfx6tHPnzuCrGnha3uD0NIoZIzys9iJQawS4b/3erTXZJI8IVIIA9ztGXva879lw9BZj3hkmHmRJ3OPHjy9MVFsJOZSmCIiACIhAcQIyDhTnIl8REIEyEEiV91KKe9pYbG9vjw3DkydPxkYj5/QawCjgShR7uqCq90AZKkhJVJVA7Dhg97OcCDQyAX93+28ABgH8/Jz3eXd3dxxGwPueoWS9vb2B97+cCIiACIjA5hKQcWBzeSs3EWhaAmljMIWAv2/4MwnViRMn4hKHrGyAEYBhCO7wY14C9hgNmI8gve7htBcBEWhQAlu8XIlhJfotXPAA2leZgL/b3RDAng3/1GEcwCggJwIiIAIiUF0CMg5Ul79yF4GmJ4Dyn/YCoMspjUdvKHoj0huXTGT46NGjcOPGjWhI2L9/fxybmjY4PWzTwxUAEWggAqj+mfqPYunKpfng+TK70kDFbZii8A734QMUip4CbLyn2dJrDVNoFUQEREAE6pSAjAN1WnESWwQahYB/WWKPkaBYQ5GGpF/nmGUQmbiKcaoMQfjrv/7raCDwOQkIKwNBo9whKocIFAhgBzBlcsEusAAGw4CMAws4auzA38UYflmJ4Kuvvoq9vY4ePRqYdFZOBERABESgdghkM8HUjjySRAREoMEIeMPQ96WK59fZ+7GHTf0YRsBM1jQsWRaxq6srTmKI0QDHniEHGAjkREAEGokA1gErz5Yiz7ZsAzVb0f4+HxkZCZcuXQoffPBBXI3m+fPnNSuzBBMBERCBZiWgngPNWvMqtwhsIgFvHBbLMlX8i13HjzDeo4D5BRhK8POf/zyMjo7Ga4xX9TwwCmAc8Hievl/3fQygPyIgAnVDINoF6DkQuw5gIIg+dSN/swnqBlp/52IMGBsbCzMzM3ECQgy9ciIgAiIgArVFQMaB2qoPSSMCTUVgrd3/6RXAhqEAAwEzW+O88enpcU5DlHOf0BCjghsYmgqyCisCjUIgGgasd5AZB/hnfYwKJfN9oxS0Mcuxa9eu8P7774cf//jHsfeXjAONWc8qlQiIQH0TkHGgvutP0otAwxNwxZ+Cotz7ue99GAHXMARw/uLFi3D+/Pnw4MGDuFb2u+++G2iYYiDgOnE9fsMDVAGrRoDe73bHxvzn7C+6babQZiP64hU8Yy/5LJz3mG/e+fXgYXxgYhDijiFCtmU8bRm86JvxygIWjtlFlhG5/tQYAXp4YRDg3cu7Wu/gGqsgiSMCIiACRkBzDug2EAERqCsCqWJPz4C0t4AfYyjAQHDv3r1w8+bN8OzZs4WhBnVVWAlbnwRMQXUl31VYCoJhIDMOsJQbxgI7K2xczbbC0QpKLpdXCEKWNe1+KL8xKFhF6BcQnRtPLHCkx7kdZdcLYWq6lM0tXGoASJeeVS+u5r4vVHoREIHaJaCeA7VbN5JMBERgBQJuDGhvb48hOcfxhWpoaCiw7KHPPxAvFP54OBqu6XEaRscisGEC3I6mv2bqrO2j4psptJlxoCW0bGmxbvL4LVWVY6ilXkvEWehZYGGyFJdcrouTWIYF+YuUgp5CL1vDS5trFHNAiz2vLS2tVrbMxJIVski8Il51AaQBhOSdOzExESeJZbLYrVu3xh5bxd6zqeGgAYquIoiACIhAQxCQcaAhqlGFEIH6JLDRxmH+6xPp+XbmzJlw4sSJqPzTlZWvVj4EAVoYFGiwsrwW/lynq6ucCJSHABpqOi7ejuP9SZf5LWHe7juGHJi6G80C83YvtliUFdTeH4i2VMH+weWa90D+aAOJfwrPbxxWYDzMEMA2bxOMztt1DCntrW3GiMDwZcu5Il65EDotI4FU6ef4+vXr4U9/+lNcrvDs2bPh3Llz4dixY/He5zrbRt/7ZRRfSYmACIiACOQIyDiQA6JTERCB+idA4xODQH7CK4wAblB48uRJ/MJFzwKWRpRhoP7rvSZKEJXcvCSusfqeJTczJYmv4et1riKvN37txYNFxiOWzdjAB8MJ9oAtZhzAQIDJJXPsCSlXCwTc+IoBYNu2bWHPnj1xzhdkw89deux+2ouACIiACNQGARkHaqMeJIUIiECFCfgXK4wAGARu374dvv/++2ggoJfBwYMHQ19fX5TCw1ZYJCXfaAQW9Z/FkvFpfMEAgDK7qNii7MbeBIkfET1EseQWE27wIyt8xGYwnAO9KvyrM34ZJ6fV4DxqtHheH4jH8cDAQOwpcPjw4XD06NFoJEhFJ4yMAykRHYuACIhAbRGQcaC26kPSiIAIVIhA2iBlKMGtW7fCJ598Elc0oMGKYSA1DiBG2vCtkFhKtpEJLGqwhVIuqrn0YOGreLzHbJ/N0J99E2cywzhcoJHZrFg2uqBboET3xzhg1JbElCFvCY6yn6TvzZXeh9zTBw4ciFtekJXi5sPrXAREQAREoDoEZByoDnflKgIisMkEvHHKnuEGr732WvzKNTo6GnsN9PT0RInSxvAmi6jsGpgAii5DCaLGi8JrW7wnMQwsfAM39dcCRn24oBiza2oXkS2lgIkAQ4Fc7RJYzmjj7+LalV6SiYAIiEDzEpBxoHnrXiUXgaYikDZI+cK1a9euuKrB5ORkYFZtVjigQSvjQFPdFpUr7FJ9NuZjd1f8F80BGAVs+6GSy9XMQFAkicrJW0MpRwJWeJ5Ztpe2XMGczRcCl9jbooZkbWRR/F3oe3+HsiLB06dP45Csjo6O0NvbG9+fPp8LTDxsI/NR2URABESgEQnIONCItaoyiYAIrEgAgwCbN3zZ+zETa01NTYWZmZm4igHLcWnCwhWRKkBKINPxUx9028Xv3emxhcJskFyNZ0sjN9MZ8ArGAVvCgR4XcXUHe0ajAophRa4qBHgv3rt3L3z99dfRQMBcLa+88ko0DvDedINOVYRTpiIgAiIgAhsmIOPAhhEqAREQgUYg4IYBlA8awMxJMDY2FuchOHLkSPw61gjlVBmqRcB6AxR6CrRgB0CRcgMB57bNm87LcoamA8c5B/BuRsezCJuslwDGgaznAIMJWNqQYQWpIaUZGW1GmblfY11w3xYMMrwTP/300/Cv//qv0VDzi1/8IjD5IO9N5nIhPMcefjPkVB4iIAIiIALlIyDjQPlYKiUREIE6JFCsEdvW1haePXsWLl26FA0E77zzTjhx4kRcmosiuiGhWNw6RCCRK0UAhQot1zR/7pX29vbQbvcWqu38zGyYs54pW9oJk6m6tos9BpiMsLENAxmThVIXZl+k/BhO2EOg1ZhhIKAb+4xtbVs6Qqsx5HoWJgbUnwoSyL/jeDcODg6GX/7yl2H79u3xvbhz584oQezVYUf5OBUUT0mLgAiIgAiUmYCMA2UGquREQATqkwANW/9KRgOYBi+NYBQT/Pkq5k7GASeh/bIElmiwW0KbLaPZGr98m3Fg1r6y2hasy3zWg2Ax8FoNAx5+MYVlparyRZc2FSObeSEaBgqXs54D2cSDc7b0aHz+zJDC8B4pnym7yh7n33XMzUJPKgwDTOLK0oUMz8KpXipbF0pdBERABDaDgIwDm0FZeYiACNQ8ARq23rhFAWEsLRNt7d69OzaAaRTLicB6CaC4d9hXbzYMBC8xNll3+RYzPLXatXm60ts9iONvMRU6u7Z4haN4ZhFQphevEDJLJzta+W+W88rh1hbCUkWuhcRdQt9banbI5S0WKDOSZDm85HnksjGanskMdDyX9L5YSC4Lqr8VJpAaCHgPsu3bt69kroT3e7lkIF0QAREQARGoSQIyDtRktUgoERCBahNACWFFgx07dsSGbr6xm54zJhrn3WqrLbvyrz0C3C98ae3v7Qtbn43GIQX0GmAEvalSYbagJC+MpjcNOFGhlxSI5Q4XFe7sEvMVpEpzPC6VwJLUFk9QzsvvMqUf+dISRXktP8rrQwli2QsyYBrguZqZmrGJ755Z4bYEJgbt6eleonimz2H5ZW/uFN0oAIW1KPyqk+a+b1R6ERCB+iYg40B915+kFwERqCABGrnFVilgwsLnz5/Hpbz6+/uj0ocxAbeWRnQFRVfS1SCAAuwKdqqpI4vdS3xxZc6BqReT4cn407B7cHfo6u60cfQtoQ370oJlgC/pxFlMLiaBl/mnSXt2XE+P0zBcq7bDAJAZCEpIsiB8NswCQxsrFExOvAhPnzyxQmfGARhK+SzBcIPeGGMid9v7nCssVbhnz544xGqDySu6CIiACIhAHRCgKSInAiIgAiKwCgL+Je3Fixfh+vXr4fz58+Hzzz8PDx8+jF85PQkP5+faNxEBtPIlmrn1DIh+L8PWjq7QY1+/UZQf2HJwo48ehamJidh7IE6+Z1HdPlCIsiSp1DCQHtcL3RSLy+9+sf8EBgLbeH6Yn+Hl3HwYHx8P9x88CHPzc2ZI6Q49NtQH4wBh9JyVt+bd6ALzmzdvhk8++SR88803YWRkZMEgI+7lZa7UREAERKDWCMg4UGs1InlEQARqkkDaKJ6xWeYfmMLy5z//OS7rxbrfszZpGk4KS01W3+YLtaj1xrxNlQ1dbR1he++ADS3oDRPW82Ts0Yjtx6NBwI0DDBlgHgJcMQNBvNAAfyibT0AYy1swDGA0sIcotLe2hVl7zh4/Hgs8X/TgoZdOrw3LoBeBXPkJuHFgwgxWvN8wCkxOTuqdVn7USlEEREAEapaAhhXUbNVIMBEQgVoiQMPZG8/MRXD27NnYTfyJdXlmLLSvZuBhakl2yVIlAjkdlrn3d27fEYZsXfjbD+7YxIS2Nvz0TJyYMJoCCkYBrAIozPMFJTgqzLm0qlSismaLwSTrKWCl5zAaBpijoCV2bx8dGw03b90O9NQZHh4ORw8Ohb62wsSgPI9llUaJOQGMMKdPn46Tsvb19QU2hhz4u833Hl57ERABERCBxiEg40Dj1KVKIgIisEkE+IqJgaCzszN+WaPxzNhcd2o8OwntnUBUfE2b7e3tsXvHVsAwBezx2FjoHe0Lewb3htZO68hn8w68fDm/MNmgK7/ozA3pcgWLY97NMMCQgpmZ2TA29jj2HGCegf379sfl81rMKDBroFqtv4XMA5W5K3iXsVQhyxTyrmPzd5rvK5OzUhUBERABEag2ARkHql0Dyl8ERKAuCbC2t6/vnS8AvQhQdBhi0GYT0GkVgzyh5jrPhprwnfxl6OzoDDu2bQ+HDx0Oz65+FUZHRsPdO3fD3kP7QmtbKwsYhFkbX7+ohBU06JwiXW6Cbogod7r0DOATfxSf5QpjN4gsF5R7/xcDWOG3tGyxZ6bdDAOj4eGDh2HaelYcPXo07Nu1N3R3WQ8dCxh7HJRd0OZJ0IdIsefdtHivZQzcIMBZdu9m/vlwma/+ioAIiIAINBIBGQcaqTZVFhEQgaoToDFNN2g25iHg6xtGBDcQeGNbDe2qV1XFBfC69ozm7Ys39b69b1t4842z4fnUePj25nfhgs1d0dPfEwZ2bAstW1pDmLP5K1r5Ml5wdpAdl99CsJCH5dCSXx/R89/QnskDLQEzCmAIWOgWgRd5xr+2bKFNPshwglYrP6Mprl27YXMN3A9bO7vDu2+/F/Zu2xOvTVu/gXbrNyC3fgIYLnk3YcTkveQbhkw5ERABERCB5iagX4Lmrn+VXgREoAwEaGzj3ABw+/btOMv36OhoePvtt8ORI0cWxu0SToYBKDS+o54XDAR2PP9yLirJW9s6w8G+wfDmGTMQTDwPF77+Mlz84stw7MTxsGuPLW/Y3hVmTHmLX8i3tETlGr3dZiGI8ctlIsAwsKVgEIhf8MtuHIg5YBLgE7TZBZZ+8ze1FJuBGUNYvnBL6LDlQCcnJsPVy1fCpYuXQp9NPvjGqdfDqQPHA0uFzli/gba4tkPW34Bk5dZGgPuR9xTGASYdZNUV2O7fvz8MDw8vvMMIx/2rd9Xa+Cq0CIiACNQ7ARkH6r0GJb8IiEBNEHAlkMb09PR0eGTL1LEMWK/NTM/cBExaSHddwnnDeznBPb00jBrqKY36Os7UZBR8MyKhdNkQgiO7DoUnx14Lky8mw+0bd0LblrawZX5LGDxwwEK9NJ3Z+hpYBMLH+wZDQbyyqGQv9w0dxTsq5gkq9H9WCXC32FvAZLKL+fAebl176wmQOowDqeMUAwETM9JdYOTBo6isXrlyNXS2d4STR4+HM8dfDds6bYUCKzmpeU+DNB0dr0wg/955+vRp+PLLL8MXX3wR9u3bF99P/n4p9u5ZOQeFEAEREAERaAQCMg40Qi2qDCIgAlUn4A1r9kxQyJc4GuB8lUsb5hx72LUKvZG4a81L4ctDIK1rVG8U8OwL+nzo7+wNrx45acpxa/jD1B/D+OjzcOPljTA9MRN6ertDV/fW0G6TwzEXwUvT6OcxLNn9haKMkh8tBYk6Hy+l5xaEpRHd0b9lHmtDFtH2DCXwq5ZgEeNANBZkCceA0XxgntHfoxbdEyIXyvJCHCZdnJu1eRUsBOaOeRtGMTb2JHxrRoFbN2+F+Rez4fSpN8Lrx0+HQ3v2x74CNi1eDE8cBiggdi5185FbjoAr/exZjnVqairOiYLhki29V5dLR9dEQAREQAQal4C1G5KWQ+OWUyUTAREQgYoRSF+ja2lgp/E2Itxa8txIPoq7MQLzNtEgSj3GAeYfwKH0ztl4+wcTj8L/+5+/CZ98/ml4ODoSTp0+acMMToR9ZmTq7jHFzeYgyPoLZNp8NBJYWtS91392vPi1HhXazzAKzJtSPmtDYOIwmCyZqJxHQaK14YfqdkwzmbSOXgx0S/c8Y9zV/rFeES8tfxTT8fHx0E5Pmtn5MDY6Fj744IMw8mg07LWVHH76/k/C66+fDTv6ttswgpbIyvoXRPMAPQ0wCyBpdrRM5rIgLMDhXUO9+2SpDCughxPOJ1dN6zQ9XkhEByIgAiIgAg1PQMaBhq9iFVAERKDSBFIlf7lGtTfQ2RPO5yjYqHzL5bnRtBW/fASo97jl+vvjxwoFd0bvh6s3vguXLl8Ot+7eCtOmwLV3dYT+gf6wc9fO2COls9OXzMQyUFCTCzo9KnOpe6HFVgFosR4K8Z4rhKdki4eLR/kSL8hdkJ/P//jRk2FFV1DQ4zj36dkwMT4Rnj55EkZtGccXdtxmExD29fSGfht+wxKPB/YdCEMHD9n5gBkPFjs3ZsMJyC2WMsqNxCWlTkUrGWhF6es6QFpvFIRznN8jPlcKw538XZQPEyPojwiIgAiIQNMQkHGgaapaBRUBEagUAW9Qk743vD0vv4Y/jXFWMeDrHQ1y1hP3RrnH9fgez9Px6+m5H3scP9e+dglk9WpKmt0PuKw3gHX3t+OplzPhybOn4c69e+HK9W/DvYf3w/iL8bi8Xwtf2fln91BB3y5oxgXNN1HUU704ZmJ//Iv/4v22eo055ltIH/nTzdNfaY9ybx0XwkvrJUF8hlJ02JKFTDq4x4wCR/YNhp07doX+/v7QZV3csxUJ6PtQUGgLGSB11m8gK37RUuQBFA20ksT1f93rKS0J74r0feEGAsIs3htpDB2LgAiIgAg0EwEZB5qptlVWERCBihGgIY5LG96c0/h2P44fPnwY5yLAQLBjx444YSFGAhyNc2+8e3rxQuGPp5P6cVzKPx9O59Un4PVKnfkxPfrnzDxggw6ozXjPPJ54Fh48ehBGH4+GZ8+fh0djI3Y8FrvjW0QqnU/Bmepsp1lafp7di/nSLvh6vHyAZc6jfl0waBBsrfr2FjMMtJkxoHtrd9jWNxD27dkTdptRYMf2HWGgrz9s6+6LExNiJJk1FmY2i7lwnubFsZ+nx+a96BYKWvDyCIshmuKIe4L3zLNnz+KeiVF7enrie4ZrbG4c4H7EYCknAiIgAiLQ3ARkHGju+lfpRUAEKkwgbXzTAL948WL4s61r//3334fXXnstnDlzJgwODsaJwVyUVHF0P/b4F3Ol/IuFlV91CWRK/KIMC+dmGKJPAAYCuusz/Z79QNuKBS/DpA05eD49EaZnpqOS5/dHVPAsKXoTcJ8t6MQWp5RbyK8QIH9eLF7+/sqfF4vjfgthrccAk3N2d3WHPtu6GOJgqy9w3aYisF4TLPOYfdWmZwA9DdjyBoD0PD32/OI+X3wCNpHzdw77x48fhw8//DAaJA8dOhTOnTsX5xjgGltbm62QUeCe3gsL9dZE3FRUERABERABM+QLggiIgAiIQOUI0Mim0U1DnC9z27Zti9utW7dig31iYiJO0OYSpA1170ng17SvfwIllS67R+xWiUaBVg5QjG3H0Va7b5i8b74r+9qL36L+ix8eiz52VtQVDbGKeFGI7M9CusiwJkfmNu8Bz0BbS9b0wIueAQu9A6zApOvlw9yBgQC35vxirOb84+8cegywVOG1a9ficqoYZ/z94kMIUoOA0yp5j3oA7UVABERABBqWgIwDDVu1KpgIiEAtEfAGN8aBY8eOxa+oLB9GN1+u0Vinoe7h2PtWrAFfS2WTLOsnQB17/WbzFGZGARRnNpRiehG0FhTq9edU3ZheHvY49hgFcBzTi8CdGwKYcUBu7QS4p9KeAQcPHoxzObC8qhsISNUNBGkOxJUTAREQARFoXgIaVtC8da+Si4AIbAKBBcUvaXTjR+OdpcRojPM1lUY7jmts+LP5OddKNdxL+RNHrj4IUM/+fTzeKnYalz2sD/FXlDI1BLjKz96P0wRQT11FTY8Jk56nx2n8HyTqiS0J1Lgn3EvMNcD75enTp3HiUwyRbHmX3XeZr94jeTo6FwEREIHmIyDjQPPVuUosAiKwiQSWa3xzjY1GuTfM/Ysf/hgN3H85kVcTZrn4ulZ9AlbdUVOOhoHqi1NWCWLRCgp6ahBwg0GxzFLFf7FPwWLI9Pqib+Eob3FoIuMA7w0MA7wT6BnA+wTHMX5cd+fvDffzc7+uvQiIgAiIQPMRkHGg+epcJRYBEagygVKN8ZmZmTj/ANe7uroWGvSlxPV0uK6GfSlK9eHfyMYBaqCUgSA1FnhNueLvOr3v/Tp7D5P6LTl2HbhY5CUBG+eE9wHvAQwC7Iu9E9J3Rr7kxcLnw+hcBERABESgsQlozoHGrl+VTgREoE4I0KAfHR2NSx3y5e/AgQNhYGBgyXCDfOOd8+Ua+3VSdInpBCqpyFZKWV5lul40ghc7dgTsue5hfJ9eX9XxuiOuKvWaCcTzPzk5GZ7bcpdTU1PRqNjX1xeHEqxFyPy7ZS1xFVYEREAERKBxCMg40Dh1qZKIgAjUCYFiDXGMAzdv3gwXLlwIrGDwox/9KC5zyASGODcC5OPmz+sEgcTMETA7z1LnSrfvl15d/1m503NJVkrXyseEi2j9hV2MmR57UuzzONJrHHt2K4XLx6v3c94D6TPPe2NkZCRcuXIlGhd37doVTp8+HXbs2BGHJeXDp3HrnYXkFwEREAERKD+BYkP5yp+LUhQBERABEShJgAY8jXwmJezo6IjhWJ+cL4L0IsDRqFfDPqJojj+NpPUmZeHQT9nTCCm2NUclr72UvAN4V7Dx3mDDOHDjxo1w9erVaGBkEkKGKOEITxg5ERABERABEVgNAfUcWA0lhREBERCBTSCwd+/e2JCnizBLHDLvgBsEfL8JYiiLWiLgmnQtybQeWZJyJIfrSamp46Do598FvCuOHDkS9uzZE3iH0NuorW2xeZcP39QAVXgREAEREIFlCWhCwmXx6KIIiIAIVJ4ADf7Z2dloGPBJCfky2Nvbu2Rd8spLohxEQARqmUBqHOCY9wQ9BVi2kBUJfL4BjuVEQAREQAREYK0EZBxYKzGFFwEREIEKEPCGPnscX/t8+bEKZKckRUAE6pwA7wq2vCEgfYfUeRElvgiIgAiIwCYTWOx3tskZKzsREAEREIFFAm4MWPTJDASc09inR4GHaW1tTYPpWAREoAkI8B6gp0D6/PvcA6khUcMImuBmUBFFQAREoEIEZByoEFglKwIiIAJrJVCsUc9wA+YguHXrVhxiwCzku3fvjknrC+FaCSu8CNQvAVYxGRsbi8ZChg90d3dHQ0Gx90b9llKSi4AIiIAIVJOAjAPVpK+8RUAERKAEARR/Gv0YB0ZHR8Onn34aOjs7w7Fjx8L27duXfD0kCQ9fIjl5i4AI1DGBqampcPfu3XDp0qX4XuA9cOjQoWgwpFgyENRx5Up0ERABEaghAjIO1FBlSBQREAERyBNgKcPx8fG4VBkKAkYAZiZ3AwHndC2WcpAnp3MRqF8C/kz7c33//v3wpz/9Kfz+978P+/btC/QgOnz4cHzueQfIiYAIiIAIiEA5CMg4UA6KSkMEREAEykzAlQKWMxwcHAx/9Vd/FZ48eRJ27doVlynz62SrXgNlhq/kRKDKBPLP94sXL2LPodOnT4dTp05Fw0BHR0eUMg1bZbGVvQiIgAiIQJ0T0GoFdV6BEl8ERKDxCTC0AMMAPQja29vDwMBA2Lp168JXQ3oXoCCkk5I1PhWVUAQamwBGP9/oOTAyMhKXLDx48GDYtm1bNBY0NgGVTgREQAREYLMJyDiw2cSVnwiIgAhsgADKQjpjOecYD3DMYp5f1syzItx6nL5Kroea4ojA6gnwbBZ7znjOMfzhlnu2V5+TQoqACIiACIjA8gQ0rGB5ProqAiIgAjVFACUiXcosFQ4lo5SikYbTsQiIQO0QKGYYQLq0J1CpMLVTCkkiAiIgAiLQCARaGqEQKoMIiIAINCMBvirOzMzEr4soEqky0Yw8VGYRqFcCbthz+ScnJ+MQAowCMgw4Fe1FQAREQAQqTUA9BypNWOmLgAiIQAUIYBhgHDLLHDKsgBUMWPu8rU2v9QrgVpIiUDECGAZw7CcmJsKjR4/Cw4cPQ09PT9i/f3+cY0QGgorhV8IiIAIiIAIJAbUiExg6FAEREIF6IIASQY+Bb775Jly4cCFOVPh3f/d34ZVXXgn9/f0aWlAPlSgZRcAIeI8Bev3wTGMU+MMf/hCXLmWVkrfffjv09vbK6Ke7RQREQAREYFMIaFjBpmBWJiIgAiJQPgJ8RWQZM9Y6p7cAqxjQi+D58+cxE6670oEHx3IiIAK1ScCf1enp6cCShfQKoscAqxJs37695CSjtVkaSSUCIiACIlDPBNRzoJ5rT7KLgAg0LQG+NKJAvPHGG2HXrl2Br4xdXV1Ny0MFF4F6JoCBgGVKd+7cGc6ePRtXJKHHQHd3t+YcqOeKlewiIAIiUGcEtJRhnVWYxBUBERABFAl6B/CFkYnLGKfc2dkZjQP0KMi7jfQc0FjnPE2di0D5CHivAVL0Hj881/Qi4Bork2D003NYPuZKSQREQAREoDQBGQdKs9EVERABEagrAm4ESBUJ91tvQdK01puG4omACJQmwDO63HO20vXSKeuKCIiACIiACKyNgIYVrI2XQouACIhAzRBglQLccisUuNKxUSNBzRRagohAgxHgGeX5pMfA/Px8POaZ9qVJ/RlusGKrOCIgAiIgAjVIQMaBGqwUiSQCIiACqyGQVxpQLDAYsNEdGQVjOcPBavJQGBEQgcoQYMnCx48fR6MAkw8yNAiDgHoKVIa3UhUBERABEViZgIwDKzNSCBEQARGoOQIoEBgAUodR4NmzZ3E5NBSNbdu2xTXS8+HSODoWARHYXAI8uzyr3333Xfj222+jMWBgYCDOLcCzipEPI4GcCIiACIiACGw2ARkHNpu48hMBERCBMhDI9xogyampqXDnzp1w/vz5+BXyxIkT4cyZM3G5Q67riyQU5ESgOgRQ+nE8h2NjY+Hrr7+OG0uSMgGhX+O6ntWIQ39EQAREQAQ2mYCMA5sMXNmJgAiIQLkJuCKxdevW0N/fH4cSoHyMjIzEddNZEk1OBESg+gR4VjESsGzhyZMnA4aBvr6+4M8oRj/fqi+tJBABERABEWg2AjIONFuNq7wiIAINSwCFg6EEx48fD4xnRvHwOQdQOFBM5ERABKpDwHv7MGQAQ97Ro0cDcw2w/GhPT8/CF29v5gAAQABJREFUigUerjpSKlcREAEREIFmJqClDJu59lV2ERCBhiPAjOcTExNhfHw8Ggb4Isn8A6lbi6FAikpKTscisH4CeeOcnq31s1RMERABERCByhCQcaAyXJWqCIiACFSNAN2WXRHx5dBWEsbD58NJgckT0bkIiIAIiIAIiIAINCYBDStozHpVqURABJqYwFpmOi9lFGhifCq6CIiACIiACIiACDQlARkHmrLaVWgREIFmIIDiz+Y9CegFwFJp6g3QDLWvMtYKgZmZmTA6OhpXE2GuAeYC0fKitVI7kkMEREAERCAlIONASkPHIiACItBABDAMsJ76ixcvAgoKCkl3d3ecAA0DgRsPvMgyGjgJ7UWgPAR4xp4/fx4+//zzOEnogQMHwnvvvRe6uroWMtBzt4BCByIgAiIgAlUmIONAlStA2YuACIhApQigdLB++o0bN8L169fjxISvvPJKOHLkSFxKjXzpVUA4KSiVqgWl24wEeK4Y3jM5ORnu3bsXPv744/iMsZqInAiIgAiIgAjUKgEZB2q1ZiSXCIiACJSBgPcWYPWC+/fvx94C+/fvj8YB7znghgHOcX5ehuyVhAg0NQGMBCwnyrKF/f39cc+So3IiIAIiIAIiUIsEZByoxVqRTCIgAiKwQQKu6KOI7N69O+zduzemyDADFJa8I7yMAnkqOheB9RHwZwnjHL0F3nnnnbjv6+uLxgJS9Wd0fTkolgiIgAiIgAiUn4CWMiw/U6UoAiIgAlUlgNKRKh50b37y5Ens4oxgKCsYDVBg0nAutCs2nKfHfl17ERCBlQn4s5V/hvBPn7389ZVTVggREAEREAERqAwBGQcqw1WpioAIiEDVCLhSggAcs9FbwP3p5uzLHbpfKWGluJQiI38RWDsBnjc9U2vnphgiIAIiIAKbQ0DDCjaHs3IRAREQgaoQcEWE7s1uJHA/BPLjlYwEVRFemYpAAxHQM9ZAlamiiIAIiECDEpBxoEErVsUSARFoXgKu8DsBzuk5MDc3FzcMBcXCeHgpMU5CexFYHQGeGZ4pnjGWDWX5UIbudHZ2Fp3801P1eH6uvQiIgAiIgAhUk4CMA9Wkr7xFQAREYJMIoLgwnKCYYaCUMSBvQNgkUZWNCNQVAZ4fjG8M1cEocPfu3fDVV1+FwcHBcPjw4bBnz554vdjzVMyvrgovYUVABERABBqKQEtDlUaFEQEREAERKErADQAoMHzZ/Oabb8KHH34Yvv766zhRoSspHq5oIvIUARFYQoDnhY3nimfo4cOH4cKFC+EPf/hD+O6778LTp0+XhNeJCIiACIiACNQyAfUcqOXakWwiIAIiUCYCrvSjwLCc4e3bt8O1a9dCd3d3GBgYiF2f6VUgJwIisDYCPFNuXJueno7Gt56entDf3x+6urrWlphCi4AIiIAIiEAVCcg4UEX4yloEREAENpsARgKMAygxY2Nj4f79++GNN96Iyxtu3bp1QRxXdgjvxwsXdSACTUggfRb8OP9s9Pb2huHh4bBv375w/PjxsGvXriYkpSKLgAiIgAjUKwEZB+q15iS3CIiACKyBgCsxbhxgLHRHR0c0EPCV05c2zCfp8fL+OheBZiZQ6rlgfoHt27dHgxoTEnpvnFLPVzMzVNlFQAREQARqj8AWayi+rD2xJJEIiIAIiEA5Cfirnj29Bpg4bXJyMkxNTcVeAwwvYMJCHIpPKeWnnDIpLRGoRwL+LOWfEfyZmBDnRgH82NKw6XE9ll8yi4AIiIAINC4BGQcat25VMhEQARFYQsCVGjxRYtJzV2B8YjUpMEvQ6UQEFgjwrPD8uAGAC/j5xrn3FMAPlz5P6XG8qD8iIAIiIAIiUCMEtFpBjVSExBABERCBShNAKfHNjQDkiZKDP4pM6u+KTaXlUvoiUE8EeC5S4xrHrACCvz9fHPvzg5+cCIiACIiACNQDARkH6qGWJKMIiIAIlJGAKy0YAtwwQPLuz7FPWpj64S8nAs1OAGPA3NxcxMBzwsSe3377bXjy5El8booZCJqdmcovAiIgAiJQHwQ0IWF91JOkFAEREIGyEch/yUTRGRkZCc+ePYtLG+7YsUNLG5aNthJqNAIY1Xx+Dlb7uHz5crh69Wp48803w9GjRwPPD0Y1NjcUNBoDlUcEREAERKAxCajnQGPWq0olAiIgAqsigAJDl+jbt2+HCxcuhC+++CI8fvw4xkUBciVnVYkpkAg0AQE3DvBsPHjwIPYauHbtWnj69GnsOYB/OuygCZCoiCIgAiIgAg1CQD0HGqQiVQwREAERWC8BVi24detW+Oyzz+LqBYODg3E5NpQguk1jJMj3NlhvXoonAo1AwI1qrPrB0JwjR44Elgft7++PBjWem3TITiOUWWUQAREQARFofAIyDjR+HauEIiACIrAsga6urjA8PBy/dvL1s6+vL4bHICDDwLLodLFJCfBstLe3hzNnzoShoaFoEGA4QUdHR5zUk2saUtCkN4eKLQIiIAJ1TEBLGdZx5Ul0ERABESgHAbpAM5SACdXoRbB///4494B3ny5HHkpDBBqNAL0H3KlnjZPQXgREQAREoJ4JyDhQz7Un2UVABESgQgSYh4CJCjs7OzWkoEKMlWx9EcAY4EYAn1fAewek/pTKz+urhJJWBERABESg2QnIONDsd4DKLwIiIAJFCPiEavQekKJTBJC8mpJA2lvAAfjz4QYD9r6agYfRXgREQAREQATqgYCMA/VQS5JRBERABCpIAGXGFZw0m1L+aRgdi0AzEXADAGXOG864hvPnptgzFQPojwiIgAiIQEMT8N+Devwd0ISEDX1rqnAiIAIisDIBfrzSHzJ6DUxNTcWNGde3bt2qL6ErY1SIBiWQPhsMt2HSTubnYMgNqxN0d3fHlQncKIDRwOM0KBIVSwREQAREoEEJyDjQoBWrYomACIjAWgigzLBhDMA4MDIyEu7fvx8VoEOHDkUlqB4t4GthoLAiUIxA+mywdOGNGzfC119/HZf7PHnyZDhw4EDseZM+H+lxsTTlJwIiIAIi0LgE6vk3oKVxq0UlEwEREAERWC0BV4AIz3hpDAN//OMfw29/+9tw69atwLrtOJ+LIJ7ojwg0AQGeDe573Pj4eLh27Vr46KOPwpUrVwLGAl++kOvpc8S5nAiIgAiIgAjUEwH1HKin2pKsIiACIlAhAvmu0F1dXbG79MOHD2M3apQg1m6XE4FmI8AXIP8KhCFgcHAwnDt3LvYY2L59u3oNNNsNofKKgAiIQAMTkHGggStXRRMBERCB1RJw5Ycvnxzv2LEjnDhxIhoIGFONv5wINCMBngeMZ7ienp4wPDwcdu3aFYfaMOeAPzu+b0ZGKrMIiIAIiEBjENBqBY1RjyqFCIiACGyYgA8ZQBHieHJyMoyNjYW+vr6oFDHcwI0HG85MCYiACIiACIiACIiACNQUARkHaqo6JIwIiIAIVJeAK//s2ZhrgEkKMRjwZdSvV1dK5S4CIiACIiACIiACIlBuAjIOlJuo0hMBERCBBicgA0GDV7CKJwIiIAIiIAIi0JQENOdAU1a7Ci0CIiACqyfgvQiI4T0IVh9bIUVABERABERABERABOqBgJYyrIdakowiIAIisMkEMAj48m1zc3NhZmYmTE9Pa2LCTa4HZScCIiACIiACIiACm0VAPQc2i7TyEQEREIE6JcCcAw8ePAhXr14NnZ2d4ejRo3G2dh9eoFna67RiJfayBDCO0VPmyZMn4caNG+HTTz8N+/fvj6t4sGIBjmcAp2cgYtAfERABERCBOicg40CdV6DEFwEREIFKEEiHEqD4PHv2LFy+fDk8fvw40JNg69atcQWDSuStNEWglghMTEyEu3fvhitXrkSxBgcHl4jnRrIlnjoRAREQAREQgTokoGEFdVhpElkEREAEqkGAoQW3bt0K9+/fD+Pj4/paWo1KUJ6bRsBX58AYhgFg+/btYWBgIHR1dS2RQb0GluDQiQiIgAiIQB0T0GoFdVx5El0EREAEKkXAu0uTPsrP6Oho7Fp97969cOjQobihKMmJQCMTwCDGsIKxsbEwNTUVduzYEbZt2xa6u7sbudgqmwiIgAiIQJMSkHGgSStexRYBERCBtRBAMaK3AMoSQwrY2tvb15KEwopA3RFg3oHZ2dl433Pc0dER2traAvNwyImACIiACIhAoxGQcaDRalTlEQEREIEKEPA5CJigbSXnvQ7U3XolUrouAiIgAiIgAiIgArVDQBMS1k5dSBIREAERqFkCKPorKftuFKAQHK8UvmYLK8FEoEAgvad1P+u2EAEREAERaHQC6jnQ6DWs8omACIhAhQjIAFAhsEpWBERABERABERABKpAQD0HqgBdWYqACIhAPRJwYwBjsF+8eBGXN+zv74+ztzMO2x3h2FYzBMHjaF8/BPw+qB+J1y4pZWR+De5zHHMNsEqBeg+snaViiIAINCYB3pM4vRcbq34XW3ONVS6VRgREQAREoIwEaAS4UojS9PDhw3D58uWwd+/ecODAgbBz586FSdo8bBmzV1I1QsAbg34v1IhYZRPDy4cB7OnTp+HatWvxvt+1a1e8zzESqCFcNtxKSAREoE4J+LuyTsWX2MsQkHFgGTi6JAIiIAIisEjAGwMYB1jS8Pz582H37t3hnXfeCX19fXEFg8XQOtpMAl43+TyLKbLMuu/h6d1RLEw+nWLnpLHeuMXSqwU/2FCm6enp8ODBg/DRRx8F/E6dOhWXMGSVgrSXTC3ILBlEQAREICXg7/fUr9zvatIrlk+ap47rk4CMA/VZb5JaBERABDadgDcu+Hq6ffv2MDw8HBsHc3NzYXJycsE44OEaUXncdOglMsw3yvzc2Xs0/L0e/Nr9+/fD48ePoxJ8+PDh2F0eI4GH87jp3q+Rhi/tR73T1b6elWUvl5fVjSUs3Xnnzp3IhF4xg4ODobu7e6F3jIfXXgREQARqjYC/6yst12blU+lyKP2lBGQcWMpDZyIgAiIgAkUIpI0AlEEUpldffTUqinv27IljsotEk1cZCaDIpi49zyu5+XBef3wFv3r1atyI097eHvbv3x8VX+IUS8fzIS4bjnsARZqtnp1z8TJwTnkxgDkX5tXAOKAhBU5JexEQAREQgUYlIONAo9asyiUCIiACZSbgihRdq1GYjh49GnPg6zGbK5F4ethiymaZxWqK5ODoGwVOWacAnHvqlw9Pd/mLFy+GiYmJcOTIkTAwMLBgHPCwno7nwx7DAD0O6DmAorxt27ZoHPAwHiefdz2ecz8PDQ1F0TGEyDBQj7UomUVABERABNZKQMaBtRJTeBEQARFoYgIogiiBbhBwFPj7NfwI40qj7z2sX0/Pm/HYmVH25b7AE86/2rNPecLZN9LhWsqeY3cejrpjGMjNmzfDd999F44dOxaYcI/rpO9xXD6Px55eBxgXenp6wvvvvx/vgzRfz8v3eVk9rF9n7/mlftU8Rh4MAmw4hk9gEKGXhZwIiIAIiIAINDIBGQcauXZVNhEQAREQgbIQcCV3sxVZV9CLGQdSWThONwrtMrP3sO7n50y8R9ru0rBpGoTHgMF8BR9//HGMw2SUzDvBZJQe1tP19Er55+VIw9faMeWmXKnhBBmLlbXWZJc8IiACIiACIrAWAjIOrIWWwoqACIhAkxPIK0R8UXXliWOGHPhXcBRAVwLdrx7xeRnyZV9NWVYbl3Bp+py70s4xS0deuXIlKud8+T99+nRgroetW7dGMdK4Lpf7+d796SLPV3HPg33qOPc4fuznTNRHz4EnT57Engf79u1bMA6kaaTHxM3n4dc9fT+vxb2X3euDc/erRXklkwiIgAiIgAisl4CMA+slp3giIAIi0OQEUOzoco3SxPKGY2NjsZs5Xc5RWrme/9rqyIopi7WqcCFXMXm9LL73MPly4J/38ziedj4u566Mcnz37t3wX//1X+GTTz6JXfp//etfxz1f7fNxSTvNj2M/Z49xACMO6Xtc4nDM5mHTdPCnrtnobcDcA99//304dOgQwRbikXZnZ2e8D9J807TxT885Tl2af+pfyWOXhzwwcsHGly3My5M/r6RcSlsEREAEREAENpOAjAObSVt5iYAIiEADEUBJQhkcHx8Pt27dCh9++GGc4f348eOxuznKFQ7FK28kqDcFayV5KR8bzntScOyKL9fyvSc8Td8T3p2nQXwML8Tnq/2jR4/C9evXw5dffhkOHjwYew84Z4/L3vMl7WL54u9h0njpMWF8Q2HGIECPgRcvXoTnz5+Hzz//PB4zMSFGA8Iywz8TVTKPAb0T8MMVk4H8nYuHS/Ov9LGXnz3ye88XGD979ixOuMiSndzjzqEaclaag9IXAREQAREQAScg44CT0F4EREAERGBdBFCsUBovX74cJ7pjLLo7lD+Ur1RR9GuNsnclFw44zl259zLih0L99OnTyIihASwHyVd2rmEA4Is8BgCO4dXd3b0wCR6rCvzt3/5tNAhcu3Yt7gmDQovCShrsXQlfTon1MMTx+kFO4ng8T4/zGzduxNUNvvjii3Dp0qVw586dqDxT3xxjnGBjiAEOAwFlIQ3k494gHAYkepeQPwaEEydORAbESfPjfLOdlx1ZP/vss3D79u3w+uuvx+EbGAfkREAEREAERKAZCMg40Ay1rDKKgAiIQAUIoNDhUPZQVFGiin3FdsWLvcepgDibmiQKPIokX5hxKPJ08c8bQSgzDiX53r174euvv47zBzBfwFtvvRX4Ms3KAVxDeWY8P1/mWT2Ayf4OHDgQ0yXcG2+8Ec9RtMnLVxggfZR8ZGIjPYwMOIZ39Pb2Fq0b6iJfH8hLWuypS45RlD/66KPwP//zP7G8pM916p0hJPQcYGlLjAKHDx+OSyMiB2VBVowLzJfA6gijo6NRlh//+Mex7CyjyH3jeUahN/mPl4Xy0AtmZGQk9tDAmOMGn00WSdmJgAiIgAiIQFUIyDhQFezKVAREQATqm0CqWLLEG70FUF5RYtncoSy7Aup7v1bP+4mJifDtt9/GL+qU8ZVXXglnz56NCjVKJmVF6WRzxZ0v7f/5n/8Zle3XXnstDA0NRQQo0KwA8Oc//zkq0KTNkIG/+Iu/CO+++244c+ZMNDqg5NPjYHBwMOZDvp4XBgW6w7OaABtDALhOOvQ6QHmnl4J3kUfxRzavR5RglH6UYxR7wlGP+KMkkx7XOSceRgGGj6Dknzp1KvYaIH2UffIl/IULF6JR4auvvoqGAmQlPnG57nlx/5DmZrs0T46RD0ePDo5hRlnkREAEREAERKBZCOhXr1lqWuUUAREQgQoRQJHkq/GvfvWrqFShUKEQo2ChdKVKWIVEqGiybtRgT5koG4otxoF/+7d/iwrkL37xi/Dmm29Gpd2HB/DVHiWcXgMow0wmePXq1fg1H0MKX9zpLfAf//EfcUMp3bt3b0yPLvwo/MRHCWdP7wIMCSjpGCN8WALKPOnydf/8+fPxKz0GBnonvPPOO+HVV1+Nyj7ynDx5Mg5VIG/OKQvlwrCAceI3v/lN7HVAnH/8x3+MvRPI/x/+4R+i8YP5DhhagMGA8mLAoLeA1zl75CF/5kX405/+FHtY/OhHPwo//elPo2GDXhZeVpfB75WKVuQKiSM7PTXokQEX7ms2d8goJwIiIAIiIAKNTEDGgUauXZVNBERABDaBAMo/X3/Z/Ev0JmS7aVlQPjcQ+JdzlHUUR/zxwyDAEAOUZ7rTYxBAIeZLOl/yf/e738VeBnyNPnfuXKDnAF3smdSPoQb4v//++1E5JT4KOGliICAt8iEdwnOdPFnOkHjMQfD73/8+GgcwNjDkAOMBKwmg7LKqAIYFeh5gfEBuvt7zpR9HXhgHkJGv/CjBlAWlH+WfOITHsIABgnkDkIl0UO7ZcCjUbgwiDZRtzjFmIDsGBdLxngzEd7bsa8H5fVwLskgGERABERABEdhsAjIObDZx5ScCIiACDUoABTZVEBupmK7EeplQfFF0UbhdiUcx52v5d999F4PRLZ+v0AwnQHmn9wBf8tlQuFmakK73KO985UcxZa4AlG+O+brORl44FHbG76PMD9mQBJRslPBPP/00rhTBmH7yw8jA137/Ak7PBIwWnhZKORv1xRKJKO7s6QlBXvSKwOBATwfSwUiAvDjKiMGD8PQOwEhAnbMnHpwwnMCG4QYYQJAX2ZETVoQjTYwY9CJwI0XMQH9EQAREQAREQASqRkDGgaqhV8YiIAIiUL8E/EsvCiaOPV+z3eWVaQ/v1+txn3Yr55jx/yi2KMko2BcvXoxzBzD5HtdR3lGAMQ6gIDP+n6/9LPOHkowRAaWdCfAIT5d+/FnRgB4BzOaPgo0Bwh1f4VHQvUcBBge+5pMnSvtPfvKT8M///M9xDgDqg2EIdPPHkSZGCOSlvlDSmesABZ5rDCXAGMBs/eTBMAPS27Fjx8I8Eij9lJs0kRt5yQeZKSdGBwwJlPWXv/xlNAIg3++sV4LPq0D5mYyRsrFqAb0bMCj4PYJsfuzl1l4EREAEREAERKDyBGQcqDxj5SACIiACDUkABY6NL8c4FDwcCiNfwFEaUSZRGBvF8YUcRZ4yMc8CkwOibNMtn14DfNnHUEC43/72tzEsCjyc3nvvvTicAE4MD2Cjqz0KOcvm8dUexZi0UaAZeoCBwR2GCAwF7OHL13hkIS8c/vRWIAzKOvMQMAcBvQAwHKCMM3HkdTNIcB052fiKz5wJ//RP/xSvYyj4nSnzpE846tMdxgn3Z0/eXCcdekIQl+EUDGlguAHy0zsAowg9EWBEDwWGL5Av8xAwnwFGgka6T5yX9iIgAiIgAiJQTwRkHKin2pKsIiACIlCDBNxAgKJId3i+SKMk8yWZcepD1gWeCfAayXnXeXoGoKhTXgwEKOgYDFCqUYJR9gmDcswkhBgUUOhxvvwhCj2cuIYfRgKGBPDFnmOMD+THRvqkydd+lHO+0mNcoOcACjpDCFhiEccShPRm4Av/22+/Hb/mo4AzbIGwyEh9YYTAcIHxgF4BKPbkzdwGlIn83ZE/Sj/xMApg+KDs9DKgdwRGDYxFGIYwTjBkgnCk+Zd/+ZcLsmIYQT6MF4T/+7//+2hI8F4Sm9l7gLwwesADRx2wwZtrOO5xOREQAREQARFodAIyDjR6Dat8IiACIlBhAihObiBAmfIvyR988EHMma/WjWIcQLGnrCiOKJB8iUdRRllHyUXJRrFGqUYBJjxfz1GMUZz5sk6XfAwIKPX0HGCIAIo+X8+ZFwCGGFhQ4gnLOco1eZI2aaB8449hgTkMGAZA932+zGMMQMknbRRwDAIo3RgccCj7GDRQ9Pl6z3KELJdIHOTF4IB8GHcoB8YG8iN/DB3kiYGAawxBwJ9JFZEZ2ahrwjNsAuUfAwLLPFJehhsQnzgPHz6MBgRkoecEQx7cOBAFreAf2LFRXhgjC2XAGDNkxiznTRh3MhA4Ce1FQAREQAQalYCMA41asyqXCIiACGwiAZQslEsciiMKIH4ovmyN4igTDoMAijzj9PlCzgR9+/bti2P0WSkAZRPjASwI47P+o6iz8ZWer/f0LqC7/XXr6s/SgCilbmxggkGMBrD8l3/5lzg2n3kI6IFAOAwFKPIYKGCP8YEJDlG2yQPjAMotCi+KN0YaHAo+yj8yYBTAoEF6KMnEw0iBLJQLxR7DB2lSHjcOoChj/CA/DAFw+dnPfhaVfJRrHAYADBUffvhhHHJAurDBSMHqCRguMDxgMEB+5HRXaUUcLhhzyIeyMfTi3//936Nx4uc//3nsxQELwlVaFi+z9iIgAiIgAiJQbQKLv8TVlkT5i4AIiIAI1B2B9MuqK1IoesPDw+HXv/51VEhRXhvNeVlRhP/mb/4mTh6I8o2yjdKOoYByo/Diz8awC+KhNOOPks854Zisjy/XfPnHoIDh4f+w96bNdSTXuW5iHoiJAAlwAElwHprsbrV6kHT6XoUjPEX4g/3Vv+yen2D/g2tbDiskS9ZRa2J3k815JkiQmAgQMwie9ayNtVHY3AABYtrDm61C1a7Kysp8aovA++bKTBL3IaaZu4E9G3wR6hgDJMQrxgDlMIYfsU6IPOUh+DEYELpspJhjgOEEDGWgroh76oRQ5lnMG0A9qB9tJMqARGQAZsfPf/5zNwq4TqQA5gKGAvUIUU2kwN/8zd94vRj2wDAFIg2oPxumAM9haUfu53mk3RDjPCM22k67MC7gDY9ob5hB5KWtu1E3h6AfIiACIiACIrAHBGQO7AF0PVIEREAEKoVAiCbaE8eITHq7EZkhOiulvYXtoJ0YAgwdQFAiLhHH9LAjmml/bPRUs0WIPvdiEBBKj0hnaABj3xHOCH3K45gymdEfAUtUAedhHWKfY55HOfEO6LGn15+8PA8zgXs5Ji/CfcBEP+8IUc591BPjgnwYD1xjiAj5OY84pjzuI3/Mn0A7EdRs1IFyyEu0AsKfPaYBkQIMPeA6ZdJ+7sEkoL08dzcTbSDBkUgKloCEBXWivaTgSXuUREAEREAERKDSCdTYLzz9xqv0t6z2iYAIiMAOE+BXCUIqQrVDeO3wY/e0+GjzZipB9ACMMFBCRHOOIQDMBcA1RDKCNSvWEatsnIvE82MjOiAmhER4Yw785je/Sf/yL//igv3v/u7vEuHyGA0k3g/lbeY9UbeoMxEJ1Jm6YhiEUUEe6kSKumIwUD+MD+pIov2YCpgWUeZm6uKFfMCP4MWzij0v6k7R2etxPnvuAx6vW0RABERABESgpAkocqCkX48qJwIiIALlQSArmrJCCrFICqFYHq3ZWC2zbd7YHblx+LAIHpQRQjmEO2UVll34ObjCGpHOqgTMc0DPPfMbIMYxCLhGlEDMUcBziR6gvMIy39eGbJ0xA+j5z9aVukS52bLJy1ALUva7EXmzZXimHfzB82HHsyM6YCOPy7ZnI/mVRwREQAREQATKkYDMgXJ8a6qzCIiACJQogRBRhXuqmxWGJVr9Ha9WcIkHZZkUXos8xfbcR3565QcHB9N//ud/+uSA9MRjCDAJ5AOb5BABTJg8xkNW3G/mWcWez7nCMgo/x32cX+ta5NmNfdYYiPpglMAlPsd+N+qjZ4iACIiACIhAqRGQOVBqb0T1EQEREIEyJoC4CsFLM/gca8gz2R3j5hnLzvmsKCvjJm+66oUCtPDzZgqEdQxLYEw/EQOE+nOeYQoMMShcInArz9tM3dbLG9+R3awLz8pu1IEoAja+i5uJJFivbbomAiIgAiKwMQJ78btgYzWr3lwyB6r33avlIiACIrBjBPiFjxBjz3J1zFY/PDzsIe5M3keo+VrCcK3zO1bZPSw429b4I4nqZM9H9YpdjyEJly5d8mEEV69eTf/zP//j3JlU8Msvv/TJBWMlgCirWPlxbTf22e/HbtYlawBQB4wV5k+gDjDi+m7WZzdY6xkiIAIiUOoE4ndCqdezGuonc6Aa3rLaKAIiIAK7TCB+0SO06MF++PBh+tOf/uS9tIxVZ6Z7EvlIEmSrGQQXh1PkB7zYMAdY3pAlA0/a8pHffPNN+uUvf+nDClghgBn4z50758MKYp6CUmAdQxyKNG3XTjGkYGxsLI2OjjpLVkzguxmrJsR3eNcqpAeJgAiIQJURKIXfR1WG/L3NlTnwXkTKIAIiIAIisFkC8QsfAYbYQsAiVhlWQOJ6CGCJsHfpBr9g9G6OnLFCPlYLQNiy7CFDCC5evOjDC5ickMkIY3nB4B5lFyuzGs6FSQJboga+/fZbN1O++uorZ4XhEqyqgYfaKAIiIAIiIAJBQOZAkNBeBERABERgWwiE8A9hizg9ffq0z1jP8nXZEPfIsy0PrsBCguV6TaMXnmEaPT09zhgTZmpqykPmOR894ZRR7cYADLLfOXgw7IW5GjCysol84pUlomMREAEREIFKJyBzoNLfsNonAiIgAntEAHGFcMUQIGKA4QWIVTZSVqRlj6O6EmZBYu19ISM+YwbEsojFuK5dWnVdgRVRAv39/W6kEH2RNVKCXSHj6qKk1oqACIiACFQTgRr75Zcb8FlNrVZbRUAEREAEdp1ALBvHg9f61ZMVYtnjXa9sCT1wLVZUsZARebPn+EwYPXuMGrZsedm8JdTkHa1KDCvgIRE1wESEDMmIIQVcC5bVyIj2K4mACIiACFQfAZkD1ffO1WIREAER2FUCiLEQqNnZ4LMilQoVirDCz7ta6Qp4GHzZQgyHOVABTdtSE7Lfu/n5eWfE9zKiBoIbD+E7qO/hlnDrZhEQAREQgTIioGEFZfSyVFUREAERKBcCCCxEVQgt9ohUBCopBGtWfMU95dLGUq5nljv1zHIu5XrvRt2yYp/JHLMpuBWey96TvaZjERABERABEagkAoocqKS3qbaIgAiIQAkRCKFVKEyZIZ4J8wjhRpzRY0veGHYQBkIJNaWsqgLLSHFc+A7iuvarCRSaVll+q3PqkwiIgAiIgAhUHgFFDlTeO1WLREAERKBkCBT2uL5+/To9fvw43bhxI+3bt8+XNzx+/LgbBTIFtv7aELPBHKG7uLjobOMcTwjBy3H2PJ8rMWXbS/toM+ey5zkXW5ZBNfDJtlfHIiACIiAC1U1A5kB1v3+1XgREQAR2lQBilWXjBgcHU2tra2KG+GICdlcrVUEPKxSzhZ9pKucQxsWuVRCKdZvCyhkjIyNpZmbGl4BkRY3sZITVzGZdcLooAiIgAiJQ0QRkDlT061XjREAERGDvCWSFFgKspaXFlzbkmGvZUO69r2351yB6xGHLRHsM12DiPRKfg3v5t3TzLYjv4vj4eLp+/XoaHh5On376aWpvb3cu1W6abJ6o7hABERABEagkAjIHKultqi0iIAIiUEIEQohlq8RQglOnTqXOzs40Nzfn++ixlTDLkvqwYxgSiUGK1QnoHR8dHU2zs7POu7u72+d6IA/GDO+p2LvieiWkYm2bmJhIt2/f9iEux44dS2fPnq2EpqoNIiACIiACIrAlAjIHtoRPN4uACIiACGyGAEKtubnZ15SnR5vJCDEHELV85jqitpig28xzqj1vGAMYBd9//326c+eOc/3qq6/cIIBPmDHBOj5XA7uOjo504cKFdOLEiYQ5EMsYBotqYKA2ioAIiIAIiEAhAZkDhUT0WQREQAREYEcJENrOlhWjHCttnUDWXAmhS8QAGwK4Wo2X+H7Fd47IlYsXLzrw/fv3Oxc+BLOtvwmVIAIiIAIiIALlR0DmQPm9M9VYBERABEqeQIiw9Soagi3yYBgobZ1A1gDg+OjRo6mxsdEFcFtbW96YKXxSpQpjvmfZDSZwYFMSAREQAREQARFYIVBjvzDVXbPCQ0ciIAIiIALbQIBfLe8TmwwjIF8suUf+GGawDVWo+iJgy8ZkhLAmNTU1vRM98L73VO4ggwPt4Jj2xlbubVP9RUAEREAERGA7CShyYDtpqiwREAEREIENE6AHl2UNmRyOyQl7enryy8mFiNtwYcqYJ4DZAj8SjDEEIoUREII5Psf1Stxn25g9pq36nlXiG1ebREAEREAEPpRA7YfeqPtEQAREQAREYCsEEGrMpP/48eP061//Ot29e9fNgigzBGx81n5jBLLcYJzdNlZC5eXKMuCYBCclERABERABERCBFQKKHFhhoSMREAEREIFtIhAC7H3FMZv+kydP0r/+67+mV69e+bACltrjfnrASRst633PqqbrRAy8j9v7rlcar4gS4DsXSzgyz0W1cai096r2iIAIiIAIbB8BmQPbx1IliYAIiIAIbJBACDVmij937lz62c9+5svKaZK4DQJcIxtc32cMII4RxJEv3sUaRZb9adoXibkXHjx44ENZWlpa0qlTp/LDLiqdQzDQXgREQAREQATWIiBzYC0yOi8CIiACIrAjBBBhIcQYD89s+n/1V3+VDh06lA4cOJB/pnp08yg2fFDIDM5TU1Pp9evX3luO+dLc3OxzO0Te2G/4IWWWEQYk9nD44Ycf0tDQUOrr68uv5FDpDMrslam6IiACIiACe0RA5sAegddjRUAEREAEki+rR/TAJ598klpbW/0zXELQidHWCMBxbGzMe8unp6dTf39/GhgY8KUNt1Zy+dwNA8Q/QwlmZ2fT8PCwbxglsWKGzIHyeZ+qqQiIgAiIwM4RkDmwc2xVsgiIgAiIwAYIEN5ObzZ7pe0lgCDGHPj+++/T4OBgunz5skdn7Nu3b3sfVAalYQDU19e7QYIhRcQKQwvieyeDoAxeoqooAiIgAiKwowRkDuwoXhUuAiIgAiJQSKBQhIVoy57neKPRA5Eve3/hM6v1M0za29vT4cOHXRgz2WNDQ0MeR0zMV8nsYm4F2tjR0ZE+++wzjxjAkGpsbMyz0IEIiIAIiIAIVDuBGvujamWmnmqnofaLgAiIgAjsCgF+9awlSLkWojV6ddeqVPZX2FrlrXVvNZyHz/j4eHr+/LnPPdDT0+NzO9BjThK/avgWqI0iIAIiIAIisDECMgc2xkm5REAEREAEdoHA3Nyci9iZmZlE6DciFtGfFbHFqiFjoBiV3DnG1bOR1usph7E45pjppwiIgAiIgAhUIwENK6jGt642i4AIiEAJEiBagHHx169f957ur7/+2peaIww+zAGJ1829uBD8dXV17xX+1cK28LsUnyFbLQw29y1SbhEQAREQgWohoNmfquVNq50iIAIiUOIEEGbz8/NpZGQk3bx5M7148SIRSUDiWgi3OI7PXM8KPD5Xe4IHW5YVnzFgxCr37RCHav9/idovAiIgAiJQSECRA4VE9FkEREAERGBPCCBkWc6wt7c3HT9+PGVn1OdaMTG31vk9aUAJPhRmsUX1shzhVw2JNjNUhcgUVizo7OxMXV1d7zSdfNXC5J3G64QIiIAIiEDVE9CcA1X/FRAAERABESgdAgi4iYmJND097eKNteizs+uXTk1LqyYh+MMsiT2RAoXRAoVDDEIMx760WrY9tVlYWEjPnj1L//Ef/+GrN1y8eDFduXLFC4ddMVOgknlsD1WVIgIiIAIiUGkEFDlQaW9U7REBERCBMibA8nKYAfTq0sP7vtUKyrip21r1rJCNY/YYATAcGhry4Row7e/v94keQxTHUn/bWqESKyyGq1y7di0dOHAgHTx4MF/DQmMlf0EHIiACIiACIlBlBGQOVNkLV3NFQAREoJQJIGgRsIhaEsKNnu/4XMp1L8W6wW9qairdvn073b1713vNMV5iFQjqDPMwFEqxDdtRJwwQhqycOHEisZwjK2FEou1hlMQ57UVABERABESgGgnIHKjGt642i4AIiECJEwjBVuLVLIvqEVI/Pj7uEzyypOHi4qKbAQjiSjcF4gURjYIp8PnnnyeGqvT19cWlogyqhUsegg5EQAREQAREwAjIHNDXQAREQAREoCQJhEArZhTEtZKseIlVqrGx0XvKDx8+nLq7u1NTU1NeEGMQVGKKdsX3hGgUzIEvvvjCowQKI1EiXyWyUJtEQAREQAREYKMENCHhRkkpnwiIgAiIwK4SoIebXm82BC6Cjo0Q8Wrq9d4qdIZlMLSAZSERyfScs69khllzgOP4HCwxA2QIBA3tRUAEREAERCBHQOaAvgkiIAIiIAIlSYBQ+Pv37/tYeZY3PHPmjIeDYxCE2JPAK8lXt+eVCkMAYySMgPiuxH7PK6kKiIAIiIAIiECJEagtsfqoOiIgAiIgAiLgBIgYePr0afrmm2/St99+m0ZHR/NkQvyFSZC/oAMRWCbAd4M5FjAISGESLF/WTgREQAREQAREoICA5hwoAKKPIiACIiACpUGA8HeWnWOseIwRlxlQGu+m1GsRRgDfF4ankBiOoiQCIiACIiACIrA2AQ0rWJuNroiACIiACOwhgZhlf2RkxMfIYxRgGGRFXjZEPHu8h9Xe80cjiKuZRRhIsX/27Fl68uRJmpiYSP39/b61t7f7e4o81cxrz7+wqoAIiIAIiEDJEFDkQMm8ClVEBERABEQgS4BoAdaj7+zsdLGLKRAiLvbZ/DouToCe8+np6fyEhAhjJiSs9MR3hO3Vq1fp1q1baXBw0D9jMmXNAX2XKv2boPaJgAiIgAhslEDl/3WwURLKJwIiIAIiUFIEMAOyUQJRuWrvGQ8OG9nDCnNgaGgovXjxIjU0NKSzZ8+64VKM7UbKLLc88/PzvlrD5OSkz0EQ0QLl1g7VVwREQAREQAR2moDMgZ0mrPJFQAREQAQ+iEBWxIUhEL3B2WtRuHqAg8TKHiZEYDx//jz94Q9/SK9fv06tra2ppaUlNTc3+2R9wXTlrvI+KvweMGfFlStX0sDAQDp37pwPTYkWVotBEu3VXgREQAREQATWIyBzYD06uiYCIiACIrDnBLJiD1Mgtjgf+zAM4vOeV3yPKlDYfgQwEQNsMIoZ/As57lF1d/yxDCPAEKHdzFnR1NS048/UA0RABERABESgHAnIHCjHt6Y6i4AIiECVEUDIEhY+NTXlAre7uzs1Njb6GHKZAut/GTALDh48mC5cuODj7zs6Ony4BucLjYT1Syqdq5t550RJsCmJgAiIgAiIgAisT0CrFazPR1dFQAREQAT2iEBWANLre/v27fTo0aPEGPIf/ehHLnjpDS9cx75cBe9OYYYP8w7AjY3hBBgr5TwpYfa7sVPcVK4IiIAIiIAIVBsBRQ5U2xtXe0VABESgzAggBNnGx8fTt99+m65du+Yt+PGPf5wOHTr0Tu93CEcyyShIHiWAiYIZQA96NmIgy6qUeWXr+SHvlPsxSaLt7KPMDynPv4D6IQIiIAIiIAIVRkDmQIW9UDVHBERABCqRAEKOJQ2PHTvmwwsYO47YLSbyJPZWvgEhgNnH8crV8jkqfKfZz0SVMK9C9lyxlsXkg5Ev9sXy6pwIiIAIiIAIVCMBmQPV+NbVZhEQAREoAwIh3ujxRQAysRyzzjN+/vjx494LjuCNfGXQpF2tImxiyEX2wcGsXM0C2sTwCL4TtCHmnij8HjCUYnp62uepIHJiI5MRBpssLx2LgAiIgAiIQLUQ0JwD1fKm1U4REAERKEMCiDXE4OzsbH6cfFbUFgpCmljsXBk2fUtVhhFbCGh6zQt7znkAebK8ssdbqsAO3Ux9FxYW0sjIiEeQ8Lm/v9+NItqXbQ/LNt67dy/duXMndXV1+YSMDEMJDtm8UV2+azAIDuSJFOfis/YiIAIiIAIiUGkEFDlQaW9U7REBERCBCiKAIEPMZcfKS6S9/wXDCGEb4pYe9JmZGTdZ6EHft2/fmj3u7y9993NkIyCIAnj+/Hm6fv16mpiYSP/wD/+Q+vr6vD1ZwY+hxASWzFNBpMnJkyfzPGhBMIrWxGd9v4KI9iIgAiIgAtVGoLbaGqz2ioAIiIAIlBcBxFr09pZXzfe+tohl2LEEJL3ov/rVr9KTJ0/cKIArojsMhL2v7ftrQJ2j3kQGvHjxwttS2ONPSZgIDEU5deqUT1zJZ+4tTEQisEVai8da5+M+7UVABERABESg3AkocqDc36DqLwIiIAJVQCCEGfsQh4TMIwqZmBABXEz4VQGaNZsIKzbYMEb/5cuX3tt+5MgRF8vcGKKa41Lml60bbWKYAEME+A7U1dVRfU/ZfESbYAx0d3d7VEF7e7u3kfsjMS/B2NiYmwNEVLS2tq5a4jHyZsuNe7UXAREQAREQgUojIHOg0t6o2iMCIiACFUAgRBlNQZixIWQj0dNLSDl7hGJTU9MqkRj5tM8RoNcc4cuKD9ke9HKIyOC7kP0+0KKBgQEX/aOjox4dgEFUmJiosLe317fsNQwFEt8pIiru3r2bhoeH/XvEhJcwisRz4/sX57QXAREQAREQgUol8O5v00ptqdolAiIgAiJQ1gSyAnFycjJdu3YtDQ4OpsOHD6ePP/7YxSJCTilHAOEfyz1ioFy6dMnH5jM+HwEMq3KIuMi+U74D9PZT75g3ARMgGz1Q7P1zH+YS+cIQwSRgHobbt2/73AQnTpxI586dW3V75F11Uh9EQAREQAREoEIJyByo0BerZomACIhApREIcwCxiNAbHx/38fNMPDdgPckdHR3eK15p7f7Q9sAJMcy+ubnZe9j379/vjEJMZ4X3hz5nN++jvgh2NtqA+TE3N5c3OtaqS3x32EeboyzmJSCx6gFGQzZF3uw5HYuACIiACIhApRKQOVCpb1btEgEREIEyJoAoywq6aArn2QiNZwx5GAL0ArNxXmmFQIhbxDTCF6bBdSVXeRxFWzAEaANDSliFAZOIyAi+C9HTH+3kOxHRE9FKrsX3CNOEqBPOEU3BZyUREAEREAERqFYCNfYLcWVmnmqloHaLgAiIgAiULIH4NRV7hB3RAq9evfI9E88hDhG/ISBLtjF7WDH4xbwNcAohvYdV+qBHRzuePXuWbty44RMtMmTizJkzPtSAQhl6wHeEFQ2YkBDTiPvCFCAPn8kTUQjsI0+5sqFdSiIgAiIgAiLwoQS0lOGHktN9IiACIiACu0IgBF12T28wkQM9PT3vTLK3K5Uqw4eUsyGQxU07EPHMO3H//v303XffpadPn/r8AZEPU+DBgwfpv//7vxMmAiYAxgj3xWSWLIMY8xBEdEF8x6Ic7UVABERABESgmghoWEE1vW21VQREQAQqhADjzVmhALFHLy+iTmltAoTXs5whE/DRi06URQzBKBdBHL36tJJ3ThuYlJBVGDjO9vazPCGrEGAcMNEgRhKJNg8NDbmZQOTJxYsX08GDB1ctX+gZ9UMEREAEREAEqpCAzIEqfOlqsgiIgAiUO4GsIfA+YwBRGel9eSNfJexpd5gnTNo3MjKSHj9+7Ev7EWrf1tbmgjpEdamzoX5hEHBM1Mgnn3ziKzCcPHnS2xPvjciBly9f+nKXGCIYIxgImEpEFFy9ejVhIFAGcxUw10CUH2VoLwIiIAIiIALVRkDmQLW9cbVXBERABCqAQFbwb6Y5IS43c0+55qWtRAwgeicmJnzJvl//+tfpJz/5iYthVi4ot0RbSLSLiAHmGRiwlSqICGBoAMMEMDswPy5cuOCRBYcOHXLjgLkpmIuASQxjroEwDIJDGCXxWXsREAEREIHKJlBNfxds5E3KHNgIJeURAREQAREoGQKFxgCCcGpqKj9BIWHi9ATHcn3ZKAMaUY1/CCCe2RDH9KKHaRA8SublbqIivF/eLRvfAeYSiHceSzayPCEmQuTj+vnz530oAfccPXrUh6ds4rHKKgIiIAIiIAIVS0DmQMW+WjVMBERABCqLQDbsOwwC9ghdJpe7d++eGwQsTdfX15foKc7eE73OlUVl7dbQXkQxCRb0oDPGnlB6eswjlSOXaBfvfnR01CMBmIOCiAGu0V5MARKRAmEa8H3BMDh27Jhfo+3l2H6vvH6IgAiIgAhsiUD2bwn9LsihlDmwpa+UbhYBERABEdhNAvzy5pd59hc6veHMSH/t2rU0PDzsvcL0HMckdLtZv1J6FqxCFCOUGZd/4MABN1MQz+WcwhxgLgUmHmRyQUwP3jvtzv6RR9v5vvA9IT/GSKxOUM4MVHcREAEREIEPJ5D9WyL+tsj+7vjwksv7TpkD5f3+VHsREAERqDoCIfRoOOKXIQS9vb0eLYAA5DOJsHGuh5HgJ6v4ByyY3Z+EuM5yKac/iKh3/CHH3AFMMDg4OOgRAZcuXcqvwhDtY7gB5gFLH2KKYCBE5ETkqeKvhZouAiIgAlVJgN8j5fS7b7deksyB3SKt54iACIiACGwLgfiFjvgnrJxeYMwBZq5n2TpCxuktzv7Szx5vSyXKqJAQwDBg3gE+s8EvWPK5VBlF/QN51JN3z9bZ2elzTsQ7p11xD98NVi24c+eOr9aAecDqBEoiIAIiIAIiIALvEpA58C4TnREBERABEShhAojDCJePaiIQWZoPsZjtFS5l0Rt138097GAS4jmENnUoR1aYHadPn/a5BoiKoD2szMDyhXxHmGeBoSZEF7B04alTp9wU2U3mepYIiIAIiIAIlAsBmQPl8qZUTxEQAREQgTwBhF/WIEAU0kvMFikbWZAVwXG9WvaFbWdIQZxjH0ZBqfKIuoapEZ9512EKUXfeN8MMbt26lZ4+fepzTmAOcI68zEnAsIKYr4B7oiyOlURABERABESg2gms/BVV7STUfhEQAREQgYoiECK4cHx9RTVyE41hPgZ61OFBdAW97tlUDkK5WB1D7LPHBHj8+LGvXMGKFaQLFy74fAS0n0kqI7Ik23Ydi4AIiIAIiIAIpCRzQN8CERABERCBiiEQveDMSo+QZHm7ak3R045oZlK+kZGRdOPGDR9zf+TIEQ+5Lyc2xYyBqD/RAfPz874RHXDw4EFfmYHrXV1d3mYiC9iy0SVxv/YiIAIiIAIiIAIyB/QdEAEREAERqCACCGLmHUAIc4wwLAwlr6DmvrcpiGFENcJ5aGgo/fa3v/VedKIGCLknwWk94f3eh+xxBurPvAJMPEh0AMYHE1RiDLFKARMVYggwDEXGwB6/LD1eBERABESgpAnUlnTtVDkREAEREAER2AQBhOLU1FS6efNm+v3vf5+uXr3qa9tvooiKzYppAhs2zIJsgls5pYgCoM5ERty7dy/98pe/TP/2b//myzUyOSGGwTfffOMTEdJ27im3dpbTO1FdRUAEREAEyp+AhhWU/ztUC0RABERABDIE6AWnF5kZ6uk5/uijjzx6IJOlKg7hQG85eyIF+vv70z/90z+5eKZnPVI5Rw3QBgR/RAXQFqJGBgcHfe4BoggwBjAQuIZBEMfRfu1FQAREQAREQARyBGQO6JsgAiIgAiJQMQQQgEw4x3ACNo7LXfxu5eVE2wmn379/v4+9RxwXrvSwlWfsxb3Rrng2KxGcO3cuP+cA7SN6gEkJm5ub3RAgb+F9cb/2IiACIiACIiAC9nvSHPfyiiXUWxMBERABERCB9xBgKbvR0VHvVT5//nx+YsLsr7xqEoq0O8LqaTcbJkG5pniP8Q6JEGHSRcwg2smQAoZOHD161E0CzTVQrm9a9RYBERABEdhNAjIHdpO2niUCIiACIrCjBEIEIxBDDDMxXYhIHs75EMg7WpkSLBw+WRZUsVBol2C136lS1Dnqz+oUmAGcJ2KAPRvDKaK9cU7DCt7BqRMiIAIiIAIi4AQ0rEBfBBEQAREQgYohEKI/eooRhKTYV0xDP7AhIZTj9nLmEmKfPcMImGjxzp07iSEGhw8fTt3d3d5MzCBSfDcKGfhF/RABERABERABEUjlG1OolycCIiACIiACRQiECCxyqSpPhYhGJLPUX0RUlDOMrMDnmGgAJh6cnJxMExMTq1ZjiPaXc3tVdxEQAREQARHYDQIaVrAblPUMERABERCBPSMQ4jBMA0RkCMo9q9QuP5g2MyZ/ZmbGQ+0Zmx8h9/CJlBXdca6U99SdOmN6vH792ueZaG1t9YkX2ZNoe7Qx3nu5tbOU34HqJgIiIALlRiB+J1Bv/T5Y/fZkDqzmoU8iIAIiIAIVRIBe8tnZWe9RpneZkHMSfwxU+h8E/PHDRrsxBlje8fvvv/dzTNR36tSp/BKP5CtnJtQ/DBDayxbvl320j3efvcZnJREQAREQgeoiwO+ESPG7Ij5X+15zDlT7N0DtFwEREIEKJkCP8qNHj9K9e/d8JvvPP/88tbW1pZiToIKb/k7TMEkePHjgZglj9E+cOOF5sn8kvXNTmZzgjzveaSzR+G6bVhsEZdIsVVMEREAEREAEdpWAzIFdxa2HiYAIiIAI7CYBepNHRkbSjRs33Bw4d+5cinDz3azHXj+L3nKGETQ3N3svOsMKwiCJnvW9ruOGnh+dPTXFc3sPEHnMLMgn+2wxFPzggrV/9eV8Ph2IgAiIgAiIQJUTkDlQ5V8ANV8EREAEKpkAPckHDhxwYUxoPZEE7/YqVyYBhLKLZWse5gAc/j9sbHwAAEAASURBVPqv/9p711nur6WlxRsOj2zekqWBvneBj8TPpficrbNnKXIh10aMgbg7e5eORUAEREAEREAENOeAvgMiIAIiIAIVS4A5B6anpz16ABHc29ubmpqa8uHnFdvwIg0jimJ+ft7NEaIGiB4gbcUs2S2hvYQxYHUNWb+wsGirEkyml8PDPgkh7XrDSgz2jj0qoq7eh4/09x9N7R1t9r7rbZWGnLNQX1eT6jAIojCnoB8iIAIiIAIiIAIyB/QdEAEREAERqFgCCN/CnvH4XLGNXqNhtBuzBJOASIIYVsD5D007bQ5Qs2z1GB4wP7+YhoZephcvXqSR0ZE0Nzfn7fGJBk3xL71dchOk3gyBg70HEwZBZ2dnamrEFKp1YyDvDcgg+NBXr/tEQAREQAQqkICGFVTgS1WTREAERGAvCITI3GnBuNm2UZ9Sq9Nm21C1+c0deGNbvYl4jIGF+YU0/moyPR0c9GiQpaU3qb293aMEmptbXPxPTU2l8fFxX6HiyZMnPpTkyJEjqffgwdS+rzmH0sp8q+CBqv1aqeEiIAIiIALFCcgcKM5FZ0VABERABDZJoFQFeKnWa5N4qzc74QMm5OfMGBgZe5Ue2uoTbyw64NCRw24MMMkic0vwnjGoOrq60gEbPoJJMDY2lh48fJgmJidTrV3f13LU8ubCBSi2MHGu2PlsPu7OlZA9q2MREAEREAERKH8CteXfBLVABERABERABIoTKGYMZM9FtEPxu3W2FAgwBGBmbt6GEIynIRtKMDM7k1paW1OXmQBMrEhiqASTTbJxTGpsavQ85OP80NBQmpqetetLru4l8B2TfoiACIiACIhAnoAiB/IodCACIiACIlDJBBhvz8R19CZjECAs29raKrnJq9pG21nWEZFMuw8fPuwMoscdoyRrnKy6eQ8+WHCADyWgx396eiYNW92HbQLC+ob61GyTSrI0I+90YXFhpbvfFL8NIlm+r9ZXZOju7k6j3GvbqA03aGjoSS11Tbnu/wgTkFOwB29YjxQBERABESg1AoocKLU3ovqIgAiIgAjsCAF6jycmJtLVq1fT999/nwZt3HopieGdaHQ2MoJVG27fvp3+/d//Pf3ud79bHrNvCnw5ZfPGuT3bm2hn5QHT/jYcIJk5kBsi8OrVK59YkMkUiRCYnbNIgMU3foxR8NZWJGDP2ADeLcMNMEJYreD15OvcygYWhRApvIH4rL0IiIAIiIAIVDMBRQ5U89tX20VABESgwglke8MRjbOzsy6QI/z8/PnzToB8bMx4X6mJNhM1MTo66hEDMzMzq9peSkYJqw4SMZCWX8fCwoIvVcj7YY6BWlt1IFf5lbfFhIVEDcQ75H0SVcDnxsYGjzRgQkM3D5Zv4xFKIiACIiACIiACOQIyB/RNEAEREAERqGgCiEGEb04kNqa+vj7vae7o6FjV7lISx6sqtskPiOJI2Ta12jj9CxcumFBu9In8Ctsf98Q+7o3y+BzHkWer+ygvnkV5DCdAtGNmvHo14RMQ3rx1O02ZmdG1f78PFairrfO6xP3chzFAKjzH8APajKFAtAFLHUYCld9VxCRYoZjLXSRLFKO9CIiACIiACFQEAZkDFfEa1QgREAEREIFiBLKCFnMAgXzp0iXvPd5vQjMrJIvdX0nnWlpa0qlTp9JBW9IPLvTAZ/lk25oV64XH28WsWDnha2AOYAx8//319P//+7+lhw8fpb5Dh9IXP/nKhX6NjTVYWsyJ/Gz9iB6gXIwCzvPO2TO8oN6GFsSqBtm26lgEREAEREAERCBHQOaAvgkiIAIiIAIVTSDEI3sEMr3niEQSQtLF5LKQrAQQIbqj3dGmiJzo6emJU0XNkcL78pmXD7gezyi8tpXPUSbCn+Mnj5+k//qv/0r/3//+32ludi59/f/+P+njTz9xsc+cApGfrn/MAIwB/kfyY9t7tIDNSUAigqB1X2tivoJI1pQ10zqX1rxHF0RABERABESgnAms/IYs51ao7iIgAiIgAiKwBoEQs+wRyNGbTHbOxRh0xCafyz2t1YYQ07HUX5ZDtHmte+N67DeaL/IX7qMunOeYOQV4D9QJ8f7y5XD64caNdOvWrcQQgmPHj6UjR4541AATKxIBgsHj5eAJ1OSiBdiHQYBpUFtTm0aGR3x7a8MJ2myFijAH7LH2vlfXjI8U8UGpoKwPKkM3iYAIiIAIiMAeEpA5sIfw9WgREAEREIHdIxCCNvbx5MLPcb5S9wjqbJuzx7vVZp4ZBgHHCH3mGGDCyJmZ2XT//oP0+NFjnyPg0x99mn784x+ns+fO+VwJT58+TSxPyCoELGuIGUAZ0Q7mFGAIASYAZsPc3JzPM7DPDIXWMAeKGQDFzq0HhPxZQyDuz55b735dEwEREAEREIESIyBzoMReiKojAiIgAiKwcwRCQMYTImogKy7jWqXtaWPWGCiVNkc9MAZGR8dsicXRdP/ePdsP+6oK5y5eSH/3t3+bDvQeTOM2D8FduzY/P5/2d+9PXZ1dHk3gcwmw5qGl2re1bjbwbokyYIhBe3t76tnfnVvpwAyDLacwAgoNgi0XrAJEQAREQAREYO8IyBzYO/Z6sgiIgAiIwB4SQDwiMhGniEt6mjkXYnUPq7apR0cPPDe9r+5cL7VE/TEGnj17lgafDqbJyddpeGQkTdvqBDFHxJnTJ9PB3t40PPYqPX/+PL148cImLHzlQw04z7tj+AHvr7Gp0U2Bl8PDNm/B49RzoCcdPnw49dpEjOTxYQeGYU0SIfxLDZTqIwIiIAIiIAI7TEDmwA4DVvEiIAIiIAJ7TwBRnBXRHCMur127ZmJ0Mh09ejSdPXvWe5apbeQtRTGdpUk9N2poEF4/YqL722+/9VD7Qzb7P+H6MQZ/N9sddWb+g9evX6d7Fg3A+0Cxt1kv/9TrKZ8v4OCh3nTxwkWPIKizyICujrb05Zefp7t37yeGF9y5eyc9NgOAlReYcJAoAeYZYIgCbJqam9LBAwcTkzD6PAVmDvg7LezxD0Mg9lnIOhYBERABEagoAvE7nkaV+u/53QYvc2C3iet5IiACIiACe0KAPwBClFKBGeuZfvjwYRq2HmaunThxIm8O7EkFP/Ch8UfOWn/gIMCj7fTQP3jwwA0RWHz66aerzAGqEOVlq5MtO65nz2XzbuSYe6emptLExEQaHx/3yIGmpia/9eWL4TQzO5O6ujp96cX+/n57L03e099ocwwcYilGE/H7WprTs6EXaWp6yq7l5hxgrgFrbGpobEwtZhh0mynQa8MROtrbEveSbHFD37/zQ8bAO0h0QgREQAQqkQC/g/hdtpXfY5XIhTbJHKjUN6t2iYAIiIAIrCIQopaT8UcBwwmYtI7P0dtcbn8sUHfakG2Xf1j+gQnAddpFlAAinNUBvKfd7s2mYMQ9kbgvmMT12Mf5yFtsX5iXsoliGBoacmMGw4Kefcp6YWL/uZ1/u/Q2Heo/nE6fPpX27+9KDXX2h5wVjqxnaoEjfQdtUsL96ZgZOsO2GgHlWQGpYXkSwibMAVu2kkkLG5sa7H6bhyBbudXNzl7RsQiIgAiIQBUQ2MjvryrA8E4TZQ68g0QnREAEREAEKpEAfwiwIVbZHzhwIP2tTXQ3NjaWG7NuRkHkKaf2h/Cn7sUSJgAJUU5o/U9/+lP/3NnZmV8OMLiEkUAGzBKf6C9TbuRb61lecOYH5bGRoiyE/N27d304AHVnPgAmDGSYAMMe9tmKAgj/Q4f60sGDB1Jj/RrtMiOgo6PdzY4lMxMiNViEAGZAvbkItVb3N5n6Rx7tRUAEREAEREAE3iUgc+BdJjojAiIgAiJQwQRC2NKL3tHR4bPdcw4RHddofpgIpYyC+iKwScydMDo66kMjaBc955FoC/k4z/h87vNJ/JYNEfJxDgFPwjC5f/9+wkCgVz+MBL9oP7Kc4txae54dz2d+ASYUZKMu+/fv9979J0+e+JwDczZBJHna2tpTX2+fGTg9axXrEQSNmAA2AeGKNWB1M1Mg6rcS/2Dvc7mkd6yGuLDmk3RBBERABERABKqDgMyB6njPaqUIiIAIiECGQAhWTiGiEZMhKDnH9XJJ1DvmT/jhhx+sx/1QOn/+/DvmAO3BEIhIAtpIdADnwmCgLHr2Eeu/+tWv0sWLF908wRwgbZYL5VE292FcsMoAczwwtKHXVhlotPB/5h1gY9lBnj0/P5eOHTtmqxMcdOOAN8H9/kpM2VNmCHxskVozCLKJ/JgCfp/tI2+8Uf8cJ7M3ci4yZc+vd1ysnPXy65oIiIAIiIAIlDCB1b9RS7iiqpoIiIAIiIAIbBcBxCYT9SGOSQhYRGdOhOYUIsflkuhtJ1T/d7/7Xbp161Zu5v9M5WkbKeZViGMmBQwGnsF+YDQQ4v/nP//Z5wVgfoKIKHgfkyw/ynMhb8+G9aNHjzwagWeePHnSowai3vAnD8ZAk0UC9NvqET09+824qHO9vmhDExZsW+S9WblbeTNbuZc2eQJnoTFQ7Nxydu1EQAREQAREoBwIKHKgHN6S6igCIiACIrCtBMIMoNc8hDMPWOt4Wx++A4Ux8d5Bm8WfDSEfxgfti4RwxwjgOu1nC7HPnrkBuEav/unTp9M//uM/+moBhP5HyvKJc9k91ymL51M+ZbJEIcYF8wkwlIDVB6gn0QmcIx/nMSWYE4GIgkOHD/ncA5SN5q63JQhd1NuH6NUo1OZRj6z4D70eeePeyOv7uMiNcbwqQ5EPG81X5FadEgEREAEREIFSJbDyV0Op1lD1EgEREAEREIEdIFAodBHOLKuHOGYj5D1EbmHeHajOBxeJGGeowKlTp7zeFNTd3e2iOwql/ojwGFJAu0iIce4P04Bz5Onr6/OyGHJBnkgb5UA+hgg8e/bMow8Q/pTJJJAYARgGzDvAUAImIySCgFUL4E4+JhqMuvJsK851ewj/jWpz8sUWbVhzv9FC1yxAF0RABERABESgvAnIHCjv96fai4AIiIAIbJIAYjhEbhwTOs+Y+GvXrrmwPnLkiPdgUzS93yGuN/moXctO/eiNR3wjxBHZmAHZFG3AAEG4I74xEeZtEkDaGFEG3EckAqsGZM9ny1rvmHsQ+oODgz48gfqwIsFRGypAmVx7+PChT6AYhgVzEVAP6gN7TAmuYQbYbAPvdOjnTIKVuQeiPmEe8LnQFJD2D0rai4AIiIAIiEBxAqv/ciieR2dFQAREQAREoGIIZI0BhCwGAePgmZ3/F7/4RfrDH/7gwpYGE2ZPnuhpL0UItIc2sFFfeuIR/nEu6sxnBPjNmzfTX/7yF5+bgM9EDXCNRDvjcwwxYL/RRDmI/6GhoXT16lU3XDAtLl265KseYMIQTXDnzh2PzCCKgOgBDAvMAMwNhh0QtZFLWAP2jpb/y1kFuU9xHHWjBUxEGJMRxnntRUAEREAEREAENkZAkQMb46RcIiACIiACFUggRDHClN5qZvpnT+Iawjt61Eu5+SHgw/hg9n967DEJWGmANiD8MUGYsBAxfvLkSTc+opc+jAPaSQ8+Pf3rpeBDHo4pnzkEMAbYR/QFgp96MZSAiQ6JKGBeAaIIeCZ1IlKB/PCnrnnDw0yBd8IGeJ5vZgPYQV3NavMiIgSykQNxjroqiYAIiIAIiIAIFCcgc6A4F50VAREQARGoAgKYAiTC8Al9//rrr/04BC3XQnBzXOoJkU7v/L1791yII/y/+OILH+dPOxDe9OQjzNnzGWOBe16+fOmrHcCEpRAR6+u1PXsNY4ChAUwyyPwBzFPA/ZgMMWcB5bOMIWlgYCCNjY25MUCkAvXp6upykyBbbvDGDCCFyGe/ZCc9quPtGztvZ3iXtnGczec36ocIiIAIiIAIiMB7CcgceC8iZRABERABEahEAohQNgQ1YeyIZXq0yznRFsQ2vfesENDc3JwuXrzoojuiIwjxJw+99UQWwIDPiHoEPvkQ9oWJsosJd4wFIhUwBpi3gWcSddDT0+PH3MfQAcomL4YBKyDwmSEIGBRENzAcApOG/NnkH2ty5zi26mYMAItYWMIcyC1FaW8ze+vypxWzYNVFfRABERABERABEVhFQObAKhz6IAIiIAIiIALlSwDxjrhHbBP9QGLyQcL3Ee2I74GBAT+fFfqYI+T//PPP/Rrj/rMJwR6iPXsfeRguQKQCcwlgrhw/ftzNBXr1STGUgUgBrh87dswjCCYnJ91sYN4BjBkiB6gHRgWGQaSltzYhJLEA1IGT9qOWdtbUpsa6BhtXYPMr2HWu+ZwDlj8sAvaWFesg4S/4eT+ZO09xSiIgAiIgAiIgAjkCK799RUQEREAEREAERKCsCSDcEdhnz571JQER6PTgI7az4p7jEO/cw9ACRHqYA5gIWRMgjmPPMAJMB+YPYKgAEQEfffSRRwQwRCDMBKIRiGLAOCCaABMA8f/o0SOfoyCewz2YF9QzWy/UvEcF2E9MAq7V1hLxkRs+QCTB3MK8l+XCv7Yud83yYCD4fzbawK/xZjnwyIOyfs2qvAiIgAiIgAjsCAGZAzuCVYWKgAiIgAiUCwEEL2I2hG+51Dtbz2zdaQu98Ih9xDRDB4gmIEU7EfeIdIyESAjziDaIvJE/8sQeMwDBzwSD5CEigDkbEPg8i3MkhhkwfIB5B5hsEDOAc9wfecjHeZ5PO7JtsQ/W68+ShrnyXOybMfDmzVKamp1JE68m0oiVN2PDE5bsmQ2NTanRymq0NlNmmz2XeRf4XG8GCJaCkgiIgAiIgAiIQHECMgeKc9FZERABERCBKiKwSpBauxGvzPaPgEXwIqIjT4ha9pxjHxvCOIT4XuCjHhgCRAKwRb3YR+I4zAEENJ+JAqDNzENQWH+uRzu5j3zMMfD8+XM3GDAUGEoAp8jHnvkEMAKYb+D06dNuVhBJwIZ5wYoJ1BVTAL7UtzAh5b1Mm30QY8DUfXr75m0afzXupsOz58/S8Mthe1ezPk6gCSPAyqLMluaWdMCiJvr6+lKXDbOoazYeFKjogULM+iwCIiACIiACTkDmgL4IIiACIiACVU8AAcwWwpje7h9++MGFMDP3M06eHnjyIGgRyWzk5zO98IzrJzw+ayQgbHcz8byoZ9QJMR8CPCYgpI5RT+YEQOgj5C9fvuw97ZTDRtuiDbQVU4CIAZYqpEd+YGDAhxJgDERe8sGGCQoxWJiA8MSJE4k5BlixgDIwCzAkqCPmAqYEdSQVmgTEPMR7oS1jY6/SH//4Rx/SQP7cRJJ9FjHQbJ9qvPwRG+owNDPkxkG9zUnQ2pKLIDBfwdrjHgO3Ko7AKeiHCIiACIiACOQIyBzQN0EEREAEREAECgjQ2424RdAysz4CFGEdKXrm6R0n34MHD1wIX7lyxcfWI5YxEvYihUhnz2SBv//9770uCPTPPvss3b9/33vtMQcwPm7evJm++eYbF/306EcUAHWnDIQ5Ip4e/8ePH/seY4BJC1lhAC5cR9xjJMCM4QYYDrCLlQ+Ym4AyYIchQV7uxxzg3hVept6Xe/epA+fJmzMxhtLt27f9GbyTvl6LCujqTLV+f42tXLCU2tuszJ4Dbj5gQGB6UODCQp/Nv9BtZZndwCMwCniA/+BASQREQAREQASqm4DMgep+/2q9CIiACIhAEQIIZ8bsI3oRpojkSHwmIZo5JjwewU0vOcKasfV7mUJMUwd68BHp7Bn3Tx1v3LjhIp/2YRgg2DER2NMzT94og/YhsKPXnzwYHwh6jIQQ9ZE/lizEMCEf5gBRAdxPtAE8MRYQ7NwbcyNEZECUgzfw1oYSoOBrbHLBJTuemJhMz589TyPDIx6NcMjmOOizuQ4a7F0t2RwE81b2gm0MlWhoaPQ2TEy8Wp40cdRMiXp/p02NZvJYu3iGJw5kECzD0E4EREAERKCaCcgcqOa3r7aLgAiIgAg4AURwiH5OIGoJsUc0M9leRA1EHkQsifMYCQhdxDC94pHHM+zhDwQ3QpyJAhH8iHRC+un9x8xA4CPmaeulS5fcKOCYNkT72GN+sOIAe4YI0GMf+Wgez2FD+DNsADMCQ+HcuXOen+EWDNOg5x+Dgo3VCpgLgPLgR3JjwFR69OYj+DnXYGxnZxbS5MRrMxmmUkdnl0Uj9KduiwKoNcG/sLBoN+fMhMXF3ASMmAMNDfVWrzozIsb92a9eTVp751ODta/ezq9KMghW4dAHERABERCB6iQgc6A637taLQIiIAIiUIQAYpSN3mdENaHzGAAI5kgh/okmwBQgWgDBy3kEdxgJkX8399QdoU5dqDNh+7E8IeYF25dffpnOnDnjbUSYDwwM+JwK3IuBEOYAYp+lChH7CHxYIOYxHGg3+YIFEQfkw0Tg+RgrmAiUPzY25uXwbKIVYMv5iD4IPpSFRidgwIIFTPgz+2Du6iuLAJiw6AMSZk1La4tHc2BC5OpikxqaUVBjG+1guIf9z+vHu8EcYSNyYl8rxoG9T1yI5fK9YI7dmfBP+iECIiACIiACVUdA5kDVvXI1WAREQAREIAjEcAGEaWyISwQnIpd9COC4J/bk41oIXspCAHMPaa374v6d2GefSf0xKhDhnA/TYMDMAOYB4DPCOUR+9l5ENFEAzB2AmGeoRI/N/E/7CvPTbsQ4+YlEwJAgsgADgOEEmAZELJw9e9brwfAC8mAywJBn5QS+mQ32H0MIajAG7JjrCwu2QsL8gut26tJsEw/WWntI1MXrw33+Pvy03Zfb15rLwD3UC4OD6IX9nfvsoq0+QRYZAjlQ+ikCIiACIiACRkDmgL4GIiACIiACVUcA0Ymopec5TIBCUb+eMQCwENPkowzKCuFcKkCpF+KYttJzjkDGECBCgESPPxECtAExTz7mFWBOAIYCkDAXMBO4Xiwh7plskAgBntVpyway51kYAZxnFQeMBcpmY64D8vAeeD71hJ0rdjs3OzuTJl69TmPjr9IrG87w0sqnPAyFXL6cmRO8mZ+Asux/lriWcweYfLDR5hggH+3HxGCvJAIiIAIiIAIi8C4BmQPvMtEZERABERCBCiWAgCSxR2wiXBG9iNcwB7iO8A/xnxOduSiB7LW4jrjFGKB3GhHq4pWMJZCoO/VEEIfoxxhAZGMEIN5JCHoiA2Dy8OFD7+2Hx4ULF96ZF4D80XbKZ16GB7ZaA+0/evSob0QsEDGAyUBeVkWg154N3jyLOpDIyxZlJhP2w8Oj6dq16+nqX75N165fS+P2no4e7U9ffPmFD4HImwL2fJ+bwMqxQ37alos+4Li2liiQBtsYApFbfSH3DSCvpVwAQu5YP0VABERABESgygnIHKjyL4CaLwIiIALVQgAhiyCmlzrGyP/mN7/xHmxEMOPk8wI1AyU3fj3X44ygpcc7jASMAcblM8Ee+ZjYj4n2EK8hzDNF7ephtr2IflYQ+MUvfuFDBKgjHH7729+mgYGBxBKMtOvatWsu4BkqcezYsfzwACperD3MMUD7MUeYe4F5BignuGAYsCIB58lLGTw7hjMEEOoHP8qZm1vw4QysqvB//s/v0v/87nepziYQ5N6PLn/k+r/e5hYIxrloA+rHfAUYAqH4c/MuYIwwaeEbm+CQ9xZDEuLZ2ouACIiACIiACOQIyBzQN0EEREAERKDqCCCMMQro9UaUMkb+9OnT3ptdaBDQ2x0T8zH2nt5xer5JiFp6yK9fv+7lMWkfQjiiB4oJ6r2ATZuivTyfY3rwEe8IeeYEIGIAHoh5JmOkjWGCcE+WC/cj5Gk7EQnkZegBcwkgxlnZgKgBIjKISoAxzyFqgQkF4RPh/ZQFY6IYXr2a8HJfv55Kc3bPm6U3DBKw99Nl5XSlRluFgPwxDOHNoi27yJAC/lsOCcgxp765oQoYQfPzc34fxkWtPTvSW/MRlkcgKIogoGgvAiIgAiJQtQRkDlTtq1fDRUAERKD6CCBw2RC9CFnEPCKWsPYQq4WCHnHJ+PurV6+6iOW+MAdCJCOyEayUwf2lkqK9tA/RzyoFMc8AdcfsoBefeQP4TMQA5yICINqTNQZoH8YA8www4SAmA2YCBgtcMRowDaI8DAHywofy2SgXZpgrYU5gKFAedZmdnUs1FgHAfAeXr1z2ep+0CIeOjnYzHsZs/oKm1GbvAZOB+3kW2N+aIWCv155V5897+5Y5FChz1j/v29dqdbQoBHtB+beEQVAqL0z1EAEREAEREIE9JCBzYA/h69EiIAIiIAK7RyCEMk/kGOH593//9y5QEbX0KnM+JzRzSwKSN8bD06uO8EXQRuI+eszDWKCXPFJWUMe53dxn20sbCPv/53/+53Tnzp10+/ZtD/On7rQHw4DrGANwiMiH2GfrTV5YUA7CHyMBYwDxTyKSgCgEIiwwDWDEkAJMFYwIzAV4YRhwHqY8E9OAd8LnoaFbZh5MpYP2+aOPLqWv/9f/sqiOVjcdvr/2nV87eeqUXe+19/XGDAIbMmJGQA1zGvokhI3+nImJyfTs2TNvnxsY3RZ9YBMUYgwwLSExBGESbMQg2ExeK1pJBERABERABMqKgMyBsnpdqqwIiIAIiMB2EUDM0uuNiEawInoxBugVRxQTEh+93cxJgIAtjBpA+CKoEcckxC/nSinRpjAKaBc99vfv33dx/9FHH/ncAgMDAy7maSNtXs/YICrg3r17zowICgQ9KxFwXwwn4P7u7m7ny5ABIgJIcMYUIDqA/PDkfrhRr1jdAIOAhPHw2Y9+lI6fOJ5amlssWqDNzQDy3r171573yoctwJyyFxcXbH4CohcmfbJJ5oKgTQN2/5kzJ1NzY+7dWFaFCzhh/RABERABERCBFQKl9RfMSr10JAIiIAIiIAI7TgARi2BGWMYY+sePH7uoRTAjful1R6QiYBG0COFIfOY8RkK5JMLwSYhmhDkRA/Sq0w5SMWMAPpgMiHaGYcCKIRmYIkzSyD0YABgHRBUQBQAnzAImQuR8DFEgP2KePHCDL/dwP0YCz+GdcP3IkaM+pIAhEY2Wr942EubG6OiYRSk89OESTY1NNpagJi2+WbR3WWP1y01wSF7Mm6NHj6T9XZ254QTLxsBGIgW4X0kEREAEREAEqoWAzIFqedNqpwiIgAiIwCoCCF5ELQKfxGdE7DfffOPilc8IZoQsEQYxvCDysud+xCwbCVEb5fmJPfgR7YpHh9jHFEDUk1gxgJ59IgcI/0ekc1+xutM2hD0bIfr02mMqDJh5gsFA+TFMAH4MU0CQEx1Azz1CnqEG3EN+hH6YCjwTw+Hp06duDFBHzmEstLW1W4//QOq1ujJPAKsQtLa2uJnB81jC8PnzFx5twOoFzFFgMz6kxYXcu2B+gXNnz3j+rq4OG3aQW82A+soYiG+H9iIgAiIgAiKwQkDmwAoLHYmACIiACFQRgRDN0WSEPZECGAGIWULcEctsCGSEawwZQMAiUPnMTPz0evMZwU3POIk8hc+IZ+3knueSeHbUgbrRi888AYj3kydPejQEIp42cD17TxxTRm6CwFkX7PTww4doA9oJG57BkAwiCmBBYk/YPxM5wvWzzz7z1SAwBsJAoSyMA/JhFhApgFFAHSmXup08ddJMmXo3ApD8GAR1dTXpqM2V0NnRmU6dslUN5mbTwnI0RK21xVpu9zSaudBqcxJ0pXp7/tLb2jS/AJel1FC//rAJy6QkAiIgAiIgAlVJQOZAVb52NVoEREAERCAIhIBH9CJIv/76axe3CP3oGSdvGAMhuiNagGEIf/zjH13YfvHFF+ns2bM+Dp57QpxzvJMpDIEQ6tQVEU5CuMfkf4h2ogYQ40wmSP7COmbPxTUiDhDtlAUXhHxwwBih5//GjRsemcA1ykbgkxdDIJhQJ8wJjAomI+ReDBk2DBmuMYSDMhi20BUTPJpJkU1NzY2pzqIJ9rXtSwvzuWiDZAEgRA/YkgW2rzUTAAa5yQcJFcBUMHsB1yQ3vMA+rS41+wQdi4AIiIAIiED1EZA5UH3vXC0WAREQAREoQgAxi6g9f/68RwlEDzeCGCGM4EYsI2DpTSe8HvGLqCWcfmxszO8l/14l6odpEXtEPfWiV5969fb2+ha9/rQrNu6JFMdEFNBOevkR9JgnGAvcw2fEPdEBDB/gOQwd4BkYAtzHcAXMCMQ/93AOo2JwcNA5Yr7APJ4DW+7BGDhAFEdTbtWBqBeqnlrmViRgQsmGtNRkZ7wd7gtY2y3Dcj6GEtglNwFsEQPu9M/LWWQOgERJBERABERABJYJyBzQV0EEREAERKDqCSCG2TAIYmI+PjOUAPGP4OY8YhahjBmA4L548aKfY0lARDMimDyREMS7keI51B9Tg/oSJYBgp1ef8wj3EydOeHUwCmgbQpwUZoB/sB9RHmL95cuXbgAg4jEH2MOEcjEFmIcAJvT4M4cBQw4om2czTwNRADw/zhFpwZCNrNHw4MEDLxOTgGfDstXmDEDlL5nCz1Fc7vFH2S9jBW+tRwS4HxDVdwMBk4DNX8HuvIb883UgAiIgAiIgAuVIQOZAOb411VkEREAERGDbCSBK2aLnP0T2zZs3fcZ9zIEf//jHLor//Oc/exg9+QcGBtLPf/5zF9iI7TAHuLbbiWciyBH0iHZ66Yl4oCeeFQloE+1jzzAK8ocxkjUIyEN0BPcTIcA12oUhgMhnQ/CTEP8YDxglCH4SzycRWYFpQKI+3I/hcOnSJY8uwFRguAIRCJQHY8wHymy0FQje2kQDb83oYJgACbHvNoANHSiWuBymgDsExTLpnAiIgAiIgAiIQFECMgeKYtFJERABERCBaiIQIpk2I1L5zIaIRggjkumJHzAjgISAxQhAYIeY5Tw99ty3VwlRjwCnZ576UjeEOxt1ZZgBbULsh8CP+ka72VMOAv/evXveJgwHhg8g2hkyQLkkhD7mAz39GAM8A8GP2O+0+QLIC5Pbt2/7HAM8C5OCvJgPRCDwLEwE6sRwB66zByPn3BjIM3V3wHS/7f0wxzpMgSU+5rJ4dEH+TXDOPtTEnsovp3yeOKG9CIiACIiACFQpAZkDVfri1WwREAEREIHiBBDPkThmqABiFrGMcOYzewQyQpZl90guZE3Ecm23E+H4CHVEOeP5MQbohad+GAP0+ochgJgnIdojhUFAGYh2jACMgSdPnrjApwzahdhnDgFMAiIKKIvjWA5xamrKJ2akjIgYYOJBViQgLxy5n/oyLCPmJciZATVuKHCdvNQXLc8KBZ5C9C9/8MEGy3nyXkF+AELuFn7mDQG730sqMAjy5zzzyn06EgEREAEREIFqIyBzoNreuNorAiIgAiJQlEAI5OxFzjHTPoKV3njmFkB0M3af8fX0qNMbT285PfH0lnNuNxLiORJinDH+iHrqQw8+vflMDsgxifyIbtqE6cExCZOAjfqzlODDhw99iUHmE6AtlIHQxwBob2/3+xD1PCtMALiQMCeoB+YE5WMMMMcApsHly5e9DJ7NUAKiMSifsjE0MF2oMxEZ1JU6sa+tzUU6xDwDPCdnF1j7GV7gGHLLRtrCivmr5CPlgw44XkHm19758e7tq7LknrvqlD6IgAiIgAiIQMUQkDlQMa9SDREBERABEdhuAvSWI2AR/TGMgGcgpAmHR2gjbK9du+ZimaUMz5w5kxe4xQyH7aoj4pmefoQ4vfhsfEbM05tPZEMYCLSDusSeutMGoh4I7Ufssyf8H+FOmZgBzA1AeZSFKYKw5xmYIQh/mBBNwHOyxgDlUg55ue/ChQtuAvD8MDGIZsBAoN6UC2PMBxJ1DXa0M46LsnPFbvmLXsydfOfaWiYBGd9jEKzzGF0SAREQAREQgbImIHOgrF+fKi8CIiACIrBTBEJYs0e8RkQA4fAIY7Zjx455RAFRBQ9sxv2TJ0/mQ+wRtNy7rrDNVD6et9H8sUwh4hoxz330vCPWEdkRMRDlsY9jevxpB+H9HGMWRPQB99Gbf+XKFZ/IEBEf9yLUMQHo9Uf4M2yBZ2E0cJ66YBzACuEf0QsYDJTBfcyJQFsxEHgu0QrMOYABEUM0wBJ1zSAqOMxJ/neEf0Gu/Me1DIF8hsyBDIIMDB2KgAiIgAhUCwGZA9XyptVOERABERCBTRNAxBb2XCNm6RX/y1/+kj799FOfPI8edHrrMRHIHwmBuxGDIIwB7ttIfvLR08+SivT6M2YfU4DQfAQ24py6RMIEQMAj6GO8P3Mo8BkzgGfGUICBgQFfjpDhFJTBfdwTZWAAYIYQEcAzeTZGBcKfa9SHaxgCmCcxRwPPw1AhcoD7YIM5AC/yYDJk6/w+c8CqrCQCIiACIiACIrCNBGQObCNMFSUCIiACIlC5BEK0s2cMPZPsIWYJvT937pxvTNyHUZBN7xO52bybOUaIM6SB+RCOHz/uvfQR3ZAth/pGlAHiHHMDI4C8TBDIMoeYBPfv3/d8lIWojzkJwmggD+0m4oA95gGGCEMFKI8JDIkaIAKAIQnnz5/Ps8AA4DrRBRgDzFHAZwwOmPE8TIbCtBY72rSRZP6DkgiIgAiIgAiIwAYJyBzYIChlEwEREAERqD4CiNMQqGEOIMZ/9rOfeUg9IhnBy5wDiGzEdjY0fiPECoVu9nM8m3I4T+g/EwHGpH+IbIQ1Ij3EfDyTXnnqx4oD5OczPfqM7WfYAMf02PMM8iHgGRZBj38I9WxdKBdzgUgC2hpLDmI2IPSZeJCJGplfgHpRRpTN5IaYGRgD1JfnUQ7RAhgJGAw8v7C90RauF0sR/e/3LRsB7Ja4YFvWQ8j7BOEr5E8UK1nnREAEREAERKD6CMgcqL53rhaLgAiIgAhsgkAI1tgjehG/jKen5/67775LiF+EdJyP8PisuI7713t0Nj/5EMyc415MCELzGUpAiD+GAEIewc3zyMt5ogQQ37ExBAAhTr3ppccUYB4BhhNgKFAeAp8ef4wP9lH/qCv3k4c6cB/5iJBA8BNBwUSGCH2EP8YBZZCoC9EEPIPnw4xIBMwKnk3dMStoX7Q9exzPLzQOclzgk1P6rvND7OdNAYyd3NwFtXawin/kjQdoLwIiIAIiIAIikGQO6EsgAiIgAiIgAkUIhJgMsRqfyYp4Rgwjzul9Z5K9ycnXJoQnLFQ+1wv/5o0tEchYfRf4zEOQW0KwoaHeBTa94ZQZ5Yc4jqpwPsQ+14gYQGQTwo84p/c/hDUinI3IAkL1EeSM/ec+xDx1ZNI/7gnhTyQBxgEGB+cGBga8TdkIBOqAEOeZzClAeZgLGAM8i0kYb9265REFX375pUcOhDHAfRgKPINjjAPupW6cxyigTjHhIe3mecUSz42N65S3sMAcCgtpYXkeBYwC/qutqfP21Nc3uBGBGdFQX2fRCTgFxUrXOREQAREQAREQAQjIHND3QAREQAREQATeQyArWrPHiPPLl6+Y6O5zkdppPeETE5NmFgymSdvPzs6kWYS7iet5E+MYCgj7Ezauv8V78BtNwNYvi+Jc7zkiODQy5kBEDCD6EfqE4WNKcEyPPmKbHnzEO/MBcD+imyiGiCogLxtCmfozfwD3Xb9+3cU55gGCH8MiRDj52DAdEPPkpzwEPj3/GBUPHz50E4L6DCybC6BEvHPfs2fP3Bw4deqUGxOxWgFlUD+eS51oZzbxXOpBimPKjHy5dk+koedDZpq8tPq9SjPGGDOmdV972t9lxkNPt3PgHbXZ8+rrbGiCzIEsZh2LgAiIgAiIwCoCMgdW4dAHERABERABEVhNAFGOUEXYFyZ6rxG6J04cN0H8xoTwWHpmPfFD1stfZ0K7qanZw+lbLaQec2DR8hMBQJn7TWgfsJ78HhOxCHeT4rniTRObDrZt0YU3QpzIBIYRMKcBQwMQ3ghtBDvDB6gf4hkhjFAnL2H8RAEgvhH9EakQedkzP0KUSR2IJkCMZ/MTgYA5gKHANY4xITAtKBuzAzZwIAKBcimHiALqhgFAHs7RbgQ+Bgf3hFlBuZHimHJIUR8+s1EmTEZGRm0/7vWirftsKAN5l97Y3AxmyjA/wsz0THprXOqtXg2NxiEekys6Hpnbx7XVZ/VJBERABERABKqGgMyBqnnVaqgIiIAIiMCHEAhRWvReE5mEr6Prp2w4wWsTrjMm3OvsXIsJ731t+1yA19bWuTgmPJ9ogtdT0x5RsGBCudaEK4K/ro4QfhPWFg0wbeVMTb02c8DKs/B9xC/iG/GLIYA4RqTH0AFMAXr+2SgL0U9ehDiCnWM2Evcj0jEYEOnk5z4SPfIk2ozZEFELPI/7eR4mAUI/Jl7kXoYrUEdMBa4zlIDIAoYOYAxQB6IIuB9TIOpIfp7FvljiWiTqAwvKpV4MKYAJz29ajoyA5dzcvG/z1j7yPXlq8zZYIbl5FurNIDAOYQSsFB+P0V4EREAEREAEqpaAzIGqffVquAiIgAiIwEYIIEDXSo1NjRYRsJjGbQjB40ePXXQ3t+xLfYeOmOiv9Z57IgIQ6fUNFmVgvduIXIyEoRcWEv9yxI2EtnZ6+ht9foIp6+1+aisMEGFA3gMHun28PqIbYYwp4OVZVAACHXFMtAAGAQI4K6gR5ZEoi/uYY4BhCIj5K1eueB3DDCDSIO4nP88jagFRj9Dn2dzHSgUIekwD5hjgM3XhXswHJmgkETXAfTyP1QyIFGDuAeoahkDWuIi6Fu6pC2ZGlEM7GTrR033AjQry11h9KOvtW5vbwcwYogeox5PHT7zdmBI8t7HB5h9YNkrcJMAgCLOg8MH6LAIiIAIiIAJVREDmQBW9bDVVBERABERg8wQiVJ47c8I5pyS9A9oO6Z1++uSpi+729jYXyXU2AR6h7EQMIFjDKFh6yySFS957vrC44GIbsU6P98DxfhfPk5OvrSybeHBm2stamF9M9+8/8IgDnh/DCxDdCHKiERDaCGg2BH4xwY3AZ1lDVjxA4GMocB+GAfdRdvY+znENUyLXUz+fzp4968MQuI9hAzw7TAnOYSTwDIYdnD592iMKYqUDjAHyMm8Bz3lfoj453snrgDFARALPwZBoaW5Ji1Y/NsS+WQMm8ol4yOWn/ieOn/C2Mf/DDz/8kD66dCl1drWnxlqL9iBF5IAMghwP/RQBERABEahqAjIHqvr1q/EiIAIiIALrEQhxSp6sWOUzAnd+DoE/ab3l4x46z7j35n0WaWDXWJ8A9ZnrpTbhSuT8ku0tooDZ89usJ3vOhDe98S9t/oAmi0JgfPzTp8/ShK160NranJqam1z8Eh2wf3+Xi3oENr3gGAMYAfSiI8CpD8I5hHfUnc8YA0QisOwgwhpjIUQ619nIH/fGnAb0vCPKeQY9/sxPwNwEMawhyuG5zAWAeGfIAgaG99JbXj4zcWH03FNv6putK0KeFHXBlIg20UauE5GAsUEkB2XBhhUhiMzwqAGbUADLocY423oFZs6wKoQZEh2d+agDjJd9bS0WPWDmQBgD/mT7IYMgSGgvAiKwTQSy/w5vU5EqRgR2lIDMgR3Fq8JFQAREQAQqiUBORK+0aHp61s2BaRsK0NJikw+acEU8I2yXTGyb4s5tplpZZs+XNbTbEbwtZiK02Bj6cZtpf9DG4yO4F20cPb30zK7faoYAQp5ntrfnjjEJ2BDLPAMRTQpxzTHn4w9SPhP5gGgnrB9xzRwAiHqiByKFKGfPfALU5c6dOx6WjzHAsIGTJ0/6PZgFTPbHcyiHOmJwMKcABgTPZg4C7sMw4BzP5xx15xlEI0Si7tEOrlHfiFbApAgzgQkYYcNwAhgTlfHG6lBnZosbDWZQkOp8WIEZBTgFZhdQv8nXkz6Ug/KI3HAXgcuFBgHnlERABERgmwlkzddtLlrFicC2EpA5sK04VZgIiIAIiEAlEUCshtDmmLS882MmDXxtgnVufs57yxke4IlMJpIRvpgCtdadHSKY8pYsX1NjkwvoN4tvXIiPmHAnH+H+By38HSGNsEUIv7XhCIh2xDainIn5KCfb+75Sv1w9qUeIbUL9MQe4J1YyQJBzPYyFKAvx/+DBg/T99997xAHDA1h2ECMAkY8JgMlA3SiL+4kwuHr1qpfX39/veXk+59kom/wIf6IYEP88nzYh2KlXtIfhB+S5d++eD1OgHCIFyM/9mA7O0jgwXMPrjdrnf9YeBhig+d/a5I5vbAUJIg2opz/D38ayIwAmmQPgVRIBERABERABJyBzQF8EERABERABEViHQIjuELAuQJcdghoT8xgChLAzz0CDRQQQFYAoNb3riT0GAfchZLmGOOYcZSL2EeMvng+lLhsycPDgARf/CPHJyQkflsBcBYVKlrLYSFEn9ghoEgKa5yDkEfwkRD49+cwJwHXy83wEOT30DAG4fv26zxtA3VjNgPPUBUOCiAKMBkL8BwYGfN4BevM5x3WiEhDxDF+gLIwBDI0TJ074MQaFt30ZDs8gP3vqg/DHCCAy4fe//33605/+5MdEHVy8eDF9/vnnbpZQXyYdNP2/bA4U0rHPViZLR9Y31HsbqQ9zJHjkgNOwH7wjTAIlERABERABERCBJHNAXwIREAEREAERWIcAIpPEnp5uRGmdGQCmq13g2wU/doPAhHmNj323i6bbc6Pg7Wb76H3aJuYpjbkFiBKoN5GL0EUgT9sEhJgL3pOO6rWE0YA4b2vbZ8d1eREdxgDiPpv4HNcQwoTic45hASwfyJwBmAfe827PJC/HJNqG6GeIANEKAwMDPgEhEQOIdhIGAL3wRAEQUYAxgPFAPZmsEPOB6xgAPJ8hABgG586d87rTTsyIqCN1C74RQcC1eBbGxs2bN708jAryUjc2jBmiLhy+3VBj1+x/uXfCZ0MDM9pLFAHlz83OuTnjD9APERABEdhhAvHvW+G/1Tv8WBUvAh9MQObAB6PTjSIgAiIgApVOIP6wo50hZP0c2t3Ep8+Sb+KT8e8kxC+RBAhcjxYg03LifjauxZ77WQ7xgPWMj9ObbxECiPPFNzaW3vJhHCDMu7tzY/s5RohzP4m6ZI/5HGKfchDoGANsTCiI0VDYJsQ6veosW0gvP+Kenv5PP/00HznAPWEeYDDQu3/8+HEP+0d0c8+ZM2fcgECM82yMBIwFTAmGGvAc+ETb2VNuGAbUgedzH+3EgGDSRJ7FUAuOKZtyaCNzDTARYb49ziRnEHAdM6bJ2ouBwDOYn4DhGe7OODxHqB8iIAIiIAIiIALLBGQO6KsgAiIgAiIgAmsQCOEdlxHX2dRoIpYx7VOMo1+Yd3HbYoKXnm0EKsKVMrwc0/N1Nbme7Aa7PmETERItgFlw5fLltGTiddCWRHzx4mVi6b19NmHh3NxsejIza+eGTOAfcpGPUCYheCkfwRz15JmIdXr0GTqASEe4s3JAGAMunK1O0UPP+H5WE7h27ZrPSzAwMJAu2ZwHRAaQKJtIAKIQCPenvQh3hhpQPmUTMRDiHUMCgY/YZzgA50mYGmyRKDPyMVyB8qgL9eNeTAEiDij/svHB3GASRYZFYBBwvbFx9fugrobEVpFg9YZk5kRXGrZyZ40jrFhNgmEG+ZTzWPIfdSACIiAC20WAf3Pid8B2lalyRGCnCWR+Q+70o1S+CIiACIiACJQfgRCsCOLChFhlnoCZ2RkTt6M2K74t49fV6b3lDDNArLIh4BG9+c16sFnhgCULEckXLlww48AEu233791PQ2YG9PTQ637YBHaDi1smAqR3P3rSY6UA/vgMwR/PYngAgpseeMLxEejk8x705d577kGQDw4OuujnM3mJGqC3P/6o5TwiHmOASAbajDgn5B+xT32YPBGzgXyYCE+fPvV2YyRgSpA/TAyOMRXCEGBYAvWmrrSJY8yBGNrwk5/8xKMSKJ+81JcyGFbQ093kkRrUkY1kzbSIgUaPEBg3Do8ePkrTFpHQ09OTDvQcsHJtiASRH2xrJZkGa5HReREQAREQgQomIHOggl+umiYCIiACIrB1AohSBGux1NTYkLr2d1p4e3Ix+8B64Om5b6hvcNHsgtjmICAhzDECuB6z9COuew/2puMmyDEHXk++TmOjY3nx7D3+Pd0m7jtd/HJf9OITgh/iG+MC0U5dEeeIb+qMIKYMhDZin4083IsxgNlATz/lIq5jGADlcY68CHHyE4lAObSD8rkvIgZoB/cj6jEmqCNzDRC1wHnaTDnsMRC4nzw8A/MAcyHMC86RqAv3M5cBQxm4H2MAg4A25tpSYwz2We7cEAVIL9n8Avy3YJMREkExNf06tbW3pcOHDhvHDjM4Mn/6FH+tPF5JBERABLaNwFq/Q7btASpIBLaJQOY35DaVqGJEQAREQAREoIIIFA4lyDatrr42dbSz5GCrzRvQ60MCXppwHbZe9QUTs00mpjEIENmIasLbiUTABEDMxySBCGFmLaA3HcHOsoYI4FYbWtBgBkR//1HL2+M994hjhH2IZDcYbKgBJgCJlQJIUTbXEdIk/kClHgj9B7ZCAuKZSQMR54h2TAE2evER8gh7TADMATbOI+o5Rz7MBwQ8ZSLqwzTgHPMM0HaewYZxwMa91Ic8DDvA4KCODBeIoQVEKFB/DAbK4VkkyqPuMIIPXGl3vZkxzPvA5wU3YKjjjA3bmPHhGYf6DllUxJHU3NLkczlQ1lszBt7xBt45QU4lERABEfhwAjIGPpyd7tx9AjIHdp+5nigCIiACIlBhBBgO0NxYn86dPeNiniEAwyPDFt7ekhpN6C7RY295wihA/BKOjzAnKqDBTAb2fb19PvngMwvLx1wIrfr0KUsFTnsPOmPvmWAQIU5oP89izoDolUeAM0yBuQkQ1bkQ/JU5Bgj5Z0lBxD55iAagXgj0U6dOuWjnM+YFIh7TAEMA4U1e/tDlOksLYhZEZEBEBHCdOpIfIU/9GJJAWZgQGApEAlA3zmEcPDCjgnpjMvAMBD/GAOZBRERQXkQSwA5zhHuJVGhoYAWD3GSNcOE8iaiM06dOp4O9BzxigGgCa6jVn2gQy7De0AIvQT9EQARE4MMJ8G+ckgiUEwGZA+X0tlRXERABERCBkiWA2OwzEdrc3OTCdozwepukEAGKsEVQI6aJREAAI5Q7LNy9yZbbW7RQeMT5wYMH0vlz59OL50Mu9sdMAPeaSG636ATE8/37930fKwZQHgbDAxPXGASIcMR5zCVAbz7XeT4i+tGjR24o8AcrZdA7Ty985KNO1BORzoYpwH1sYT4g7tl4NuWGWcAzMR64h3sxH9jTLp6DoMcQ4BlhDBAtQJsoO9hwD6YAzyCqAPOBc+x5Hue5nwgMjAC4zM8v+KoEmDC0t89MD1Yq6LBnYijU+fwPtvqD/dVTuzzMo2S/SKqYCIiACIiACOwRAZkDewRejxUBERABEag8Aq2tLS5KO20CwB7rvSaEHmGL4EbYMkSAHu46E8xEDzTYee/CNlGLaO3otGUEBwZsUsJ76fmzwXzPuEcXNNS4iH7y5IkLcnr9EdqUg4hGfCP645hn02uPeEb8I/AJxWdyQsQ6vfPkDwHPeYwL6kriGvfSQ48IJwKBZyG2EeCYAuThORgDN27ccKOBMhD75EfwxzwG1ItrcOAadWEOAcpG7JMok/K5J4wKTIEwBrhOGVyjvWzUcXaWeRxsicM3Sz4Ug/dAPowJ6kzUBv/VmhGTjxZQh54z1w8REAEREAERCAIyB4KE9iIgAiIgAiKwDQTqTOS32mz5rc09RUtDk1pwuwnr3GXm2McYIMq9xQRtr/Was2LA7KzNTWDC96X1rhNRwJh5xDG9/4h+BDMinx56xD9h+CxBiOin9575C8h3D6PBogM4R7TAp59+6nsEPNEGlInIxhwghB9zANGPiOf5CH8EPEKbXnuMASIfeCYbQxtu376drl696sYEz2BYAWYA5SHSEejkpVzqgTFAvTAWKI98sfrBgJkjmAXZelDHwsR17ssNdbAIBghaPs4zbGBVhICxlhdQSFCfRUAEREAERGA1AZkDq3nokwiIgAiIgAhsC4H1xKj3zWeHTmS5AABAAElEQVT0LgYBHxusZ7ujvTWdPHkyjY+Neqg8cw8Qer+4uOCmwU9/+tN07do1n3jw1q1by2K4zgU/4fj01pPoXUegM/4eoY+45zNGAecQ6xgNLF9IFALXSAh4Nnr3s0MFPv74Y+/Rpxzup06YBvT+E82AIfDJJ5943SmLfDw3hD2fMSzIy72YEcxxgJmBuUDeWKEA44P6IfQ5n60X5VE/9pSJ8QC9PE47nz/2O/3yu+fimvYiIAIiIAIiIAJOQOaAvggiIAIiIAIisMsECsUrn32zH4jdHsbNWyTA9PSUj62nJ5yefoYG0MvPhISMub9+/br3xCPc6dWnlx5B7REH1qPPHAAIbnrnEdIRao/ojwgEhDymQohxUMSQBFY+4DzmAc+kXOYJiGgFPjMsgfKpw8DAgIt+hHuIeIQ+eZgPgfowTCEMCZ7FeYwI6kCbqSPiP5soK1LWcIjnxDXtRUAEREAEREAEPpyAzIEPZ6c7RUAEREAEKp0AGjV0afZ4m9vNI2JD/LZ3tKe+Q33eMz8989ijARD9GALR289nRDUJQ4HPhOwjmAnRp0cfM+Hs2bNuHJCH+xH7hPXT68+zEPrkR8Az3h+zgGv07j+wiQ4R/pznPkwFViXgGUQmUB4RABgQZ86cceMievq9YvaDOnEfZVEu5Z88edLri9EQ8yBgQFAWxgBGBgljIYyCMAiyhkBc88z6IQIiIAIiIAIisCUCMge2hE83i4AIiIAIVDqBt0sWZm+NZFK7nUrZkhkr325DCw6ZOTBuYfhPB5/aY2t8bD3CG0GNyEakM77/yJEjLqLplSe6APHMMdePHz/u1xlqgEjnfkwCxD4CnTkL6MnHSKAHH3FOhADDBgj15xxinrIYysAxwwfo+ccYIHKAspnrgHkCssYAwp0N8+HmzZteZ+obJgJmAW3hfoYXMH8A+WkD5WTNALjH5+w7KHYue13HIiACIrCXBPRv1F7S17M/hIDMgQ+hpntEQAREQASqg4Cp9meDQ+nN0hsTxUd3tM1Zg4AHIbbpTT9kofZTU69djCOk2RDqhOF/9tlnLtQR2Yj53/72t37fhQsX0uXLl90EIEwfsU0vPHuMAIwCRD7mAceIf4Q+8wF89913noc9QxioA2YAx5gKRAyQiEogmoB6cq7QGMB0IA8bdcDEwIzgmKgEIgaYTBAzgnMRLYB5EX9Qx94fuPyDc+Yh5NMqzyZzPp9howeFL2Cj9ymfCIiACIiACFQIAZkDFfIi1QwREAEREIGdIdBiy+K9NWG9VnI9aj9CpG5Fn3KvC187qK+rN+HdbiZAb1qwyQjpgSf0nw2BzDAC9ghrhD+9/TE8gB54euJDyFP3WD6QchD6iHX2mAKIfMpCyLOCAREDJFZNYFgBCfGPgKcc7sGQQMhTBnWJFNcphwgH7uFZDD3ADOBeyuc85zAMKIfyqUM20Q7OsSd6Iq7G3vNuBXj2Yeseb+Qhq2q1bmm6KAIiIAIiUI4E3ve7oPx/D8gcKMfvpeosAiIgAiKwawT27+9877Ny0nX7lstDCyOWMSYO2DKG0zM5MT46OupmAL3t9Ngzlp9IAlYBiPB8evdJXCNFrz7RASHoOYc4Jw89+ITyE0GAOUBZCPJz586lK1eu+FACrhEJwESFmBOIfu4looChCCQEPNdiDgOuY1pQH+qLMRD3URcMA4yHGE5AGVlzIIyBlfN79UcXb/d9fxB6LfmhJAIiIAKrCOTMzdX/vq3KoA9lRKDyfxfIHCijr6OqKgIiIAIiUHoEkKwFHd6brmTI3nxZ1hFfV2dzA7S3pUUL65+cfOUh/5gDCO2TNl8APfTMLfDDDz/4uYsXL6bTp0/7eYYEMPQAYc58AEQXxGSEDBPgj1WGIRDeT08+ZgEiHwOAexhy8NVXX7mAJyKBnn6ukR/zADOBchD39P5THtEHPIPrGANcYwWFWEWBPJgPlMUzuI7BQcqaAsXh5Qg55438bVa8EJ0VAREQAREQgR0kEL+g4rf6Dj5qh4qWObBDYFWsCIiACIhAdRLgT4PN/lkQ9xT+WVFr4fpN1uOOsKann+gAhDSCnl58euLp1UdsI+4JzyfEnx599gj7x48f+z0cYyZwb5SDKUAPPmVTFoYDgp2JAzEhyEc59O7zHIYKYAwg8un9v3Pnjj8DA4DPz58/9+gBliRkToS4n2/CA5uAkCgFJjVkAkKeQ33XSqsMgwCzVuatnt/sC9vq83S/CIiACIiACJQgAZkDJfhSVCUREAEREIHyJLBlDWsF2OIIPvGAjSrgwD6/NWG+4L3/9NIjqBH5iGfENwIf8wDRT889UQL0ypMI879165bPRYC45xplYCYgzvlMOfT2s1Eewh5zABFPuTwP8wCDgI17Sf39/T5sgEiAiEDgPPd3dnZ6PsrGNMAUYCJEysJ0oH7ZCQy5b920k+J9J8tet1G6KAIiUA0E+Hd0ldlZDY1WG8uWgMyBsn11qrgIiIAIiEApEnCDAJGfn8TQ1Cf/M6GMDrVd0eSegF3BDHj7xkwBu392ds575hH5mACM20dsI8iJFKAHHrEf4fqIbz4jvNn4o5Qe+7t373oEwMcff+zi/aQNS4h8RANwP5EDlInoZ8gAifvZeD7mAuYD5gDDDgYGBlz0M6zh+vXrHsnAeerAPeQn6oB7eD6fuU6kwqaMAa/JGj8MWvDOMV4jn06LgAiIwC4T4N9BJREoNwIyB8rtjam+IiACIiACJU2AvwfnF5dMFM+5SK6trbOe9zoTxDZEoKEmNaxM7J+f5g6/wCMGbN9QZ7Pz19aYWLdJCIdepKfW475vX6uN6c9NGEgvfKw2wFKEbCxByEoF9+7d82gAhDiCnzB/BHosa4ghgHh3o8JcCowGhhsg1hmKwDV6/mMuAAwKhhowhIHIAp7NEALMBaIIKIe6fPTRR34P+ZibgDkPMAEwNJiLgHJijgLqs6VksPBd/O9uY/1m2UipNWYNDax4sFJ6sb/Ns9dXcupIBERABERABERA5oC+AyIgAiIgAiKwBQIhVNG81sGeXk/PmjCfMHE/aasMzLg4jh6kpsZ6E8wtqdN63zutl761qdGEeU1aMGeg1lSrHbqhMDe3YJP6jfpGrz2CFhHP0AHEOKH57EPcUz7XmQMAwY7QR5gz7j8mBaTHn158IgQYBoBxwPwB3IeoR8CTn3KJUCBhGnCe5zIsgOEALD3IfTwLQ4KhCEx6yH0YAeSlTMyEmzdvulnAsASenzUGaBcpe85PFPtBB1xG9L8x82VqatoNkMnJKatPrv51dbVupFAntubmFjdLGo17nZkuSiIgAiIgAiIgAmsTkDmwNhtdEQEREAER2CMCiF1EbsmmZbEaPdMMBViYXUwj45NpZGw8vRp/5WH08/NzacF63pdMCL8xkY0R0NjY4MK9t3cmHejeb6J6HyrczQHau7DwJo2O0Es/kiYmJxzB27dLPgcAvfr07tNrj6CPiAGMAEQ2Ah1xDjvyIJDJzxwCiHOMAUQ+xgBLDiL+uZf85EP48znC/tkThYDYZztx4oRfYzUCjAGeifkQcxRgJGBYYAwwXIFjjAQiEThmKUUMCp7BfAdhQmz0PS8usozipPHFgMjNsUC5RDfwnaG+nMdJoG5tbfs8EqKrq8N42MSOfsV+5A82+uQPyxemUEl/lz+sabpLBERABESgAgnIHKjAl6omiYAIiMBuENhJAV/yogrfAoFp4e0kxP/ImPXcW1g/ov7N0hsXxIjfZsLvLQ895XNmFszOziSWJJywsP9p6+FnjH9HZ5sJdMLl36apmbn02IYJjAy/TPM2lACBX1/fmAYGBvwYYU94P2IdgU9Z9NyzjCFzEDx69MgFPaKcSQUZSsAEgWwcI+CfPXvm0QOIdsL/mWsAYwHzAVMhEnVGzIeRgAhn2AAGBOUxpCHmLkAAI85pM2WxMfyAc0QcYAwQsUA+hhgQ/cBz4751BbSxwYiZnZlN9+4+tPoPeTva29pTg5stbWYG1Ke31rap6dceUTA9jflR56ZBfb3Vq6HTPAMb3mFlWRV2PPEdXu97HNeoyLpt30RNKXO7yso+Nuq6E2Vnn6NjERABERCBvSUgc2Bv+evpIiACIlA2BLLCg+Ps5+1sxE6WvW31XO55Nq2ZFubfpLFXUzbe/74LYJQn4fkI4lYT2nUWUo+RQNQAYn9i4pVPKIi4R6TX2PmWllOpsbnRowEQ0Xdu37EhCVPW29/uvfL9/Ud93gKMgW+//dbFOZEA9PTTc8/zENrsEe6M+WeP8UAewvpD2BEhgGlA7z1RAQh2hiFgEmRD/DERiABg7gKOMQOYWBDxT17MCIyEuIfy2TAlqCdDDDAA4vlEF1AWxgYTKhJ5QN2ZpJC6Uy5GQmHi2ZxfWFi0+19btAQrNdSmAz0H0uHlOlMHoitoz36LxuBZcGYZx0ePHvv5RTMyeCeF8xIUPm+rn/n+FqZi/1+BVVl81wsbo88iIAIiIAL/l707b9LrqO4H/mjXSLJkeZMsGzxjsE0gARwTCASCQ4AQliJVgSxV4Q2keBG/V5G/kvyRVKWSSlUKDEkRSMAJS8jmBGKCbTaZYFteJNnad/3Op5/5SlePn5FGlkbSSN1Td+5z+3afPn1Od9/zPd2373Urge4cuG5V2yvWJdAl0CXw2iUQ0AKYmS0G+IA9s8QBg0kT0Dkszb28U46G3wCqvEMAKJ3gjL606El7oYCvAEd0p/FxIRqv+f78zHOxWwB63+jpAqA+L7h2/brRLfNgfTzjfxaU468+CtgAvyX1wLFl/rue2zXaevOW0fFaAr+39hnw6UHAftOmDe1VALPhzzzzs8aqJfTANlDOOZDXDMjBawbKEE+egLjfkSn5Kk+5ZvUffPDBtiLgBz/4Qe1tsLutOADSAWi8y4eGe/KhKd6sfzYbHOoSg/i2sgCf6Djwmrzyc0w48Cvgh0Mk98afWFx3xllQVaqgPi+X0+G59voDp8LWrbeO1pVDYUU5DqShi9WrbbZYmzqWA2TcTleUM+LFVg8OC+WuWr1+VC9xILrIMK/sxaYeM9zqLIu6OxLoKHK7XG12SD/lXK5z+L9cvF4uvjqdLoEugS6BKy+BxTwPFpPmynO+2BIvbH0tllJP1yXQJdAl0CVw3UgAIADoAUqgCkB0/ba3ve0M2Aswn6y0vO45AxTD68m0rt0X5HEkT4uc8k96s+4Aq/QcFg30lYNgScJZXFfrv88t4djRE+UcAFp3FSA+NLrltlvbbLjl7l4tAOyH2e1NsKYA7Ka6rx4cHPtrXwEAeXfNqD/3zLMjYH19gd5NBeAB5RMl98O16d66cjwA9QA3AM6B4j7wTT+W/5vppyerAjgGyNK1GXUOHisVpIsTwAw+BwBQLx4fQLrgmsMDbXJWtpUAZuXxEIArbeqifLwB5wA8PvAgv/R4RR/fnANeV1A2feJP3JHaXHDDzPoG+m3SaEXBzMyG9vrECy88X3xsrhUSd5TONzb5rThJxmcBuFczLEBYV5s9btt2R6u7VQR79uwtxwY5ri7Z1YaLUYzzhF7V6dxwwQTnJp9yRUZkMQzT4ob3z/db3vSXSbrny3cx95ThEJaqjIvhp6ftEugS6BK4uhI4dwy/urwsTendObA0cu1UuwS6BLoElq0EAgacAbbvfOc7DbACdg888EADeMPKBUAAD45cA4iCGVy/h2Ay+ZPHNfqC/EDPQgHYtRR+586dLckv/uIvDmaKF8q1NPEHDx4evVIb5B05YtO9m9rS+5laFXCqlrifLpAKdA5NiTHAGjsFgGQgXZyl9v9XG/j9rJbB+9LB/W98Y5Nbk0+xvuOuHW2VQEC5mXagnnOB3AB3QJtMyM7svhUGnDsAN/rScg4E3KMN+FsFgAY9AfccLfSujMcff7zxZy+Dhx56qJUTvdJTAp0A+JwLHBFeU0AzK0DGs/hj3SrXygmH+qODT/V5uVYH7C8g//LePY1nDgrOn3vumWvXHA933HFnOQ82jlavWlN8HisWSHjQXoreyXIYVDHVLtaWTjbPOx5KV1XG5i0bquxyDtT9UlNLl3pc6nkok9BqOixm3HPQT367N9kvxC0U5Mt9dMh62oqchfJfTHx4lCdlXkz+nrZLoEugS6BLYPlJoDsHlp/OrimOGQ8J3XiIJJbuPDQMl66UTrlLYAwGgA4AD2C0K76ZaCBQ0N+BGgAFkHQG9hLn2iFdjgvJVftOPmcgNOOKctF27bel9//xH//RSALMwLHylzycHfJKCOQAYI7rigcz5Wa6rRBwb5yoTvNj5Zn6FFCXjoPg4MEDo29+8xujp3+ys6W7++67mpNhY4F0M+zjVREr2koJs+x0AhQCukC/NOj6TU/k9qY3vak5B4DpH9cmiZb5kx8enekUkLcywN4Bef3Alwz+8z//s60aQN9mhxwNwD2dcECQv/KjX7XkgPBpQyAfLdfoC3lOZPzCqwMf0al78pLHmjVbR8/XSozH/uux0bf/5dttZcGHP/yRWrWwo+RLzzMN/J84caz4ODFaVXTGujgrc7zZ42HNmtWtXeAf/fbJw/k23Ji7zP+i39Q79aI3jhgyoRP15KSxEkP7jYzIYxgSH7o5SyMtOglDfSRumD5xiz0P8+Y3GQpxEC2WVk/XJdAl0CXQJbA8JNCdA8tDT9cklzFarknmOlNdAl0ClywBYAOoBAjN4AKzQKFr4M/ZOAD4uAbAgE8zvVnSLh8acSDILw9aZrbjUMAsekkH9KAHAAEkNpYTgBLXTzzxxOh///d/2zVA7BN7gPmVBi02xsOn+gDta8qh0oDUvDOggdbi+zRPQeLq2mcNvTogr1UHO2vG/6dP7xxt2bxlNDs72+rBD0Ee6nuoHAheUyCPzMYDmsA8sG6zQPJzrXzX0pI9+YinT44A8fTllQK0ORXQcN/s/5NPPtny0B3HAH1yFHDIoC2dAx3XyuBsQIcO8mxwzm/1bHKpOg1D7qPlAOZX1ZcFXtpdr1gUzz+sDRCfqQ0IV65cPXrw7Q+O3vb2X2z19+oAeZyyQqAJuRwD9Z6AzR2LTPPaKG9Md1WT85gHjoTmtRmysWS/ycYrJ1bfkCuZkyveyFa7ve+++0azpXObSXIEJUQ2OU/Kz7V7dKsPahf52oS6CgvlTRkXOtNzgrrQsTbJIaVdDPtv0vVzl0CXQJdAl8DylUB3Dixf3V0TnDM8HAywYbhUg2RIq//uEugSuLIS0H8DPAACADIgwRmA9Lk8YAcolibAnlPgjbUk/ud+7uca2AFgvQJgOTvgDpSiAfxbzm43fSAJ2ACigCf377///pYGH/YWAK4CgoFwzgJp/XY2G2sGdkmcA7DkcMXAQB3GvtVVr7V1FKttxYBVAy1UxBiGOtdYmXzz8gXmVjfQPCqny/HR8VpNMJQzPbRZ+gJjwN/KVcDzmhaHVNICbF4ZkB5N+opOxHPIRI/kRNaugVSAVB56cYgnbzoWT590BRBaRTAG22MHBV7Qzow4x0BWcOBb2XjM8yHgFp/ipfFbkAagPX7cs2S8p4QvO0h36NDYwbFjx12tvIpq+WRFM221SbiRI++xY4DzRpAG/dWrpzspWqLL/I9srMz4r//6r9G3v/3t1r7VGaAma3rTNzi63vOe97T9PHwaUp+KXFK3sDaMH8vmUPsyhb7jFQ1HVtBIK/8wJL+4yXvT0ilDcMYvXrUNfVc5eI1+h/n77y6BLoEugS6B5SmB7hxYnnq7ZrhmaDAAGYkxNMQxgITxTM25xsk1w/x1wMhiDb3roKq9CldIApNtKjOD+jSAAAxwBFh6/id/8icN3EsDCAENAKR9CT72sY+NPvWpT7Ul7Y888sjo61//+gjwkRYtIBTg/cAHPjD6xCc+MXr729/eHABAlHI++9nPttlvAJYj4Jvf/GYDTGa+OR6AVXSMP2atzWwDXIDvkoThMHYG5Y8/T7iyAKiVAPtq74Gby0ExU7O/NtKz5cC8d+CMc4F8jZWcCWRxtJwb9irYvn3b6EjVFXglG/JcX6Cc48TnENeuW9PGWWMt0I6GdJwvAJu6k4V3/cllbm7uzIy/32QPxKH7lre8pclYfq8fkBl5cuCQv9nsn//5nx/ZZ0A8Z4M00uJZGzC2qwvHDGCKTw4dDhppAiondZH25RxZqJOgDgcO7B/tfXlP+4yjTR3NpM9sWN8cTmk/x44dLYfFTMlgvLJkZfFiJcHp0xwF4xI5CqqI5lAh/JMnT1Q9TtTNoSLHaZfqP91o91/+8pebTD70oQ+1fRt8ulHb5/DSrv/1X/+1tWH642DxqkHklOcqHsnUIY4u6Yb8//mf/7ntD0GvH/3oR888d4d5U8ehXtCYlkbZKYuepdMPn649MR577LHW7jiMxGuLQnSZcvq5S6BLoEugS2B5SqA7B5an3q4a1zFYwgDjYOgYEM/YYFDkd/uxxP8mDZPJ6yUu/oqRnzTkGJPiYqCFkeu1/qlfP18ZCWhbwzaX/q/dmV0GCi2J/uAHPzh685vf3MDpX/3VXzXAmvfPjRHAJXABcL7rXe9qABIQ/dznPncGcAD80gG2xg8A01mcg9PBKgEz2UAqWgAWkIImAOzelQhAp1DiqZ3v1xagW1+8cZDMr7CoBKvqiwSjFWMnKblZTQCgAq1kQq6cGhwq6vr+979/dHfNxr5QYA8wA+L31T3pT56oz0CuWdnqZyl3ZocBSbpQbyDRWAzQA9ScJWalAfnZ2dlWBjBpJtvrGGb4ge3QyAoPeuIIiIMAj5wz6Nm7gOMHTXXCuzbAyWA5e/gKoBxL6ez/AFP1F1JPZXA4oed8+HAdtVrgtlrV8EvveEc5g940eu+vvK/o1xcSyhHz8st7Rxs33FS6X1uyqTGwaI3bqV+ALQU5j51Qhw/7ZOKKVleyWb3qrOlDh0sVvve9742+//3vt3r+6q/+6sjGmRwDZO745V/+5Xama7LdWa+WAPicA4A4ueJXHjKTjh7M4GsH5Ox3HDR0ajWPM/1Ir3/oq9LJS+ccSPJ7bkTu+p2vS+hjZCmvPAIelGWDSo4o+lKGPuue9pB+OxwvlkqunW6XQJdAl0CXwNJJ4OwTcunK6JSvcwnEGAhwcJ24y1H10HVmLDFwGMQMWEZxgHHSKfNyln856nC5aQBLDGkGPePMrB0jMOF6r3/q2c9LL4EA2WFJQJ3+BowCLgCNnewFKwqAB2A+6bRH7VS6Bx988MzrBkCq99h/VO+V69eAKVAS8IkeGvo7YAu4ANKAjTav/wMtljh7x16+KxIGgHJNvR+/adPGBozV+WjNfh85crjGpZpxrXQNqFYd6uX4MZAtXOy9eJsY+nRhe12g5PPmAlob63N9Tz75RO098NPR3vrs3saNBcoKFG6oM8eC5ftZ8g+MkynZ0gX50AfZkAXQDszZ9E5aYA4QJGNgH5gDEgM2jSVm7tG0FwSZAvtkarwR6BUQlde4i77fylMO/dCHEL4yLufsnjzGcvyoT8Z0be1E1dM97UDbuuf197Sy3vSmnyv+jlW9XmirC44ePVK82ZeCQMvhUuC/1mTUYcXAeHad7PfVlx921/4Fyty61bL7m0Zr1ma2u7I2Zv27fIG86JWDTJuwmuKtb31rkyn5xjlCzgA2EM5pQ7YcBAC8z1nSNx3QqecdeXEa/Pd//3dbsQPMo+9VEWnlp1t06ZPDQf+hEzL1zNDfZmdnm4ONk00+/ZAefKbUPTqnaxt+ai90SxdxMnDs6bPamLKk78+cy9d+OqUugS6BLoGrKYHuHLia0r/KZQ+NtcU+2JOOoRUDx29GBwOewcgIZYwk7eWqpnIYUWYuGCwMKMtYGU3KYgQJl7vcy8X/5aTDiGckfve73z1jlA9XcNwIMric8uy0FpbAQm0JIAAMzDADKfq+Pqj/B1AaY4wL2qZ326XNfXntTWDvAv0amAGogFzBGT0HGoIxx4EnNAXjwlKMN434Av+q+DPBK+0bNwHUt9S4VOC7Ng5cVeB/bcnD5no2zMvY5Lt5VYPmGDi4/8Do+ed2NRB86623jLbdXl8EKGKHa2zbs7sAX33Sb+PGmQZoby1wWfPgDcgBbUCiYOwzFgBtZMBxknGZ/CJLoD3jJPnTFfANWMpP/mRsNptcAUHOF3KW3jXagCs9KV86vNAj8Og8Geg/Bxn4rVz5AVpOAbzjAX+cDJwq+6vc9etnRrNF985yUvg05ObaqHH3S3tGx44eH734khUX+xoP69atH5dROim3dC0Y8DqHfQ5WtD0c9uzZ3eq3pUA2OW8p5wCHQrHSjqEuJ/l/LdfqSO7Avo0gtU/tnrOFfAWyEE9XwD9Q/uijjzaZcChYnRHwrd9YJUP+5EYH3/rWt9qKHeA+/SB0lc85If9XvvKV9qyUn460Ea8yWM3AKWC/Dw4eDj2An7ONI0n7oBevELhvdZDyBeXhm844HLQb7STtriXq/7oEugS6BLoElq0EunNg2aru4hlnNCTE4M858ec7D/MzbuR1MPa882jWAkiwPJahByBcqsEwLJMxxVCxuRPDhoOAActoicFyPv6vp3uMMrNC3lf1DvZszfaYXaKPyOxidHs9yabX5fJKQB+ebEuu9W/93EwoMKF/Ai9+OwAU7VQ8cArk6KehhS7Qqd3q12YhjSvSADHyu06Q3nXiMragL23afdJfkfP8kAq83nLL1nJuHKxxcFcDeeqwadPGqu+8M6Nksm59re4p4Gpvgh/+6Ie1C/+zrf6vv+fuBhxXlzPhaL1Pb1b8Zz99uu3GD0Tvev65BjCBQXW1Oz2QbnbZfUCNHIE7suSsJR9g1D0gHD9+A32ZcbbsnW7m5ubamb7oEy1APTJGx8ok+ThzlAtMApzGHzPj0wJd56AfzwhOTcDZtTLkBZCV4f4LL+xuDoA31yqTbXdsK75q1cSpsYMJwN9x146S86FyELwwsmGhzxuOvxBRHJRvYGXtQ7Cims2JEzV7Xw6Yl17a3eruKxDjOlWicdLibf5Hi7n0f9qm+tIR/dCNesYhpl+Qqbg8H12TrTT6z9BRhg69ecZJp63TEeeDfqJPObQLz0KrEN73vvc1/XtOxon+yU9+su3pIe8Xv/jFtg8C3Wd1gnLjSCIFvGlL9JJXd+Ik4mjgVHhHve7xC7/wC61NqI8jffvSJdkpdAl0CXQJdAlcLQl058AVlLyHp3C1HqApFx8xsPNAzz38iWOECAwSx0KBY4ARZPmhmQrGPoOBwYnmpdYZDbyEP3wzfDkHHOFzIf6u13hGvuWjDEkzPfRA1jkir+u1/r1eSycBbSfjg9/T2lLuAzWAREJATJx12mWcBWYYtdv0WW3VzLU0AKmDswENaQAj5QBHyjGmoJuAr4xN0qXtD+/n95KdxzizrRTYOLN+dM/r7qxXA9aN9uytWfG99U37chTgLbwWy+3LBvhZW++9v/51dzenwtYCyaPTJyvv+tHr775rtLJkc7wcBGbHD9dqBLIw3gFwQLR9BQA/QBvYR59szeQ7gHuz1UnHYUA+5IUGen6TeV7NCJ/ihnIWL4ydHZvaGZjED335TYf0pgwBP34Dlu7j1QEsOyvTe/XAOt1KmxURyvcc2XbH9qprLcGvWf5Vp6odFr/ry7mybdvYIfz8rgLf5fT40Y+eOtOm8llJrxVYOaCOm2pVh3Lkmyn5FqXGY07ji8vzX72ja+2VThziyIdc1VX7Jk+/HUMHAJ45YaRx6D/SCKGde/KRJeCuHQh0Qsb6JTpzc3PNiaNN4IFsyYNe6QNNOiB395UvDm3xroXUAV3p0Ej61EOaHroEugTOSkCfyNiqn/Q+clY2/de1K4HuHLiKumEsB9TlgSzOg91ZYBh4aHtIDw22y8H25EAVAyS0DWgOvDEUEobpGJlmpcwEMVTxyxgK7WHa5H8tZ3RyKDMGroHW4V4G4MS9lnKWSx7tg9zJgaGo7sLlkvdykUPnc+klMAQHxgH9S/vTD4X0S78Bh/TDjFnymLG0xNqSacvP5THOmbk0BnJwmUEGcqTXts1MAzrK8ht4VHbauvLwpv0Doc7CsA9IfyWCYtasWVUzrZtrFru+KlDH6Xp3/vjxV+q1ghPFW42lBVgBU4BXPW+rJe5WHNhPQNzqAsFra+XA1pu31Cv0vl3/TPXvI2123Jia2d3M7gOf5AOkmTUWbEDoyCousiZfTkT5yMNYLZC3vOQLWHq+AJBmotEWyDrypG86c8hnxQBHRXSFHp0rgy6Up9w4D9DTPvCs/lYdKJOzF7/06z467uEBwBc4Bup/0/eGDTNNXg2kvrhu9NKLL5UzZk8rr969KB5m6qhPS65d3/jD682114Ays9dAI7oE/9LetGHPbe0zcku/kIZMk5asjOMZy8kk/UAaNKKDXMtDb+KlT79DQzkOPJAhWgH5aHEYcCiQN93Rh7QOz+/w5RzHhHLcFxf67vXQJdAlsDgJDPv84nL0VF0CV08CfXS/grL3YM1D3sOdUWTWnRHl4e4+w8uSUQaVwPjybr33FRlNHu6XGpQjZLAKXzFOXOfBj0+HclN28qHBUJCPAeS3EPr5PS2+JVzkvyE9BhF+BEYRXmIQuWcmQ3wMmUUWsaySqbNjMSHphjJcTL6epkuABLSb9Htn45SQcUH7GvZv6XOtHxq/9EUzlDY988k2gMWy5MQBL/YOAWQtY0YDqLQsGijWr23ABvSiGfrSOfR/q2iA1eEseGP0Sv2rIXU8qo7qs3szBdZvL3A405wWh6sOx+bHSDJU3631CsLWquuq1eM6DNnUtcntzju3lYz2NADnWQHkAvqeEZ4Z6LgG5r0TbgwmK8vFAT+vaUhDRlZokJG8fluGPjc3154rdrcnW2A2ccAk3dIz/Tl7JnmVCS9WJHgmAfWeV+IBTbx4duDPygJlqXNWCgCmxmg80SNanBVWneHVBonopp2dlcvZ8U4+NO3xYA+Bo3Ozo53zeyGo/0031XL4LZtrH4hNra35HCSerECobFck4E871561Zc958lD3POsxIh0dcn6RJTnHqeAeOdHDcBwXp57kkPikEacdoCMN2nmupzzOAPqVls7wJG2e4aGVs3t+k2HoOjuSJrTx1kOXQJdAl0CXwPKWQHcOXGH95WHPMLYpkG9KM+Y8aBkDHsSMOjNhHryMxHe+850jn0FyHjoI3H+tD2P5GH0JyreLcTZQmp2dbctSlZ8ylCe4drhmeDDwGJ1oJG3oJr3zYvidTMOAmSyPESMwVhhUZiMZX4wx30o36+TeJK2Waco/6YRpvE9J/qqoS83/KoIXiCATstZW8EyP0WV4Sd1Tp8SHNBoxPhM3eU6e0Ji8v9B18rl/sXnludT8aPRwaRIY6kBb0+foErDQbvQ1s8wAPeAHbKQNGjMcgLw2CnzI51o//cY3vtHigUpg8j3veU/bpwSQ4gi1HB7YtJkap0AApfepORH0b7yIByjRseeJ/HgALvGoDo7X0gYvRXpVdO0tUKsH1tY77rX5na8S+IxhMVMdAiAc91eb4lU1XhXEmeFWTyAbqAfi9FlOFXX6n//5nzbuWZpv8zry5xAALN/97ne39PK7ls8zxcouQfo3v/nNTc7GSWCVPsnJCgJjuniyzBjBSQPcej7gIbPP6EtnDP63f/u3tgKEEwNNfFrR4JlFN9pB2oh24Rlo5Qi+tSHOHe1J2a8OY1SPx9CQhqysEpibu6eWy9/VREyuq0rGnAFeMxivPvDMejXVyxmjvmSNR3XVlj2PPKM4YDjG7MejfaqDdNJzjnzpS19qDhKv5NEPGXiukpE2oA+iLzjHaTbkP7JBW38l4/TVyFQacQ46ohdtx7U8nDnyOTiD6FxZ8kmnXtKKk1aarDzAV+o15Kv/7hLoEugS6BJYXhKY9hReXjVYRtzm4e5B6+DV94A1a8AQyAPdQ5uBxfiOwew341q+hOHvxL3WMyOF8fjVr361GZKMmg996ENtRooBjnfHsEx58MwxMJydSD3DizyTcbl3MWc0yCxGD2OFMWunZbOM5Cb80i/9UpuBSrlDnifLC1/O50s3mW/a9eWgMY3uZJxyGIsxRBlrQ97dd0yGybhcD/NO5unXN6YEtIkcxh3fZwdEAT0AwHjk02zuzc7ONuBgLABCAHhptE9t09gAVJjd9l13dKTlKJDW5w3RkxZwksb4Z2zUx5Xpvmug1DvT6HMiAFu+eKBcQBQ/10IYv+/O+XrWAXsxfEXGngtxvjpnczhjnX0EgLc4k43DgBp5AqQAv2t6yLMmOo38gTw0PWfcA0Tl9ZqHvOLQNfsdEA/Aeyagy2khHm9oSSfQBecE0M9RFADqHnr45tQxjmkP0tNx0mUMC7/yLRSkkc9h2BuOa3XrVSFDY7s15f6rMiwiYpLf8GTTPjKxcezXv/71JjP6IUNyIGsOMBMEVmNwlPlyAZlp03GgcKLoLztrhYQJBTYDnWbsl5ZO6YKzgR5dy//d73630cYjeXteajv0yyGDhvaGT04M/UmbMHkhLz6lkyaOQM9gtDkHlOOeOqfP+91Dl0CXQJdAl8DylEB3DlwlvTHuGL156NoBGjj3YAfMGQjuZaklQ4uB/VqCBzajwAOdAedhzlBgPDqGBjXjwhJTZeHBLBEeBA/8SSMoMwxZ6RCaDA7lCjFg2sUC/4Z0F0jSyg4oRpMM8a4+jB2GKsNrdna2gYxpdPA05GuYBg9Do0ZZw7jz1WOYbkjTb/fIyZkR5bczg05wHZ7i4Gg3FviHDt7UG0/oOGKchVb4dS19rodk0RKG9XadeL8vFEIfDfUaBvfQck/5guvERwaJJwtB2qRvEf3fFZVAZE9vdMQRANyL1+f0czOcAZGAWXRqxhTY1ObEAyr0Ctjb6ZxDQDsHOoDCzEZqF8CHFQLGHeBHUJYZagBU+a6dORKMTZlZlRfgSZhs04lfDme8q6c6kaW6kyEAR/7qT57Smc0nA7LkOAG2yR1wE++QR/roj1MVuDPeC9GDMgBW+skhnfEVPTTE+40XaY27wKznlaAMuhfUAS/iBM8JeRyeRZ5rDs/CyZBxYzL+gtfxi67w48qA1LS1nMMjwM/Zpa0//vjjbXUFZ45+QwfkQLba8cMPPzx617ve1XSoL83Wc4wTgFOAY0EaMmcr0GfGfLKNcwc9q0rIky71IStPbBjsnmurPOTBGwcbPdArmpwQytLf5FM+Rx09ui9eH6MbfOwsZwW+tB91p/fhsy1y6OcugS6BLoEugeUjge4cuIK6GhoOHuwezgwAxvG//Mu/jB555JE2C2Rp4Uc/+tEGdBkJjDF5PZAng7hhvHQpR7yHtZk7xhwjjoHA2BOfJbxmbDzQGeVeX2AoMAYcMepCEz+MDoZCgCAjh9HCCLRMmKGgfsoI/3jx2yGgm8M1mknreqGQ/O7jiTH8K7/yKy25GRFGNIMXPfTDd+gxjhz4IVd8ph5J46wcRjUAjoY09BSDbJg26Z2HZcqnHLwwDsmD3PDImGZUue+agSa9GSVlTfKNtrTi8YavGP1o0VXuRe6pl2tp6Qf/eEQDPYcgb47UIWnEp+ykST60tS/0lcdwdE4ZkbdyAxLEqa+8ZBA+1UnblDbtrzHX/11xCdBzgt/GhMn2Qp/0l7Tu06l+ok26L9A3vZr5j86NE4K+kbaUM90DIZNhMs71ZNxknuV8TR5kYXw2fqR/+K2PcCLrd0AnQGjWWXo6Mc7Y4wEQ5DwAHnOfDvQ/oBT4oytgFQjUlzmo6RAt+TwzzPTTM50a742x8tOtfQK8psBZ49rsM2ApjXHA8wAtQfzOApTKl0feoUMn+lJWxoXELeas2a5YdbbtTssjzVKE9IMhbfLyPKcTcqarRx99tMmZHjh/OFU++MEPtmev8V8gN6tiPKOs5vvyl7/caJCl9J57nCoCXXuW07fXcTwHOeG0H/ojR68MchCwAWZnZ0cPlyNCe3BfnD0o6MurIX/5l3/ZaGoP+ql7HIN0qA1yPCjziSeeaPfREKf++rOgffbQJdAl0CXQJbA8JdBH8Kuktxg/Htwe4nmoMpQYgwwJD1gP44A0Z/mkl89hJobRzUiU3sNcXsFD3ywFw4Dx6GEe4MwoAao5Azz8lctQ45RglAjSMBIZjIwB5SuHowEfysG339IxgNDBnxAe3Vc244VhiBZDkpFjFpHRgffka5kX+CcNeg4BD5Y8z5bBw8DCByCDZ4YqI8sRXjgxyMt9BrG0AMawbHVkZJlFiVFsJnOuNvBikMXQDR/kgp58jF5BGnRTN2f6sCqD8cyYYujJ9+///u9tdoi8vS/MSRNjKzpHM3UXR+6pHz7EuU+2Dr/RdkjnWlsiB/cZnX5zTAAD9MMYZHQyNBm1aGZ2y5lsGa/aiTIBPqtdGLzaIV3Iz+klnTKUbUmt/OLMQGuPDrKV9sEHH2y0bUr2ta99rS1rfeihh1rbSL2do3O/e7g6EpjUwfDab21K2xnGaxf6jzaoT+iPCX6LTxjmS9yNdiaPHPqQcRUAM4Ns7NWXjBVAO3l5XljlJa0+Rf7GIjO70hhbjSdmienCM0G/N1Ybf50BVeMA+mjkuYK2cpVpPHCIU77xU1kZ59xT1myNxeL1Z+OKMUhaND1/jDPGfs8AY8r1Hoz9nh2f+tSnRh/+8IebTjhljMfGUn3D2Eg39BA5ej5YdSAN3aCjHZC/8V+78Jv8PQPJk17phh69tqE/er5rH9JzLMljjEefvuiDowkfnv3y6pfaU+7HrqBXNgNngTYhj3LFa7OeLb0PX+8tutevS6BL4HqXQHcOXCUNe2h7iGYWxwPZA5+hFsDqAe3hLDAYpAHG5GFIOIBN7ysCvR7ywKV3Bj3YGYHf+ta32oyBGSTloc94iMHJsFCGe4wPZUqTcvOgB3oZG8rDA14ZF847C/BLh29GRAwEwBCAVLaVEQCha/HyAoCMVstg8buYECARvsgxgIOhyUhxJi8ywbO64EvZ3qM0kybYm8CsDjkKjFiGMMeAWRb1kkdZjCDGkADQCurO2JKGTMyKMazVnxHHkZDVGeLUWzrLNsmaDMThieHsmqHFGKTL6EVZAQvO6sawxC99oUUG+HStnTA+GebqQ3fhiazVxVl6DgtOGzNTZvLIDg/0oQzys9kb45SB6x3aGKucAvZ6oN+UAQS8973vbcaq9kBm2ifZoK39cLqgqx2TH8NYmyOb73znO60OwMMwqHd0Pozvvy8sgck+c+Ecr06xWBp0pE8OA4dRnF4AqvaaoL1qz0P9dj1HOuNZYX3beG3c0s/Ii4z1cf3GGArkG0OMRcZ98tR/jSMcBfJL52zc0O+NlcYoh75o3JDffasCjIN0IY++bHzSvz0/lEuPxgn8RGd5fhhfBDSML8Z+9dDX0TI+usan/PJdr4Gu8rwmZ+MvOXt+5FlMF+kH5OA32dINHRp7PQ/yjCM3MkPbGZ3I0zXHkPzSk7lXgIzb2oSy6M4zQXDWNtCQBl8COg7lSpOy6JYO0VKm+4I2IH0PXQJdAl0CXQLLWwLdOXCV9Och6mEaI44Bl4ctw8lD3X0PXoaCA5B67LHHmhHHYJDOZkaAN4OQIcGQMzPgAFSBXEsFGZU8/t7J92BHn/ffg56xICjfTBPDkaGABiOCsYC+GW70GHqMHIYEOu7hT3ogHD28M4DMkn/hC19oBqI4xiWjFqBkcADn8qknWUjjWChII0jDWBHwy5i1IoARxRCTjnPA5k1+qytgaskloIpH5TOcHAwp/AK85AnQui8v2ZGlMslcGcoG7MkLCKcX9BnodICeulreGVmSrzLUnSEuXjoyZnjTBWNL20g9WwUn/pE1+aOHpxiBfmsjQDZdcULgW0AXX4xE+tQG1MFME76BcjygHQOPXOn60VoGy8kgvfrgXXr0Gf7aQOS9sxwqgAMQSFbaNR5SZ44QfNOR+uJJmWSJf+3aPbIfBvd6uDoSSFt8rToAhoAPeh/29dTmtdJN/uvtPJSHvmis0qf0eX1FPzReGkuc9SEOS4DQ2AqQGxPiDNC39Cf9FB19DB1x+igHJh1z5InTv/Vj44IxgOPBeGGczOoD5Qryoe8cvvFsbDOu6fvoOMdRik6eOfiQN2PO9aZLdUsgH7ojG0f0mftkIL0jeqZHB50lDGmKS3o6iRzJ1zhKv/JqI34nb3QVmvIpJ3rNfWd5Uob04Slp8JqwEP3c7+cugS6BLoEugWtfAt05cBV15OEaoy0PYAYVICc+wYPbwQhjADpcM/QAUwAcKAX63AOS3Quot5STQWZJ9/ve977RbC37dD8PfuUoH1AEjgFCIN9rBwAcwAlUm11WFj4YmuErryrE+GRgoAecm1m2VJxh8oEPfKC9tgBY/sM//MMZ0MiwZXAI6i1vDI8WOeWfshlAjC1gmBMA35/4xCfOAH/GM/kwTKXhxDBjzeCVz6sWZMHJwbHCsOZsAfTR/shHPtIAPrqf+9znWt2lteKA/DgN0ONMIDd1CD2z48pkADKK1dFv+iUnM/GMcfc+/vGPt2WddMRojGzJQYgscu0co9qZngEv8coE2v/xH/+xgQQOCisBtCltw6ygunNwcAbQJQAvKF8cHtFFi67URXvQFhiawMej5TBQZ3R/67d+q8lLWvE7C1hoE/h2n5GKP3pwtumWdmjlCHoBJAxY8k1Zjan6l/rnup8vXgJpOxcrS/kuJs8wvd8O+h2CG/0g6dDWl4dl5N7F1/L6yUEekR/56JP6h3Ep/dV4Y6zQn43/xjVjgbHJPeN5nM76vSBen0Rb2gA744DxyJiNjvtx0kkvrfHUs4U+lYlHR8Zs9OUTcg8N/dkzAe94wmtAaNIO8zUC18k/8o2MyWkYyIhuBWlck4PfkccwvbjE55z7k32I3D3TPF+M29qJPOGH/lJ2aLiX54h70jjEp63QIT6F8BNdi9O3h9fieugS6BLoEugSWF4S6M6Bq6Sv4cOdAccw8wAGzhhjHsp5mA8f4uKkZaQJjEbg0gMZiHMPaGUcmLH7tV/7tUbPbLkZfDPi3kE0A+wwkxfjzoMdgENnZwE87ymaReIQ+OIXv9iWtZp5fvjhh9sMkllzQPrRAoQcCNngSj3wp6y8T8+wNfsMuIpH13JjM1Hqy2iNseEcA2SaetyLsUk2aKGNnzhJxDNmXasLoAv8qrO8lui6F3k5W2HhkN6ydmAaiCcPdWJoeWUDv2Ss7v/0T//U0nlnk/OFfPDPCPZda84DqyMYaHSCB7plZKn/pz/96TOfdyODGM1oRO+Ry1AW4uiL4UZ/8pK/b8Nb3UFGv/u7v9vqq0yy+OM//uOmS3Q4aswsqgc5yI8/RqS6kpe6cboox7uv6ocnzhCfuEKTXjlVAAozhHhRnvpJi6Y6MTqVgY69IeyrkBUs0aeyGbTSya+Ow3C+NjFM13+flYD2kbZEfpHpYmQprfwObTbt8Sz1V/8KXXkdrhMntTi0ElwnDNMl7kY+kwfZez4Yl/Ut/QLQF8/hSH5W5eiPHIvGFK/+6G8cs8C+Pi6PMVnfNjbpl+J21lhn7My4475+aByzykyZGVOlM84bFzl79V/PDzwNdWo85og1Hhgrva4kjTHWIZ7TUl9XrnqmrSwHfeM1/UKfcCzUdsW7P2znqWPq7Z4jdJyF5FmI9jBN8raM9Y9+PZM8r4zR2gZ64WeYd0g/ehTnCF/aQfInb/jLtXPy+d1Dl0CXQJdAl8DylEB3DlwlvQ0frMAXY86D1QxbDCasJZ17gnQMRcAMCLMRkfd5xTP2MgPEeGF8cQ44m+W1BBzoY+TZLArwZQQCvQw9ZcmPNlqMSKAPwJUPbwwOwNLslP0MGI7SMAjlyyoCgFEZ8jJOGJzAq4PByjhkuJgpZjgybvCc+g7Pqbs4fKmr9DGiIhd0yYYBy5hh6KoP41gZyrNDM/kCvYxc/DOaGa2cIH4zrBwcCGiJIyMgn0HOgBKXVRscNFYTMMrJyEoD9DgryJAxzEAOXfkDhOUxs+9eQuqe62lnadQvaf0mc2UpU13p3usUdKOu0Q8ZMd45LBLIHg2yUjfAAuDwm5OJU0V7Uy/1JjcydZBTQAj55Dve6hmj1ZmBSoacU8qmB2mi17QNsjDb6Ijuw2c/X5wEyI9uMy7oP+QepyC9kL907qUfuw/Y6UfuSYNO9JHz+biR5kLp3E8bPh+tG/Ee2eiTxiB9mvz1l/Qb/Ym+9En92Rijj+qv4ozp+jzngsOKH3mjR88d/dbzQB7jtKBPp//5nb1UjLvGLfpSLt6M/VnVID+e0TT2GUuMbQ5p5IkjEU35PQe0s2E78PtaD3jMcT5e078m2/jk9ZBG6k9PQq6HecQNr4f5/abn6HDy3jR6SYPfYVCG9Mnj3mS5SePeMJ3rHroEugS6BLoElp8EunPgCurMQzQP1vyO8ccwZwyIB7AZV1n6DywxChlzjDz3XTMGf+M3fqOdA/YYXwAdQ4zBB/xbjWAmfK6WkpsFZyRaPr+zZo2Afcu8gVRloyswSAFAxiVD00PfrBQajEBgEw1AWB3kA0AYiwxZ/AN77gGoeFA/vDNggU1AkQGTuin3fMaF/OTkkIeximcGLBCjbIYuvhnO0ktDfgHL73znO5sMOUYYqOpHZmQrr7Sz9aqBI44OjgE76nPEALWphzqSDQOXrBnO6Fp9AKTTAf7ISlqAK4a9tBwJ6m+mfBjOJwPp0MQv2fqtjgzxOEYY4nTFKURW3vP3Soj6pCx6U0dypE/5yUHbYKxbHYBvfAL79E7GylAXcgoQCWhQHp1ylKhXeGVwKld+sqIbOsN7AkBhlYnVGPjSHtGPLKTN7+Tp5wtLIDLTJ/KKTXRKR9GDdPqtMYET0aohq3rcpz/tTbsXXIfuQhwsdD96HN73e9gWFqJ5o8WTt/GeXowl+qj+qu/Rizj9229ji/FEPxPnntl9Y698xiN925hhxRDdJq3+q0/KryzXHAv6szR0b9xCN04lvzPO49MYor/6rS/LY8wwdqIhKBevHM3GFjzSvXLEJ6SN5PpaO+PZMQmkF+JT2mFQv9Rx8t4w3fD3Qv1jmD80h/kW83sh2sO8SbOYMoY8DWn0310CXQJdAl0Cy0MC3TlwhfTEaHIwmhweoMA0QwrIZrgBZ8Dm3/3d3zVjC8jjIPBuNvDJUGRQMdQYXmaGOQgYgRwC0jo7GIQCQMCIc8/7+HjgIHi0XgXw3r9vKAPx+LHUm+HJUASU5cMDgzLGIScEfi2ZB+TQMxuvPAfAbQYerwxZQNNMsTTqIA5NPOPJNWOUoeVwnYCnoaHhN4ApfWSh/IAV8hTPcPU74B4IAuwD7tWXoap+DFV8BQjhixzIilGr3gxXxq+z8pWpDkAWYwlgBqbty8Do9doEWXDISE/HymFwpw7yRtbqjI5j0uCMMSZffjvjgV4c6uosXvuhO7P5wDZ90BedWKUhLfn4vKAZPQY9x438vkoARAAJ9g/QjuQhH2ljwHOo+M3B86EPfajpUrl0nVlCOnKQoXrin26Uj/cc5OseXWirXjvBn03Q0hbUq4eLlwAZk63xhn70V22BPH2y1IojTiRpBO3YahGOJP2AIychbU5avx3JlzQ5uzctJH34cp24nKflm4xL+ZN9ZTLda7me5P1i+Hot5S2Uh4w4aOmEw1GfVl9jiLFDf+HgM4bSoTFb3zLWyKev6XuAt3i6Ny6hm7HYGOh5Yjx0NmYpw5iQPuuaQ1SfNKZYCWZcM2bou8oytu0sp5LVWBy0nkleQZotJ5+Q5x1ZomusVQf93SsReLXiKONLy1T/ztfGkuZaP6c9pR2Rv0MwviU+9Uj6nMX7nTyukydncQnSDvMmftp5Ml3oTZ6nlR16SbvQdeL7uUugS6BLoEtg+UigOweukK48RBlazowCBh8ABlQy2uIYAKgYYMAnY4mRDtwyxhiAgBpDDeBmgIljpAWYMQgZeYAxw/LRcgIw3BiVNhhEB9A1M2gG2txOhAAAQABJREFUmNHIyGSoWWUAGCoTHQFtBh3epWFIAsF4ZFyYVba5HCDpXXfGqfow9hiV8rhmpKLrzKBk7DIKGY4MXPF481sgJ/Rz9hsP6glwM2bVD6iVR151dC8yJr+Uq77SMErVn4GLR/VjPKu3WTHOD/UjZ/fF41O8MhlK8uMDbWVyCDzyyCNnjDj8AF6MbDzaHJBDBtgikxiF6q7sXKtjDDF1iBzaj3mZ+C2doK6McTIH/vDD8AbebbZI70AEmuriaxX05J7ZYY4APDHm6V49vAqiTdGRepCDVRfqi091NxuozXA4yG/1Cd2Qkzj8qBfwMTsPEMhZ29Z28ZO6Okdf2jwdkCkeerh0CaStoGRM0A7pR9ukW2dyF+jPPQ6ltPV2o/7RPR0L0d20NpryJs/SOrR5+o/OQ6MRXuS/lO+c/DlPklgofjLdtXatbsZxetBn1EPf0P/IkC7pSz8xRnEQGFPpz1il/xn/jBHGSLrTn9EVrz+iZWw3Ruj70s5WfzVGpU0oS159OQ4CY5px1HMJHWnldWhPAkcCfpQpL97xoR7yGqukx6vxipOAY1F68QlDHSfuspzjvxoPs4smOeRHO7Yix5hKNuSgXnl2Iqq+6kcv9EU+9JU0aZ/oLhTcyyF98kxLL1361zCd3+crYxqtheJCRznaxrCchfL0+C6BLoEugS6B5SOB7hy4grryEPUw9XAF5hhklnwzkNxjRDkzzhh9jDeA2sGgY3zY0A2QY9ib1Y0hxcgD4qwyEA/MKYdxxwmws4AiIwVAdi9ALcCUISoELOLTb0DNPbPpwKTf+GXcANiWf+OJ8YOmNMmrfGVbZp+NCRlPjFEGFVoMRbPE6qGsSUPDdYwRvOJJ3f1WNwYnYwsNfDCSyUIdgV5yc41XZ0EcEC0945vBxnjlcGH4WsVh9nS2DGWyj76kRZecvWbgDESLUx/GEl6Ua3YOTUDLzJp4hrSyGcF0S89kNQypa+Im5SGe7LUVdSY/h7LJVrnuA/naGP7VFYC3cgKf2pb05MEYJ3dfZuCsoht8kiu65GmVit94IX+OD7pDy2oDDiNtk/61MTpXPysL1JF80SAr8egP6+m3/JwOXkmgBzwNwzQ5DO/339MlELmlnekz2rE9SDiMtCNLz92nBzrUbuhXGxDnrF3QrUPb0W60Le1amxaAn+hen6BnQV66V3bGOGAKH0AsgIUmeu7jRXq0pNPXlacdpf2ET/VzKBtglk9+fQwt7da1Iw5T7VZ+97Vn50sJZOQQ8BKZKYMc1YEM1V/QP7V3MjLu4S16IgdBenogbzSkJ2c00CUreclF3tTTOOyZQvb6nnTykJ0gr0AGGSflx2PoRMapk/QZJ8hQXjpRBn7JHH/akXT4Uib9Kg9tOnYPbbw6Mo57nnAkSOv5RB/oTYYhP3h1jbZyxu117Hg6fdreDOW0qDJmSsYzM+MvOsgzDDR2bszw7rm/U3bOaKk756xVdMZ5fNuPh9zTJ+iR49/Yqp6c1MY37S785JwSleEQn7PfSZez9LmfvDkn/ZCWuGnX8iT9MP+030mr7g700r+Svp+7BLoEugS6BJa3BLpz4ArqLw9nD1XGFWMC6J4tEMqYYDgx4oB7QA9AiqHG4GKM2el9aEyiKUiHltkcRiejEE1AjoECoFuyrezklxcPQEKAqrIZ/BwQ4hlpjEhfRGAAMT4Z9PgEgrOfgPLUieHDCAT0GOgMYcabDe4crgU84U8aBqHr1KUlqH+5xq9ABmQF5Fp5wcASgF1A1Bl9cvP74YcfbiAev3hDh9HqNzm9//3vb7y5xj9nARkzeCy/tuIBPXGMT2dgmcykUX8y4pBh3KLNIQC0kw9ZR39kKM4ZAJYfaKerBPyJXyi455BnrsC2tsDxQH5kjq9f//VfbzwBf4AFfumSI0MgCzK0NwA6eJL/U5/6VHP0MP7l+/znP9/kpT04yIE+/Faua+3JMnSrQ+hSfQEFPGqL5KP9kIe8ZKhswMB1DnKjL+nJhP7UJUG688kl6fr5XAmQm+Cs7dIZXdMVPRsTtE99ULvUv6ShD7oC1vRLYNCKEHreWU5GQTvQ97UtY5W2y0nks6X0qP/rC8q2yojDDUC0ykgZgJLVK8CVWWZlWgnlkEc5ViK5jy9l6GfaErpAIZ7wqG1os+gZF+RXjv1FAkC1TTTTr9XJWGU1FQenMjLOoIeGMPzdIib+uY+2Q5APT8Y84J6zEW+u9T2BzPU7ctfu9RFjkLzokHkcLRlX1B9d8foPkIkm+cTZqhyy1PeNZ3RtLMejMuhEHmmM5WSonzkbP6TJGEkeeBLkd41vYy65kzNeBHpVDgess3zqqv7ScfLQd9qaNMYe5XnuSI8vjmVnbYFsIhNlRM7O5JQytGNleC4dOWKz2rETZv26da1uZGCs37hpY7W7szpuXoEaatFbTEi6lC8PXeH3G9/4RnOSGrcc6qXctAXt32o0/Qff7ql3AjqhK49ABnSRNplz8jgP25xrNCbpJB26oS0uIXHD+0M6SSdOGPIxLF/+4XXy9XOXQJdAl0CXwPKTQHcOXCGdDR/CDASgkgFk34A80D14GfE5pBOXB3cezLkesi4tA4/hKF3yMrYZdAxrsxcMeOUxShlpjFSGJ2OfoSg/OuJDi2Fo5hmtGA4MAeUAGoxWZwAUaFW2OgjyoWs2S9nSugeMMGCVw1ByFjctxDBBVzqzMwxa5eMVPXUBSgTX4VMd8C8wuMgOHQf5q0fSkgGjdbYArGXzjNsY9OSFT7JibDLwlCM9oxcvkTtZoC8AJ9K7J70zcC2Er3ZR/9JGcu2MN/HOQAPQBlyRHccPp4iyyM796EHd8M9QxV+CMskwPIcn+QGvGPPqjXeHe3iI/BjAD5fjha4Z9ABQ+ESfvt2TF5CTPzNl+I5shmf8cAyog/qpxzBMk83wfv99fgmQH51qi9oN+XLWeU9cvwGU037pMkEb8lqMz1oCoto/HXo9ARh3/ZnPfKa1J+Dnz/7sz0a//du/3a4DgAA3ZQGknFL6kvx//ud/3voA3tDBk/LcMxurvYkHPu2RoU9qd5xr2qDVMRwcQDHgi45xQRveWY4AfV/700elQ0db1DbjHAFatUPOLGPIZFhMuyM3B345x/QH9NVFexaPF2Ubb4yByiVP44i+oc/oO3gB9jlTvP5DF+Qlj3pw9jWwW7Q4DoypHISW5evL6BvH1EXflx9NclQ+QC+NsvBIJ9LSqX6HJjp0l3FDHciBfsiZjDlOlck5pO3gCU1yQF965XEgzdZ4SkfKkkc59KJMelS+duGeWXZ6UqZ6KDMyi5xThrTqD6BLt2GDz6aOZWic3Fdy1PbWlezxsGPHnVXuzU3FtbhgVFC6fp91BE3qfnitPukXOYsjKweeOQGyX4f6qSeZkAMdqqvDdYJ60on82ggdo6ev0luOlOk8/B06ztKSTXhFW7sRyAddgTzR1y4F+fCZ+2QnDv8C+aKDdp4bKaslqH9oahdoDO/h1T1BfA9dAjeiBPRJIecbUQa9zstLAt05cJX0xRBwMJAmQx7+4vPboHK+gcU9D1+HPDkYIgxKxgpjy4PevZTvzIh05MGOBmMi5TEc8Mk4kJfR4XA/xohz8oiXzplRxGnAKGI4M0ikRTNly+d6IeMhfJBHeEn9xAnSxLhxL4ZP4sUlnTg8DNMzYMTjhQHE2BWXfAwlsiSnGH34lWcYQjtx+HUMA5kkoD+kMfydNDkrT9nOjjiD0FCfnKVRN/IVL230Ff4YocOypCEzM6ocOdID9wC7ewy/6I6M4kjSphi3qYe0aJOh8pWBT7ILL+iIH5Yf/YeOtD1cHgkMZa39chwBeQHRNibVv7X39AltSBsAeLwS5B5HH8cCvQKvZuHNiAJ2nJ0ADsCZfq5cugZEAGFATho8GIeUbxUQuhwUaHBgAonagVl9QF77skKFw0CZ2pI8eAP+8JOvWwDm0nImALocGNL89V//dWt/nABevTHLrRz84A34Sdu7GKmnDZ84Ucvoi88XXxzv/3Gk6rx2XY2tG+eBVy1zT/snyyPVn/aX82DX8yWTQ4dHhw4fGd1Zejl58sRo1wsvjn74ox83vumFvABo/Ug/4XQgO32VvPGdvsnZoN9Kp07kIa84tOjG2KbO+MC//H7TtzyAvDFKudpDxgb3U050a1xQVvp65CGP3+rsXsZMPMujTPrBH33izXPK2EFfVidoI8YXzy58oIdP9edoyLNMXuV5lWDlyjrXcaLkeFPJa3/p92VOkHqFrwptfGzYUE6TkXrT9FlH2GL1jncBL+piPORwdfaqoDZMxto0vsgA7/I5O8hRPThXd5Yji6NDHTlxZsuRQRbkij4Z6W90yJGkHSibg4k8/Y7zlV71C7qi69xDV5xyyNdvOiFbdDmD6IFjAD/O+OSostJEHzSm6z+eCX7r1+EdzbQbvOu32mLqre6Rw2Ll3NN1CVxPEtAXeugSWC4S6M6BK6ypGAiK9TsPzeG1QWRyIJm8nsb2kHboeSAzWmIIiJ9GXzyDwb3wNUyHjpB7rhkvzuIS8nsYr3yAZFiHpEtc6DonLufQznlIW9wwb34n7eQZTfkdw5BrxhxZMYzxHbDEmGNoJbhGK/eH4GIhvpPXeTFpJtPLg6dhwG/qnDq4L616JEiT4F7y+O0QGJOMbs4BumUwMvAEbUP9lSG9egMQgEfyt4QT/5QTGeVW+BzmE5f4pOvnS5MA2UfGzjm0C84BM76WfFsWbQUKcKAdC/TvNwCiPWgLQBh9R/fo7SwgYaZfW9A+MiakXDyk77ivHTnEabtmlh9++OFWvrR///d/30CG8t773ve2cUN6YAuQAkKcgXvAHg0A0isEABBwBDyZTQdoADWvJ3zpS19qfAPT6u71G2OS+nF0qdNQXhcr+aPNAVJ7qRSwPlmOgtVr1o7Wl3OArNeuGzvrSgOjVasLLK5Y2WS7tvryrud2FUjcP1pZ9bhpc31K8IAvqNTGoFXHQ8X/7bePXxmKMw9YA9zUE7/q6gAg1ZcOOWP1JQAbeMSDcQNIF+gRSJSGDOQh48wmk6tyxAOB0hkblCkeYKWPjI/ipHMIaWd+49GBB2VpP2gpA5gEkF07jDXqon7aJQdIk1/ljfNBHTkVtDv8qYu2Nx47ahyrYU7561auOyMbctduni/nlDzbtm9rdKUr1i4qpI2M8473PNAGtVdtWT3InSzICH9j3savdMkvqKN+ZUWNtupa//Bbm6QPzjIOEPQ48Lwqg38yFIzV7qHJaae/Wr2jP+NPkF4/J2dtn7MMTXIlU4f+wMEH1NOtPqN96KMCXdC9PqKdqS8HAXrf+ta3Gs9x1KgrvUlvXx71Nyb00CVwo0pAX0x/vFFl0Ou9/CTQnQNXWGcZJDzQGQMewB6e4sUxCjyEky7nC7Epr0P6HMM8oe2eB7gH/GRQbnhiKDIgpJdXfPIm3vUwSBMexLtWH2d5hmVOyxtjBH8xqIbphrSH8X67l2N4L3H4ET+kLU5IGmdp8MmoGgZx4V86dRoG98RPBvSG/Lg/rOdk+ou5Rje84AcP6jdZ3jSa8tGN9KkXY90sEcPQzKzVHkBJwlB2fqOROi9U5rT4aXEpo58vnwSiGxTJ3KHtAREAsRl0xr7l/V4vAK5dJz2gAFwy9rUN9yzPD4ADZAAEgE37S9vLGR2/0961JW1N+XgDHMxamr2UDkBSnjRzNfMI9AfQcgbk1SjAQ1rpgDB1Qcv4xalnFjWvSeQVBXUBSK0o0MYD5gA4oBT/kRc55XcTxpR/uZ+2fOjwodHel/cWX0dbn5mZGb/OVFJvtMhA2uNHxvs4qO8dd2xrAHvv3pcLmNcM8Z7djbcnn3qyzUDfvKU+93rTGPzrq1ZeWKGwrpwN+ib5AMbqZWNQ+gnoIwe/lUtW0YFy3ZOW3M0Em/XmcKFnusQnPUhH1wJwSd9mxmdnZ1s+Y6RVGsYL8vNaUsYSeZRF13hH0z15HOEfXfkBXbPjdEmnHAkAJ2Aq/7Zqm/YRwJf05I+/9XWgPa6f59G4nXP9il9TMthx1462kgBw/0k5FdauXVfl17L/kqP0FxPUc/h8dq2O2p/+FMAOzGtjVrSoN114pvpNLvpTvmKjvlbQoGU1i5U69POxj32s1R3gt78LmXiNQ73QoC9Anv3AOaYdcBZ4tUEfAODp1n3OFK/h0KG+xBFArpwFdKgf45++rc7htBDEqYcyOTPwZZzQl9XV60Zkr7/hAT1thI7oh9OBroX0mXbR/3UJ3GAS0Id66BJYLhLozoGrpKk84D3kM2j4PTQ8LoY1NEJnWj60F+PBDz/OjoThg32hsibjh2WejzdlTJY3Lf20uPA3WbZ4cYyx8D4tTdK5J53z+YI0w3T5HdquJ8NkXOSavJPpL+ZaudpMaF2If7SlDU8MUoGcGKHeJWZkMkQBJ+BMGjxLM2xDqXMj0P9dsxKga+BYO3EAM3QHmNuEE8hg+AOf7gM6gAwwRffAHDAAaJjN1A7cM4MJ1AAQmbVPW0E/bVJeIBYQBBikASiyCkY618AgPoEWhyCtIA2etM3QcC3gWXpp8Grm/NOf/nSjL41VAp/97GfbDOlv/uZvjj760Y828CQPR4Ny1U1edVtMGPazAwcPjV54cffouXpFYF0Bz3UzG9p77idP1cwrOYzqPfzT43HldJ1X1PL3GmnaqwS1ZKDSz4yOHjs++v4TT7XNBJ997tnRynp3/u7X1VdZ6rz35X0NyG7YdFOTOf3ctGljq9/q4lf9yQTIpFtAn2zxqA+7D2S79ttMP93p2xwHgKv+Lo90QB+5SUsuAKE4cuIAACwzez07O9uAp9l89LUP9BLQmCbTPBvQwTsACjDTL5046Mc+E81BUJsEvLWA5uZKr8533n1X09eaks+pEu3pKptsBRLXFlatLBBdsl5V4Hh71e+5Wm6vDXLkbDlZm9dK2/K9esxuhKb8w7c8gnPGQ78Ba6/CkCmAbbWK+mnTabvaszqSFz0BzulD5K++nAPyz83NtX4lDf2gr3w0Up6+RW74EEdmfnMs6JccSPj53Oc+1xwraP7O7/xOo8sRBNT/7d/+bdOhPmo/HGf60HY++clPNocNHXAM+vQyB42VGOqlveGLI8JeINpH9oEwvsS5Rx/466FL4EaUQG/7N6LWl3edu3PgKupv2oDh4e9BuhRhWnnTypFu0qBbTN7JNK4n46aVJ26x6RbKn3jymwyLpb3YdDF0pqUXt1T6m6yX6/CQ87Q054uTzwGcMfqAPsYhYxTYcI/BGSN/Kdrna+X9fPXq985KQHukQ4Gs0z4Z9cCCJcl/8zd/014PADxyGAMANwfwb0PSd73rXY2GdqK9OLQX7QNdeYGROCCUKS0gIoiXVnvzW3r58KU89wApIE4aAe8ArdlNaQEO7dB9h7xAkrh8HhYAM5OpfuLxCNTa5R8YU4bZdmDMu+HaOnm8lnDk6LG234CzfQZWrKoxqMo8Vc6BgpKjrDFq0Kh4LS20Yo7X/RVV55NVp5f27hk99thjtdfAD0enqk537SjwW86Amdpkz4Z66ry5XjvwaT7h4KHDJZdx/fdUXisWzIiTBxkAmuqcOgFzADdZqDvQ6ndWhEgvjqwtawcGyZzu6AVd9ABV+cSL4whw0I2DLoBKbSa6bQzXv7S7XA/PAC0doO1wHRD6WM1i/+zZZxpfwKeZ73tmZ1u5rT2XgE+v0IYUMqYqPnJeUU6CDRvLYVN13FdAGqjFW8tbsg9f4zxDrs79nXY6jCWb5KMjjimyBv61LSsB0j/0AYd67ayZ/OwN4Lc+gz+OGPpz0EH0p1+kHGcHOeFJP3JOPfAE3HPUcO5YKaPOZArE6xNWaMhHT0A/nQP1dIqueCtL0EFD3dTJCiM8ahtocD6gb2WDPmcVjnzaiSOOovA+lF3/3SXQJdAl0CVwbUqgOweuTb10rq5hCcQwW8jgER9D7VqsRvh2zsFYZgACgYx0RqSZ1BidDEtGY8KwfqGXexd7RutSaVxsmTdSevIF+qKznOmTgW/pr53xGflACeNeALjNUgONAA7Ql5lhAAFABBictRltBIhxD7ABggCQACFtDDBNW3JPoHuARnn4wYeZajOrwAZgY0m0eGkAEmf1QANdYEZ5ZjYfeeSRBl7EqzceBXxaJQG0Kc+72dIDbOoWENcSL/IfLHq8ANXJk4VQ4dECopwBJwulNqeAuLZOwO26aNfiKlRmew0cqzq8VDL7fr1OQG5bStZtn4Lat4BjYN36dZWuluifOD46sL/2A6h6Hztejoi6bxZ890u7q+57q05j0E4O+vLc3FzrwwBf9EFmHH/qSq55vx0ABE4FZ44EeiPz2dnZJvM4D9BHEy1p/SZDS8npw9hBj/SadOim3eUsbhjE05k2pN1ZqYDurqJrVZONBt0zRpHbCuMRBVQ5K8o5UAU0+Tb6FefWqVpxcPqEV65q1YwxrPKlzSj7Used5E8bVm8OKH3gC1/4QnMOaMPafQ71IkMOMIGMLMdXN31SOk4BOkTXNV2Fb3Hk5No9+SPn8IFW0mn30gHqALv+Jzi71ha0Dw4K5aCFD/fREPSX5MO/fqUdcbRxFHidgSPEagEOEmOKeuunPXQJdAl0CXQJLC8JdOfANaivPJCvQdZueJaim5wJZJqxO7x/rQoNj+GTMen9Y0YpwzOzqXiPoZl6JE+unafJYHj/Qr8Xk3/I74Xo9ftnJUC2cQ74Tb/ODgDEjPqHP/zhBhCAQca+oC0AFDYsEw9MAyQAgE3+fD3A7KfZ3NkCkIAGxwJQ6T6wASSZofc+OVCnLQEMDmUHgAAjAD5awLuvILgHfODdMmvx73//+xv4Upb2APRkpQL+ADKbGuIT716T8dusKPACZHIIALr4B8q8h805gHeOh8UG4HMMQEuWMFRtNCjUVTkGxnHucwiIG8MsEfOhIsRZH3G8dHKk9h0Ahr1bbzWB9+Xl31tA3X4Ep8oBYQf+TeW0c8NO/C+99GIDmgWVS55mnscbNtKdA3gH+MgfeA/ow4GZXnKhW/WPMxD4k4fuOIu0E7IWJ5Cra/F0A0ziW7tBD9AMMEy7axmn/EMj7RFNuqR3usAHYIvP47Uywm8bPzanSzlhOGIqe4X6TQF1cbqcAadanH91fbLoHz9RqzC8UuNLBuVkqVc4lCkoP/VrEYv4J72AX/KMLEKHc0S7tR+ANkv27pGTNk8vZC2va/1Ju3NNX/qINmuPDXzSG/kGuKPlvjjyQjdyBuJDw29p9RG6caARXiarKj76VCd6wJMQGu6jq//a1+AjH/lI24jRa0n6lv5kLwX7GKCXV47QUBd0HT10CXQJdAl0CVy7EujOgWtXN52zLoElkQCjLQfDktHG4LOEFOhiEAJP4mL4Thp0w2u0htdLwnQRvRJlLBXvV5MuPZrZB/Kd6RkAid6Acq8MeB8fIDBLDwBqB0DL7//+7zewDuRYPkwPaNqd3TvKNkkz0yt8/OMfH+2cn3E2K42O+95tBoSkQxc4mpubO2e2Xjs046hNApfyf/WrX210lemVBl8wQA+fzngHUtQnQAyYFGyqZkNCQCrABNDirEAPsMIfQJvZUPnSN6SJjMRPC2AOWeBnzdp8vWVMQ/rqaQVdzwVE1V1aWFng9kStBgC4APv77rt/tLH2KwD8xR0p8Ldi682jO7bdMZqdmy1eRqN1VQ7nwfri+7mSD0fBLQWkb7/1tuJjRQPmgBuAODs723QdUG+mV6ADbUEagFv9xWkbdOOaPOnA7HZAIlBrhQHdiRPIkJzI+C1veUtztNCf2WjlJR05TguRLxkqGz1AFA2Hsnzi8eZbto7eXe/Qz1absUmj8vC4slYTFEQfrxAovD/ed4DUS+7lMEDfiotj5RCgBxsYztSnDJUn4N1xKUF+7YssnclR2+Zw034BZq9vkAmZa3PkggeOBADaagN00LC6hXNMm6RLbVx7cJCJOvlNBq6V6RDIEF0Hes4cLcZz9DgIpBXPucC5Z2UNmvjGX0JooBNa7tOJsh9//PHm+ECbM8RrPMYOTjeOOAeHM8cTWtF16Pdzl8CNIgH9p4cugeUkge4cWE7a6rxeVxK4mg+MGHwEGj4YfQEIw/ilFnrKX+pybjT6gILAMAf+fIECIAAWABSB7AEVy6FtKCadJf2AHqNfewDYAUMrDMwyA9/iOQ68/83ZoO0Aax/4wAdaGrPOgB5w4z7HgLIABSABsJeegwGtAAeAFNAAQneWkwGYkU/5wKZ8+AKOgJFhfkDEtXxAjM3h8GgJt03XOL6sTOCoIAcznRwQ0gBp+EhIm8w58TkPoe66kuXM+vr0aZ3HIO2ss+xUTWOP1QBgAa+OfPml9ldoAM835zkH3jjaWnV7ud7dB/rGM723jE6Pp8KLznhvhZvtPbB+bVs5sLVAcwPtpb+DBw+Ubo+1Zd3kTSeANp7oYLacBQLdCMAqeQN65O9MX+SgPYgDagE+8sJPXjtCW/tCP7pThraVd+npF33tS5qFgnvqG6eAdsOhoQ70ubF0v/nmLU33x0vvBw4dHB08cLB0vL7aUO09Ua8N0NPJtmqgyiHo+WClgDr5GoQ6KGem6OoTwvn4midxzil1FUmueBWUj34cMeTAmcXRYmUKoKw+ZOyszZGl/FZakDN56nscWmSIV+0Y//Loe5mR50SwlF/7pf84C/Ckb6fdqqf7dGMvBLrkHONQUzaHn/bgeq4cGsK4DY8dDaEj3m/3Mq7gOV8v8SlUB17xnHzkNZTxUH5o9tAl0CXQJdAlcO1JoDsHrj2ddI6ucQnE8LnG2VyQvfDvHCM5cTINjTnx0+4N44a/J/MvyES/seQSiF7oGOCzOmAYYrgnHYDsmAzABcMf+AZ+zEACCegGvPgNBHIkOBYKAR6cBGgOAz4AG04Ahy8pTIbwrDzODnnQBI4scQbQvC8v/g//8A/brCxA9LWvfa3tl/B7v/d7oz/4gz9odfjTP/3T9oqBfBwSALEQeUyWPe0aDG0ysOFdAbgDBaDNUnslYGW9ZnDydL00YMl7eyde6vFKAvfWFHg+dGg88zszs74cJ7eN7q6NCJ8pEPjTp386OlBgnyPGqoL2fnplP3l7LeuuvAcOrqi4/Q2obd48dq5wDpDL7Ox4sz6g04E/euXcUTegELADOB0CECsvMJ9Zf0CPLDlX3EcL6EUP8A9oBXjRFadsIYAXPTPfaA+Bod/0Ji9+tCllcUC4FvBhaf27q7ztBW7tqfBkAee9tVTfJow3Vb21F/sK1DaG5UTxugzwajXBONhjYGM5bn62d/51mUpj9UD4GfI0n+WCp2EeDg2OEnJRf+1QnL5AFjb7BOqtWCFrdSY3TiptzqqCfAEAT/bZIOvIjSNMu6Q/jgCf4kRL4ETQ3r2WALCjjQfp6YhOxCvPPgBWCHCIff7zn29OOveV5b6+7VUyPLjW5+ktQTya5O1QF/fpjJOCU4OTQRlxWGhv6MSZEFrkJyi/hy6BLoEugS6Ba08Cq/5fhWuPrc5Rl0CXwFJLIEbuQkaa+Ml70+Iulc/JMi6VXs9/8RJYSAfaSECcmUwBMAAgHAAD4LBQfukDBvxOSPrhPb8Xc4SGc9KjB4RwOgBewBnngZUQgOpf/MVfNOBkJprTwX15ACsrDKxUAKxCM/y1iAX+nZkLLzo2JQTUbCx4osDhyorbUODJZ/dAoFbPAm9msq0w8MlDn9o7UAAfmJxZNzO6p5b6A4F4JutD9YnEdbVCwDL6m+v1AjReKVD/9NM7R9//3+/XyoH9bVPC9QV+OSXc3759W5tt99trFpaoA69WXATAqjsA7uB84HgA6AROGatBOJPoVVqz1JGHOnIWaBOAH6BI7srDszxAo2uz39JJo62EhnLEcwSYVee82VmrPfAB2M7VDDYwazYbSL614uRfXzI7efLE6NCRw6MX6rORG6pe4q26ODkvW+W3UEL3agGeDh8eL9Vv8rlj22jHnTvq1YyaXW97Fpxd5THOeP7/6pBDSvTJyMy8dtc2Syx5cBJEFmTpPh14fUCbs4pFHfHPMWJlAdDvmtPM3hrSa8/ag4PMAHDOBjLWVh588MHWztFSP84W5YnHS/onJ4My0QfglUWvZO1Tn+94xzvaagZ9W52UC9xb4UB/0R1dK8vGpF5N0abco2uvQuBPufoU5wcd4kGI3HJukf1fl0CXQJdAl8A1J4G+cuCaU0lnqEvgykggBh+jsocbUwJpAwvVfvI+wANEZzZw8v40OtKkjU2mH96blncyblp6caGLN+DEd94BNN+MN1sKTAFVX/nKVxpQs+QbuAHU8poCkD4EQpNlT1430F+RlvtvqvfYbysQu+/lV0Yvv/JyOQhqL4ECaptv2twAmf0IisvmCDhenzw8XMD/SIHc/fsPtH0Ebinwv/3WW1r5q6s/Hq39B9atXlObENbeAwfrs4UbNo22FK11tbcAMMlxMP5KwZ5yEKxp9B544P4G2MkAiBcCDumLjABZIJFjwGaDZqoBSvUGQIHDyFge6QFEwNSnCl2TqxlnIJIjgWyllSZlAqiAIweAVQrS4AUN1xwBeNQuAFZgVB6rBTgz8JMVCcXQ6AQQXvW6/bZy/tTvI4fHy/GPlSzvKADqyw2+6EDG0ltd4YsO5LS/dOK1j02bNpYT6Paqo1l1Kw0ubtxLG8tZXyBLM+7qrr54Jx8H+aiTlTTamfpwdogjR3W2sgDQ5nAhC/KnB6Bau5SOTDi60DBTr52iEf2QbVYLkCV+tO3oEp/ukym6+OEYQFu8/qIs97UdrxTRjfvilKMM5dvzQ9nqij5HhjrpT+ogHUebcpKmNYr6F7nlup+7BLoEugS6BK5NCXTnwLWpl85Vl8CSS2AhYy1AbskZ6AVcVQnQ/2J0DRwAGM75fTkZX6gdTisDv0mfc9K5B9AAVwCV96nNTHtPGzADSM1Q21kdqJmdnW2AFdgygw7gyT9JN/SH5zgGwEu/bRC4tcrcXqCIUwD4emXvy6Njtcs+wOiVA6sJ7LaPF2mcAdq2qaDZ8QJWwk2Vfvb1r2vpX3x+V73K4TWAvXXndK0wGO92b0n9wXr3/vChw+3zhgeqbttr40KgXV0ANTIA4IBycWb6s1wc6OMgMIuszlnGThbixUXnQB7ZeaUkjiFp8sqCWfEsHweI5VNn8eRvVplDAKjkLODcUHc80BX6zoDtNNmTb8LGSnPntu2jVw7sr6XsP2uvF5wqvVuJ4dOGLW3989qG/Rys4qhGPrrj9juqjPok56ZaEVFfLUi7n1Zeypp2HqbXF5puS77i1UfwO+nIkRMAYCab3FO+9Bwv5MSZIGiD0kTO+U0/jgT5yTA00aJnOhf8xp+AhvscAWRtxYH8w77s2iGtctDFCz4EZ7TRDW9xiKBrRY72QffuO/fQJdAl0CXQJbA8JdCdA8tTb53rLoHLJgEGocA4FHLtd+Im410vFIb5F0rT468NCSxGV9IEJFws18P2My1vyr9QuuRN+lwPz+4BMEAmEBogDBgDva7NkgJj0gXMKRs4A5aAosXWVa9x6DarquyNtW/AnXdub3R21+ZvrxSgbu9h12+OAfQBWK8WrF6zupa2rx9tqc0FATa8nao0J04UuC5wdcet9Q67d+frHXrgGp0DtcoAsJ6pLxqsqVUFd9QS+ePzYH5t5Xll3yttB3mg0Uzw+IsE69vnDp+vZfgcBWZ2gTrOC3UmA3HuiTezL69r98jUGQiWDm1gV36OBQ4YQNAhD5rkKY90XlewcgP/cQSgDywDxkM90CX5y08HgHXCEGwq54Fawo+3557dVXy81Pg6dWr82gvHgFcKWnsoh8QbZu+tPQu21+qO2jSzZEpfpbV50uOxL+Vc6IzmsK2m7sN8+MZ/gLt78iWOjFzn0C7kcU0H8g3zKs+9YXBNxsMQOsO48Jr8ztPat3TKFtQpacTJEzruuQ6f4UG8fjeN1yE//XeXQJdAl0CXwLUvgRU1mOcpee1z2znsEugSWHIJdANvyUXcC1hCCWi/AViWR9ss7Y/+6I8a6PEuts8v5l1oaTkOBODKEWC0WBazOt2+gycKTJ0q8HeqQL6Z6921pH1vrSA4WGAaeAVsNxS4X1+OBM4BM7E2IxTvU4S+bgAGmnc9XrvwW/r/TDkH9pejAai2p0Fb0l9lzM3dO7qplsp7reC2224dHa3Z/J9YGVGb3KF77xvuLfC9pS1FLzxXy8Jf19IdqFl3y9OVySlhF3srDYBWAA9gn5ubawCeDMiIg8VKAc4AS+kBf2XYFI+jAB3LzoF+dMhdvHfpvbrAWSOf5eecM0AlkOkMWCYoaxikSRjesQmhVwoOVBl7Szb2IDhUewsAravKAcCJgadtxScnBKcAp8yY3hgE+z2kn3KG58n7k9fDtJO/1WUy/bB+7l3oepLmUl6Hl0me4zQQH2dB0uS8lHx12l0CXQJdAl0CV1YCfeXAlZV3L61LoEugS6BLYAklALAA+EAn8AnEfuYzn2nAH6i1eiDgFBvSOQKOcl4s8Gnwtf45ry4AWp8qGJ1eXbPfdV6xqt4ZL5B64kR9LrCAvxUD3p1fXTP/q2t5+3glAeA6BsE2ycuk9to1q0a3FaC2bB7g5fDIjO3u3XuqvBWjN9z7htGON9SnJGtW3Ay6vD7VaGm4TwAeLvBs9t7y/qfrCwiAuVcfNm+5qQF5DgcgGpi2EsDyf7PYrpXFWUIOVg1k5l8a8uMMsOcA2hwMnAecLoJ88tjg0OsE8nAQoEXWHBOcMupE3uKmhaaLypOQX/YU8ElCvPr6wKaNm9oeA825QoQnT7WNHzk71pUeyGVA5lWgPfQv53la+5mMu9D15eTnQrQmeUn6YbzfOXK/n7sEugS6BLoEri8JdOfA9aXPXpsugS6BLoEugZIAEANcAqKTn0UU34BnpQsAnhSa+0NgNHk/10PQ6S1vM9zj1QT1xYLa/G7zhtpvYB78J8+0s/lsXzxMkGXz5k0N1VqJYBUB0GvFwZpyMrxUYH7rlptHR+7aUfsEHG37EszUxogAe95jf/HFFyp+/LrBs/XlAq8NkAfnQOrtnXHOBOCdI4FjxUoBrztIKwDvXi0A/turElU24O0a+PfqAyeBe5wxVgnY1d595XAO+CqB++hzGojPrHR4Sd3POdMVUHpO5FjOPlXYXosoBwEnStMpR4Cj0ufwo+U/+29Rup0o8oa8TB9If8j1DSmMXukugS6BLoEbQAL9U4Y3gJJ7FbsELkYC3fi7GGn1tNeqBIAZ4HN4ZPZdXAOS88xr88MjdbqovjAApPYgcKyuVwUajbpX7NTvUJ5yLu+A29LEl8Cp4HOIq1euGf20Zv4BeHS33rz1zMz7odqUcG9tWAi8+/zcPa+/p4F5DgSbHd5cIJ9T4EDtV2DJv3TqTxZAuWtA34ZyXsHw2oK4bBIYTtXDTL1XEIB9ryZwGnAkeI1AfmfB6gyvcHAU5OAUsBmkOnAooB/5TjoHEp+yCWVSdCXOEYeKc5PtGQ9Aya/irMLwVYK2LR+hNhri/JykVhmmhGG64e8pSa/7KPW/0WVw3Su5V7BLoEugS6Ak0J0DvRl0CXQJdAl0CVx3EgiYATwdWboeYJz7Kh5wGvAzvPdaBAOsCmcw6BibjiMX+C/tq/I1GoDsitHuPbvb+/vP1AoA+wI88MD9NbO/buTaZxrvvntHW+q/ub5kgP99r+xr93bWPgReO7A6wGsKXmWwz8HBgwfafY4DzgDA3z4BVgHIL04evzlSOBMcWSXAkSDeKoDZ2dm2AaKd8NGJQ8YrC67J1wy/szycCFYleD2B00D6yNxZyHX9aNfcAJwBVgiUa6dWE5BKbfRYcc2Z0pK1yIob53F//Eva+XDmRyLOfz7Dx/mT9btdAl0CXQJdAl0C14UE+msF14UaeyW6BLoEugS6BCYlEKCZ+DgBnHO4d1kAINBZToHCrmeC32ew7ZnYhX8Et8qXvL5gcKjAtHuA9Mraf+DY8WP1asCW9mWD9bXE36z9ieMnRkcq3ZHDR9r1z8ppYIbfzP3rXnd3K/Tl2hzRpoXiNm4cfzrQzL9XAqwqANIF+wfYSNDrCdL6SgJaPmnoM4YcBwKHCweAvRziQOC4sAcBJwJ6VhHkCwi+oMAh4PUCr0lwJlhBQBcLhXmxNnmUS6A5BqQVPz7KeTH/W8SK8hpE5u5LNT77PVCOyx66BLoEugS6BLoEugTOkUB3Dpwjjn7RJdAl0CXQJXA9SyAOAsA2qwkuW32B0yI2dBCcRa4XKGXgSJD/1ElAtmbZazYf2Dbb7ksHW2/Z2pwZgLpPGr6uNga8q/YdMEP/fL0S4PUBO/nvq08bri1gb+PA22+/reWxX8EL5UxYtWpl25AQqLfqwOoDTgIOAs4A4N0qAcv/fYGAQ8BrBNK4np2dbZsWRpZqJp/gFQWrAvDHQYAmWhwKHAccBpwZyuRYkNY5jolGZMq/sTTOyjYOAEndE5oTgA4Skbh2d/xvcGsQ2392CXQJdAl0CXQJdAmQQH+toLeDLoEugS6BLoEbRgJmuK0UGALby1p54NRRRBuA9WOxoWUa5zWJf7g2GtyzZ+/o2WeebaDeDv/raubd7vxP//Tp5hx4y8+/efT2t7+1nAknRz946qnRN775zUr7Qlvu79WD7dvvqBUHHCHj2fljx46Xs+HFVn/OAa8OOHMEAOhWCJjVH3/h4On2qgFZcQr4EoIND/3mWOFEIE+OCQA/AeBH1/4E2ccAfQ4EB3rKUR+rIbL/wORKj9BrgH5ejmdWeZzxDoxXDiRtzhF7zom/2POZ8i42Y0/fJdAl0CXQJdAlsAwlsPBavmVYmc5yl0CXQJdAl0CXwPkkELC3EBA9X96LuneRqLQB4ExrV95Vq1fUrPvx2sDvwOil3S81EL65APatBcw3b9ncwPmRo0dGB+r+8WMn6lWD4409M/dm6Ns7/rUhX7t39HjN3teXDgq027Bw/fqZBux//OMfN7rAOseAWX5577vvvraHgNUKVhZk5QIw7zOHAL6vHEhrRYHPILrHURDnizQcCVYuiPve977X6CjHawb33ntvW5HAEfHcc8+1ss8n37Z/QPO6lHDqHPFGZMO8Z5INI/vvLoEugS6BLoEugS6BC0qgrxy4oIh6gi6BLoEugS6B60ECk46BJXcQnE9oUG0QrnR13SbDKw6YPl57COzZvWe0q97/3/1SfSKwNh/cUBsLejVA2FhOgHX12/4D+/btb18BWLtu7ejO7XeO7rj9jjY7b/n+yQL8Xi/w9YJV5QRYVTP1Zu19NcBBBgC+1wAAfIDfXgMAPOcAMM/RAOx7vcCmheKykaBXDZJGusiUw0Ge8T4JK9urBPJzLlhpoBy/lSk+mxNakRAaraL1Lw6AnBPvfNZNcDaWWJto5+Xb5Hr29kX9Uo8eugS6BLoEugS6BG4UCfQ9B24UTfd6dgl0CXQJdAm8CnhedpHMI1inBkonry9UYKXnHDhy+FjN7u9pS/NPnqy9AOp1AgB6Zb0esOLUivbZwrbB4E9+3D4R+LrX3dVm/OdmZ+t1hCMjqwLMyO8v0L92LZA+3mMhM//2AbDxIAeB/QCsOMgeA1vnP3+Ij521gaGzdNl7wAaFt9aXDwBnYJ7DwOsDnAFocQgI7ueVBa8OPPHEE80xwekwNzc3mi1e8/UDDgO0nIfOgXnxlYMgv4pw8SM0+Y5/tf/5N0jZcoH30p72iYMhnWQYnIdlD6L7zy6BLoEugS6BLoEbQgLdOXBDqLlXskugS6BLoEvgSkgAbj11qnbVrx+rV49nnU/X/gHivCoAmwKv50xIixMpwK8VxoD8wOiV9m7+eIZ91arVoy0btzRgfapeE7AXwTO16Z+vFNx33xvq3f0to5kN60frZ9bV/gAPjHbtGn914KmnnhzdVcv7gX4z/c8++0wD/V4XAN4feuih9gpAvhwA1APJ999/fwPvHAlm+t/5zne2VQK7du0a/eAHP2jOAmk5DXzdwAoCoN8rB6GBDscDx4HXFjgRdpbDwaoGXy/wqkO+YCAfHgS0Ek63bxWeEc05zoOxuHzFYF5wlSmilJ8/oEQ/vtuS+NDhUODjUhZyCtDDQvfGOfv/LoEugS6BhSVgDDlf6OPL+aTT710NCfTXCq6G1HuZXQJdAl0CXQLXrQQYe/W6fwHkQqMNhxZ4LbC7qq6bISh63mFACOLYj/LAr14peKaA/7M182+5v1cDzKjfUl8quGXrLW33///72f/VJw4PteX/dxTAn9kw01YImLkfz8KvrjJqBULtS+C1BI4E+wfse2VfA/rbt28bbdu2rQFzqwC8RmDlAFAfYA+0cwzg3Vm8jQelDZC3EmHv3r1tPwGrC6TJKoC8UqB+4tGTn7PAagMrCARxnBYcBgxp9BPaioHKn+DX8DgbfzbN2bj5X/MZkqK0kCRnzk0vZ67O/XG+e+em7FddAl0CXQIXJ4E+vlycvHrqpZdAXzmw9DLuJXQJdAl0CXQJ3CASaDgW9iywf6w2CmT4tb8C/pk/4ghwmNFe6fcAq54oEL7/wMH2qT9fAzhaXywAsm0iuK5m2b1i8MwzL4wOFri2UmBbfRVAGXv27hkdOnho9MILLxa43tw+Z7i3Vh2IO1F5XqlPGwLyNjW8c8f29nlDgD8z/l4VMGsP2DdHRi3xB9LvueeeNuNvlYFZf/sK2GTQ1wiGewVYAeDrBOgB/RwPViVYcWDVAOcAp4B0nBB4Vj80pOE4aI6Q4kkacXghuxLRGTjvt8CJkKOtMiDHirfewHll0V9Z3havYVRh5+Qffuqwkp43dMP9vOLpN7sEugS6BLoErjMJ9JUD15lCe3W6BLoEugS6BK6SBOaRq9luS+j37ztYgPxkXVmafqqcBSdrFUBdV7rmNCinABCb4OeRcga88PxLo+/X+/kvvPBCWzWwpUD7XTvuqnfyV9bmgfvaLD3wPXfv7Gh29vWjW27d2soDru0jcOTw0drIcFdzMAD1XicAtoFuQXrA3yoDwDqbCgLvQHqWwdoDwH1g30y/g6NCuoB+Kwh27NjRNjF03ysH9jrgbBDQkEd90XIG+jkI8GvVgTN6Vg7gRV738WIDxQb2C96PIf74jBanRzY0PHy4Nkus40jROFJnn2w8VcszVq9eUzIey7sxNK+j5iA4K/rGV7s/+NcdAwNh9J9dAl0CSyKBPs4siVg70UuQQF85cAnC61m7BLoEugS6BLoEzkigwObJk6dHhw8daRvv+cTfwZq5P15fFDBL79hUoNdrAHfddddozdo13AamwWuGu0Bv/TxRs/sHDuyvLxXsHtlXwOy7TwICw74ysLLA9kMPvaM+abi1wP2GM0Wj7dWBx7/3eFvy/8ADD4weuP+B0cZNG9uXDVatXtWA949+9OPRk08+2Wbt3/jGN7YZfq8DAOheOxBnpp/BykkApHvtIMv+8QD8A/i+apDXBTgg3va2tzUHBHDPeQG4P/XUU805YKXB9u3b2ysE2XjQCgRBub6YoCxOC04GqwqU4douAQl+OY6UTPeXI2F/fanhwMEDtULi8Ohoyc4qDA4YjhCOC3strFcfr3TI69+8g6B+9dAl0CXQJdAl0CXQJTCQQHcODITRf3YJdAl0CXQJdAlcUAIBl4DmfBjPsB8dvbz3lQLx9WnA/fvaRoGW8rsni/OB/Qfa8n4rACz/B6q31OsBqwq12rRQ3h//+CftE4Y3bbqpAPLq0fEC2fJu2XJz23eAw+DUqROjXc8932bevWJwqmbR7Ttw7733NlC/pmbcff5Q2lUr60sFtTkiwDwG86vb7PzTTz/dXhuwEsCsvdcCgH+gOisInO0JALgD8PKb7ec8kA5Nv6W77bbb2j3AngOA8wDQl89XCZylV55XGPzmJLGCwT1pc3B2uJ+vH2R7wtMlB06Hp3/600aTvGZm1pec1jXkf7zkQOZeV7DiAV0rG24tOW+oVyLIeEVbujF2MkR//dwl0CXQJdAl0CXQJTAadedAbwVdAl0CXQJdAl0CFymB5h8okAlnCvYX2LsHCH5m9HIB0lMFbjds2FhfDphp4NzMtZn4BloPjUErIO41AoB769bN9fvY/2/vTLujuK62fdSaRyQ0MAiEhO3ETuxkJU5WvmXle/7U8/ceZ8X248DrJEwySGBmBJrQ+N7Xrt6tRogZ20h1H9zq6qpTp6quZhnd99l7n3L37v2CaMdEGBke0bHOCJUfkoBG6I+OjYawf7T0SNEFiPmHsXTh1OSEUg9Ol3Mz58rde3djTFYx4JrMlmMudCl6gEKEzMjfuHFd17obAhvxj7hnxh9hT10B+tC4t0wjYD8pAoyVs/vM7CPiq7oIfSH6eUbMBgwAzA8EPtfiPCIUiFTgWpxLOgERBVyPiIRMLeCd8zjOGEz3byuSYm19rXXfjIkRMDyMeTEkA6Rb0QOK0lDkwObWpsba0GoOi2EakFrQpbSMRqMrUjnafJ14Tv8wARMwARMwAROwOeC/AyZgAiZgAibwZgRQlhLd21uKCFAcO6J1RYL/nkT5PYnrDYnS4REV/julMHrNuKegZtabUHhMgccyEB5LJDMLvrW1odn5z2LWnVoBEVKvlIOe3p7SpcgBwuJPahaeYoKI6staRnBZ7z3dPSGcz0lAj0+Mh0BmFp8ifNQeeKAZfuoVTOjYrtIdtiSaGZMZf1ZSQPhjRCC+EecYBFwbUU+kALP/NEwBRHqaBpgF9Kf4IOkCYVroHMbjXGbsSRUgFYHjRBSQrkCjBsJ1zfpjBCwuLsa1z549G+OTzoDRwDKJCH/6pTHB2BsyDNh/8cLFeEYiAhgbk6FbLEjRIHKAVtV8eFIWFhcUEXFfqQmqfyCjhWft7FQNhEgyyBCQOMU/TMAETMAETKD2BFyQsPZ/BQzABEzABEzgTQmEuJQQJ3IAEXxHYnxRofO9Pb1lQrP41BVAoDJ7j1mAn8BKBMzkI4LHxydC4NJnWasTUJsA0fuvCxdCWA/0D5RTJ0+FwYCYX1GfH3+U4Jd479H5c7NzZW7uXDk9fSoKDA4NDYa4x4gYlHinMB8h9aQADCk9oY/Q+x7N+sskoAYC/TAAEN/MvmNY0Jf7yeUGMQtoCHNMB0L9MTM4jsjOVAAiAjAO6Me4NAwCxs3UgNipH5gKGAikHHBORhNkf67DPbEfI2Fe5sWPd25HYcI1RSTcl9An8gBTAOMBY4CG8bGl4o874su53Av3z1hEYRDpQD0H+vfIeMEcqaIqqhgCrru/HbRvfx9/NgETMIF3IeD/z7wLPZ/7UxBwWsFPQdVjmoAJmIAJHHkC8UudxCjmwG2tLBCh8qdGQvz2awac2X3SC6iajzFA4xwEMgYBNQUIwUeYX9cygVeuXFFRwcUQ1n2netWvq5oBl7hFdA+oACF588MjlTjv61UNgQiVfxY1/Y5ppj/MgWYdgQHVI8BAiMX+tgmvb8Q9MC4iGiGPGCfiIEU1JgCNvgh5wv9JC8BA4DwEOssbskIBxxH8PBvnEU3AfiIRGA9DgMZ5RCQg2ulLRAIM4AJHGGIU0Ce4KHrg2+++C76M3yPzhWthnjAW98K9Ywxs49SEQaEVEhQdQPFGUjNGZAgsyfiIdAaZLP1i36UICqoOtBsEcYP+YQImYAImYAI1JmBzoMZfvh/dBEzABEzgzQmgQWlMNiMuEbcI24wKQAx3dGjmWuJ3VwKWjhyrziHmoJqFZwabSIOtzS2ZA9fDHLgvMY+xQDpAvwQwbUMz/SMqXnhCM+XUHOhScUHGQxjvbO5KSD87643QHlC+PoKcWfP79yTQdS+0uLcQxVUdAj6zGgECm4KE8/PzEdaPOCeygLx/zAEan9lGwCO0iR4gNQDDAFMBoY8xgGhnG+OA5RhpmAHcF/fNzD7bIfK1n30h8PU8jMU212G2/+rVq2X++g+q53C/fJ33Kp8AAC7oSURBVPHF78pnn30aBQZhx2oOa1trUWOAyAGiBjp0340OMd3dKp363KnnG1PBx01FUqzqvrn3UbHsULFGWn4v8cE/TMAETMAETKDmBGwO1PwvgB/fBEzABEzg7QmoJGHMchM+j+DFFEBwalMimaUKZQroM8K12o+Q12dFEnRJsLOc4eraavnqf/+3/L/vvw8R/acvv4wq/iz1d/z4mAQ34f8qBqj+pCisrmwpvH9TYf4yB7gWt88FuZT+dEkg90t0T06cUFrDRrk2f00z+A/KCRUjPM3sO7UMVJyQ3ghx7hvh/9lnVd2Dr7/+OvL9Ofb555+HQcAlMAx4TuoFYCR8+umnYSyQboARgClQze73RNQC52Mi8I5RwXEaHBD/XJf33CbkHzOCRs0CxsV8+O+//1PWVdOhRzzPanWDvtneqLfACg/UUuhijB49D+OJP7UFAorMA87rkwHTK5NgWcseci+7iuSgcX03EzABEzABEzCBPQI2B/ZYeMsETMAETMAEXo8AgQDSllTV54XgHRociuUDEajbmh2nIT8r+Y5hQMwAnyuBTOh7twQv4nhDorVT7xQfpKYA0QRPtBwiUQMNFeGjD41Zd6rxI5zZJmVBF0fptsbmGt1EL+id2XeK+FEA8d///nc5dfpUyyDYUkV/6g+kOEc404gIYAb/n//8Z9QhIEWAiADMASIBMAc4Ttg/EQFEMPD5H//4R5gA9OVZiSYgtYHxMRMwIDAIYMUrG9t5bdItOJ9zSS/AMPj1r38d0QLUXmBcxmjonefnPO6riDlgdxsYMTABCybMjtInqhQErrclQyWvzTsvmwT5TfjdBEzABEyg7gRsDtT9b4Cf3wRMwARM4K0JIIx5ITLJoa+EaiVMmcXPFgKUjyh2WhyqZtCZLZ+bmwvRy/mMs71DjYKOSAdA6Me4nLaDoGWVBIaoxG3sY8AQu8zwMxvfGfdEjj6vW7duhkBn+UOKJVJ/ACG+s7MV4jhMBxkORAZQS4D6A8zaM4NPwwQgVYBjGBNhaKg4IYId0Z81BjiGYGc/42MakHKBSYHoJ5WA50thzjvXhiGMOAcefP7tb3/bXF2gM9IhuLfqnmWQ6DrZOI8XJkw78ziebgwftB3fQ57odxMwARMwARMwgWcI2Bx4Boc/mIAJmIAJmMBrEGiK/BSmnIGgR+gi0jO9ALHKnH6K0hSvHaqWT5FCzhmSGP7Tl38qc7Ozmml/LOErs0EmACKamfNjx6g/oNUGtFwfJgFFCPO63AYz5fTn2qQZEELPcUT62vpaFO+jOOC1a/OxtN/x8eORtjCi5Rap2k9DjNMf0U8dAgoJfvPNN1F/gHER5qQMzMzMFJYeZGYfA4HUBwoVYh7c1GoNXIdrsx8jAVOASAOWPeR8XkQmYArQ9r/nc1HHAcOE+yIlgfvBqCBagftkPxEE8KiME+oZiEX1OHEPRHAwHhESRGLQYMozZuO4mwmYgAmYgAmYQEXA5oD/JpiACZiACZjAWxJgJpwXKQErmiFnBQIKCnZ1K9S9yiyIkZGgu/GDCWytWCBhu6p8eJYoJC1h+sx05PeTSoCQRlQ/fFQtLcgShszaT05NhrDu6ugKYdytugGdXXvitqm3QxBz0R7l4Q8M9CrivkPpBCf1XhUT5HoYENQxyJYz+AhnBDMCnpoCiHBSCUgx4P3Pf/5zywxIM4FzmdGfVj0AIgXoh5BnDKIKqDuA2CfFgOKHmA+vavQh0oDGPXEfGASMwTb3iCmQ4h6myjUoyH5SCTAOeLE7VkCQSYLJwX0SVeFmAiZgAiZgAibwPIHO/1F7frf3mIAJmIAJmIAJvIwAk87bWyp6J+G7vv5UM9obketPIULMAiro0xC3MeOvdxrilVoCS4+XIuQeBTullQhOnpqSuaB8fYlXhDez3IhZliZMkUvuPrPnZBEgfkk5YPYfkbz3UnfdW3xuHiPVgP493b1hDHCc8ftUtb8lsNmpxue85w2lDvCZc3nnWWkYIpgMCG9EN58r4a16C4qI4B55ZvaRJsA76QWMgehH/HMexkIaEhzLF/tzm+O8YML1OS950qdqqkGgczLdIM6J9IpGmBUYFFwTA2NIPPl+GIeW16nG2fu5N/bePm+ZgAmYwPsk4P/PvE+aHut9ELA58D4oegwTMAETMIHaEUCXSo+i22N2nqKCCNhNCeptGQA7ShmIYzoeM/PqjDGAqCYqgJlwigsODw8p3P6kwudHSp/SB6gRwC+MWUsgDAIta4igZXwiFBgD4b6pWXRWLuA+UkTHF6HP0ZramZn1TkUaEP6PMbGuYn+renV3VzPsiO32xvXZx/UQ0XzGTOC6Kc45zkw+99FuAjAOEQQUFGQ/qRGkBmBs0Jf7JBIiDQA+tzf286Jx3byXYKh7YVzui8/cU9w7vOgvM4TPrFhA8UHuj/QHPk9OTJapE1OttAscFsbO68RG24881rbLmyZgAibwXgn4/zPvFacHew8EbA68B4gewgRMwARMoD4EmnpbwrIq/kc9AEQ3Qv/Rw4dR4X9ldSUq6iNgEfCIcUQ8wnxlZbncUc4+Arpfof3Tp0+XEydOSEj3yBjo1ky7UhX6BsrTjadatnBFZoMK/KlOAH0I1cd8wFyIKIKHjxS2vyzBXtU56OpCaFd3SLWDqiG2EdlaDaGvyrlf0rWpD4CBkbP+/JLKi3vmHZGNEYAYR9TzjFkskHvnM5EDCHUEPveGGZDncX/spx8GAcYC0QPM4hMpwUz+i4wB9vPK+2E7RL/uiegBrs94mANVFEJYAzJAWMmgigp43EzRIJqAlIxz587F/UctAijxBTZb+/bL9uUxv5uACZjA+yBw0P973se4HsME3paAzYG3JefzTMAETMAE6kmgqSljclualI/Myg8ND4aYRvzfu3c3TIAlhdc/kpBfely9379/L9IJOOns2TPlo/NzCnU/pSUQq/QA9iPiMQqOHx+LEPyV5dUYj2iE4ZEh1Sc4VSbGJyWMeySSn0TBP4Q+SxYuP1mJyINqRl0h/lu7MiSqYnyV2KYWQU8YAE+VCoGA5jOinvf2Rn/20xDk1BJIgU1NBAoQZloBfTEvuC6/7PJOH8wAjAWKEzI+/TENMCQocki/9oYxkeYE47CdkQuYAxmJgGHxUEYMxQ5JYeA6yzJJHog19Q4uXbpUFhcWo//5ufNRIHE4CjDKcOBPcN678kG/oB+0b+8Mb5mACZjAuxPw/2fenaFHeL8EbA68X54ezQRMwARMoAYEWpPOTZHJL3idnaoBILHLMoGEzSNku7QP46BH+7sUwo8oZhadCv9nzkyXcS35RyoB1QqZ/Sc2nhoCMVPeqMbr6++N6IFlmQ6IYsYeVN48UQe8j4wcixlxxHM1O79Sniw/UV/qA2g5REUjcIyG2GZsaghQh4BZfMQ7+xHr7f3Yx2f60ujLZ/pxD9wL+3gRPUCxQZ4ZBtX41f1gCDB7nwUGOQ9BTxQCUQXcD43rZWv/hZn9eaziXK1QgNmQ12p0aOlGzAT96VbNB641PjFeTkydiKiBIaVu9DbTNRrqp68tDIKDrveyfXnM7yZgAibwPgi0/7/ufYznMUzgXQnYHHhXgj7fBEzABEyglgQwCHi1tz6JY4Tz8bHjEr6I98Go2D8aSxIeCwFNSD2v0dFjpUcRAhgCNArqMWAsL6hN6uV1yVgYkbBFlK9L7Fcz9RL4EvYDMhqILhjXrDyGwwAmg+6H5QuZSacvwn+bpfyUf4/5QO494yOqEdccJy+fyAD2Ida5FmIcQc82+3nHeCCcn/OIBMAI4HzMAfbzrIhyDBD6czzTEqivwHGOYQYQ6UBfrsd42dp/UW7f5jj3xHg0xmElBF5pMgw0r08KBksmnj51uoyOjVbXUJRFLgGZ5kA4BBpr/3XiAi/Zn8f9bgImYALvSuBF//9513F9vgm8LYEO/WO7Z9W/7Sg+zwRMwARMwARM4O0IvOhfYYwHHeMwJsSTx8vlR9UquHr1agji06pVQL0CDIY0KUg9WFqq6gncVt+HD7QcoowBZvXPnDlTZs6ejUgGogZomALfffddzORTM+B3v/tdiGlEOEsGYgzwyyvGAIX9CNdnH2Od1ViYEP/617/KV199FWkFf/nLX8r58+dbgpvzSEe4cOFC1CTgHIyMixcvxnUwSUhHoOWvI/nOPq7d/pl9BzZFXhA50LZ65L5uCVKRGXIF9MuPBt8rSJid/Yt6kvC7CZiACZhAHQk4cqCO37qf2QRMwARM4MMhsC/6oHVj7NeLNwyCSE9QigBh808kyhHeVOcfUS59JaIrgU0aAUsijo6ORXTC4OBQCH1m72/c+EGz/NUKA8zgkyJAIy2A2X+Ef4brYxAQAZCCmf7UC8BQYHtycjL6poDPAoREDBA9QaMfLxpRBqQbEC1AH2oGsI8IAvbndaLzG/8AFGkFr2jBs0orCLY6p7292z20j+RtEzABEzABEzh8BGwOHL7vzHdsAiZgAiZw1Ag8q1Grp8t9IWgltDXbj4ju7euNkH9E+hMVFCT8H1GfApuogG4ZBAh/6hIMqS7BgF4UOdzd3QkjgJQD0gFS6HMuM/TUA8hUAkwCxHK+2M95mBJEFSDq6YPQ5530BMakECGGAOcxLvdGH87lGIYAUQq5DCLnZirC23+tQHqFORA8m/UGuFCcEjtbl7U50ELhDRMwARMwgRoSsDlQwy/dj2wCJmACJnAICLTr1uY2orsS490S6JshsBHd7Ee8U09gT8w3JNqrOgLUN0CQk5+PCYApEBX+FYFA/5zdJ3UAswHBPjo6GscgRR/GJ5qAKAPOpx9RAFlnIFMPiAigD/25V4Q//ThOIcIsRohJwBhpNGAi5L3z/mZN/V9qDjBeNWZrK06p9uW13vy6eabfTcAETMAETODwE7A5cPi/Qz+BCZiACZjAUSDQUq16mNSskSr/bG484h4hTeg+L2bjqS/ATDyCnIiBnLlvF7scQ6RzDgUFj2ulBI5THHBxcbGQdoCwR/gj6inqR+N6+cJcYGwMCa6JgZD72vtiBPBiHI4TQcB1MRdIP+CaeZ+YFBgIGBI8F9d68xZK/9VpBRq4hTlOSdDVFdt5vfk9+AwTMAETMAETONwEbA4c7u/Pd28CJmACJnDUCLTr1ZcIWEQ64hvRzSw8JgGvFNoIchqCnBn6rCHAeRnqn2YBYzAWxgAmAS/GQrCnYGY8zmUcZvupUZBpA1yTfqQl0IgmwIzAIGAfY9OXfYh/DIK8v6x3wGcMA97TIMhrx6Av/RGgbA68lJEPmoAJmIAJmMDLCdgceDkfHzUBEzABEzCBD5IAwjkFNaIdQY24J+8fMwAhjihvF9r04zzeOZ75/szuYxTw4hhmQxoEzOwzLqYApkKK96wZwHiczzGEfqYLEJmQBkEWO+R+uCbGAwYDYzIe56VhQZ/29noGgc2BdmbeNgETMAETMIG3IWBz4G2o+RwTMAETMAET+AUJIJjbRTOintl7BPf169dDfCPycyUAtnntb4zBfgQ7fVlWkJQDRD2h/zdu3IhZfsQ8Ap5+vDiHfYh+rsmM//DwcAyfKQfnzp2LOgcYAPPz83G/CP9MM6Bfnsv52XgODIP252vfzn7Pvj9rDuhTKzPj2X5OK9jPw59NwARMwARMIAnYHEgSfjcBEzABEzCBD5YAefjPv1h9YGdnN2bgEfQIbwQ4wp0IAoQ5xgHH2iMI2M4XUQa8+Izo5/yMIkD8535SBG7evBmFDJnlx0yguCCRBfTBVMiogIWFhTArqEmQhQ2vXr0afTERpqamWsUIMQgYLyMOMAeyHkHeI18L9/Zik2CfOfASd6B1KE7h01578fh7fbxlAiZgAiZgAkeVgM2Bo/rN+rlMwARMwASOCIE0BV7yOIoA6Gx0ttIMELnM9CPeEd00BDgz8rQUwbznNkKcbUQ4fRHpjEHDMEDQcxzjgZoBzPxjQFBTgBeGQop6rslxxsEMOHbsWJgB7MdM4BoYCRznGjkGJgX3yFgZPcC+NAbyXuOm2n/wHMQKhODfFx3Q3k/b2AFhCUTf2Gr1eOH4rR7eMAETMAETMIGjS8DmwNH9bv1kJmACJmACh57Aq42BDmULSNJLQKew72oZAUQOINKZ9We7r6+3TWgDh2iBSiDLG4jPCGQiDTAE0kzgCGYBUQBpAHC83SwgAoDIhUwbyNUTiDCg/gBmQPbHtGg3CDAMMnUBk4JzMn0Bc4DzeNG4Di33Ve+xoyX86ZkvNqozm/t40OaOHJPxaPs/V3v90wRMwARMwATqQcDmQD2+Zz+lCZiACZjAoSPwamOAR0qRnI+3o1SDPgn30dGxMjk5qZn6x+XuvTux1OHAQLVkIOIffbyzg/BmDM4mcoDw/UqId8h1YBUDxke437t3r8zOzpa5ubkyMzMTSx1iHhA9QH0CjmMgECnAzD+Cn0Z0AKYC+xiPa1+5ciXO4xj3mGkQvGMGYDAwFscxNTJyAOMAo4PP+YqL6Gk60Pzcv3bw3npFBx3kOEh1jNcufeJPdIgffOY/NxMwARMwAROoIwGbA3X81v3MJmACJmACR4rA3oy3ogekihH2NPYPDQ1GtYJlifhbt26VfhkEfb1aMrC7KixYgdA5SkvokOimjkGVYlCNwQw+gv7hw4eRooAoxwBg7BT8zPTfvXu33L59u9y5cyfEPoYBYh8D4fTp03EZxmE8+pNOQE0DxiUKgb5pDtCHfZgDXCeNALYZj3HYR2NftdHU9fvEPYe3t3fielvbW3FeRxogMhvy/Mo42BurGtQ/TcAETMAETKA+BGwO1Oe79pOagAmYgAkcWgJMeR/UqqnwSh8jbDtipp3Z96whgMDu6ekOUfxoaak81bKE2xLJ1f4qNSBHroQy5kL1Yj9CnEa9ANIBGJvUAl4IdYQ829QNyOKC4+Pj0R/DgIgCziESgL5cl/7taQlEB3CMe6Y/0QHcA33om2ZA3hf9MBJYbpEiiYuLNyN64b5qISw9WgrTgeM7MgW4x4aeATrcRxoN7UECMS4PWYFkq+k0VJv+aQImYAImYAJ1IFBVJqrDk/oZTcAETMAETOBQEzjAIGhOdO89Vq5CwOy/9C11CCI94FiIYgQ+M/u3NKu/JaF88sTJVo0A4u7jnBDIzw6MQD916lQIckwABDxRAwh9xDdpAx999FFL4I+NjYWop97B4uJi+frrr+MWT56srodRwLKJKfwxHTAH2I/wJwKBcTMygW0axxD41DPAeCA6gfSFrS2lR+gP/bgnzIDent4ohHh6+lREOrQMhuY4PGZlrcTQ/mECJmACJmACtSfgyIHa/xUwABMwARMwgcNKAEHMn/bGzHjMhIcxoKNNsY/4npyciFn5h5phR4Bvbm1KgLN0YH+YB6QUMGVeTaB3tMQ4Y1IvAOHNrD7pAAh5BDcvRDl1AkgVQMAj6jELSD+g/7Vr10LEcx7mAvdCVADHMRLog+DnGOMSEcBYmAesksD43EMWWPzPf/5TLl68WObn5+P5hodHyoCuz/G8P9IVHjx8ULqbhkFPM42C1ImKSRUcAD1HDrT/DfK2CZiACZhAXQnYHKjrN+/nNgETMAETOAIEQto+9xwhdqXws/ZAymD2DwwMlfGJ8TKm2X5m3dfX1uP8oaGqjgDinqKGmA45ThoOGfqfIf2Id14xWy/RzbkIfEL9Efm8OIfrnDlzJowAxmTGnz6ZQsBSh5gFnI+4p3/cm1IgMB04znlEC3z77bdhTrAPA4KIhmMjKniofpgNpDTwimKKerIwLPTO+BghPAttV0UGqvoMlbkSP3WNVmvbbO3zhgmYgAmYgAkcYQI2B47wl+tHMwETMAETOOoEULAHqdiQ9vsevurb3d1VCXqJ9kwzYJadWfdBFQpsdGpmXTX/0xjIdwbL0HxC+xH2iHnEPwUG6cdxxDgz//RJ84D0AvqwpOHExEQrxQGTgWPcB9fHZGC8dZkCDxTdgBlARAGNfuzDWGAsDADSGTKVoFuRARgAvPplWPQrGqJL463LbKAWAqYAEQ3cYxReVFIBT8p90+KnzYFg4R8mYAImYAL1JGBzoJ7fu5/aBEzABEzg0BGoxH1GAeyZApW4ffHjtB9XqoD+hJDX6gRdMgoQ+Yj55eUnZTRm8Ck0WBUhTOHcPnaG+FMnAHGP6M7VCxD3tBT3CH1m/jERMA1IITh79mxEAjBORgqwHGKaAxgKnM/KCqQjXLp0KaIIuBYin/NINchlEasig3qWzqrwINfv1HZcW2YAkQiM91QGxIAiGVjmsZPnE5Ykw3PGts0B8LmZgAmYgAnUlIDNgZp+8X5sEzABEzCBw0QA6fqi15s8h4yB+KPRJIT7+wbK8fHjpUeinvz8NaUYEHqPoN9vDCDkaeyP2Xe9k0LArH9GECDceXF8YWEh+maoP4UQMRKY7Wd8Zv8R+SxzyDYCHsOBugSMSU2Ey5cvRzFDzqXRf3p6Os7Pa2EmNGR00ELkR9qAnlPv/TIHqDq4ImMBA4JIgqHhodLb11v1j5/N86oBmnv0ls7B3h5vmYAJmIAJmMCRJuDVCo701+uHMwETMAETMIH9BKoa/UySE0Uw0D8gwX0m6gP8KEF+TUX+7t27rxSA8RDthOkjxBHemADM8CPyEeqZlnD16tXYzwoEhO5jABAhQN0AUgFmZ2djpp/oAUQ/nxmTxjupBlyH6ABMgjQDSClgGxOCsbNgIX2JDCBSgftpb6zOwHOxjCH3R5QAfblnIg/a++/oeag7EK313j6at03ABEzABEygPgRsDtTnu/aTmoAJmIAJHDoCTeH6k9w3Y+/GLP+QCvkhoJkuJ8XggWoQrKysFpYepE5ACnmENQYBQhsTgGPUAkDE5/KGCHdm8xH8mAPUM6BoIGkARAXwGaGfqx1gOtCfaxBBgIHA508//TSMBe4LU4DzaYxPZAL3gdinabOtsSQj9kB1nPHpsLW5VTaJctAz8OSxv3WW9rDTzQRMwARMwARqTMDmQI2/fD+6CZiACZjAh0zgp1erzUz7mD1nOcOZmXMS332xkgAmAcKcF8IdQZ5RA2zTWDGAmX4MAsL2iRJA2CPkEfqch3HAWOzLZQZJH8gx8xtgTF6YBqQiEBXACgd//etfyw8//BCmAfeSdQ0wBjABGIdVGfJZiAZgf3vbVN+19bWypSKJeSzodlTP0d7X2yZgAiZgAiZQVwI2B+r6zfu5TcAETMAETGAfASICWAWA2XmEPysDIOgR/hQTRLTTJ2bmm8Kc/jTqA7C6AA2DAHOA1AJm6BH3RAIQbYCZwDKGbNOPhumQM/mMzTbjYij8/ve/j/6kLhB5gBnQfk70Z4fUfiRM6Pw0MXgOChZiJGzrhbkQ96/uz9oHDOBmAiZgAiZgAvUmUC32W28GfnoTMAETMAETMIEmAWbmMQFIKZidnY3ZfEwChD81ARDbNAQ8LwQ4xgGz/BkpQF8EOvsnJyfjHKIHMAYQ6EQOsE2fHCs2muOyzX0QRYCJgFHBdTAqSF+IWgKKMsjog46GnAHdC43IAbaylsDaalU0saH+gxorzQV1i1adVW37pwmYgAmYgAnUmYAjB+r87fvZTcAETMAETGAfAQQ/wpwXgpwaAIhxagWwj+OYB7zTmIlHxFNHAPFOagGRAexj5p/ihJgEpB4gzBH7jEc0QqYfMFaG++ftMG62NAo4nwKFGAzcG2kInLuzQypBszfmgFYvYAUDjAyuS60BVmTgnmIZw2ZXGwNJ2O8mYAImYAImoH/TDcEETMAETMAETMAEDiKAKEf0s9xgrjRABADb7WIeIY9hQF/SCYg04IUwR5CfO3cuTATEOgIfYY/ZgJGQ0QNcv33M9vvhPkgzYHxqGFDokHvAGMhaBdxD9VLtAq1QQFtRv+XlJzHuoO6rT/eCaYCR0DIT2i/kbRMwARMwAROoMYHO/1Gr8fP70U3ABEzABEzABF5AALGO+GamHpGfqw3krD/HaPRD+CPieSHSmeFH+A8ODsaqBqQkIOpZeWB6ejpSCziHFQ8YhzF4cW4aBlVUwE4r4oAaBVybsTEJ6IvR0K/lGHknEqCru0vLGG6X+zIeLly8qOutl6kTU+XXv/pVOT7OygvdzXtupkbwqRlC0AyGiOP+YQImYAImYAJ1I+C0grp9435eEzABEzABE3hNAohzXghvZu4R87du3Yq8f/axRGGmGFSz9o1II2AbEwABT6TARx99VKamplrpCYyJicB41B9g2UPOYT8GAe80tmlpAtDvN7/5TaE4IbUHLl26FIbFQP+gUgkaUXiQczEQlh4pwmBluXz88cflrOohHB8fk8nRLeOhGrd5iRi/qmRYbfqnCZiACZiACdSVgM2Bun7zfm4TMAETMAETeA0CiG3EObP2hPUzq8+LtACEPysBEB0QM/fqyzvRAKQiYCTkMobUHuCFYUA6AecyLtsYDIzP5zQE0iDgPfcx9szMTJgH9GV8ohmWl1dj8h8rgf7rMiYUhxBFEufmZsN86O7u0TjNB1YfWjNgoLnTbyZgAiZgAiZQbwId+gc3/6msNwk/vQmYgAmYgAmYwCsJYAyQInD9+vVYwQBRT5oAxgHRANnod+3atXLjxo0wEP7whz/EIc5j5p+oA9IVKGL4ySefhHGQZgNpBmkOcFL7ryrsZ2xWOyDqgJURNp5uqpfqD6jWgGIdVPdgUEUQj4cp0KHqSpy/q4gBPIEwG9SbdRKqpAht0OJYtemfJmACJmACJlBHAo4cqOO37mc2ARMwARMwgdcggKhOkR4CuzmfkEUGWXkAcX758uUQ4IT9c4zGzD6pCBQOxCRglp9lDYkooGYA+4k6QOiTBoDJwLlch31cd/+LY6Qi0IgiYDyiEba3qiURG51VnWXMhW5FJmAMhCEg5b+LE/Ci6ZAIIYi4gxjbP0zABEzABEygjgRsDtTxW/czm4AJmIAJmMBrEEhjoL0r+xD+CHnMAAQ7Qn9hYSGiABDspAmwnz6kGJBKQI0AziXCgEgDDAKiBhD5pBZgNGAQZHFCrpnmAGPl59jQD+6BSAOiD+KwunQ0nk0UwBiIRlSAjlcWAntkevCWx9l2MwETMAETMIGaE/BShjX/C+DHNwETMAETMIHXJYAgR7Aj1nkh6DEDSBFA6N++fTsiBDADNjY2oi/1CM6oICAz/tQfIBWA4oSYAJxDP/aRqkAfBH+aAtwX27R2g6B9X+yvvAOlDpA+0Hw198XJnJ8bzXc9xb49/mgCJmACJmAC9SZgc6De37+f3gRMwARMwATemgBpAYh5xP7nn38egp8Ugu+//76srKyE+CdFgFSC2dnZuM78/HzUCxgZGYnIAgoKYhJgDlBHgNZecyBNAfa3b/P5VY2IgngRMqBtbAYHC7yKmo+bgAmYgAnUlYDNgbp+835uEzABEzABE3gDAjlbn6cQRYDwpxHaPzQ0FOkCRBJgDGASsKJBCn2iC0hDIDqAIoWcT/oBxzEZlpeXY+UBUhRoeb03NQTiZH6kMcB79bH13urjDRMwARMwARMwgRYB1xxoofCGCZiACZiACZjA6xJAvCPwaQh8tilAmHUASC0gzQAzAGOAegIYB0QHUMSQz6xuQF0CIgfWtPwgpgLvpCIwHtfAHGg3Ctj/eoZB0xV40QM5hOBFZLzfBEzABEygpgRsDtT0i/djm4AJmIAJmMC7EECgYwSkUEfAI/QR/awgcOXKlfLjjz9GNADmAYUJjx07FkYCxgGGAOeTXkBBQkwDVi3AIMjChPvvL02C/fv92QRMwARMwARM4N0JOK3g3Rl6BBMwARMwAROoFQFEOq/9s/sYBaQaIPpnVWPg5MmTYQJ89dVX5erVq5E6gIFADQJSCShGiDmAGUBaASsa8M4xxspXreD6YU3ABEzABEzgFyLQoX94ScVzMwETMAETMAETMIE3JsCvERgCGe7PNnUDSBkgCgDBf/PmzThOjQEiCHgnSoBVCihIiBnANu9EHXz88ceRgoCRkAZBe9TAc7+67L5FjoDWNmwfkwff//mNYfgEEzABEzABEzjEBJxWcIi/PN+6CZiACZiACXwIBFJU5zv3hFlAGgFRAbwwCTAEqCkwNzcXJgH9KFpIoz+pBrdu3WoZCJgDjHmQQRAnvfDHs2aBYhCi57N7X3iyD5iACZiACZhALQk4raCWX7sf2gRMwARMwATeDwHEe5oCvCPySSvIfb29vbGKwczMTNQkuHPnTrl8+XIYBRwjioD0AowB6g5Qf4CaBOyjZZRAXic/v/HdO07yjZH5BBMwARMwgXoRcORAvb5vP60JmIAJmIAJ/GQEEO6I+Fy+kM+53CFLHZ45cyaOz8/PhxHAKgbUJcAMwFSgsboBqxxQl+DEiRPR/zlD4MA0gpfFBew/hlOgfYwTh+wcBHz/MAETMAETqDUBmwO1/vr98CZgAiZgAibw7gQySiBHav+c20QTkGaA0CdCAEOAVAOMBKIHqFOwuroa5gBLHVKnYGxsrExMTLSiEHZ2KFJIbQBeiPsi82G3bKvOAa1LY9How0H6sMk14zyZAZzGD5UcqIyB6MuAsaGdbiZgAiZgAiZQTwI2B+r5vfupTcAETMAETOAnJ4A4D4EuZc47aQQUJKRdv349UguoMTA4OBgpB7xTyJAihQsLC2EOYBBUUQWo+krP8765sVnW1tfK+tpG2ZCxgAvQ1dVZOvVqdFSpDdQsyHOpO8A9vLBlNMJLurzwXB8wARMwARMwgSNAwObAEfgS/QgmYAImYAIm8CETaBfliH/SBRDupBf897//jaKEmABEFrBaASsXkFqAkcDKBZgKVaoCT9khY2C7PHi4FAYC0QcbMgp2thH/ReMOlL7+3nJMSyROT0+XgYEBndslk6BD5kEzqkBGguMEPuS/Mb43EzABEzCBX4KAlzL8Jaj7miZgAiZgAiZQYwKE+bNsIUsdsloBaQTLy8uRUkCNgu+//z4KE05OTpa///3vhdoEmAkcW1/fLJcvXS7XZCzcvXO3dEj0Dw+NhAmACcFqCPTr6ZFBMHqsnNa5U1MTZWRkWMSbaQVN9vsDCeKzIwdq/DfTj24CJmAC9SbgyIF6f/9+ehMwARMwARP42QhUuf/k/++2ag309PRE6D/CnqUOKUhIdAHmAVEBly5dKkNDwxE9QITA4sJi+VFRBaxmQLTB0PCQogRGdbxPpsB2rHqwtbUdx5cUgbCtbfYTPTA42K9nbap/QgdsBPxs370vZAImYAIm8OETsDnw4X9HvkMTMAETMAETODIE0iDADCBVgJSB8fHxeD72YQgQJcAxihZ+8803Si+YCENha3Or3FAtgi3VGJgYnygTkxNRzLCvt18pBQ0VNdyIugIUKSQS4caN6zFGZ2ej9PX1K93gZOlWTYJd1RewN3Bk/kr5QUzABEzABN4TAZsD7wmkhzEBEzABEzABE3g5gTQE6JUmASYAhQh57+vri21WNrhz5065du1avBqNrjI3OxdRArtamAAzYWTkWPRnTFY64J0xc+nEgYF+1Sv4JOoarK2tFwofUs9geLgyHvbfqU53JMF+KP5sAiZgAiZQKwI2B2r1dfthTcAETMAETODDIpBiHkOAJQ1JM0DkYwBw7MKFC6pL8Kh8/vkX5Y9//GP55ONfqd+Iogv6IlqAp2ElgvhP59FIK2CMnp7uGOfBg/tR34C0hb7+7ljVIDr6hwmYgAmYgAmYQItAo7XlDRMwARMwARMwARP4mQgw058NIc9nUgwwCChEODMzU06fPh37F1Rn4ObioooRrpfBoSEJ/D4tWdilY3uT/U1fIIbMoTEXhtSf4oRPn26UJ0o1IDXBzQRMwARMwARM4HkCjhx4non3mIAJmIAJmIAJ/AwE0iDAHGg0GmEEsI8lDc+fP1++/PLLsihTYHHxVjOqoLf0K/WAFASsBWUYsP5AVVdQO6glgDEQxzt2IoKASITu7q6yTbHC9adR8JBHo5+8g3jns5sJmIAJmIAJ1J2AzYG6/w3w85uACZiACZjAL0gAMwBjYH9j+cK//e1v5bPPPivffvt/5fHjJ5FKsI2ij+wB3ACJ+07Mgep8BH/VKpOgQwYBxgBmQUMFC6lpwLabCZiACZiACZjA8wRsDjzPxHtMwARMwARMwAR+RgLtEQSkAiDgWbGAWf+RkREVHNwuV65cKaurq2VTSxhSY6CjwdQ/0QI4BVWtgSq1gG0MB149WtJwU+etKSVhLaIGoj4BZ2As/IzP6EuZgAmYgAmYwIdO4Hmr/kO/Y9+fCZiACZiACZjAkSYQM/2KJqBIISsZUIMAkwAPYEPmAK1TxxsKFdjVsoU7WsJgR2p/l3d93t7ejnfMhacbT2UOrJQ11Stgf7gCDFB5CGy5mYAJmIAJmIAJiIAjB/zXwARMwARMwARM4IMgkBEE3AwRBFmosK9PhQpVWPDxwIDE/kbZ2d5R5IDMAb22d1RgkOIDUvtV5ECRCbCl7c5IKVjXMoYsZch4Mf5e7oENArC5mYAJmIAJmECTgM0B/1UwARMwARMwARP4YAgg4NMU4J3Z/v7+gTJ14oTSC7bK0qNH5Z5SDmj9A3rf3Iz+FCMkZYBogm5FDHQpNWFTxx48eKCeu+Wkzh8fP166u7RUYpgJMYR/mIAJmIAJmIAJNAnYHPBfBRMwARMwARMwgQ+KQEYQZKHCAS1deGJqKlIFbqs44Y0bCyH8z549q+iBzkgp0I8Q/Y3Oht53yurTp4oYWNMShutlcmqynD07XcaOH4v+29syEaKQ4b7HdqrBPiD+aAImYAImUCcCNgfq9G37WU3ABEzABEzgkBDAIMgogu6e7jLcORyRA8PDw+Xx0lK5d+9+6enV0oaKIujQSgQlljHskBlQosbAysqqljLcLANKRThz5nSYA1GPQFkImX7QjsK+QDsNb5uACZiACdSRQIdC9vj30M0ETMAETMAETMAEPigC/IrCC5NgW3UG1lbXy737D8riwkK5c+duWVlZKUNDg6W3t696aanC5SfLOnY7ahNMT0+XLz7/QikJ46o/0FnW17bivVPRBa2VCpobuoSXL/igvn3fjAmYgAmYwM9NwObAz03c1zMBEzABEzABE3htAmEOSMpTUHBrayeKDbJiwYqWNXz4cKncXLwZKQZd3d1lcGAwxu3s7IqIgrGxsXL8+Ki2e7U8ImNk0UKiEuQFtByC6nZsELz21+KOJmACJmACR5CAzYEj+KX6kUzABEzABEzgqBCoAhyl4oki0ENV6QZFRsF2FUlw727Z3NqSfdAonV3dKkjYKKxu0D9ANIFMAdUkwBigxgADEC/Ji9ZuDrS29xkGVU//NAETMAETMIGjT8DmwNH/jv2EJmACJmACJnBoCVTmALdfzfa/6EGICiCyAAMAI6DRUH91VjaCDAO9+MGONoOg3RDgUBzn3c0ETMAETMAEakjA5kANv3Q/sgmYgAmYgAkcFgJ75gB3/BKDICMCpPKJKtiWUdDRaKjGQKMyBji9GTEQm23bmAIto4CDbiZgAiZgAiZQQwI2B2r4pfuRTcAETMAETOBIEkDwS+hXtQWqDw2p/hD+2t9KJzjo4XXczQRMwARMoIYE0ix+5b8DzX9kjjAiL2V4hL9cP5oJmIAJmIAJ1IpA8xe7SCHQ0oZpBuz9OrfvN8BX/iJYK3p+WBMwARMwgZcS2PvX5KXdDvFBLQzsZgImYAImYAImYAJHkADiX6/9HkCUNty/8wg+vh/JBEzABEzgNQg0/614jZ5HvosjB478V+wHNAETMAETMIEaEjjAFGClAzcTMAETMAETMIGDCThy4GAu3msCJmACJmACJmACJmACJmACJmACtSFgc6A2X7Uf1ARMwARMwARMwARMwARMwARMwAQOJmBz4GAu3msCJmACJmACJmACJmACJmACJmACtSFgc6A2X7Uf1ARMwARMwARMwARMwARMwARMwAQOJmBz4GAu3msCJmACJmACJmACJmACJmACJmACtSFgc6A2X7Uf1ARMwARMwARMwARMwARMwARMwAQOJmBz4GAu3msCJmACJmACJmACJmACJmACJmACtSHw/wEILoku+QPXkQAAAABJRU5ErkJggg==)\n"
      ]
    },
    {
      "cell_type": "code",
      "execution_count": 31,
      "id": "e425948a",
      "metadata": {
        "id": "e425948a"
      },
      "outputs": [],
      "source": [
        "import torch.nn as nn\n",
        "class Linear(nn.Module):\n",
        "    def __init__(self, in_features, out_features):\n",
        "        super(Linear, self).__init__()\n",
        "        weights = torch.randn(out_features, in_features)\n",
        "        self.weights = nn.Parameter(weights)\n",
        "        self.bias = nn.Parameter(torch.zeros(out_features))\n",
        "\n",
        "    def forward(self, x):\n",
        "        return x @ self.weights.t() + self.bias"
      ]
    },
    {
      "cell_type": "code",
      "execution_count": 32,
      "id": "13e5e225",
      "metadata": {
        "colab": {
          "base_uri": "https://localhost:8080/"
        },
        "id": "13e5e225",
        "outputId": "472b8043-a629-4c2e-a158-52ae6ad6961c"
      },
      "outputs": [
        {
          "output_type": "stream",
          "name": "stdout",
          "text": [
            "Input : tensor([ 1.0000, -1.0000,  0.5000])\n",
            "Weights: Parameter containing:\n",
            "tensor([[ 0.3452,  0.2746, -0.5001],\n",
            "        [-0.2554, -0.0156,  0.1850]], requires_grad=True)\n",
            "Bias   : Parameter containing:\n",
            "tensor([-0.2007, -0.1332], requires_grad=True)\n",
            "Output : tensor([-0.3802, -0.2804], grad_fn=<ViewBackward0>)\n"
          ]
        }
      ],
      "source": [
        "import torch.nn as nn, torch\n",
        "\n",
        "lin = nn.Linear(3, 2)\n",
        "x = torch.tensor([1.0, -1.0, 0.5])\n",
        "print(\"Input :\", x)\n",
        "print(\"Weights:\", lin.weight)\n",
        "print(\"Bias   :\", lin.bias)\n",
        "print(\"Output :\", lin(x))\n"
      ]
    },
    {
      "cell_type": "markdown",
      "id": "a04f56bf",
      "metadata": {
        "id": "a04f56bf"
      },
      "source": [
        "### 2.2 - A `Transformer` Layer\n",
        "\n",
        "Most LLMs are a **stack of identical Transformer blocks**. Each block fuses two main components:\n",
        "\n",
        "| Step | What it does | Where it lives in code |\n",
        "|------|--------------|------------------------|\n",
        "| **Multi-Head Self-Attention** | Every token looks at every other token and decides *what matters*. | `block.attn` |\n",
        "| **Feed-Forward Network (MLP)** | Re-mixes information token-by-token. | `block.mlp` |\n",
        "\n",
        "Below, we load the smallest public GPT-2 (124 M parameters), grab its *first* block, and inspect the pieces.\n"
      ]
    },
    {
      "cell_type": "code",
      "execution_count": null,
      "id": "47c87f6e",
      "metadata": {
        "id": "47c87f6e"
      },
      "outputs": [],
      "source": [
        "import torch\n",
        "from transformers import GPT2LMHeadModel\n",
        "\n",
        "# Load the 124 M-parameter GPT-2 and inspect its layers (12 layers)\n",
        "\"\"\"\n",
        "YOUR CODE HERE\n",
        "\"\"\""
      ]
    },
    {
      "cell_type": "code",
      "execution_count": null,
      "id": "92df06df",
      "metadata": {
        "id": "92df06df"
      },
      "outputs": [],
      "source": [
        "# Run a tiny forward pass through the first block\n",
        "seq_len = 8\n",
        "dummy_tokens = torch.randint(0, gpt2.config.vocab_size, (1, seq_len))\n",
        "with torch.no_grad():\n",
        "    # Embed tokens + positions the same way GPT-2 does\n",
        "    # Forward through one layer\n",
        "    \"\"\"\n",
        "    YOUR CODE HERE\n",
        "    \"\"\"\n",
        "\n",
        "print(\"\\nOutput shape :\", out.shape) # (batch, seq_len, hidden_size)"
      ]
    },
    {
      "cell_type": "markdown",
      "id": "8493ecc8",
      "metadata": {
        "id": "8493ecc8"
      },
      "source": [
        "### 2.3 - Inside GPT-2\n",
        "\n",
        "GPT-2 is just many of those modules arranged in a repeating *block*. Let's print the modules inside the Transformer."
      ]
    },
    {
      "cell_type": "code",
      "execution_count": null,
      "id": "a78ddee1",
      "metadata": {
        "id": "a78ddee1"
      },
      "outputs": [],
      "source": [
        "# Print the name and modules inside gpt2\n",
        "\"\"\"\n",
        "YOUR CODE HERE\n",
        "\"\"\""
      ]
    },
    {
      "cell_type": "markdown",
      "id": "ed029847",
      "metadata": {
        "id": "ed029847"
      },
      "source": [
        "As you can see, the Transformer holds various modules, arranged from a list of blocks (`h`). The following table summarizes these modules:\n",
        "\n",
        "| Step | What it does | Why it matters |\n",
        "|------|--------------|----------------|\n",
        "| **Token → Embedding** | Converts IDs to vectors | Gives the model a numeric “handle” on words |\n",
        "| **Positional Encoding** | Adds “where am I?” info | Order matters in language |\n",
        "| **Multi-Head Self-Attention** | Each token asks “which other tokens should I look at?” | Lets the model relate words across a sentence |\n",
        "| **Feed-Forward Network** | Two stacked Linear layers with a non-linearity | Mixes information and adds depth |\n",
        "| **LayerNorm & Residual** | Stabilize training and help gradients flow | Keeps very deep networks trainable |\n"
      ]
    },
    {
      "cell_type": "markdown",
      "id": "0a6a7495",
      "metadata": {
        "id": "0a6a7495"
      },
      "source": [
        "### 2.4 LLM's output\n",
        "\n",
        "Passing a token sequence through an **LLM** yields a tensor of **logits** with shape  \n",
        "`(batch_size, seq_len, vocab_size)`.  \n",
        "Applying `softmax` on the last dimension turns those logits into probabilities.\n",
        "\n",
        "The cell below feeds an 8-token dummy sequence, prints the logits shape, and shows the five most likely next tokens for the final position.\n"
      ]
    },
    {
      "cell_type": "code",
      "execution_count": null,
      "id": "f98b7b34",
      "metadata": {
        "id": "f98b7b34"
      },
      "outputs": [],
      "source": [
        "import torch, torch.nn.functional as F\n",
        "from transformers import GPT2LMHeadModel, GPT2TokenizerFast\n",
        "\n",
        "# Load gpt2 model and tokenizer\n",
        "\"\"\"\n",
        "YOUR CODE HERE\n",
        "\"\"\"\n",
        "\n",
        "# Tokenize input text\n",
        "text = \"Hello my name\"\n",
        "\"\"\"\n",
        "YOUR CODE HERE\n",
        "\"\"\"\n",
        "\n",
        "# Get logits by passing the ids to the gpt2 model.\n",
        "\"\"\"\n",
        "YOUR CODE HERE\n",
        "\"\"\"\n",
        "\n",
        "print(\"Logits shape :\", logits.shape)\n",
        "\n",
        "# Predict next token\n",
        "\"\"\"\n",
        "YOUR CODE HERE\n",
        "\"\"\"\n",
        "\n",
        "print(\"\\nTop-5 predictions for the next token:\")\n",
        "\"\"\"\n",
        "YOUR CODE HERE\n",
        "\"\"\"\n"
      ]
    },
    {
      "cell_type": "markdown",
      "id": "0eb05c9b",
      "metadata": {
        "id": "0eb05c9b"
      },
      "source": [
        "### 2.5 - Key Takeaway\n",
        "\n",
        "A language model is nothing mystical: it’s a *huge composition* of small, understandable layers trained to predict the next token in a sequence of tokens."
      ]
    },
    {
      "cell_type": "markdown",
      "id": "e0ccf391",
      "metadata": {
        "id": "e0ccf391"
      },
      "source": [
        "# 3 - Generation\n",
        "Once an LLM is trained to predict the probabilities, we can generate text from the model. This process is called decoding or sampling.\n",
        "\n",
        "At each step, the LLM outputs a **probability distribution** over the next token. It is the job of the decoding algorithm to pick the next token, and move on to the next token. There are different decoding algorithms and hyper-parameters to control the generaiton:\n",
        "* **Greedy** → pick the single highest‑probability token each step (safe but repetitive).  \n",
        "* **Top‑k / Nucleus (top‑p)** → sample from a subset of likely tokens (adds variety).\n",
        "* **beam** -> applies beam search to pick tokens\n",
        "* **Temperature** → a *creativity* knob. Higher values flatten the probability distribution."
      ]
    },
    {
      "cell_type": "markdown",
      "id": "ac0c5728",
      "metadata": {
        "id": "ac0c5728"
      },
      "source": [
        "### 3.1 - Greedy decoding"
      ]
    },
    {
      "cell_type": "code",
      "execution_count": null,
      "id": "2f2cb953",
      "metadata": {
        "id": "2f2cb953"
      },
      "outputs": [],
      "source": [
        "from transformers import AutoTokenizer, AutoModelForCausalLM\n",
        "MODELS = {\n",
        "    \"gpt2\": \"gpt2\",\n",
        "}\n",
        "tokenizers, models = {}, {}\n",
        "# Load models and tokenizers\n",
        "\"\"\"\n",
        "YOUR CODE HERE\n",
        "\"\"\"\n",
        "\n",
        "def generate(model_key, prompt, strategy=\"greedy\", max_new_tokens=100):\n",
        "    tok, mdl = tokenizers[model_key], models[model_key]\n",
        "    # Return the generations based on the provided strategy: greedy, top_k, top_p\n",
        "    \"\"\"\n",
        "    YOUR CODE HERE\n",
        "    \"\"\"\n"
      ]
    },
    {
      "cell_type": "code",
      "execution_count": null,
      "id": "dbe777ba",
      "metadata": {
        "id": "dbe777ba"
      },
      "outputs": [],
      "source": [
        "tests=[\"Once upon a time\",\"What is 2+2?\", \"Suggest a party theme.\"]\n",
        "for prompt in tests:\n",
        "    print(f\"\\n== GPT-2 | Greedy ==\")\n",
        "    print(generate(\"gpt2\", prompt, \"greedy\", 80))\n"
      ]
    },
    {
      "cell_type": "markdown",
      "id": "f51d44b2",
      "metadata": {
        "id": "f51d44b2"
      },
      "source": [
        "\n",
        "Naively picking the single best token every time has the following issues in practice:\n",
        "\n",
        "* **Loop**: “The cat is is is…”  \n",
        "* **Miss long-term payoff**: the highest-probability word *now* might paint you into a boring corner later."
      ]
    },
    {
      "cell_type": "markdown",
      "id": "91607661",
      "metadata": {
        "id": "91607661"
      },
      "source": [
        "### 3.2 - Top-k or top-p sampling"
      ]
    },
    {
      "cell_type": "code",
      "execution_count": null,
      "id": "0633d4a3",
      "metadata": {
        "id": "0633d4a3"
      },
      "outputs": [],
      "source": [
        "\n",
        "tests=[\"Once upon a time\",\"What is 2+2?\", \"Suggest a party theme.\"]\n",
        "for prompt in tests:\n",
        "    print(f\"\\n== GPT-2 | Top-p ==\")\n",
        "    print(generate(\"gpt2\", prompt, \"top-p\", 40))\n"
      ]
    },
    {
      "cell_type": "markdown",
      "id": "004b4039",
      "metadata": {
        "id": "004b4039"
      },
      "source": [
        "### 3.3 - Try It Yourself\n",
        "\n",
        "1. Scroll to the list called `tests`.\n",
        "2. Swap in your own prompts or tweak the decoding strategy.  \n",
        "3. Re‑run the cell and compare the vibes.\n",
        "\n",
        "> **Tip:** Try the same prompt with `greedy` vs. `top_p` (0.9) and see how the tone changes. Notice especially how small temperature tweaks can soften or sharpen the prose.\n",
        "\n",
        "* `strategy`: `\"greedy\"`, `\"beam\"`, `\"top_k\"`, `\"top_p\"`  \n",
        "* `temperature`: `0.2 – 2.0`  \n",
        "* `k` or `p` thresholds\n",
        "\n"
      ]
    },
    {
      "cell_type": "markdown",
      "id": "6b775b02",
      "metadata": {
        "id": "6b775b02"
      },
      "source": [
        "# 4 - Completion vs. Instruction-tuned LLMs\n",
        "\n",
        "We have seen that we can use GPT2 model to pass an input text and generate a new text. However, this model only continues the provided text. It is not engaging in a dialouge-like conversation and cannot be helpful by answering instructions. On the other hand, **instruction-tuned LLMs** like `Qwen-Chat` go through an extra training stage called **post-training** after the base “completion” model is finished. Because of post-training step, an instruction-tuned LLM will:\n",
        "\n",
        "* **Read the entire prompt as a request,** not just as text to mimic.  \n",
        "* **Stay in dialogue mode**. Answer questions, follow steps, ask clarifying queries.  \n",
        "* **Refuse or safe-complete** when instructions are unsafe or disallowed.  \n",
        "* **Adopt a consistent persona** (e.g., “Assistant”) rather than drifting into story continuation.\n"
      ]
    },
    {
      "cell_type": "markdown",
      "id": "1706dc08",
      "metadata": {
        "id": "1706dc08"
      },
      "source": [
        "### 4.1 - Qwen1.5-8B vs. GPT2\n",
        "\n",
        "In the code below we’ll feed the same prompt to:\n",
        "\n",
        "* **GPT-2 (completion-only)** – it will simply keep writing in the same style.  \n",
        "* **Qwen-Chat (instruction-tuned)** – it will obey the instruction and respond directly.\n",
        "\n",
        "Comparing the two outputs makes the difference easy to see."
      ]
    },
    {
      "cell_type": "code",
      "execution_count": null,
      "id": "57b73e7a",
      "metadata": {
        "id": "57b73e7a"
      },
      "outputs": [],
      "source": [
        "from transformers import AutoTokenizer, AutoModelForCausalLM\n",
        "MODELS = {\n",
        "    \"gpt2\": \"gpt2\",\n",
        "    \"qwen\": \"Qwen/Qwen1.5-1.8B-Chat\"\n",
        "}\n",
        "tokenizers, models = {}, {}\n",
        "# Load models and tokenizers\n",
        "\"\"\"\n",
        "YOUR CODE HERE\n",
        "\"\"\"\n"
      ]
    },
    {
      "cell_type": "markdown",
      "id": "ef49ab1b",
      "metadata": {
        "id": "ef49ab1b"
      },
      "source": [
        "\n",
        "We downloaded two tiny checkpoints: `GPT‑2` (124 M parameters) and `Qwen‑1.5‑Chat` (1.8 B). If the cell took a while, that was mostly network time. Models are stored locally after the first run.\n",
        "\n",
        "Let's now generate text and compare two models.\n"
      ]
    },
    {
      "cell_type": "code",
      "execution_count": null,
      "id": "0c78a508",
      "metadata": {
        "id": "0c78a508"
      },
      "outputs": [],
      "source": [
        "\n",
        "tests=[(\"Once upon a time\",\"greedy\"),(\"What is 2+2?\",\"top_k\"),(\"Suggest a party theme.\",\"top_p\")]\n",
        "for prompt,strategy in tests:\n",
        "    for key in [\"gpt2\",\"qwen\"]:\n",
        "        print(f\"\\n== {key.upper()} | {strategy} ==\")\n",
        "        print(generate(key,prompt,strategy,80))\n"
      ]
    },
    {
      "cell_type": "markdown",
      "id": "8e1c3da1",
      "metadata": {
        "id": "8e1c3da1"
      },
      "source": [
        "# 5. (Optional) A Small LLM Playground"
      ]
    },
    {
      "cell_type": "markdown",
      "id": "313ba974",
      "metadata": {
        "id": "313ba974"
      },
      "source": [
        "### 5.1 ‑ Interactive Playground\n",
        "\n",
        "Enter a prompt, pick a model and decoding strategy, adjust the temperature, and press **Generate** to watch the model respond.\n"
      ]
    },
    {
      "cell_type": "code",
      "execution_count": null,
      "id": "1a67a884",
      "metadata": {
        "id": "1a67a884"
      },
      "outputs": [],
      "source": [
        "import ipywidgets as widgets\n",
        "from IPython.display import display, Markdown\n",
        "\n",
        "# Make sure models and tokenizers are loaded\n",
        "try:\n",
        "    tokenizers\n",
        "    models\n",
        "except NameError:\n",
        "    raise RuntimeError(\"Please run the earlier setup cells that load the models before using the playground.\")\n",
        "\n",
        "def generate_playground(model_key, prompt, strategy=\"greedy\", temperature=1.0, max_new_tokens=100):\n",
        "    # Generation code\n",
        "    \"\"\"\n",
        "    YOUR CODE HERE\n",
        "    \"\"\"\n",
        "\n",
        "# Your code to build boxes, dropdowns, and other elements in the UI using widgets and creating the UI using widgets.vbox and display.\n",
        "# Refer to https://ipywidgets.readthedocs.io/en/stable/\n",
        "\"\"\"\n",
        "YOUR CODE HERE\n",
        "\"\"\"\n"
      ]
    },
    {
      "cell_type": "markdown",
      "id": "cfbccead",
      "metadata": {
        "id": "cfbccead"
      },
      "source": [
        "\n",
        "## 🎉 Congratulations!\n",
        "\n",
        "You’ve just learned, explored, and inspected a real **LLM**. In one project you:\n",
        "* Learned how **tokenization** works in practice\n",
        "* Used `tiktoken` library to load and experiment with most advanced tokenizers.\n",
        "* Explored LLM architecture and inspected GPT2 blocks and layers\n",
        "* Learned decoding strategies and used `top-p` to generate text from GPT2\n",
        "* Loaded a powerful chat model, `Qwen1.5-8B` and generated text\n",
        "* Built an LLM playground\n",
        "\n",
        "\n",
        "👏 **Great job!** Take a moment to celebrate. You now have a working mental model of how LLMs work. The skills you used here power most LLMs you see everywhere.\n"
      ]
    },
    {
      "cell_type": "markdown",
      "id": "30824bd6",
      "metadata": {
        "id": "30824bd6"
      },
      "source": []
    }
  ],
  "metadata": {
    "accelerator": "GPU",
    "colab": {
      "gpuType": "T4",
      "provenance": []
    },
    "kernelspec": {
      "display_name": "llm_playground",
      "language": "python",
      "name": "python3"
    },
    "language_info": {
      "codemirror_mode": {
        "name": "ipython",
        "version": 3
      },
      "file_extension": ".py",
      "mimetype": "text/x-python",
      "name": "python",
      "nbconvert_exporter": "python",
      "pygments_lexer": "ipython3",
      "version": "3.11.12"
    },
    "widgets": {
      "application/vnd.jupyter.widget-state+json": {
        "9a99210546164a1598da58f1896916c3": {
          "model_module": "@jupyter-widgets/controls",
          "model_name": "HBoxModel",
          "model_module_version": "1.5.0",
          "state": {
            "_dom_classes": [],
            "_model_module": "@jupyter-widgets/controls",
            "_model_module_version": "1.5.0",
            "_model_name": "HBoxModel",
            "_view_count": null,
            "_view_module": "@jupyter-widgets/controls",
            "_view_module_version": "1.5.0",
            "_view_name": "HBoxView",
            "box_style": "",
            "children": [
              "IPY_MODEL_9b996ab9398a459394352c68557565f7",
              "IPY_MODEL_f9e52e43a485486da33430ccbd332604",
              "IPY_MODEL_c3213231acfc4d34a221cb29b6fa22c6"
            ],
            "layout": "IPY_MODEL_4dd829a279a04e6894ce1186c317d983"
          }
        },
        "9b996ab9398a459394352c68557565f7": {
          "model_module": "@jupyter-widgets/controls",
          "model_name": "HTMLModel",
          "model_module_version": "1.5.0",
          "state": {
            "_dom_classes": [],
            "_model_module": "@jupyter-widgets/controls",
            "_model_module_version": "1.5.0",
            "_model_name": "HTMLModel",
            "_view_count": null,
            "_view_module": "@jupyter-widgets/controls",
            "_view_module_version": "1.5.0",
            "_view_name": "HTMLView",
            "description": "",
            "description_tooltip": null,
            "layout": "IPY_MODEL_fb33ab8b58f14b2abc90bfc48463d289",
            "placeholder": "​",
            "style": "IPY_MODEL_243cef4049414fbeb310837c90f5da2c",
            "value": "tokenizer_config.json: 100%"
          }
        },
        "f9e52e43a485486da33430ccbd332604": {
          "model_module": "@jupyter-widgets/controls",
          "model_name": "FloatProgressModel",
          "model_module_version": "1.5.0",
          "state": {
            "_dom_classes": [],
            "_model_module": "@jupyter-widgets/controls",
            "_model_module_version": "1.5.0",
            "_model_name": "FloatProgressModel",
            "_view_count": null,
            "_view_module": "@jupyter-widgets/controls",
            "_view_module_version": "1.5.0",
            "_view_name": "ProgressView",
            "bar_style": "success",
            "description": "",
            "description_tooltip": null,
            "layout": "IPY_MODEL_8788252793ac4cfa9803f5a45237004d",
            "max": 26,
            "min": 0,
            "orientation": "horizontal",
            "style": "IPY_MODEL_ea8140da1a3c471e9801a9e548a6d86b",
            "value": 26
          }
        },
        "c3213231acfc4d34a221cb29b6fa22c6": {
          "model_module": "@jupyter-widgets/controls",
          "model_name": "HTMLModel",
          "model_module_version": "1.5.0",
          "state": {
            "_dom_classes": [],
            "_model_module": "@jupyter-widgets/controls",
            "_model_module_version": "1.5.0",
            "_model_name": "HTMLModel",
            "_view_count": null,
            "_view_module": "@jupyter-widgets/controls",
            "_view_module_version": "1.5.0",
            "_view_name": "HTMLView",
            "description": "",
            "description_tooltip": null,
            "layout": "IPY_MODEL_5b97bed691084cadaeb39c3f1c22dcda",
            "placeholder": "​",
            "style": "IPY_MODEL_b9e6b02ad46e49b6a4dc291a31d7da0b",
            "value": " 26.0/26.0 [00:00&lt;00:00, 2.30kB/s]"
          }
        },
        "4dd829a279a04e6894ce1186c317d983": {
          "model_module": "@jupyter-widgets/base",
          "model_name": "LayoutModel",
          "model_module_version": "1.2.0",
          "state": {
            "_model_module": "@jupyter-widgets/base",
            "_model_module_version": "1.2.0",
            "_model_name": "LayoutModel",
            "_view_count": null,
            "_view_module": "@jupyter-widgets/base",
            "_view_module_version": "1.2.0",
            "_view_name": "LayoutView",
            "align_content": null,
            "align_items": null,
            "align_self": null,
            "border": null,
            "bottom": null,
            "display": null,
            "flex": null,
            "flex_flow": null,
            "grid_area": null,
            "grid_auto_columns": null,
            "grid_auto_flow": null,
            "grid_auto_rows": null,
            "grid_column": null,
            "grid_gap": null,
            "grid_row": null,
            "grid_template_areas": null,
            "grid_template_columns": null,
            "grid_template_rows": null,
            "height": null,
            "justify_content": null,
            "justify_items": null,
            "left": null,
            "margin": null,
            "max_height": null,
            "max_width": null,
            "min_height": null,
            "min_width": null,
            "object_fit": null,
            "object_position": null,
            "order": null,
            "overflow": null,
            "overflow_x": null,
            "overflow_y": null,
            "padding": null,
            "right": null,
            "top": null,
            "visibility": null,
            "width": null
          }
        },
        "fb33ab8b58f14b2abc90bfc48463d289": {
          "model_module": "@jupyter-widgets/base",
          "model_name": "LayoutModel",
          "model_module_version": "1.2.0",
          "state": {
            "_model_module": "@jupyter-widgets/base",
            "_model_module_version": "1.2.0",
            "_model_name": "LayoutModel",
            "_view_count": null,
            "_view_module": "@jupyter-widgets/base",
            "_view_module_version": "1.2.0",
            "_view_name": "LayoutView",
            "align_content": null,
            "align_items": null,
            "align_self": null,
            "border": null,
            "bottom": null,
            "display": null,
            "flex": null,
            "flex_flow": null,
            "grid_area": null,
            "grid_auto_columns": null,
            "grid_auto_flow": null,
            "grid_auto_rows": null,
            "grid_column": null,
            "grid_gap": null,
            "grid_row": null,
            "grid_template_areas": null,
            "grid_template_columns": null,
            "grid_template_rows": null,
            "height": null,
            "justify_content": null,
            "justify_items": null,
            "left": null,
            "margin": null,
            "max_height": null,
            "max_width": null,
            "min_height": null,
            "min_width": null,
            "object_fit": null,
            "object_position": null,
            "order": null,
            "overflow": null,
            "overflow_x": null,
            "overflow_y": null,
            "padding": null,
            "right": null,
            "top": null,
            "visibility": null,
            "width": null
          }
        },
        "243cef4049414fbeb310837c90f5da2c": {
          "model_module": "@jupyter-widgets/controls",
          "model_name": "DescriptionStyleModel",
          "model_module_version": "1.5.0",
          "state": {
            "_model_module": "@jupyter-widgets/controls",
            "_model_module_version": "1.5.0",
            "_model_name": "DescriptionStyleModel",
            "_view_count": null,
            "_view_module": "@jupyter-widgets/base",
            "_view_module_version": "1.2.0",
            "_view_name": "StyleView",
            "description_width": ""
          }
        },
        "8788252793ac4cfa9803f5a45237004d": {
          "model_module": "@jupyter-widgets/base",
          "model_name": "LayoutModel",
          "model_module_version": "1.2.0",
          "state": {
            "_model_module": "@jupyter-widgets/base",
            "_model_module_version": "1.2.0",
            "_model_name": "LayoutModel",
            "_view_count": null,
            "_view_module": "@jupyter-widgets/base",
            "_view_module_version": "1.2.0",
            "_view_name": "LayoutView",
            "align_content": null,
            "align_items": null,
            "align_self": null,
            "border": null,
            "bottom": null,
            "display": null,
            "flex": null,
            "flex_flow": null,
            "grid_area": null,
            "grid_auto_columns": null,
            "grid_auto_flow": null,
            "grid_auto_rows": null,
            "grid_column": null,
            "grid_gap": null,
            "grid_row": null,
            "grid_template_areas": null,
            "grid_template_columns": null,
            "grid_template_rows": null,
            "height": null,
            "justify_content": null,
            "justify_items": null,
            "left": null,
            "margin": null,
            "max_height": null,
            "max_width": null,
            "min_height": null,
            "min_width": null,
            "object_fit": null,
            "object_position": null,
            "order": null,
            "overflow": null,
            "overflow_x": null,
            "overflow_y": null,
            "padding": null,
            "right": null,
            "top": null,
            "visibility": null,
            "width": null
          }
        },
        "ea8140da1a3c471e9801a9e548a6d86b": {
          "model_module": "@jupyter-widgets/controls",
          "model_name": "ProgressStyleModel",
          "model_module_version": "1.5.0",
          "state": {
            "_model_module": "@jupyter-widgets/controls",
            "_model_module_version": "1.5.0",
            "_model_name": "ProgressStyleModel",
            "_view_count": null,
            "_view_module": "@jupyter-widgets/base",
            "_view_module_version": "1.2.0",
            "_view_name": "StyleView",
            "bar_color": null,
            "description_width": ""
          }
        },
        "5b97bed691084cadaeb39c3f1c22dcda": {
          "model_module": "@jupyter-widgets/base",
          "model_name": "LayoutModel",
          "model_module_version": "1.2.0",
          "state": {
            "_model_module": "@jupyter-widgets/base",
            "_model_module_version": "1.2.0",
            "_model_name": "LayoutModel",
            "_view_count": null,
            "_view_module": "@jupyter-widgets/base",
            "_view_module_version": "1.2.0",
            "_view_name": "LayoutView",
            "align_content": null,
            "align_items": null,
            "align_self": null,
            "border": null,
            "bottom": null,
            "display": null,
            "flex": null,
            "flex_flow": null,
            "grid_area": null,
            "grid_auto_columns": null,
            "grid_auto_flow": null,
            "grid_auto_rows": null,
            "grid_column": null,
            "grid_gap": null,
            "grid_row": null,
            "grid_template_areas": null,
            "grid_template_columns": null,
            "grid_template_rows": null,
            "height": null,
            "justify_content": null,
            "justify_items": null,
            "left": null,
            "margin": null,
            "max_height": null,
            "max_width": null,
            "min_height": null,
            "min_width": null,
            "object_fit": null,
            "object_position": null,
            "order": null,
            "overflow": null,
            "overflow_x": null,
            "overflow_y": null,
            "padding": null,
            "right": null,
            "top": null,
            "visibility": null,
            "width": null
          }
        },
        "b9e6b02ad46e49b6a4dc291a31d7da0b": {
          "model_module": "@jupyter-widgets/controls",
          "model_name": "DescriptionStyleModel",
          "model_module_version": "1.5.0",
          "state": {
            "_model_module": "@jupyter-widgets/controls",
            "_model_module_version": "1.5.0",
            "_model_name": "DescriptionStyleModel",
            "_view_count": null,
            "_view_module": "@jupyter-widgets/base",
            "_view_module_version": "1.2.0",
            "_view_name": "StyleView",
            "description_width": ""
          }
        },
        "cfe9221477ef4cb6a04f320cc3e0e9bd": {
          "model_module": "@jupyter-widgets/controls",
          "model_name": "HBoxModel",
          "model_module_version": "1.5.0",
          "state": {
            "_dom_classes": [],
            "_model_module": "@jupyter-widgets/controls",
            "_model_module_version": "1.5.0",
            "_model_name": "HBoxModel",
            "_view_count": null,
            "_view_module": "@jupyter-widgets/controls",
            "_view_module_version": "1.5.0",
            "_view_name": "HBoxView",
            "box_style": "",
            "children": [
              "IPY_MODEL_85f9914fa120403fb0cf4176fcf4ac4f",
              "IPY_MODEL_d1022c407d81486bbac97824c583e9e3",
              "IPY_MODEL_bb7d8e6514a34c48bbb7b404eef1bb9b"
            ],
            "layout": "IPY_MODEL_2ecf6d9cbc9e42ecbea0c13c1365830d"
          }
        },
        "85f9914fa120403fb0cf4176fcf4ac4f": {
          "model_module": "@jupyter-widgets/controls",
          "model_name": "HTMLModel",
          "model_module_version": "1.5.0",
          "state": {
            "_dom_classes": [],
            "_model_module": "@jupyter-widgets/controls",
            "_model_module_version": "1.5.0",
            "_model_name": "HTMLModel",
            "_view_count": null,
            "_view_module": "@jupyter-widgets/controls",
            "_view_module_version": "1.5.0",
            "_view_name": "HTMLView",
            "description": "",
            "description_tooltip": null,
            "layout": "IPY_MODEL_e8c9242ea3cf4a31912c8ba08eaeb379",
            "placeholder": "​",
            "style": "IPY_MODEL_d81a3ac55b774990908165ca09d5b281",
            "value": "config.json: 100%"
          }
        },
        "d1022c407d81486bbac97824c583e9e3": {
          "model_module": "@jupyter-widgets/controls",
          "model_name": "FloatProgressModel",
          "model_module_version": "1.5.0",
          "state": {
            "_dom_classes": [],
            "_model_module": "@jupyter-widgets/controls",
            "_model_module_version": "1.5.0",
            "_model_name": "FloatProgressModel",
            "_view_count": null,
            "_view_module": "@jupyter-widgets/controls",
            "_view_module_version": "1.5.0",
            "_view_name": "ProgressView",
            "bar_style": "success",
            "description": "",
            "description_tooltip": null,
            "layout": "IPY_MODEL_ee58b621717d4a7b854596a9d6fbf387",
            "max": 665,
            "min": 0,
            "orientation": "horizontal",
            "style": "IPY_MODEL_90a5869d2a9f4ab8827400208b815f90",
            "value": 665
          }
        },
        "bb7d8e6514a34c48bbb7b404eef1bb9b": {
          "model_module": "@jupyter-widgets/controls",
          "model_name": "HTMLModel",
          "model_module_version": "1.5.0",
          "state": {
            "_dom_classes": [],
            "_model_module": "@jupyter-widgets/controls",
            "_model_module_version": "1.5.0",
            "_model_name": "HTMLModel",
            "_view_count": null,
            "_view_module": "@jupyter-widgets/controls",
            "_view_module_version": "1.5.0",
            "_view_name": "HTMLView",
            "description": "",
            "description_tooltip": null,
            "layout": "IPY_MODEL_e15df1c5c1b944639036781853b4913d",
            "placeholder": "​",
            "style": "IPY_MODEL_a297967078914c09a46ef828335a6cd2",
            "value": " 665/665 [00:00&lt;00:00, 42.8kB/s]"
          }
        },
        "2ecf6d9cbc9e42ecbea0c13c1365830d": {
          "model_module": "@jupyter-widgets/base",
          "model_name": "LayoutModel",
          "model_module_version": "1.2.0",
          "state": {
            "_model_module": "@jupyter-widgets/base",
            "_model_module_version": "1.2.0",
            "_model_name": "LayoutModel",
            "_view_count": null,
            "_view_module": "@jupyter-widgets/base",
            "_view_module_version": "1.2.0",
            "_view_name": "LayoutView",
            "align_content": null,
            "align_items": null,
            "align_self": null,
            "border": null,
            "bottom": null,
            "display": null,
            "flex": null,
            "flex_flow": null,
            "grid_area": null,
            "grid_auto_columns": null,
            "grid_auto_flow": null,
            "grid_auto_rows": null,
            "grid_column": null,
            "grid_gap": null,
            "grid_row": null,
            "grid_template_areas": null,
            "grid_template_columns": null,
            "grid_template_rows": null,
            "height": null,
            "justify_content": null,
            "justify_items": null,
            "left": null,
            "margin": null,
            "max_height": null,
            "max_width": null,
            "min_height": null,
            "min_width": null,
            "object_fit": null,
            "object_position": null,
            "order": null,
            "overflow": null,
            "overflow_x": null,
            "overflow_y": null,
            "padding": null,
            "right": null,
            "top": null,
            "visibility": null,
            "width": null
          }
        },
        "e8c9242ea3cf4a31912c8ba08eaeb379": {
          "model_module": "@jupyter-widgets/base",
          "model_name": "LayoutModel",
          "model_module_version": "1.2.0",
          "state": {
            "_model_module": "@jupyter-widgets/base",
            "_model_module_version": "1.2.0",
            "_model_name": "LayoutModel",
            "_view_count": null,
            "_view_module": "@jupyter-widgets/base",
            "_view_module_version": "1.2.0",
            "_view_name": "LayoutView",
            "align_content": null,
            "align_items": null,
            "align_self": null,
            "border": null,
            "bottom": null,
            "display": null,
            "flex": null,
            "flex_flow": null,
            "grid_area": null,
            "grid_auto_columns": null,
            "grid_auto_flow": null,
            "grid_auto_rows": null,
            "grid_column": null,
            "grid_gap": null,
            "grid_row": null,
            "grid_template_areas": null,
            "grid_template_columns": null,
            "grid_template_rows": null,
            "height": null,
            "justify_content": null,
            "justify_items": null,
            "left": null,
            "margin": null,
            "max_height": null,
            "max_width": null,
            "min_height": null,
            "min_width": null,
            "object_fit": null,
            "object_position": null,
            "order": null,
            "overflow": null,
            "overflow_x": null,
            "overflow_y": null,
            "padding": null,
            "right": null,
            "top": null,
            "visibility": null,
            "width": null
          }
        },
        "d81a3ac55b774990908165ca09d5b281": {
          "model_module": "@jupyter-widgets/controls",
          "model_name": "DescriptionStyleModel",
          "model_module_version": "1.5.0",
          "state": {
            "_model_module": "@jupyter-widgets/controls",
            "_model_module_version": "1.5.0",
            "_model_name": "DescriptionStyleModel",
            "_view_count": null,
            "_view_module": "@jupyter-widgets/base",
            "_view_module_version": "1.2.0",
            "_view_name": "StyleView",
            "description_width": ""
          }
        },
        "ee58b621717d4a7b854596a9d6fbf387": {
          "model_module": "@jupyter-widgets/base",
          "model_name": "LayoutModel",
          "model_module_version": "1.2.0",
          "state": {
            "_model_module": "@jupyter-widgets/base",
            "_model_module_version": "1.2.0",
            "_model_name": "LayoutModel",
            "_view_count": null,
            "_view_module": "@jupyter-widgets/base",
            "_view_module_version": "1.2.0",
            "_view_name": "LayoutView",
            "align_content": null,
            "align_items": null,
            "align_self": null,
            "border": null,
            "bottom": null,
            "display": null,
            "flex": null,
            "flex_flow": null,
            "grid_area": null,
            "grid_auto_columns": null,
            "grid_auto_flow": null,
            "grid_auto_rows": null,
            "grid_column": null,
            "grid_gap": null,
            "grid_row": null,
            "grid_template_areas": null,
            "grid_template_columns": null,
            "grid_template_rows": null,
            "height": null,
            "justify_content": null,
            "justify_items": null,
            "left": null,
            "margin": null,
            "max_height": null,
            "max_width": null,
            "min_height": null,
            "min_width": null,
            "object_fit": null,
            "object_position": null,
            "order": null,
            "overflow": null,
            "overflow_x": null,
            "overflow_y": null,
            "padding": null,
            "right": null,
            "top": null,
            "visibility": null,
            "width": null
          }
        },
        "90a5869d2a9f4ab8827400208b815f90": {
          "model_module": "@jupyter-widgets/controls",
          "model_name": "ProgressStyleModel",
          "model_module_version": "1.5.0",
          "state": {
            "_model_module": "@jupyter-widgets/controls",
            "_model_module_version": "1.5.0",
            "_model_name": "ProgressStyleModel",
            "_view_count": null,
            "_view_module": "@jupyter-widgets/base",
            "_view_module_version": "1.2.0",
            "_view_name": "StyleView",
            "bar_color": null,
            "description_width": ""
          }
        },
        "e15df1c5c1b944639036781853b4913d": {
          "model_module": "@jupyter-widgets/base",
          "model_name": "LayoutModel",
          "model_module_version": "1.2.0",
          "state": {
            "_model_module": "@jupyter-widgets/base",
            "_model_module_version": "1.2.0",
            "_model_name": "LayoutModel",
            "_view_count": null,
            "_view_module": "@jupyter-widgets/base",
            "_view_module_version": "1.2.0",
            "_view_name": "LayoutView",
            "align_content": null,
            "align_items": null,
            "align_self": null,
            "border": null,
            "bottom": null,
            "display": null,
            "flex": null,
            "flex_flow": null,
            "grid_area": null,
            "grid_auto_columns": null,
            "grid_auto_flow": null,
            "grid_auto_rows": null,
            "grid_column": null,
            "grid_gap": null,
            "grid_row": null,
            "grid_template_areas": null,
            "grid_template_columns": null,
            "grid_template_rows": null,
            "height": null,
            "justify_content": null,
            "justify_items": null,
            "left": null,
            "margin": null,
            "max_height": null,
            "max_width": null,
            "min_height": null,
            "min_width": null,
            "object_fit": null,
            "object_position": null,
            "order": null,
            "overflow": null,
            "overflow_x": null,
            "overflow_y": null,
            "padding": null,
            "right": null,
            "top": null,
            "visibility": null,
            "width": null
          }
        },
        "a297967078914c09a46ef828335a6cd2": {
          "model_module": "@jupyter-widgets/controls",
          "model_name": "DescriptionStyleModel",
          "model_module_version": "1.5.0",
          "state": {
            "_model_module": "@jupyter-widgets/controls",
            "_model_module_version": "1.5.0",
            "_model_name": "DescriptionStyleModel",
            "_view_count": null,
            "_view_module": "@jupyter-widgets/base",
            "_view_module_version": "1.2.0",
            "_view_name": "StyleView",
            "description_width": ""
          }
        },
        "38062086192c40f0910734cd95bddffa": {
          "model_module": "@jupyter-widgets/controls",
          "model_name": "HBoxModel",
          "model_module_version": "1.5.0",
          "state": {
            "_dom_classes": [],
            "_model_module": "@jupyter-widgets/controls",
            "_model_module_version": "1.5.0",
            "_model_name": "HBoxModel",
            "_view_count": null,
            "_view_module": "@jupyter-widgets/controls",
            "_view_module_version": "1.5.0",
            "_view_name": "HBoxView",
            "box_style": "",
            "children": [
              "IPY_MODEL_08a0a59e968a46d9a84aeb48eb3cc35e",
              "IPY_MODEL_0e040fb744014a9a9ebb8f72a0166458",
              "IPY_MODEL_519b24a47bad4b0c9d4187cd87708d8f"
            ],
            "layout": "IPY_MODEL_02e55b6cbfbb4724a07571db49be18f8"
          }
        },
        "08a0a59e968a46d9a84aeb48eb3cc35e": {
          "model_module": "@jupyter-widgets/controls",
          "model_name": "HTMLModel",
          "model_module_version": "1.5.0",
          "state": {
            "_dom_classes": [],
            "_model_module": "@jupyter-widgets/controls",
            "_model_module_version": "1.5.0",
            "_model_name": "HTMLModel",
            "_view_count": null,
            "_view_module": "@jupyter-widgets/controls",
            "_view_module_version": "1.5.0",
            "_view_name": "HTMLView",
            "description": "",
            "description_tooltip": null,
            "layout": "IPY_MODEL_c9d552e48fe34815af6db4708b4026f7",
            "placeholder": "​",
            "style": "IPY_MODEL_1b420d2c155d40ab8c4c427b1b9ca9e1",
            "value": "vocab.json: 100%"
          }
        },
        "0e040fb744014a9a9ebb8f72a0166458": {
          "model_module": "@jupyter-widgets/controls",
          "model_name": "FloatProgressModel",
          "model_module_version": "1.5.0",
          "state": {
            "_dom_classes": [],
            "_model_module": "@jupyter-widgets/controls",
            "_model_module_version": "1.5.0",
            "_model_name": "FloatProgressModel",
            "_view_count": null,
            "_view_module": "@jupyter-widgets/controls",
            "_view_module_version": "1.5.0",
            "_view_name": "ProgressView",
            "bar_style": "success",
            "description": "",
            "description_tooltip": null,
            "layout": "IPY_MODEL_cf647452293a4096be85e9bfaa91c04c",
            "max": 1042301,
            "min": 0,
            "orientation": "horizontal",
            "style": "IPY_MODEL_949b6f8300d5484f8daf021d4d225bea",
            "value": 1042301
          }
        },
        "519b24a47bad4b0c9d4187cd87708d8f": {
          "model_module": "@jupyter-widgets/controls",
          "model_name": "HTMLModel",
          "model_module_version": "1.5.0",
          "state": {
            "_dom_classes": [],
            "_model_module": "@jupyter-widgets/controls",
            "_model_module_version": "1.5.0",
            "_model_name": "HTMLModel",
            "_view_count": null,
            "_view_module": "@jupyter-widgets/controls",
            "_view_module_version": "1.5.0",
            "_view_name": "HTMLView",
            "description": "",
            "description_tooltip": null,
            "layout": "IPY_MODEL_205776bc129f4b7888ed3c7169300ec2",
            "placeholder": "​",
            "style": "IPY_MODEL_3ee49d92d67543c2ae6badeb406ba472",
            "value": " 1.04M/1.04M [00:00&lt;00:00, 23.4MB/s]"
          }
        },
        "02e55b6cbfbb4724a07571db49be18f8": {
          "model_module": "@jupyter-widgets/base",
          "model_name": "LayoutModel",
          "model_module_version": "1.2.0",
          "state": {
            "_model_module": "@jupyter-widgets/base",
            "_model_module_version": "1.2.0",
            "_model_name": "LayoutModel",
            "_view_count": null,
            "_view_module": "@jupyter-widgets/base",
            "_view_module_version": "1.2.0",
            "_view_name": "LayoutView",
            "align_content": null,
            "align_items": null,
            "align_self": null,
            "border": null,
            "bottom": null,
            "display": null,
            "flex": null,
            "flex_flow": null,
            "grid_area": null,
            "grid_auto_columns": null,
            "grid_auto_flow": null,
            "grid_auto_rows": null,
            "grid_column": null,
            "grid_gap": null,
            "grid_row": null,
            "grid_template_areas": null,
            "grid_template_columns": null,
            "grid_template_rows": null,
            "height": null,
            "justify_content": null,
            "justify_items": null,
            "left": null,
            "margin": null,
            "max_height": null,
            "max_width": null,
            "min_height": null,
            "min_width": null,
            "object_fit": null,
            "object_position": null,
            "order": null,
            "overflow": null,
            "overflow_x": null,
            "overflow_y": null,
            "padding": null,
            "right": null,
            "top": null,
            "visibility": null,
            "width": null
          }
        },
        "c9d552e48fe34815af6db4708b4026f7": {
          "model_module": "@jupyter-widgets/base",
          "model_name": "LayoutModel",
          "model_module_version": "1.2.0",
          "state": {
            "_model_module": "@jupyter-widgets/base",
            "_model_module_version": "1.2.0",
            "_model_name": "LayoutModel",
            "_view_count": null,
            "_view_module": "@jupyter-widgets/base",
            "_view_module_version": "1.2.0",
            "_view_name": "LayoutView",
            "align_content": null,
            "align_items": null,
            "align_self": null,
            "border": null,
            "bottom": null,
            "display": null,
            "flex": null,
            "flex_flow": null,
            "grid_area": null,
            "grid_auto_columns": null,
            "grid_auto_flow": null,
            "grid_auto_rows": null,
            "grid_column": null,
            "grid_gap": null,
            "grid_row": null,
            "grid_template_areas": null,
            "grid_template_columns": null,
            "grid_template_rows": null,
            "height": null,
            "justify_content": null,
            "justify_items": null,
            "left": null,
            "margin": null,
            "max_height": null,
            "max_width": null,
            "min_height": null,
            "min_width": null,
            "object_fit": null,
            "object_position": null,
            "order": null,
            "overflow": null,
            "overflow_x": null,
            "overflow_y": null,
            "padding": null,
            "right": null,
            "top": null,
            "visibility": null,
            "width": null
          }
        },
        "1b420d2c155d40ab8c4c427b1b9ca9e1": {
          "model_module": "@jupyter-widgets/controls",
          "model_name": "DescriptionStyleModel",
          "model_module_version": "1.5.0",
          "state": {
            "_model_module": "@jupyter-widgets/controls",
            "_model_module_version": "1.5.0",
            "_model_name": "DescriptionStyleModel",
            "_view_count": null,
            "_view_module": "@jupyter-widgets/base",
            "_view_module_version": "1.2.0",
            "_view_name": "StyleView",
            "description_width": ""
          }
        },
        "cf647452293a4096be85e9bfaa91c04c": {
          "model_module": "@jupyter-widgets/base",
          "model_name": "LayoutModel",
          "model_module_version": "1.2.0",
          "state": {
            "_model_module": "@jupyter-widgets/base",
            "_model_module_version": "1.2.0",
            "_model_name": "LayoutModel",
            "_view_count": null,
            "_view_module": "@jupyter-widgets/base",
            "_view_module_version": "1.2.0",
            "_view_name": "LayoutView",
            "align_content": null,
            "align_items": null,
            "align_self": null,
            "border": null,
            "bottom": null,
            "display": null,
            "flex": null,
            "flex_flow": null,
            "grid_area": null,
            "grid_auto_columns": null,
            "grid_auto_flow": null,
            "grid_auto_rows": null,
            "grid_column": null,
            "grid_gap": null,
            "grid_row": null,
            "grid_template_areas": null,
            "grid_template_columns": null,
            "grid_template_rows": null,
            "height": null,
            "justify_content": null,
            "justify_items": null,
            "left": null,
            "margin": null,
            "max_height": null,
            "max_width": null,
            "min_height": null,
            "min_width": null,
            "object_fit": null,
            "object_position": null,
            "order": null,
            "overflow": null,
            "overflow_x": null,
            "overflow_y": null,
            "padding": null,
            "right": null,
            "top": null,
            "visibility": null,
            "width": null
          }
        },
        "949b6f8300d5484f8daf021d4d225bea": {
          "model_module": "@jupyter-widgets/controls",
          "model_name": "ProgressStyleModel",
          "model_module_version": "1.5.0",
          "state": {
            "_model_module": "@jupyter-widgets/controls",
            "_model_module_version": "1.5.0",
            "_model_name": "ProgressStyleModel",
            "_view_count": null,
            "_view_module": "@jupyter-widgets/base",
            "_view_module_version": "1.2.0",
            "_view_name": "StyleView",
            "bar_color": null,
            "description_width": ""
          }
        },
        "205776bc129f4b7888ed3c7169300ec2": {
          "model_module": "@jupyter-widgets/base",
          "model_name": "LayoutModel",
          "model_module_version": "1.2.0",
          "state": {
            "_model_module": "@jupyter-widgets/base",
            "_model_module_version": "1.2.0",
            "_model_name": "LayoutModel",
            "_view_count": null,
            "_view_module": "@jupyter-widgets/base",
            "_view_module_version": "1.2.0",
            "_view_name": "LayoutView",
            "align_content": null,
            "align_items": null,
            "align_self": null,
            "border": null,
            "bottom": null,
            "display": null,
            "flex": null,
            "flex_flow": null,
            "grid_area": null,
            "grid_auto_columns": null,
            "grid_auto_flow": null,
            "grid_auto_rows": null,
            "grid_column": null,
            "grid_gap": null,
            "grid_row": null,
            "grid_template_areas": null,
            "grid_template_columns": null,
            "grid_template_rows": null,
            "height": null,
            "justify_content": null,
            "justify_items": null,
            "left": null,
            "margin": null,
            "max_height": null,
            "max_width": null,
            "min_height": null,
            "min_width": null,
            "object_fit": null,
            "object_position": null,
            "order": null,
            "overflow": null,
            "overflow_x": null,
            "overflow_y": null,
            "padding": null,
            "right": null,
            "top": null,
            "visibility": null,
            "width": null
          }
        },
        "3ee49d92d67543c2ae6badeb406ba472": {
          "model_module": "@jupyter-widgets/controls",
          "model_name": "DescriptionStyleModel",
          "model_module_version": "1.5.0",
          "state": {
            "_model_module": "@jupyter-widgets/controls",
            "_model_module_version": "1.5.0",
            "_model_name": "DescriptionStyleModel",
            "_view_count": null,
            "_view_module": "@jupyter-widgets/base",
            "_view_module_version": "1.2.0",
            "_view_name": "StyleView",
            "description_width": ""
          }
        },
        "1416356df5d54e7db2a7a865f795c9b8": {
          "model_module": "@jupyter-widgets/controls",
          "model_name": "HBoxModel",
          "model_module_version": "1.5.0",
          "state": {
            "_dom_classes": [],
            "_model_module": "@jupyter-widgets/controls",
            "_model_module_version": "1.5.0",
            "_model_name": "HBoxModel",
            "_view_count": null,
            "_view_module": "@jupyter-widgets/controls",
            "_view_module_version": "1.5.0",
            "_view_name": "HBoxView",
            "box_style": "",
            "children": [
              "IPY_MODEL_cd9f556e5e314c22834f77d1f5d033c7",
              "IPY_MODEL_9a3cda90ee1f41138e0f40e60563a20d",
              "IPY_MODEL_7aa3d15355df48d79281be697c70e97a"
            ],
            "layout": "IPY_MODEL_b71ae7836d27494eb496027052f280f0"
          }
        },
        "cd9f556e5e314c22834f77d1f5d033c7": {
          "model_module": "@jupyter-widgets/controls",
          "model_name": "HTMLModel",
          "model_module_version": "1.5.0",
          "state": {
            "_dom_classes": [],
            "_model_module": "@jupyter-widgets/controls",
            "_model_module_version": "1.5.0",
            "_model_name": "HTMLModel",
            "_view_count": null,
            "_view_module": "@jupyter-widgets/controls",
            "_view_module_version": "1.5.0",
            "_view_name": "HTMLView",
            "description": "",
            "description_tooltip": null,
            "layout": "IPY_MODEL_c62781f7bcc64d0cb4b23e5835c615d5",
            "placeholder": "​",
            "style": "IPY_MODEL_f0d2cbcd27ef490c81ac4f9684a0cad9",
            "value": "merges.txt: 100%"
          }
        },
        "9a3cda90ee1f41138e0f40e60563a20d": {
          "model_module": "@jupyter-widgets/controls",
          "model_name": "FloatProgressModel",
          "model_module_version": "1.5.0",
          "state": {
            "_dom_classes": [],
            "_model_module": "@jupyter-widgets/controls",
            "_model_module_version": "1.5.0",
            "_model_name": "FloatProgressModel",
            "_view_count": null,
            "_view_module": "@jupyter-widgets/controls",
            "_view_module_version": "1.5.0",
            "_view_name": "ProgressView",
            "bar_style": "success",
            "description": "",
            "description_tooltip": null,
            "layout": "IPY_MODEL_0a4a0aedbb45451489b6e320517c07c4",
            "max": 456318,
            "min": 0,
            "orientation": "horizontal",
            "style": "IPY_MODEL_c547fe1e59b0428bb4007c10cbbc35c1",
            "value": 456318
          }
        },
        "7aa3d15355df48d79281be697c70e97a": {
          "model_module": "@jupyter-widgets/controls",
          "model_name": "HTMLModel",
          "model_module_version": "1.5.0",
          "state": {
            "_dom_classes": [],
            "_model_module": "@jupyter-widgets/controls",
            "_model_module_version": "1.5.0",
            "_model_name": "HTMLModel",
            "_view_count": null,
            "_view_module": "@jupyter-widgets/controls",
            "_view_module_version": "1.5.0",
            "_view_name": "HTMLView",
            "description": "",
            "description_tooltip": null,
            "layout": "IPY_MODEL_088bd126c16c4b07850eb2c44eee04a3",
            "placeholder": "​",
            "style": "IPY_MODEL_a71932add665481eb4d8edca95f56876",
            "value": " 456k/456k [00:00&lt;00:00, 38.5MB/s]"
          }
        },
        "b71ae7836d27494eb496027052f280f0": {
          "model_module": "@jupyter-widgets/base",
          "model_name": "LayoutModel",
          "model_module_version": "1.2.0",
          "state": {
            "_model_module": "@jupyter-widgets/base",
            "_model_module_version": "1.2.0",
            "_model_name": "LayoutModel",
            "_view_count": null,
            "_view_module": "@jupyter-widgets/base",
            "_view_module_version": "1.2.0",
            "_view_name": "LayoutView",
            "align_content": null,
            "align_items": null,
            "align_self": null,
            "border": null,
            "bottom": null,
            "display": null,
            "flex": null,
            "flex_flow": null,
            "grid_area": null,
            "grid_auto_columns": null,
            "grid_auto_flow": null,
            "grid_auto_rows": null,
            "grid_column": null,
            "grid_gap": null,
            "grid_row": null,
            "grid_template_areas": null,
            "grid_template_columns": null,
            "grid_template_rows": null,
            "height": null,
            "justify_content": null,
            "justify_items": null,
            "left": null,
            "margin": null,
            "max_height": null,
            "max_width": null,
            "min_height": null,
            "min_width": null,
            "object_fit": null,
            "object_position": null,
            "order": null,
            "overflow": null,
            "overflow_x": null,
            "overflow_y": null,
            "padding": null,
            "right": null,
            "top": null,
            "visibility": null,
            "width": null
          }
        },
        "c62781f7bcc64d0cb4b23e5835c615d5": {
          "model_module": "@jupyter-widgets/base",
          "model_name": "LayoutModel",
          "model_module_version": "1.2.0",
          "state": {
            "_model_module": "@jupyter-widgets/base",
            "_model_module_version": "1.2.0",
            "_model_name": "LayoutModel",
            "_view_count": null,
            "_view_module": "@jupyter-widgets/base",
            "_view_module_version": "1.2.0",
            "_view_name": "LayoutView",
            "align_content": null,
            "align_items": null,
            "align_self": null,
            "border": null,
            "bottom": null,
            "display": null,
            "flex": null,
            "flex_flow": null,
            "grid_area": null,
            "grid_auto_columns": null,
            "grid_auto_flow": null,
            "grid_auto_rows": null,
            "grid_column": null,
            "grid_gap": null,
            "grid_row": null,
            "grid_template_areas": null,
            "grid_template_columns": null,
            "grid_template_rows": null,
            "height": null,
            "justify_content": null,
            "justify_items": null,
            "left": null,
            "margin": null,
            "max_height": null,
            "max_width": null,
            "min_height": null,
            "min_width": null,
            "object_fit": null,
            "object_position": null,
            "order": null,
            "overflow": null,
            "overflow_x": null,
            "overflow_y": null,
            "padding": null,
            "right": null,
            "top": null,
            "visibility": null,
            "width": null
          }
        },
        "f0d2cbcd27ef490c81ac4f9684a0cad9": {
          "model_module": "@jupyter-widgets/controls",
          "model_name": "DescriptionStyleModel",
          "model_module_version": "1.5.0",
          "state": {
            "_model_module": "@jupyter-widgets/controls",
            "_model_module_version": "1.5.0",
            "_model_name": "DescriptionStyleModel",
            "_view_count": null,
            "_view_module": "@jupyter-widgets/base",
            "_view_module_version": "1.2.0",
            "_view_name": "StyleView",
            "description_width": ""
          }
        },
        "0a4a0aedbb45451489b6e320517c07c4": {
          "model_module": "@jupyter-widgets/base",
          "model_name": "LayoutModel",
          "model_module_version": "1.2.0",
          "state": {
            "_model_module": "@jupyter-widgets/base",
            "_model_module_version": "1.2.0",
            "_model_name": "LayoutModel",
            "_view_count": null,
            "_view_module": "@jupyter-widgets/base",
            "_view_module_version": "1.2.0",
            "_view_name": "LayoutView",
            "align_content": null,
            "align_items": null,
            "align_self": null,
            "border": null,
            "bottom": null,
            "display": null,
            "flex": null,
            "flex_flow": null,
            "grid_area": null,
            "grid_auto_columns": null,
            "grid_auto_flow": null,
            "grid_auto_rows": null,
            "grid_column": null,
            "grid_gap": null,
            "grid_row": null,
            "grid_template_areas": null,
            "grid_template_columns": null,
            "grid_template_rows": null,
            "height": null,
            "justify_content": null,
            "justify_items": null,
            "left": null,
            "margin": null,
            "max_height": null,
            "max_width": null,
            "min_height": null,
            "min_width": null,
            "object_fit": null,
            "object_position": null,
            "order": null,
            "overflow": null,
            "overflow_x": null,
            "overflow_y": null,
            "padding": null,
            "right": null,
            "top": null,
            "visibility": null,
            "width": null
          }
        },
        "c547fe1e59b0428bb4007c10cbbc35c1": {
          "model_module": "@jupyter-widgets/controls",
          "model_name": "ProgressStyleModel",
          "model_module_version": "1.5.0",
          "state": {
            "_model_module": "@jupyter-widgets/controls",
            "_model_module_version": "1.5.0",
            "_model_name": "ProgressStyleModel",
            "_view_count": null,
            "_view_module": "@jupyter-widgets/base",
            "_view_module_version": "1.2.0",
            "_view_name": "StyleView",
            "bar_color": null,
            "description_width": ""
          }
        },
        "088bd126c16c4b07850eb2c44eee04a3": {
          "model_module": "@jupyter-widgets/base",
          "model_name": "LayoutModel",
          "model_module_version": "1.2.0",
          "state": {
            "_model_module": "@jupyter-widgets/base",
            "_model_module_version": "1.2.0",
            "_model_name": "LayoutModel",
            "_view_count": null,
            "_view_module": "@jupyter-widgets/base",
            "_view_module_version": "1.2.0",
            "_view_name": "LayoutView",
            "align_content": null,
            "align_items": null,
            "align_self": null,
            "border": null,
            "bottom": null,
            "display": null,
            "flex": null,
            "flex_flow": null,
            "grid_area": null,
            "grid_auto_columns": null,
            "grid_auto_flow": null,
            "grid_auto_rows": null,
            "grid_column": null,
            "grid_gap": null,
            "grid_row": null,
            "grid_template_areas": null,
            "grid_template_columns": null,
            "grid_template_rows": null,
            "height": null,
            "justify_content": null,
            "justify_items": null,
            "left": null,
            "margin": null,
            "max_height": null,
            "max_width": null,
            "min_height": null,
            "min_width": null,
            "object_fit": null,
            "object_position": null,
            "order": null,
            "overflow": null,
            "overflow_x": null,
            "overflow_y": null,
            "padding": null,
            "right": null,
            "top": null,
            "visibility": null,
            "width": null
          }
        },
        "a71932add665481eb4d8edca95f56876": {
          "model_module": "@jupyter-widgets/controls",
          "model_name": "DescriptionStyleModel",
          "model_module_version": "1.5.0",
          "state": {
            "_model_module": "@jupyter-widgets/controls",
            "_model_module_version": "1.5.0",
            "_model_name": "DescriptionStyleModel",
            "_view_count": null,
            "_view_module": "@jupyter-widgets/base",
            "_view_module_version": "1.2.0",
            "_view_name": "StyleView",
            "description_width": ""
          }
        },
        "118f0ac37ebd4a40abc6c8a560f07085": {
          "model_module": "@jupyter-widgets/controls",
          "model_name": "HBoxModel",
          "model_module_version": "1.5.0",
          "state": {
            "_dom_classes": [],
            "_model_module": "@jupyter-widgets/controls",
            "_model_module_version": "1.5.0",
            "_model_name": "HBoxModel",
            "_view_count": null,
            "_view_module": "@jupyter-widgets/controls",
            "_view_module_version": "1.5.0",
            "_view_name": "HBoxView",
            "box_style": "",
            "children": [
              "IPY_MODEL_a226289940694759a905aa8c6ebf6245",
              "IPY_MODEL_ae6094d361894210baa538ab5c67b71d",
              "IPY_MODEL_d58fc48ba5ee4bc3be58c2eb04a64970"
            ],
            "layout": "IPY_MODEL_8bc9e44c224e4a67ae14996464b58e1b"
          }
        },
        "a226289940694759a905aa8c6ebf6245": {
          "model_module": "@jupyter-widgets/controls",
          "model_name": "HTMLModel",
          "model_module_version": "1.5.0",
          "state": {
            "_dom_classes": [],
            "_model_module": "@jupyter-widgets/controls",
            "_model_module_version": "1.5.0",
            "_model_name": "HTMLModel",
            "_view_count": null,
            "_view_module": "@jupyter-widgets/controls",
            "_view_module_version": "1.5.0",
            "_view_name": "HTMLView",
            "description": "",
            "description_tooltip": null,
            "layout": "IPY_MODEL_bfd7a4b126c44e5583799a6841ad4f1c",
            "placeholder": "​",
            "style": "IPY_MODEL_0ef5e27d76e84ce79dbe2297fe73d551",
            "value": "tokenizer.json: 100%"
          }
        },
        "ae6094d361894210baa538ab5c67b71d": {
          "model_module": "@jupyter-widgets/controls",
          "model_name": "FloatProgressModel",
          "model_module_version": "1.5.0",
          "state": {
            "_dom_classes": [],
            "_model_module": "@jupyter-widgets/controls",
            "_model_module_version": "1.5.0",
            "_model_name": "FloatProgressModel",
            "_view_count": null,
            "_view_module": "@jupyter-widgets/controls",
            "_view_module_version": "1.5.0",
            "_view_name": "ProgressView",
            "bar_style": "success",
            "description": "",
            "description_tooltip": null,
            "layout": "IPY_MODEL_2f6dd04612584d81884a41cc5593787a",
            "max": 1355256,
            "min": 0,
            "orientation": "horizontal",
            "style": "IPY_MODEL_a78ffd6c54004a3fa1af4e7764b0de93",
            "value": 1355256
          }
        },
        "d58fc48ba5ee4bc3be58c2eb04a64970": {
          "model_module": "@jupyter-widgets/controls",
          "model_name": "HTMLModel",
          "model_module_version": "1.5.0",
          "state": {
            "_dom_classes": [],
            "_model_module": "@jupyter-widgets/controls",
            "_model_module_version": "1.5.0",
            "_model_name": "HTMLModel",
            "_view_count": null,
            "_view_module": "@jupyter-widgets/controls",
            "_view_module_version": "1.5.0",
            "_view_name": "HTMLView",
            "description": "",
            "description_tooltip": null,
            "layout": "IPY_MODEL_c6c46f1df5dc4db690f6d8625d9c6b6e",
            "placeholder": "​",
            "style": "IPY_MODEL_55110e23913c4ac692c0a2f2d2735a7c",
            "value": " 1.36M/1.36M [00:00&lt;00:00, 5.77MB/s]"
          }
        },
        "8bc9e44c224e4a67ae14996464b58e1b": {
          "model_module": "@jupyter-widgets/base",
          "model_name": "LayoutModel",
          "model_module_version": "1.2.0",
          "state": {
            "_model_module": "@jupyter-widgets/base",
            "_model_module_version": "1.2.0",
            "_model_name": "LayoutModel",
            "_view_count": null,
            "_view_module": "@jupyter-widgets/base",
            "_view_module_version": "1.2.0",
            "_view_name": "LayoutView",
            "align_content": null,
            "align_items": null,
            "align_self": null,
            "border": null,
            "bottom": null,
            "display": null,
            "flex": null,
            "flex_flow": null,
            "grid_area": null,
            "grid_auto_columns": null,
            "grid_auto_flow": null,
            "grid_auto_rows": null,
            "grid_column": null,
            "grid_gap": null,
            "grid_row": null,
            "grid_template_areas": null,
            "grid_template_columns": null,
            "grid_template_rows": null,
            "height": null,
            "justify_content": null,
            "justify_items": null,
            "left": null,
            "margin": null,
            "max_height": null,
            "max_width": null,
            "min_height": null,
            "min_width": null,
            "object_fit": null,
            "object_position": null,
            "order": null,
            "overflow": null,
            "overflow_x": null,
            "overflow_y": null,
            "padding": null,
            "right": null,
            "top": null,
            "visibility": null,
            "width": null
          }
        },
        "bfd7a4b126c44e5583799a6841ad4f1c": {
          "model_module": "@jupyter-widgets/base",
          "model_name": "LayoutModel",
          "model_module_version": "1.2.0",
          "state": {
            "_model_module": "@jupyter-widgets/base",
            "_model_module_version": "1.2.0",
            "_model_name": "LayoutModel",
            "_view_count": null,
            "_view_module": "@jupyter-widgets/base",
            "_view_module_version": "1.2.0",
            "_view_name": "LayoutView",
            "align_content": null,
            "align_items": null,
            "align_self": null,
            "border": null,
            "bottom": null,
            "display": null,
            "flex": null,
            "flex_flow": null,
            "grid_area": null,
            "grid_auto_columns": null,
            "grid_auto_flow": null,
            "grid_auto_rows": null,
            "grid_column": null,
            "grid_gap": null,
            "grid_row": null,
            "grid_template_areas": null,
            "grid_template_columns": null,
            "grid_template_rows": null,
            "height": null,
            "justify_content": null,
            "justify_items": null,
            "left": null,
            "margin": null,
            "max_height": null,
            "max_width": null,
            "min_height": null,
            "min_width": null,
            "object_fit": null,
            "object_position": null,
            "order": null,
            "overflow": null,
            "overflow_x": null,
            "overflow_y": null,
            "padding": null,
            "right": null,
            "top": null,
            "visibility": null,
            "width": null
          }
        },
        "0ef5e27d76e84ce79dbe2297fe73d551": {
          "model_module": "@jupyter-widgets/controls",
          "model_name": "DescriptionStyleModel",
          "model_module_version": "1.5.0",
          "state": {
            "_model_module": "@jupyter-widgets/controls",
            "_model_module_version": "1.5.0",
            "_model_name": "DescriptionStyleModel",
            "_view_count": null,
            "_view_module": "@jupyter-widgets/base",
            "_view_module_version": "1.2.0",
            "_view_name": "StyleView",
            "description_width": ""
          }
        },
        "2f6dd04612584d81884a41cc5593787a": {
          "model_module": "@jupyter-widgets/base",
          "model_name": "LayoutModel",
          "model_module_version": "1.2.0",
          "state": {
            "_model_module": "@jupyter-widgets/base",
            "_model_module_version": "1.2.0",
            "_model_name": "LayoutModel",
            "_view_count": null,
            "_view_module": "@jupyter-widgets/base",
            "_view_module_version": "1.2.0",
            "_view_name": "LayoutView",
            "align_content": null,
            "align_items": null,
            "align_self": null,
            "border": null,
            "bottom": null,
            "display": null,
            "flex": null,
            "flex_flow": null,
            "grid_area": null,
            "grid_auto_columns": null,
            "grid_auto_flow": null,
            "grid_auto_rows": null,
            "grid_column": null,
            "grid_gap": null,
            "grid_row": null,
            "grid_template_areas": null,
            "grid_template_columns": null,
            "grid_template_rows": null,
            "height": null,
            "justify_content": null,
            "justify_items": null,
            "left": null,
            "margin": null,
            "max_height": null,
            "max_width": null,
            "min_height": null,
            "min_width": null,
            "object_fit": null,
            "object_position": null,
            "order": null,
            "overflow": null,
            "overflow_x": null,
            "overflow_y": null,
            "padding": null,
            "right": null,
            "top": null,
            "visibility": null,
            "width": null
          }
        },
        "a78ffd6c54004a3fa1af4e7764b0de93": {
          "model_module": "@jupyter-widgets/controls",
          "model_name": "ProgressStyleModel",
          "model_module_version": "1.5.0",
          "state": {
            "_model_module": "@jupyter-widgets/controls",
            "_model_module_version": "1.5.0",
            "_model_name": "ProgressStyleModel",
            "_view_count": null,
            "_view_module": "@jupyter-widgets/base",
            "_view_module_version": "1.2.0",
            "_view_name": "StyleView",
            "bar_color": null,
            "description_width": ""
          }
        },
        "c6c46f1df5dc4db690f6d8625d9c6b6e": {
          "model_module": "@jupyter-widgets/base",
          "model_name": "LayoutModel",
          "model_module_version": "1.2.0",
          "state": {
            "_model_module": "@jupyter-widgets/base",
            "_model_module_version": "1.2.0",
            "_model_name": "LayoutModel",
            "_view_count": null,
            "_view_module": "@jupyter-widgets/base",
            "_view_module_version": "1.2.0",
            "_view_name": "LayoutView",
            "align_content": null,
            "align_items": null,
            "align_self": null,
            "border": null,
            "bottom": null,
            "display": null,
            "flex": null,
            "flex_flow": null,
            "grid_area": null,
            "grid_auto_columns": null,
            "grid_auto_flow": null,
            "grid_auto_rows": null,
            "grid_column": null,
            "grid_gap": null,
            "grid_row": null,
            "grid_template_areas": null,
            "grid_template_columns": null,
            "grid_template_rows": null,
            "height": null,
            "justify_content": null,
            "justify_items": null,
            "left": null,
            "margin": null,
            "max_height": null,
            "max_width": null,
            "min_height": null,
            "min_width": null,
            "object_fit": null,
            "object_position": null,
            "order": null,
            "overflow": null,
            "overflow_x": null,
            "overflow_y": null,
            "padding": null,
            "right": null,
            "top": null,
            "visibility": null,
            "width": null
          }
        },
        "55110e23913c4ac692c0a2f2d2735a7c": {
          "model_module": "@jupyter-widgets/controls",
          "model_name": "DescriptionStyleModel",
          "model_module_version": "1.5.0",
          "state": {
            "_model_module": "@jupyter-widgets/controls",
            "_model_module_version": "1.5.0",
            "_model_name": "DescriptionStyleModel",
            "_view_count": null,
            "_view_module": "@jupyter-widgets/base",
            "_view_module_version": "1.2.0",
            "_view_name": "StyleView",
            "description_width": ""
          }
        }
      }
    }
  },
  "nbformat": 4,
  "nbformat_minor": 5
}